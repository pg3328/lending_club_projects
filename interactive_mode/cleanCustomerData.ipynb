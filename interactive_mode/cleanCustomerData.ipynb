{
 "cells": [
  {
   "cell_type": "code",
   "execution_count": 44,
   "id": "cd5d015f",
   "metadata": {},
   "outputs": [],
   "source": [
    "from pyspark.sql import *\n",
    "import getpass\n",
    "username = getpass.getuser()\n",
    "spark = SparkSession.builder \\\n",
    "    .appName('aggregations') \\\n",
    "    .config('spark.ui.port', '0') \\\n",
    "    .config(\"spark.sql.warehouse.dir\", f\"/user/{username}/warehouse\") \\\n",
    "    .enableHiveSupport() \\\n",
    "    .master('yarn') \\\n",
    "    .getOrCreate()"
   ]
  },
  {
   "cell_type": "code",
   "execution_count": 43,
   "id": "087317ed",
   "metadata": {},
   "outputs": [],
   "source": [
    "spark.stop()"
   ]
  },
  {
   "cell_type": "markdown",
   "id": "8775cf4b",
   "metadata": {},
   "source": [
    "# Cleaning customer data"
   ]
  },
  {
   "cell_type": "code",
   "execution_count": 45,
   "id": "346645e9",
   "metadata": {},
   "outputs": [],
   "source": [
    "customer_schema = \"member_id string, emp_title string, emp_length string, home_ownership string, annual_inc float, addr_state string,zip_code string, country string, grade string, sub_grade string, verification_status string, tot_hi_cred_lim float, application_type string, annual_inc_joint float, verification_status_joint string\""
   ]
  },
  {
   "cell_type": "code",
   "execution_count": 46,
   "id": "1286fe4b",
   "metadata": {},
   "outputs": [],
   "source": [
    "customers_raw_df = spark.read.csv(\"/user/itv012667/lendingclub/raw/customers_data_csv\",header=True,schema=customer_schema)"
   ]
  },
  {
   "cell_type": "code",
   "execution_count": 47,
   "id": "b7946173",
   "metadata": {},
   "outputs": [
    {
     "data": {
      "text/html": [
       "<table border='1'>\n",
       "<tr><th>member_id</th><th>emp_title</th><th>emp_length</th><th>home_ownership</th><th>annual_inc</th><th>addr_state</th><th>zip_code</th><th>country</th><th>grade</th><th>sub_grade</th><th>verification_status</th><th>tot_hi_cred_lim</th><th>application_type</th><th>annual_inc_joint</th><th>verification_status_joint</th></tr>\n",
       "<tr><td>b59d80da191f5b573...</td><td>null</td><td>null</td><td>RENT</td><td>50000.0</td><td>OR</td><td>973xx</td><td>USA</td><td>A</td><td>A5</td><td>Source Verified</td><td>8600.0</td><td>Individual</td><td>null</td><td>null</td></tr>\n",
       "<tr><td>202d9f56ecb7c3bc9...</td><td>police officer</td><td>7 years</td><td>OWN</td><td>85000.0</td><td>TX</td><td>799xx</td><td>USA</td><td>A</td><td>A5</td><td>Source Verified</td><td>272384.0</td><td>Individual</td><td>null</td><td>null</td></tr>\n",
       "<tr><td>e5a140c0922b554b9...</td><td>community living ...</td><td>6 years</td><td>RENT</td><td>48000.0</td><td>NY</td><td>146xx</td><td>USA</td><td>B</td><td>B2</td><td>Source Verified</td><td>85092.0</td><td>Individual</td><td>null</td><td>null</td></tr>\n",
       "<tr><td>e12aefc548f750777...</td><td>Office</td><td>10+ years</td><td>OWN</td><td>33000.0</td><td>CT</td><td>067xx</td><td>USA</td><td>F</td><td>F1</td><td>Verified</td><td>7100.0</td><td>Individual</td><td>null</td><td>null</td></tr>\n",
       "<tr><td>1b3a50d854fbbf97e...</td><td>Special Tooling I...</td><td>10+ years</td><td>MORTGAGE</td><td>81000.0</td><td>TX</td><td>791xx</td><td>USA</td><td>E</td><td>E5</td><td>Verified</td><td>190274.0</td><td>Individual</td><td>null</td><td>null</td></tr>\n",
       "<tr><td>1c4329e5f17697127...</td><td>Mine ops tech 6</td><td>2 years</td><td>MORTGAGE</td><td>68000.0</td><td>AZ</td><td>855xx</td><td>USA</td><td>C</td><td>C3</td><td>Not Verified</td><td>182453.0</td><td>Individual</td><td>null</td><td>null</td></tr>\n",
       "<tr><td>5026c86ad983175eb...</td><td>caregiver</td><td>4 years</td><td>RENT</td><td>76020.0</td><td>WA</td><td>993xx</td><td>USA</td><td>C</td><td>C2</td><td>Source Verified</td><td>15308.0</td><td>Individual</td><td>null</td><td>null</td></tr>\n",
       "<tr><td>9847d8c1e9d0b2084...</td><td>null</td><td>null</td><td>OWN</td><td>65000.0</td><td>IL</td><td>624xx</td><td>USA</td><td>E</td><td>E3</td><td>Verified</td><td>128800.0</td><td>Individual</td><td>null</td><td>null</td></tr>\n",
       "<tr><td>8340dbe1adea41fb4...</td><td>Vice President Re...</td><td>8 years</td><td>MORTGAGE</td><td>111000.0</td><td>CT</td><td>063xx</td><td>USA</td><td>A</td><td>A1</td><td>Not Verified</td><td>343507.0</td><td>Individual</td><td>null</td><td>null</td></tr>\n",
       "<tr><td>d4de0de3ab7d79ad4...</td><td>FOREMAN</td><td>10+ years</td><td>MORTGAGE</td><td>67000.0</td><td>WA</td><td>992xx</td><td>USA</td><td>G</td><td>G2</td><td>Verified</td><td>211501.0</td><td>Individual</td><td>null</td><td>null</td></tr>\n",
       "<tr><td>3df3cdeddb74a8712...</td><td>Strategist</td><td>1 year</td><td>RENT</td><td>120000.0</td><td>CA</td><td>946xx</td><td>USA</td><td>A</td><td>A5</td><td>Verified</td><td>56844.0</td><td>Individual</td><td>null</td><td>null</td></tr>\n",
       "<tr><td>9dd72636b1b4045b4...</td><td>Office Manager</td><td>2 years</td><td>RENT</td><td>52000.0</td><td>FL</td><td>327xx</td><td>USA</td><td>D</td><td>D1</td><td>Source Verified</td><td>39393.0</td><td>Individual</td><td>null</td><td>null</td></tr>\n",
       "<tr><td>1d4e1ef4353b73c00...</td><td>Electrician</td><td>2 years</td><td>MORTGAGE</td><td>50000.0</td><td>IL</td><td>606xx</td><td>USA</td><td>C</td><td>C3</td><td>Not Verified</td><td>66064.0</td><td>Individual</td><td>null</td><td>null</td></tr>\n",
       "<tr><td>6f196952e71277fd4...</td><td>Finance Manager</td><td>1 year</td><td>MORTGAGE</td><td>125000.0</td><td>GA</td><td>310xx</td><td>USA</td><td>E</td><td>E2</td><td>Source Verified</td><td>555591.0</td><td>Individual</td><td>null</td><td>null</td></tr>\n",
       "<tr><td>9c617cbc6e3e3d6a1...</td><td>Nurse practitioner</td><td>5 years</td><td>MORTGAGE</td><td>165000.0</td><td>IL</td><td>610xx</td><td>USA</td><td>F</td><td>F1</td><td>Source Verified</td><td>366113.0</td><td>Individual</td><td>null</td><td>null</td></tr>\n",
       "<tr><td>45eb04dd75400a942...</td><td>equipment operator</td><td>3 years</td><td>MORTGAGE</td><td>60000.0</td><td>CT</td><td>064xx</td><td>USA</td><td>C</td><td>C4</td><td>Source Verified</td><td>198693.0</td><td>Individual</td><td>null</td><td>null</td></tr>\n",
       "<tr><td>08d233c81f9e50726...</td><td>caregiver</td><td>2 years</td><td>RENT</td><td>36000.0</td><td>MO</td><td>648xx</td><td>USA</td><td>C</td><td>C1</td><td>Source Verified</td><td>14477.0</td><td>Individual</td><td>null</td><td>null</td></tr>\n",
       "<tr><td>8ff4d0ed17a1cab92...</td><td>owner</td><td>10+ years</td><td>MORTGAGE</td><td>28000.0</td><td>CO</td><td>801xx</td><td>USA</td><td>D</td><td>D1</td><td>Verified</td><td>314400.0</td><td>Individual</td><td>null</td><td>null</td></tr>\n",
       "<tr><td>aec13cfd611b2cfea...</td><td>Community Supervi...</td><td>2 years</td><td>RENT</td><td>33000.0</td><td>GA</td><td>306xx</td><td>USA</td><td>D</td><td>D2</td><td>Source Verified</td><td>188700.0</td><td>Individual</td><td>null</td><td>null</td></tr>\n",
       "<tr><td>9ba8c96ccba6cd1f0...</td><td>Contract Specialist</td><td>5 years</td><td>MORTGAGE</td><td>74700.0</td><td>UT</td><td>844xx</td><td>USA</td><td>D</td><td>D4</td><td>Verified</td><td>614272.0</td><td>Individual</td><td>null</td><td>null</td></tr>\n",
       "</table>\n",
       "only showing top 20 rows\n"
      ],
      "text/plain": [
       "+--------------------+--------------------+----------+--------------+----------+----------+--------+-------+-----+---------+-------------------+---------------+----------------+----------------+-------------------------+\n",
       "|           member_id|           emp_title|emp_length|home_ownership|annual_inc|addr_state|zip_code|country|grade|sub_grade|verification_status|tot_hi_cred_lim|application_type|annual_inc_joint|verification_status_joint|\n",
       "+--------------------+--------------------+----------+--------------+----------+----------+--------+-------+-----+---------+-------------------+---------------+----------------+----------------+-------------------------+\n",
       "|b59d80da191f5b573...|                null|      null|          RENT|   50000.0|        OR|   973xx|    USA|    A|       A5|    Source Verified|         8600.0|      Individual|            null|                     null|\n",
       "|202d9f56ecb7c3bc9...|      police officer|   7 years|           OWN|   85000.0|        TX|   799xx|    USA|    A|       A5|    Source Verified|       272384.0|      Individual|            null|                     null|\n",
       "|e5a140c0922b554b9...|community living ...|   6 years|          RENT|   48000.0|        NY|   146xx|    USA|    B|       B2|    Source Verified|        85092.0|      Individual|            null|                     null|\n",
       "|e12aefc548f750777...|              Office| 10+ years|           OWN|   33000.0|        CT|   067xx|    USA|    F|       F1|           Verified|         7100.0|      Individual|            null|                     null|\n",
       "|1b3a50d854fbbf97e...|Special Tooling I...| 10+ years|      MORTGAGE|   81000.0|        TX|   791xx|    USA|    E|       E5|           Verified|       190274.0|      Individual|            null|                     null|\n",
       "|1c4329e5f17697127...|     Mine ops tech 6|   2 years|      MORTGAGE|   68000.0|        AZ|   855xx|    USA|    C|       C3|       Not Verified|       182453.0|      Individual|            null|                     null|\n",
       "|5026c86ad983175eb...|           caregiver|   4 years|          RENT|   76020.0|        WA|   993xx|    USA|    C|       C2|    Source Verified|        15308.0|      Individual|            null|                     null|\n",
       "|9847d8c1e9d0b2084...|                null|      null|           OWN|   65000.0|        IL|   624xx|    USA|    E|       E3|           Verified|       128800.0|      Individual|            null|                     null|\n",
       "|8340dbe1adea41fb4...|Vice President Re...|   8 years|      MORTGAGE|  111000.0|        CT|   063xx|    USA|    A|       A1|       Not Verified|       343507.0|      Individual|            null|                     null|\n",
       "|d4de0de3ab7d79ad4...|             FOREMAN| 10+ years|      MORTGAGE|   67000.0|        WA|   992xx|    USA|    G|       G2|           Verified|       211501.0|      Individual|            null|                     null|\n",
       "|3df3cdeddb74a8712...|          Strategist|    1 year|          RENT|  120000.0|        CA|   946xx|    USA|    A|       A5|           Verified|        56844.0|      Individual|            null|                     null|\n",
       "|9dd72636b1b4045b4...|      Office Manager|   2 years|          RENT|   52000.0|        FL|   327xx|    USA|    D|       D1|    Source Verified|        39393.0|      Individual|            null|                     null|\n",
       "|1d4e1ef4353b73c00...|         Electrician|   2 years|      MORTGAGE|   50000.0|        IL|   606xx|    USA|    C|       C3|       Not Verified|        66064.0|      Individual|            null|                     null|\n",
       "|6f196952e71277fd4...|     Finance Manager|    1 year|      MORTGAGE|  125000.0|        GA|   310xx|    USA|    E|       E2|    Source Verified|       555591.0|      Individual|            null|                     null|\n",
       "|9c617cbc6e3e3d6a1...|  Nurse practitioner|   5 years|      MORTGAGE|  165000.0|        IL|   610xx|    USA|    F|       F1|    Source Verified|       366113.0|      Individual|            null|                     null|\n",
       "|45eb04dd75400a942...|  equipment operator|   3 years|      MORTGAGE|   60000.0|        CT|   064xx|    USA|    C|       C4|    Source Verified|       198693.0|      Individual|            null|                     null|\n",
       "|08d233c81f9e50726...|           caregiver|   2 years|          RENT|   36000.0|        MO|   648xx|    USA|    C|       C1|    Source Verified|        14477.0|      Individual|            null|                     null|\n",
       "|8ff4d0ed17a1cab92...|               owner| 10+ years|      MORTGAGE|   28000.0|        CO|   801xx|    USA|    D|       D1|           Verified|       314400.0|      Individual|            null|                     null|\n",
       "|aec13cfd611b2cfea...|Community Supervi...|   2 years|          RENT|   33000.0|        GA|   306xx|    USA|    D|       D2|    Source Verified|       188700.0|      Individual|            null|                     null|\n",
       "|9ba8c96ccba6cd1f0...| Contract Specialist|   5 years|      MORTGAGE|   74700.0|        UT|   844xx|    USA|    D|       D4|           Verified|       614272.0|      Individual|            null|                     null|\n",
       "+--------------------+--------------------+----------+--------------+----------+----------+--------+-------+-----+---------+-------------------+---------------+----------------+----------------+-------------------------+\n",
       "only showing top 20 rows"
      ]
     },
     "execution_count": 47,
     "metadata": {},
     "output_type": "execute_result"
    }
   ],
   "source": [
    "customers_raw_df"
   ]
  },
  {
   "cell_type": "code",
   "execution_count": 48,
   "id": "731edcee",
   "metadata": {},
   "outputs": [
    {
     "name": "stdout",
     "output_type": "stream",
     "text": [
      "root\n",
      " |-- member_id: string (nullable = true)\n",
      " |-- emp_title: string (nullable = true)\n",
      " |-- emp_length: string (nullable = true)\n",
      " |-- home_ownership: string (nullable = true)\n",
      " |-- annual_inc: float (nullable = true)\n",
      " |-- addr_state: string (nullable = true)\n",
      " |-- zip_code: string (nullable = true)\n",
      " |-- country: string (nullable = true)\n",
      " |-- grade: string (nullable = true)\n",
      " |-- sub_grade: string (nullable = true)\n",
      " |-- verification_status: string (nullable = true)\n",
      " |-- tot_hi_cred_lim: float (nullable = true)\n",
      " |-- application_type: string (nullable = true)\n",
      " |-- annual_inc_joint: float (nullable = true)\n",
      " |-- verification_status_joint: string (nullable = true)\n",
      "\n"
     ]
    }
   ],
   "source": [
    "customers_raw_df.printSchema()"
   ]
  },
  {
   "cell_type": "markdown",
   "id": "6e4766e3",
   "metadata": {},
   "source": [
    "# Renaming the Columns"
   ]
  },
  {
   "cell_type": "code",
   "execution_count": 52,
   "id": "2240a18e",
   "metadata": {},
   "outputs": [],
   "source": [
    "customers_cleaned_columns = customers_raw_df.withColumnRenamed(\"annual_inc\",\"annual_income\") \\\n",
    "                .withColumnRenamed(\"addr_state\",\"address_state\") \\\n",
    "                .withColumnRenamed(\"zip_code\",\"address_zipcode\") \\\n",
    "                .withColumnRenamed(\"country\",\"address_country\") \\\n",
    "                .withColumnRenamed(\"tot_hi_cred_lim\",\"total_high_credit_limit\") \\\n",
    "                .withColumnRenamed(\"annual_inc_joint\",\"joint_annual_income\")"
   ]
  },
  {
   "cell_type": "code",
   "execution_count": 53,
   "id": "b8823a55",
   "metadata": {},
   "outputs": [
    {
     "data": {
      "text/html": [
       "<table border='1'>\n",
       "<tr><th>member_id</th><th>emp_title</th><th>emp_length</th><th>home_ownership</th><th>annual_income</th><th>address_state</th><th>address_zipcode</th><th>address_country</th><th>grade</th><th>sub_grade</th><th>verification_status</th><th>total_high_credit_limit</th><th>application_type</th><th>joint_annual_income</th><th>verification_status_joint</th></tr>\n",
       "<tr><td>b59d80da191f5b573...</td><td>null</td><td>null</td><td>RENT</td><td>50000.0</td><td>OR</td><td>973xx</td><td>USA</td><td>A</td><td>A5</td><td>Source Verified</td><td>8600.0</td><td>Individual</td><td>null</td><td>null</td></tr>\n",
       "<tr><td>202d9f56ecb7c3bc9...</td><td>police officer</td><td>7 years</td><td>OWN</td><td>85000.0</td><td>TX</td><td>799xx</td><td>USA</td><td>A</td><td>A5</td><td>Source Verified</td><td>272384.0</td><td>Individual</td><td>null</td><td>null</td></tr>\n",
       "<tr><td>e5a140c0922b554b9...</td><td>community living ...</td><td>6 years</td><td>RENT</td><td>48000.0</td><td>NY</td><td>146xx</td><td>USA</td><td>B</td><td>B2</td><td>Source Verified</td><td>85092.0</td><td>Individual</td><td>null</td><td>null</td></tr>\n",
       "<tr><td>e12aefc548f750777...</td><td>Office</td><td>10+ years</td><td>OWN</td><td>33000.0</td><td>CT</td><td>067xx</td><td>USA</td><td>F</td><td>F1</td><td>Verified</td><td>7100.0</td><td>Individual</td><td>null</td><td>null</td></tr>\n",
       "<tr><td>1b3a50d854fbbf97e...</td><td>Special Tooling I...</td><td>10+ years</td><td>MORTGAGE</td><td>81000.0</td><td>TX</td><td>791xx</td><td>USA</td><td>E</td><td>E5</td><td>Verified</td><td>190274.0</td><td>Individual</td><td>null</td><td>null</td></tr>\n",
       "<tr><td>1c4329e5f17697127...</td><td>Mine ops tech 6</td><td>2 years</td><td>MORTGAGE</td><td>68000.0</td><td>AZ</td><td>855xx</td><td>USA</td><td>C</td><td>C3</td><td>Not Verified</td><td>182453.0</td><td>Individual</td><td>null</td><td>null</td></tr>\n",
       "<tr><td>5026c86ad983175eb...</td><td>caregiver</td><td>4 years</td><td>RENT</td><td>76020.0</td><td>WA</td><td>993xx</td><td>USA</td><td>C</td><td>C2</td><td>Source Verified</td><td>15308.0</td><td>Individual</td><td>null</td><td>null</td></tr>\n",
       "<tr><td>9847d8c1e9d0b2084...</td><td>null</td><td>null</td><td>OWN</td><td>65000.0</td><td>IL</td><td>624xx</td><td>USA</td><td>E</td><td>E3</td><td>Verified</td><td>128800.0</td><td>Individual</td><td>null</td><td>null</td></tr>\n",
       "<tr><td>8340dbe1adea41fb4...</td><td>Vice President Re...</td><td>8 years</td><td>MORTGAGE</td><td>111000.0</td><td>CT</td><td>063xx</td><td>USA</td><td>A</td><td>A1</td><td>Not Verified</td><td>343507.0</td><td>Individual</td><td>null</td><td>null</td></tr>\n",
       "<tr><td>d4de0de3ab7d79ad4...</td><td>FOREMAN</td><td>10+ years</td><td>MORTGAGE</td><td>67000.0</td><td>WA</td><td>992xx</td><td>USA</td><td>G</td><td>G2</td><td>Verified</td><td>211501.0</td><td>Individual</td><td>null</td><td>null</td></tr>\n",
       "<tr><td>3df3cdeddb74a8712...</td><td>Strategist</td><td>1 year</td><td>RENT</td><td>120000.0</td><td>CA</td><td>946xx</td><td>USA</td><td>A</td><td>A5</td><td>Verified</td><td>56844.0</td><td>Individual</td><td>null</td><td>null</td></tr>\n",
       "<tr><td>9dd72636b1b4045b4...</td><td>Office Manager</td><td>2 years</td><td>RENT</td><td>52000.0</td><td>FL</td><td>327xx</td><td>USA</td><td>D</td><td>D1</td><td>Source Verified</td><td>39393.0</td><td>Individual</td><td>null</td><td>null</td></tr>\n",
       "<tr><td>1d4e1ef4353b73c00...</td><td>Electrician</td><td>2 years</td><td>MORTGAGE</td><td>50000.0</td><td>IL</td><td>606xx</td><td>USA</td><td>C</td><td>C3</td><td>Not Verified</td><td>66064.0</td><td>Individual</td><td>null</td><td>null</td></tr>\n",
       "<tr><td>6f196952e71277fd4...</td><td>Finance Manager</td><td>1 year</td><td>MORTGAGE</td><td>125000.0</td><td>GA</td><td>310xx</td><td>USA</td><td>E</td><td>E2</td><td>Source Verified</td><td>555591.0</td><td>Individual</td><td>null</td><td>null</td></tr>\n",
       "<tr><td>9c617cbc6e3e3d6a1...</td><td>Nurse practitioner</td><td>5 years</td><td>MORTGAGE</td><td>165000.0</td><td>IL</td><td>610xx</td><td>USA</td><td>F</td><td>F1</td><td>Source Verified</td><td>366113.0</td><td>Individual</td><td>null</td><td>null</td></tr>\n",
       "<tr><td>45eb04dd75400a942...</td><td>equipment operator</td><td>3 years</td><td>MORTGAGE</td><td>60000.0</td><td>CT</td><td>064xx</td><td>USA</td><td>C</td><td>C4</td><td>Source Verified</td><td>198693.0</td><td>Individual</td><td>null</td><td>null</td></tr>\n",
       "<tr><td>08d233c81f9e50726...</td><td>caregiver</td><td>2 years</td><td>RENT</td><td>36000.0</td><td>MO</td><td>648xx</td><td>USA</td><td>C</td><td>C1</td><td>Source Verified</td><td>14477.0</td><td>Individual</td><td>null</td><td>null</td></tr>\n",
       "<tr><td>8ff4d0ed17a1cab92...</td><td>owner</td><td>10+ years</td><td>MORTGAGE</td><td>28000.0</td><td>CO</td><td>801xx</td><td>USA</td><td>D</td><td>D1</td><td>Verified</td><td>314400.0</td><td>Individual</td><td>null</td><td>null</td></tr>\n",
       "<tr><td>aec13cfd611b2cfea...</td><td>Community Supervi...</td><td>2 years</td><td>RENT</td><td>33000.0</td><td>GA</td><td>306xx</td><td>USA</td><td>D</td><td>D2</td><td>Source Verified</td><td>188700.0</td><td>Individual</td><td>null</td><td>null</td></tr>\n",
       "<tr><td>9ba8c96ccba6cd1f0...</td><td>Contract Specialist</td><td>5 years</td><td>MORTGAGE</td><td>74700.0</td><td>UT</td><td>844xx</td><td>USA</td><td>D</td><td>D4</td><td>Verified</td><td>614272.0</td><td>Individual</td><td>null</td><td>null</td></tr>\n",
       "</table>\n",
       "only showing top 20 rows\n"
      ],
      "text/plain": [
       "+--------------------+--------------------+----------+--------------+-------------+-------------+---------------+---------------+-----+---------+-------------------+-----------------------+----------------+-------------------+-------------------------+\n",
       "|           member_id|           emp_title|emp_length|home_ownership|annual_income|address_state|address_zipcode|address_country|grade|sub_grade|verification_status|total_high_credit_limit|application_type|joint_annual_income|verification_status_joint|\n",
       "+--------------------+--------------------+----------+--------------+-------------+-------------+---------------+---------------+-----+---------+-------------------+-----------------------+----------------+-------------------+-------------------------+\n",
       "|b59d80da191f5b573...|                null|      null|          RENT|      50000.0|           OR|          973xx|            USA|    A|       A5|    Source Verified|                 8600.0|      Individual|               null|                     null|\n",
       "|202d9f56ecb7c3bc9...|      police officer|   7 years|           OWN|      85000.0|           TX|          799xx|            USA|    A|       A5|    Source Verified|               272384.0|      Individual|               null|                     null|\n",
       "|e5a140c0922b554b9...|community living ...|   6 years|          RENT|      48000.0|           NY|          146xx|            USA|    B|       B2|    Source Verified|                85092.0|      Individual|               null|                     null|\n",
       "|e12aefc548f750777...|              Office| 10+ years|           OWN|      33000.0|           CT|          067xx|            USA|    F|       F1|           Verified|                 7100.0|      Individual|               null|                     null|\n",
       "|1b3a50d854fbbf97e...|Special Tooling I...| 10+ years|      MORTGAGE|      81000.0|           TX|          791xx|            USA|    E|       E5|           Verified|               190274.0|      Individual|               null|                     null|\n",
       "|1c4329e5f17697127...|     Mine ops tech 6|   2 years|      MORTGAGE|      68000.0|           AZ|          855xx|            USA|    C|       C3|       Not Verified|               182453.0|      Individual|               null|                     null|\n",
       "|5026c86ad983175eb...|           caregiver|   4 years|          RENT|      76020.0|           WA|          993xx|            USA|    C|       C2|    Source Verified|                15308.0|      Individual|               null|                     null|\n",
       "|9847d8c1e9d0b2084...|                null|      null|           OWN|      65000.0|           IL|          624xx|            USA|    E|       E3|           Verified|               128800.0|      Individual|               null|                     null|\n",
       "|8340dbe1adea41fb4...|Vice President Re...|   8 years|      MORTGAGE|     111000.0|           CT|          063xx|            USA|    A|       A1|       Not Verified|               343507.0|      Individual|               null|                     null|\n",
       "|d4de0de3ab7d79ad4...|             FOREMAN| 10+ years|      MORTGAGE|      67000.0|           WA|          992xx|            USA|    G|       G2|           Verified|               211501.0|      Individual|               null|                     null|\n",
       "|3df3cdeddb74a8712...|          Strategist|    1 year|          RENT|     120000.0|           CA|          946xx|            USA|    A|       A5|           Verified|                56844.0|      Individual|               null|                     null|\n",
       "|9dd72636b1b4045b4...|      Office Manager|   2 years|          RENT|      52000.0|           FL|          327xx|            USA|    D|       D1|    Source Verified|                39393.0|      Individual|               null|                     null|\n",
       "|1d4e1ef4353b73c00...|         Electrician|   2 years|      MORTGAGE|      50000.0|           IL|          606xx|            USA|    C|       C3|       Not Verified|                66064.0|      Individual|               null|                     null|\n",
       "|6f196952e71277fd4...|     Finance Manager|    1 year|      MORTGAGE|     125000.0|           GA|          310xx|            USA|    E|       E2|    Source Verified|               555591.0|      Individual|               null|                     null|\n",
       "|9c617cbc6e3e3d6a1...|  Nurse practitioner|   5 years|      MORTGAGE|     165000.0|           IL|          610xx|            USA|    F|       F1|    Source Verified|               366113.0|      Individual|               null|                     null|\n",
       "|45eb04dd75400a942...|  equipment operator|   3 years|      MORTGAGE|      60000.0|           CT|          064xx|            USA|    C|       C4|    Source Verified|               198693.0|      Individual|               null|                     null|\n",
       "|08d233c81f9e50726...|           caregiver|   2 years|          RENT|      36000.0|           MO|          648xx|            USA|    C|       C1|    Source Verified|                14477.0|      Individual|               null|                     null|\n",
       "|8ff4d0ed17a1cab92...|               owner| 10+ years|      MORTGAGE|      28000.0|           CO|          801xx|            USA|    D|       D1|           Verified|               314400.0|      Individual|               null|                     null|\n",
       "|aec13cfd611b2cfea...|Community Supervi...|   2 years|          RENT|      33000.0|           GA|          306xx|            USA|    D|       D2|    Source Verified|               188700.0|      Individual|               null|                     null|\n",
       "|9ba8c96ccba6cd1f0...| Contract Specialist|   5 years|      MORTGAGE|      74700.0|           UT|          844xx|            USA|    D|       D4|           Verified|               614272.0|      Individual|               null|                     null|\n",
       "+--------------------+--------------------+----------+--------------+-------------+-------------+---------------+---------------+-----+---------+-------------------+-----------------------+----------------+-------------------+-------------------------+\n",
       "only showing top 20 rows"
      ]
     },
     "execution_count": 53,
     "metadata": {},
     "output_type": "execute_result"
    }
   ],
   "source": [
    "customers_cleaned_columns"
   ]
  },
  {
   "cell_type": "markdown",
   "id": "2678c7f2",
   "metadata": {},
   "source": [
    "# Ingest Time Stamp "
   ]
  },
  {
   "cell_type": "code",
   "execution_count": 54,
   "id": "393f130d",
   "metadata": {},
   "outputs": [],
   "source": [
    "from pyspark.sql.functions import *"
   ]
  },
  {
   "cell_type": "code",
   "execution_count": 55,
   "id": "4cf4a513",
   "metadata": {},
   "outputs": [],
   "source": [
    "customers_with_ingestion_time = customers_cleaned_columns.withColumn(\"ingest_timestamp\",current_timestamp())"
   ]
  },
  {
   "cell_type": "code",
   "execution_count": 56,
   "id": "3c83f2b9",
   "metadata": {},
   "outputs": [
    {
     "data": {
      "text/html": [
       "<table border='1'>\n",
       "<tr><th>member_id</th><th>emp_title</th><th>emp_length</th><th>home_ownership</th><th>annual_income</th><th>address_state</th><th>address_zipcode</th><th>address_country</th><th>grade</th><th>sub_grade</th><th>verification_status</th><th>total_high_credit_limit</th><th>application_type</th><th>joint_annual_income</th><th>verification_status_joint</th><th>ingest_timestamp</th></tr>\n",
       "<tr><td>b59d80da191f5b573...</td><td>null</td><td>null</td><td>RENT</td><td>50000.0</td><td>OR</td><td>973xx</td><td>USA</td><td>A</td><td>A5</td><td>Source Verified</td><td>8600.0</td><td>Individual</td><td>null</td><td>null</td><td>2024-05-26 15:47:...</td></tr>\n",
       "<tr><td>202d9f56ecb7c3bc9...</td><td>police officer</td><td>7 years</td><td>OWN</td><td>85000.0</td><td>TX</td><td>799xx</td><td>USA</td><td>A</td><td>A5</td><td>Source Verified</td><td>272384.0</td><td>Individual</td><td>null</td><td>null</td><td>2024-05-26 15:47:...</td></tr>\n",
       "<tr><td>e5a140c0922b554b9...</td><td>community living ...</td><td>6 years</td><td>RENT</td><td>48000.0</td><td>NY</td><td>146xx</td><td>USA</td><td>B</td><td>B2</td><td>Source Verified</td><td>85092.0</td><td>Individual</td><td>null</td><td>null</td><td>2024-05-26 15:47:...</td></tr>\n",
       "<tr><td>e12aefc548f750777...</td><td>Office</td><td>10+ years</td><td>OWN</td><td>33000.0</td><td>CT</td><td>067xx</td><td>USA</td><td>F</td><td>F1</td><td>Verified</td><td>7100.0</td><td>Individual</td><td>null</td><td>null</td><td>2024-05-26 15:47:...</td></tr>\n",
       "<tr><td>1b3a50d854fbbf97e...</td><td>Special Tooling I...</td><td>10+ years</td><td>MORTGAGE</td><td>81000.0</td><td>TX</td><td>791xx</td><td>USA</td><td>E</td><td>E5</td><td>Verified</td><td>190274.0</td><td>Individual</td><td>null</td><td>null</td><td>2024-05-26 15:47:...</td></tr>\n",
       "<tr><td>1c4329e5f17697127...</td><td>Mine ops tech 6</td><td>2 years</td><td>MORTGAGE</td><td>68000.0</td><td>AZ</td><td>855xx</td><td>USA</td><td>C</td><td>C3</td><td>Not Verified</td><td>182453.0</td><td>Individual</td><td>null</td><td>null</td><td>2024-05-26 15:47:...</td></tr>\n",
       "<tr><td>5026c86ad983175eb...</td><td>caregiver</td><td>4 years</td><td>RENT</td><td>76020.0</td><td>WA</td><td>993xx</td><td>USA</td><td>C</td><td>C2</td><td>Source Verified</td><td>15308.0</td><td>Individual</td><td>null</td><td>null</td><td>2024-05-26 15:47:...</td></tr>\n",
       "<tr><td>9847d8c1e9d0b2084...</td><td>null</td><td>null</td><td>OWN</td><td>65000.0</td><td>IL</td><td>624xx</td><td>USA</td><td>E</td><td>E3</td><td>Verified</td><td>128800.0</td><td>Individual</td><td>null</td><td>null</td><td>2024-05-26 15:47:...</td></tr>\n",
       "<tr><td>8340dbe1adea41fb4...</td><td>Vice President Re...</td><td>8 years</td><td>MORTGAGE</td><td>111000.0</td><td>CT</td><td>063xx</td><td>USA</td><td>A</td><td>A1</td><td>Not Verified</td><td>343507.0</td><td>Individual</td><td>null</td><td>null</td><td>2024-05-26 15:47:...</td></tr>\n",
       "<tr><td>d4de0de3ab7d79ad4...</td><td>FOREMAN</td><td>10+ years</td><td>MORTGAGE</td><td>67000.0</td><td>WA</td><td>992xx</td><td>USA</td><td>G</td><td>G2</td><td>Verified</td><td>211501.0</td><td>Individual</td><td>null</td><td>null</td><td>2024-05-26 15:47:...</td></tr>\n",
       "<tr><td>3df3cdeddb74a8712...</td><td>Strategist</td><td>1 year</td><td>RENT</td><td>120000.0</td><td>CA</td><td>946xx</td><td>USA</td><td>A</td><td>A5</td><td>Verified</td><td>56844.0</td><td>Individual</td><td>null</td><td>null</td><td>2024-05-26 15:47:...</td></tr>\n",
       "<tr><td>9dd72636b1b4045b4...</td><td>Office Manager</td><td>2 years</td><td>RENT</td><td>52000.0</td><td>FL</td><td>327xx</td><td>USA</td><td>D</td><td>D1</td><td>Source Verified</td><td>39393.0</td><td>Individual</td><td>null</td><td>null</td><td>2024-05-26 15:47:...</td></tr>\n",
       "<tr><td>1d4e1ef4353b73c00...</td><td>Electrician</td><td>2 years</td><td>MORTGAGE</td><td>50000.0</td><td>IL</td><td>606xx</td><td>USA</td><td>C</td><td>C3</td><td>Not Verified</td><td>66064.0</td><td>Individual</td><td>null</td><td>null</td><td>2024-05-26 15:47:...</td></tr>\n",
       "<tr><td>6f196952e71277fd4...</td><td>Finance Manager</td><td>1 year</td><td>MORTGAGE</td><td>125000.0</td><td>GA</td><td>310xx</td><td>USA</td><td>E</td><td>E2</td><td>Source Verified</td><td>555591.0</td><td>Individual</td><td>null</td><td>null</td><td>2024-05-26 15:47:...</td></tr>\n",
       "<tr><td>9c617cbc6e3e3d6a1...</td><td>Nurse practitioner</td><td>5 years</td><td>MORTGAGE</td><td>165000.0</td><td>IL</td><td>610xx</td><td>USA</td><td>F</td><td>F1</td><td>Source Verified</td><td>366113.0</td><td>Individual</td><td>null</td><td>null</td><td>2024-05-26 15:47:...</td></tr>\n",
       "<tr><td>45eb04dd75400a942...</td><td>equipment operator</td><td>3 years</td><td>MORTGAGE</td><td>60000.0</td><td>CT</td><td>064xx</td><td>USA</td><td>C</td><td>C4</td><td>Source Verified</td><td>198693.0</td><td>Individual</td><td>null</td><td>null</td><td>2024-05-26 15:47:...</td></tr>\n",
       "<tr><td>08d233c81f9e50726...</td><td>caregiver</td><td>2 years</td><td>RENT</td><td>36000.0</td><td>MO</td><td>648xx</td><td>USA</td><td>C</td><td>C1</td><td>Source Verified</td><td>14477.0</td><td>Individual</td><td>null</td><td>null</td><td>2024-05-26 15:47:...</td></tr>\n",
       "<tr><td>8ff4d0ed17a1cab92...</td><td>owner</td><td>10+ years</td><td>MORTGAGE</td><td>28000.0</td><td>CO</td><td>801xx</td><td>USA</td><td>D</td><td>D1</td><td>Verified</td><td>314400.0</td><td>Individual</td><td>null</td><td>null</td><td>2024-05-26 15:47:...</td></tr>\n",
       "<tr><td>aec13cfd611b2cfea...</td><td>Community Supervi...</td><td>2 years</td><td>RENT</td><td>33000.0</td><td>GA</td><td>306xx</td><td>USA</td><td>D</td><td>D2</td><td>Source Verified</td><td>188700.0</td><td>Individual</td><td>null</td><td>null</td><td>2024-05-26 15:47:...</td></tr>\n",
       "<tr><td>9ba8c96ccba6cd1f0...</td><td>Contract Specialist</td><td>5 years</td><td>MORTGAGE</td><td>74700.0</td><td>UT</td><td>844xx</td><td>USA</td><td>D</td><td>D4</td><td>Verified</td><td>614272.0</td><td>Individual</td><td>null</td><td>null</td><td>2024-05-26 15:47:...</td></tr>\n",
       "</table>\n",
       "only showing top 20 rows\n"
      ],
      "text/plain": [
       "+--------------------+--------------------+----------+--------------+-------------+-------------+---------------+---------------+-----+---------+-------------------+-----------------------+----------------+-------------------+-------------------------+--------------------+\n",
       "|           member_id|           emp_title|emp_length|home_ownership|annual_income|address_state|address_zipcode|address_country|grade|sub_grade|verification_status|total_high_credit_limit|application_type|joint_annual_income|verification_status_joint|    ingest_timestamp|\n",
       "+--------------------+--------------------+----------+--------------+-------------+-------------+---------------+---------------+-----+---------+-------------------+-----------------------+----------------+-------------------+-------------------------+--------------------+\n",
       "|b59d80da191f5b573...|                null|      null|          RENT|      50000.0|           OR|          973xx|            USA|    A|       A5|    Source Verified|                 8600.0|      Individual|               null|                     null|2024-05-26 15:47:...|\n",
       "|202d9f56ecb7c3bc9...|      police officer|   7 years|           OWN|      85000.0|           TX|          799xx|            USA|    A|       A5|    Source Verified|               272384.0|      Individual|               null|                     null|2024-05-26 15:47:...|\n",
       "|e5a140c0922b554b9...|community living ...|   6 years|          RENT|      48000.0|           NY|          146xx|            USA|    B|       B2|    Source Verified|                85092.0|      Individual|               null|                     null|2024-05-26 15:47:...|\n",
       "|e12aefc548f750777...|              Office| 10+ years|           OWN|      33000.0|           CT|          067xx|            USA|    F|       F1|           Verified|                 7100.0|      Individual|               null|                     null|2024-05-26 15:47:...|\n",
       "|1b3a50d854fbbf97e...|Special Tooling I...| 10+ years|      MORTGAGE|      81000.0|           TX|          791xx|            USA|    E|       E5|           Verified|               190274.0|      Individual|               null|                     null|2024-05-26 15:47:...|\n",
       "|1c4329e5f17697127...|     Mine ops tech 6|   2 years|      MORTGAGE|      68000.0|           AZ|          855xx|            USA|    C|       C3|       Not Verified|               182453.0|      Individual|               null|                     null|2024-05-26 15:47:...|\n",
       "|5026c86ad983175eb...|           caregiver|   4 years|          RENT|      76020.0|           WA|          993xx|            USA|    C|       C2|    Source Verified|                15308.0|      Individual|               null|                     null|2024-05-26 15:47:...|\n",
       "|9847d8c1e9d0b2084...|                null|      null|           OWN|      65000.0|           IL|          624xx|            USA|    E|       E3|           Verified|               128800.0|      Individual|               null|                     null|2024-05-26 15:47:...|\n",
       "|8340dbe1adea41fb4...|Vice President Re...|   8 years|      MORTGAGE|     111000.0|           CT|          063xx|            USA|    A|       A1|       Not Verified|               343507.0|      Individual|               null|                     null|2024-05-26 15:47:...|\n",
       "|d4de0de3ab7d79ad4...|             FOREMAN| 10+ years|      MORTGAGE|      67000.0|           WA|          992xx|            USA|    G|       G2|           Verified|               211501.0|      Individual|               null|                     null|2024-05-26 15:47:...|\n",
       "|3df3cdeddb74a8712...|          Strategist|    1 year|          RENT|     120000.0|           CA|          946xx|            USA|    A|       A5|           Verified|                56844.0|      Individual|               null|                     null|2024-05-26 15:47:...|\n",
       "|9dd72636b1b4045b4...|      Office Manager|   2 years|          RENT|      52000.0|           FL|          327xx|            USA|    D|       D1|    Source Verified|                39393.0|      Individual|               null|                     null|2024-05-26 15:47:...|\n",
       "|1d4e1ef4353b73c00...|         Electrician|   2 years|      MORTGAGE|      50000.0|           IL|          606xx|            USA|    C|       C3|       Not Verified|                66064.0|      Individual|               null|                     null|2024-05-26 15:47:...|\n",
       "|6f196952e71277fd4...|     Finance Manager|    1 year|      MORTGAGE|     125000.0|           GA|          310xx|            USA|    E|       E2|    Source Verified|               555591.0|      Individual|               null|                     null|2024-05-26 15:47:...|\n",
       "|9c617cbc6e3e3d6a1...|  Nurse practitioner|   5 years|      MORTGAGE|     165000.0|           IL|          610xx|            USA|    F|       F1|    Source Verified|               366113.0|      Individual|               null|                     null|2024-05-26 15:47:...|\n",
       "|45eb04dd75400a942...|  equipment operator|   3 years|      MORTGAGE|      60000.0|           CT|          064xx|            USA|    C|       C4|    Source Verified|               198693.0|      Individual|               null|                     null|2024-05-26 15:47:...|\n",
       "|08d233c81f9e50726...|           caregiver|   2 years|          RENT|      36000.0|           MO|          648xx|            USA|    C|       C1|    Source Verified|                14477.0|      Individual|               null|                     null|2024-05-26 15:47:...|\n",
       "|8ff4d0ed17a1cab92...|               owner| 10+ years|      MORTGAGE|      28000.0|           CO|          801xx|            USA|    D|       D1|           Verified|               314400.0|      Individual|               null|                     null|2024-05-26 15:47:...|\n",
       "|aec13cfd611b2cfea...|Community Supervi...|   2 years|          RENT|      33000.0|           GA|          306xx|            USA|    D|       D2|    Source Verified|               188700.0|      Individual|               null|                     null|2024-05-26 15:47:...|\n",
       "|9ba8c96ccba6cd1f0...| Contract Specialist|   5 years|      MORTGAGE|      74700.0|           UT|          844xx|            USA|    D|       D4|           Verified|               614272.0|      Individual|               null|                     null|2024-05-26 15:47:...|\n",
       "+--------------------+--------------------+----------+--------------+-------------+-------------+---------------+---------------+-----+---------+-------------------+-----------------------+----------------+-------------------+-------------------------+--------------------+\n",
       "only showing top 20 rows"
      ]
     },
     "execution_count": 56,
     "metadata": {},
     "output_type": "execute_result"
    }
   ],
   "source": [
    "customers_with_ingestion_time"
   ]
  },
  {
   "cell_type": "markdown",
   "id": "484ad9db",
   "metadata": {},
   "source": [
    "# Drop duplicate rows"
   ]
  },
  {
   "cell_type": "code",
   "execution_count": 57,
   "id": "29b6ca50",
   "metadata": {},
   "outputs": [],
   "source": [
    "distinct_data = customers_with_ingestion_time.drop_duplicates()"
   ]
  },
  {
   "cell_type": "code",
   "execution_count": 58,
   "id": "fdfc9fa0",
   "metadata": {},
   "outputs": [
    {
     "data": {
      "text/plain": [
       "2260638"
      ]
     },
     "execution_count": 58,
     "metadata": {},
     "output_type": "execute_result"
    }
   ],
   "source": [
    "distinct_data.count()"
   ]
  },
  {
   "cell_type": "markdown",
   "id": "a80d2805",
   "metadata": {},
   "source": [
    "# Remove rows where annual income is null"
   ]
  },
  {
   "cell_type": "code",
   "execution_count": 59,
   "id": "f2ab3c39",
   "metadata": {},
   "outputs": [],
   "source": [
    "customer_with_annuual_income = distinct_data.filter(\"annual_income is not null\")"
   ]
  },
  {
   "cell_type": "code",
   "execution_count": 60,
   "id": "3a2ea2b9",
   "metadata": {},
   "outputs": [
    {
     "data": {
      "text/html": [
       "<table border='1'>\n",
       "<tr><th>member_id</th><th>emp_title</th><th>emp_length</th><th>home_ownership</th><th>annual_income</th><th>address_state</th><th>address_zipcode</th><th>address_country</th><th>grade</th><th>sub_grade</th><th>verification_status</th><th>total_high_credit_limit</th><th>application_type</th><th>joint_annual_income</th><th>verification_status_joint</th><th>ingest_timestamp</th></tr>\n",
       "<tr><td>7138261c576d8d781...</td><td>Intelligence Spec...</td><td>5 years</td><td>MORTGAGE</td><td>132000.0</td><td>GA</td><td>309xx</td><td>USA</td><td>C</td><td>C3</td><td>Not Verified</td><td>280896.0</td><td>Individual</td><td>null</td><td>null</td><td>2024-05-26 15:48:...</td></tr>\n",
       "<tr><td>bf310134bf4932d6b...</td><td>Andministrative C...</td><td>10+ years</td><td>MORTGAGE</td><td>60000.0</td><td>TX</td><td>770xx</td><td>USA</td><td>B</td><td>B2</td><td>Source Verified</td><td>122537.0</td><td>Individual</td><td>null</td><td>null</td><td>2024-05-26 15:48:...</td></tr>\n",
       "<tr><td>52817b840418f1c32...</td><td>Bus Operator/Mech...</td><td>10+ years</td><td>MORTGAGE</td><td>49000.0</td><td>WV</td><td>258xx</td><td>USA</td><td>A</td><td>A4</td><td>Source Verified</td><td>208200.0</td><td>Individual</td><td>null</td><td>null</td><td>2024-05-26 15:48:...</td></tr>\n",
       "<tr><td>138b92a6f81bac215...</td><td>Security Director</td><td>5 years</td><td>RENT</td><td>35000.0</td><td>FL</td><td>331xx</td><td>USA</td><td>B</td><td>B1</td><td>Not Verified</td><td>27346.0</td><td>Individual</td><td>null</td><td>null</td><td>2024-05-26 15:48:...</td></tr>\n",
       "<tr><td>c35a61457dbd9013a...</td><td>Space Simulation ...</td><td>5 years</td><td>RENT</td><td>75000.0</td><td>CA</td><td>907xx</td><td>USA</td><td>D</td><td>D1</td><td>Verified</td><td>39760.0</td><td>Individual</td><td>null</td><td>null</td><td>2024-05-26 15:48:...</td></tr>\n",
       "<tr><td>02a178bfaf83462c2...</td><td>corrections officer</td><td>4 years</td><td>MORTGAGE</td><td>54500.0</td><td>FL</td><td>329xx</td><td>USA</td><td>B</td><td>B3</td><td>Not Verified</td><td>198361.0</td><td>Individual</td><td>null</td><td>null</td><td>2024-05-26 15:48:...</td></tr>\n",
       "<tr><td>88fd6f08092f2a778...</td><td>Senior Specialist</td><td>2 years</td><td>RENT</td><td>82000.0</td><td>DC</td><td>200xx</td><td>USA</td><td>A</td><td>A3</td><td>Not Verified</td><td>97320.0</td><td>Individual</td><td>null</td><td>null</td><td>2024-05-26 15:48:...</td></tr>\n",
       "<tr><td>e080bb01c1979ed4c...</td><td>Team leader</td><td>10+ years</td><td>MORTGAGE</td><td>100000.0</td><td>OH</td><td>435xx</td><td>USA</td><td>D</td><td>D4</td><td>Verified</td><td>298994.0</td><td>Individual</td><td>null</td><td>null</td><td>2024-05-26 15:48:...</td></tr>\n",
       "<tr><td>72701aca16ac1939b...</td><td>Office Manager</td><td>4 years</td><td>RENT</td><td>27000.0</td><td>CA</td><td>928xx</td><td>USA</td><td>D</td><td>D3</td><td>Not Verified</td><td>38650.0</td><td>Individual</td><td>null</td><td>null</td><td>2024-05-26 15:48:...</td></tr>\n",
       "<tr><td>59100f5816491d64f...</td><td>supervisor</td><td>4 years</td><td>MORTGAGE</td><td>46000.0</td><td>MT</td><td>597xx</td><td>USA</td><td>C</td><td>C3</td><td>Verified</td><td>27799.0</td><td>Individual</td><td>null</td><td>null</td><td>2024-05-26 15:48:...</td></tr>\n",
       "<tr><td>230e0133c9afc743c...</td><td>Staff Accountant</td><td>2 years</td><td>MORTGAGE</td><td>49500.0</td><td>CO</td><td>800xx</td><td>USA</td><td>B</td><td>B3</td><td>Not Verified</td><td>85649.0</td><td>Individual</td><td>null</td><td>null</td><td>2024-05-26 15:48:...</td></tr>\n",
       "<tr><td>ae4a73ffdc78bb301...</td><td>Bus Operator</td><td>3 years</td><td>RENT</td><td>69000.0</td><td>NY</td><td>115xx</td><td>USA</td><td>C</td><td>C2</td><td>Verified</td><td>27564.0</td><td>Individual</td><td>null</td><td>null</td><td>2024-05-26 15:48:...</td></tr>\n",
       "<tr><td>8a7f2b708435d4d34...</td><td>manicuris</td><td>5 years</td><td>RENT</td><td>45000.0</td><td>CA</td><td>928xx</td><td>USA</td><td>B</td><td>B1</td><td>Source Verified</td><td>51124.0</td><td>Individual</td><td>null</td><td>null</td><td>2024-05-26 15:48:...</td></tr>\n",
       "<tr><td>1e674663064c6a388...</td><td>null</td><td>null</td><td>RENT</td><td>28000.0</td><td>NJ</td><td>080xx</td><td>USA</td><td>C</td><td>C4</td><td>Verified</td><td>55768.0</td><td>Individual</td><td>null</td><td>null</td><td>2024-05-26 15:48:...</td></tr>\n",
       "<tr><td>278e76bed925861f1...</td><td>Recruiting Specia...</td><td>10+ years</td><td>MORTGAGE</td><td>62000.0</td><td>MO</td><td>648xx</td><td>USA</td><td>D</td><td>D2</td><td>Not Verified</td><td>234893.0</td><td>Individual</td><td>null</td><td>null</td><td>2024-05-26 15:48:...</td></tr>\n",
       "<tr><td>ec779af54b5a04438...</td><td>general manager</td><td>1 year</td><td>MORTGAGE</td><td>62000.0</td><td>FL</td><td>342xx</td><td>USA</td><td>D</td><td>D2</td><td>Source Verified</td><td>31589.0</td><td>Individual</td><td>null</td><td>null</td><td>2024-05-26 15:48:...</td></tr>\n",
       "<tr><td>4b9a41d9abe856037...</td><td>Apprentice</td><td>&lt; 1 year</td><td>RENT</td><td>40000.0</td><td>CA</td><td>930xx</td><td>USA</td><td>B</td><td>B1</td><td>Not Verified</td><td>39275.0</td><td>Individual</td><td>null</td><td>null</td><td>2024-05-26 15:48:...</td></tr>\n",
       "<tr><td>adae4165b643faf39...</td><td>realtor</td><td>10+ years</td><td>RENT</td><td>65000.0</td><td>NV</td><td>895xx</td><td>USA</td><td>A</td><td>A5</td><td>Source Verified</td><td>41146.0</td><td>Individual</td><td>null</td><td>null</td><td>2024-05-26 15:48:...</td></tr>\n",
       "<tr><td>417fe19c0f634e5a4...</td><td>owner</td><td>10+ years</td><td>OWN</td><td>60000.0</td><td>TX</td><td>775xx</td><td>USA</td><td>A</td><td>A5</td><td>Verified</td><td>64260.0</td><td>Individual</td><td>null</td><td>null</td><td>2024-05-26 15:48:...</td></tr>\n",
       "<tr><td>8985e33d5f1f44583...</td><td>Supervisor</td><td>10+ years</td><td>RENT</td><td>87000.0</td><td>VA</td><td>221xx</td><td>USA</td><td>B</td><td>B5</td><td>Verified</td><td>91480.0</td><td>Individual</td><td>null</td><td>null</td><td>2024-05-26 15:48:...</td></tr>\n",
       "</table>\n",
       "only showing top 20 rows\n"
      ],
      "text/plain": [
       "+--------------------+--------------------+----------+--------------+-------------+-------------+---------------+---------------+-----+---------+-------------------+-----------------------+----------------+-------------------+-------------------------+--------------------+\n",
       "|           member_id|           emp_title|emp_length|home_ownership|annual_income|address_state|address_zipcode|address_country|grade|sub_grade|verification_status|total_high_credit_limit|application_type|joint_annual_income|verification_status_joint|    ingest_timestamp|\n",
       "+--------------------+--------------------+----------+--------------+-------------+-------------+---------------+---------------+-----+---------+-------------------+-----------------------+----------------+-------------------+-------------------------+--------------------+\n",
       "|86208726755ebd4f4...|  Logistics Analysis| 10+ years|          RENT|     105502.0|           GA|          300xx|            USA|    C|       C3|       Not Verified|                60057.0|      Individual|               null|                     null|2024-05-26 15:48:...|\n",
       "|d9166d7193850eafd...|  Correction officer|   3 years|           OWN|      52000.0|           FL|          328xx|            USA|    B|       B4|           Verified|               188664.0|      Individual|               null|                     null|2024-05-26 15:48:...|\n",
       "|04c5beb965c5dc443...|licensed massage ...|   2 years|          RENT|      37000.0|           NM|          875xx|            USA|    C|       C3|    Source Verified|                40559.0|      Individual|               null|                     null|2024-05-26 15:48:...|\n",
       "|e8d8b689d2f331539...|         firefighter| 10+ years|      MORTGAGE|     120000.0|           CT|          060xx|            USA|    B|       B5|    Source Verified|               269197.0|      Individual|               null|                     null|2024-05-26 15:48:...|\n",
       "|c92d81ea53d535db0...|               Baker|   8 years|          RENT|      33000.0|           CA|          920xx|            USA|    D|       D1|           Verified|                26972.0|      Individual|               null|                     null|2024-05-26 15:48:...|\n",
       "|c7bcc2f3f64ee7f5c...|               Nurse| 10+ years|          RENT|     101000.0|           NY|          113xx|            USA|    A|       A4|       Not Verified|                70896.0|      Individual|               null|                     null|2024-05-26 15:48:...|\n",
       "|4f2843d749159f5b2...|             Manager| 10+ years|          RENT|      52000.0|           OH|          436xx|            USA|    B|       B3|           Verified|                38903.0|      Individual|               null|                     null|2024-05-26 15:48:...|\n",
       "|c3e51e05ef99fd2aa...|    Securities Trade|   7 years|      MORTGAGE|      50000.0|           PA|          151xx|            USA|    B|       B4|    Source Verified|               206503.0|      Individual|               null|                     null|2024-05-26 15:48:...|\n",
       "|092421fa74458786d...|              pumper| 10+ years|           OWN|     110000.0|           TX|          775xx|            USA|    C|       C1|    Source Verified|                84752.0|      Individual|               null|                     null|2024-05-26 15:48:...|\n",
       "|5c5f22581eb7d461a...|               owner|   5 years|          RENT|      30000.0|           TX|          752xx|            USA|    D|       D2|    Source Verified|                83159.0|      Individual|               null|                     null|2024-05-26 15:48:...|\n",
       "|4e50c67ac4afac893...|               Clerk|   5 years|          RENT|      25000.0|           NY|          129xx|            USA|    E|       E4|    Source Verified|                40125.0|      Individual|               null|                     null|2024-05-26 15:48:...|\n",
       "|029b6b2a8d72b7b54...|                tech| 10+ years|      MORTGAGE|     100000.0|           NC|          272xx|            USA|    A|       A5|       Not Verified|               553897.0|      Individual|               null|                     null|2024-05-26 15:48:...|\n",
       "|bb8935a861d1edb8d...|                null|      null|           OWN|      47000.0|           MI|          481xx|            USA|    C|       C1|       Not Verified|                34108.0|      Individual|               null|                     null|2024-05-26 15:48:...|\n",
       "|6484df48465d2f834...|Manager Fleet Pro...| 10+ years|      MORTGAGE|      95000.0|           KS|          670xx|            USA|    C|       C4|       Not Verified|               220846.0|      Individual|               null|                     null|2024-05-26 15:48:...|\n",
       "|a4bf067e80943698f...|                null|      null|      MORTGAGE|      43200.0|           CA|          935xx|            USA|    B|       B4|       Not Verified|                82733.0|      Individual|               null|                     null|2024-05-26 15:48:...|\n",
       "|579ce614b47403815...|          Accountant|    1 year|      MORTGAGE|      38000.0|           MI|          480xx|            USA|    B|       B5|    Source Verified|                88845.0|      Individual|               null|                     null|2024-05-26 15:48:...|\n",
       "|125b52b2e611b28ce...|             Soldier| 10+ years|          RENT|      59000.0|           NC|          283xx|            USA|    C|       C2|    Source Verified|               171500.0|      Individual|               null|                     null|2024-05-26 15:48:...|\n",
       "|ddaef0a14c2089271...|    Security Officer|    1 year|          RENT|      25000.0|           CA|          908xx|            USA|    B|       B5|           Verified|                32330.0|      Individual|               null|                     null|2024-05-26 15:48:...|\n",
       "|45bb19c73c2fa2073...|Mortgage Loan Off...|   3 years|      MORTGAGE|      65500.0|           VA|          201xx|            USA|    D|       D3|    Source Verified|               201427.0|      Individual|               null|                     null|2024-05-26 15:48:...|\n",
       "|19e539b8c223b40cb...|              Teller|   5 years|           OWN|      47000.0|           OH|          450xx|            USA|    D|       D3|       Not Verified|                41372.0|      Individual|               null|                     null|2024-05-26 15:48:...|\n",
       "+--------------------+--------------------+----------+--------------+-------------+-------------+---------------+---------------+-----+---------+-------------------+-----------------------+----------------+-------------------+-------------------------+--------------------+\n",
       "only showing top 20 rows"
      ]
     },
     "execution_count": 60,
     "metadata": {},
     "output_type": "execute_result"
    }
   ],
   "source": [
    "customer_with_annuual_income"
   ]
  },
  {
   "cell_type": "markdown",
   "id": "3a36283d",
   "metadata": {},
   "source": [
    "# Update emp_length to integer data type and replace null values"
   ]
  },
  {
   "cell_type": "code",
   "execution_count": 61,
   "id": "76ed6d02",
   "metadata": {},
   "outputs": [],
   "source": [
    "customers_with_emp_length = customer_with_annuual_income.withColumn(\"emp_length\",regexp_replace(col(\"emp_length\"),\"(\\D)\",\"\"))"
   ]
  },
  {
   "cell_type": "code",
   "execution_count": 80,
   "id": "f9abcf91",
   "metadata": {},
   "outputs": [],
   "source": [
    "customers_with_emp_length_cleaned = customers_with_emp_length.withColumn(\"emp_length\",customers_with_emp_length.emp_length.cast('int'))"
   ]
  },
  {
   "cell_type": "code",
   "execution_count": 83,
   "id": "808c7e14",
   "metadata": {},
   "outputs": [
    {
     "name": "stdout",
     "output_type": "stream",
     "text": [
      "root\n",
      " |-- member_id: string (nullable = true)\n",
      " |-- emp_title: string (nullable = true)\n",
      " |-- emp_length: integer (nullable = true)\n",
      " |-- home_ownership: string (nullable = true)\n",
      " |-- annual_income: float (nullable = true)\n",
      " |-- address_state: string (nullable = true)\n",
      " |-- address_zipcode: string (nullable = true)\n",
      " |-- address_country: string (nullable = true)\n",
      " |-- grade: string (nullable = true)\n",
      " |-- sub_grade: string (nullable = true)\n",
      " |-- verification_status: string (nullable = true)\n",
      " |-- total_high_credit_limit: float (nullable = true)\n",
      " |-- application_type: string (nullable = true)\n",
      " |-- joint_annual_income: float (nullable = true)\n",
      " |-- verification_status_joint: string (nullable = true)\n",
      " |-- ingest_timestamp: timestamp (nullable = false)\n",
      "\n"
     ]
    }
   ],
   "source": [
    "customers_with_emp_length_cleaned.printSchema()"
   ]
  },
  {
   "cell_type": "code",
   "execution_count": 84,
   "id": "8e21464b",
   "metadata": {},
   "outputs": [],
   "source": [
    "mean = customers_with_emp_length_cleaned.agg(floor(avg(\"emp_length\")))"
   ]
  },
  {
   "cell_type": "code",
   "execution_count": 85,
   "id": "f0a2c716",
   "metadata": {},
   "outputs": [],
   "source": [
    "mean = mean.collect()[0][0]"
   ]
  },
  {
   "cell_type": "code",
   "execution_count": 86,
   "id": "cadeebb3",
   "metadata": {},
   "outputs": [
    {
     "name": "stdout",
     "output_type": "stream",
     "text": [
      "<class 'int'>\n"
     ]
    }
   ],
   "source": [
    "print(type(mean))"
   ]
  },
  {
   "cell_type": "code",
   "execution_count": 96,
   "id": "1743ca5f",
   "metadata": {},
   "outputs": [],
   "source": [
    "customers_filled_emp_length = customers_with_emp_length_cleaned.fillna(mean,subset = [\"emp_length\"])"
   ]
  },
  {
   "cell_type": "code",
   "execution_count": 97,
   "id": "0f7e27c7",
   "metadata": {},
   "outputs": [
    {
     "name": "stdout",
     "output_type": "stream",
     "text": [
      "root\n",
      " |-- member_id: string (nullable = true)\n",
      " |-- emp_title: string (nullable = true)\n",
      " |-- emp_length: integer (nullable = true)\n",
      " |-- home_ownership: string (nullable = true)\n",
      " |-- annual_income: float (nullable = true)\n",
      " |-- address_state: string (nullable = true)\n",
      " |-- address_zipcode: string (nullable = true)\n",
      " |-- address_country: string (nullable = true)\n",
      " |-- grade: string (nullable = true)\n",
      " |-- sub_grade: string (nullable = true)\n",
      " |-- verification_status: string (nullable = true)\n",
      " |-- total_high_credit_limit: float (nullable = true)\n",
      " |-- application_type: string (nullable = true)\n",
      " |-- joint_annual_income: float (nullable = true)\n",
      " |-- verification_status_joint: string (nullable = true)\n",
      " |-- ingest_timestamp: timestamp (nullable = false)\n",
      "\n"
     ]
    }
   ],
   "source": [
    "customers_filled_emp_length.printSchema()"
   ]
  },
  {
   "cell_type": "code",
   "execution_count": 98,
   "id": "0a404f0e",
   "metadata": {},
   "outputs": [
    {
     "data": {
      "text/plain": [
       "0"
      ]
     },
     "execution_count": 98,
     "metadata": {},
     "output_type": "execute_result"
    }
   ],
   "source": [
    "customers_filled_emp_length.filter(\"emp_length is null\").count()"
   ]
  },
  {
   "cell_type": "markdown",
   "id": "c07404b4",
   "metadata": {},
   "source": [
    "# Update the state with more than 2 chars"
   ]
  },
  {
   "cell_type": "code",
   "execution_count": 102,
   "id": "2e70a1e0",
   "metadata": {},
   "outputs": [],
   "source": [
    "customer_state_cleaned = customers_filled_emp_length.withColumn(\"address_state\", when(length(col(\"address_state\"))>2,\"NA\").otherwise(col(\"address_state\")))"
   ]
  },
  {
   "cell_type": "markdown",
   "id": "d9bca062",
   "metadata": {},
   "source": [
    "# Save the cleaned data on disk"
   ]
  },
  {
   "cell_type": "code",
   "execution_count": 105,
   "id": "dc6a8f5d",
   "metadata": {},
   "outputs": [],
   "source": [
    "customer_state_cleaned.repartition(1).write.format(\"parquet\").mode(\"overwrite\").option(\"path\",\"/user/itv012667/lendingclub/cleaneddata\").save()"
   ]
  }
 ],
 "metadata": {
  "kernelspec": {
   "display_name": "Pyspark 3",
   "language": "python",
   "name": "pyspark3"
  },
  "language_info": {
   "codemirror_mode": {
    "name": "ipython",
    "version": 3
   },
   "file_extension": ".py",
   "mimetype": "text/x-python",
   "name": "python",
   "nbconvert_exporter": "python",
   "pygments_lexer": "ipython3",
   "version": "3.6.12"
  }
 },
 "nbformat": 4,
 "nbformat_minor": 5
}
