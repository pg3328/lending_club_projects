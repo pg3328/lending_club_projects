{
 "cells": [
  {
   "cell_type": "code",
   "execution_count": 73,
   "id": "fd0c3bfb",
   "metadata": {},
   "outputs": [],
   "source": [
    "from pyspark.sql import *\n",
    "import getpass\n",
    "username = getpass.getuser()\n",
    "spark = SparkSession.builder \\\n",
    "    .appName('loans_repayment') \\\n",
    "    .config('spark.ui.port', '0') \\\n",
    "    .config(\"spark.sql.warehouse.dir\", f\"/user/{username}/warehouse\") \\\n",
    "    .enableHiveSupport() \\\n",
    "    .master('yarn') \\\n",
    "    .getOrCreate()"
   ]
  },
  {
   "cell_type": "code",
   "execution_count": 72,
   "id": "4a84ce70",
   "metadata": {},
   "outputs": [],
   "source": [
    "spark.stop()"
   ]
  },
  {
   "cell_type": "code",
   "execution_count": 74,
   "id": "15fd47a6",
   "metadata": {},
   "outputs": [],
   "source": [
    "schema = \"loan_id string, total_principal_received float, total_interest_received float, total_late_fee_received float, total_payment float, last_payment float,last_payment_date string, next_payment_dates string\""
   ]
  },
  {
   "cell_type": "code",
   "execution_count": 75,
   "id": "a7b58e55",
   "metadata": {},
   "outputs": [],
   "source": [
    "loan_df = spark.read.csv(\"/user/itv012667/lendingclub/raw/loans_repayments_csv\",schema = schema,header=True)"
   ]
  },
  {
   "cell_type": "code",
   "execution_count": 76,
   "id": "50520783",
   "metadata": {},
   "outputs": [
    {
     "data": {
      "text/plain": [
       "2260701"
      ]
     },
     "execution_count": 76,
     "metadata": {},
     "output_type": "execute_result"
    }
   ],
   "source": [
    "loan_df.count()"
   ]
  },
  {
   "cell_type": "code",
   "execution_count": 77,
   "id": "665e8e0e",
   "metadata": {},
   "outputs": [],
   "source": [
    "from pyspark.sql.functions import *"
   ]
  },
  {
   "cell_type": "markdown",
   "id": "6dd5777c",
   "metadata": {},
   "source": [
    "# Ingest Time Stamp"
   ]
  },
  {
   "cell_type": "code",
   "execution_count": 78,
   "id": "c632a48b",
   "metadata": {},
   "outputs": [],
   "source": [
    "loans_repay_ingest = loan_df.withColumn(\"ingest_time\",current_timestamp())"
   ]
  },
  {
   "cell_type": "code",
   "execution_count": 79,
   "id": "7232728c",
   "metadata": {},
   "outputs": [
    {
     "data": {
      "text/html": [
       "<table border='1'>\n",
       "<tr><th>loan_id</th><th>total_principal_received</th><th>total_interest_received</th><th>total_late_fee_received</th><th>total_payment</th><th>last_payment</th><th>last_payment_date</th><th>next_payment_dates</th><th>ingest_time</th></tr>\n",
       "<tr><td>141581221</td><td>1055.81</td><td>2591.7</td><td>0.0</td><td>3647.51</td><td>709.23</td><td>Mar-2019</td><td>Apr-2019</td><td>2024-05-27 08:09:...</td></tr>\n",
       "<tr><td>141506948</td><td>1252.75</td><td>306.04</td><td>0.0</td><td>1558.79</td><td>312.63</td><td>Mar-2019</td><td>Apr-2019</td><td>2024-05-27 08:09:...</td></tr>\n",
       "<tr><td>141357400</td><td>626.37</td><td>354.96</td><td>0.0</td><td>981.33</td><td>197.27</td><td>Mar-2019</td><td>Apr-2019</td><td>2024-05-27 08:09:...</td></tr>\n",
       "<tr><td>139445427</td><td>1118.16</td><td>297.36</td><td>0.0</td><td>1415.52</td><td>283.95</td><td>Mar-2019</td><td>Apr-2019</td><td>2024-05-27 08:09:...</td></tr>\n",
       "<tr><td>141407409</td><td>1169.72</td><td>3605.3</td><td>0.0</td><td>4775.02</td><td>964.9</td><td>Mar-2019</td><td>Apr-2019</td><td>2024-05-27 08:09:...</td></tr>\n",
       "<tr><td>141360802</td><td>2313.98</td><td>2512.88</td><td>0.0</td><td>4826.86</td><td>952.02</td><td>Mar-2019</td><td>Apr-2019</td><td>2024-05-27 08:09:...</td></tr>\n",
       "<tr><td>141163960</td><td>4689.63</td><td>1994.93</td><td>0.0</td><td>6684.56</td><td>1342.57</td><td>Mar-2019</td><td>Apr-2019</td><td>2024-05-27 08:09:...</td></tr>\n",
       "<tr><td>141533932</td><td>585.29</td><td>640.53</td><td>15.0</td><td>1240.82</td><td>235.13</td><td>Mar-2019</td><td>Apr-2019</td><td>2024-05-27 08:09:...</td></tr>\n",
       "<tr><td>141441276</td><td>2030.82</td><td>762.81</td><td>0.0</td><td>2793.63</td><td>477.62</td><td>Mar-2019</td><td>Apr-2019</td><td>2024-05-27 08:09:...</td></tr>\n",
       "<tr><td>141569080</td><td>1803.55</td><td>1110.59</td><td>0.0</td><td>2914.14</td><td>585.91</td><td>Mar-2019</td><td>Apr-2019</td><td>2024-05-27 08:09:...</td></tr>\n",
       "<tr><td>140961277</td><td>1144.71</td><td>559.56</td><td>0.0</td><td>1704.27</td><td>344.07</td><td>Mar-2019</td><td>Apr-2019</td><td>2024-05-27 08:09:...</td></tr>\n",
       "<tr><td>141466656</td><td>1297.9</td><td>838.42</td><td>0.0</td><td>2136.32</td><td>429.59</td><td>Mar-2019</td><td>Apr-2019</td><td>2024-05-27 08:09:...</td></tr>\n",
       "<tr><td>141575085</td><td>613.26</td><td>510.47</td><td>0.0</td><td>1123.73</td><td>226.16</td><td>Mar-2019</td><td>Apr-2019</td><td>2024-05-27 08:09:...</td></tr>\n",
       "<tr><td>141429235</td><td>4008.76</td><td>1058.83</td><td>0.0</td><td>5067.59</td><td>1000.41</td><td>Mar-2019</td><td>Apr-2019</td><td>2024-05-27 08:09:...</td></tr>\n",
       "<tr><td>141545082</td><td>1297.9</td><td>838.42</td><td>0.0</td><td>2136.32</td><td>429.59</td><td>Mar-2019</td><td>Apr-2019</td><td>2024-05-27 08:09:...</td></tr>\n",
       "<tr><td>141584203</td><td>747.08</td><td>243.73</td><td>0.0</td><td>990.81</td><td>193.84</td><td>Mar-2019</td><td>Apr-2019</td><td>2024-05-27 08:09:...</td></tr>\n",
       "<tr><td>141201047</td><td>2266.29</td><td>1184.57</td><td>34.68</td><td>3485.54</td><td>693.51</td><td>Mar-2019</td><td>Apr-2019</td><td>2024-05-27 08:09:...</td></tr>\n",
       "<tr><td>140580869</td><td>1450.9</td><td>491.42</td><td>0.0</td><td>1942.32</td><td>389.86</td><td>Mar-2019</td><td>Apr-2019</td><td>2024-05-27 08:09:...</td></tr>\n",
       "<tr><td>141539871</td><td>2290.47</td><td>468.26</td><td>0.0</td><td>2758.73</td><td>553.08</td><td>Mar-2019</td><td>Apr-2019</td><td>2024-05-27 08:09:...</td></tr>\n",
       "<tr><td>141386443</td><td>1173.43</td><td>1161.79</td><td>0.0</td><td>2335.22</td><td>470.26</td><td>Mar-2019</td><td>Apr-2019</td><td>2024-05-27 08:09:...</td></tr>\n",
       "</table>\n",
       "only showing top 20 rows\n"
      ],
      "text/plain": [
       "+---------+------------------------+-----------------------+-----------------------+-------------+------------+-----------------+------------------+--------------------+\n",
       "|  loan_id|total_principal_received|total_interest_received|total_late_fee_received|total_payment|last_payment|last_payment_date|next_payment_dates|         ingest_time|\n",
       "+---------+------------------------+-----------------------+-----------------------+-------------+------------+-----------------+------------------+--------------------+\n",
       "|141581221|                 1055.81|                 2591.7|                    0.0|      3647.51|      709.23|         Mar-2019|          Apr-2019|2024-05-27 08:09:...|\n",
       "|141506948|                 1252.75|                 306.04|                    0.0|      1558.79|      312.63|         Mar-2019|          Apr-2019|2024-05-27 08:09:...|\n",
       "|141357400|                  626.37|                 354.96|                    0.0|       981.33|      197.27|         Mar-2019|          Apr-2019|2024-05-27 08:09:...|\n",
       "|139445427|                 1118.16|                 297.36|                    0.0|      1415.52|      283.95|         Mar-2019|          Apr-2019|2024-05-27 08:09:...|\n",
       "|141407409|                 1169.72|                 3605.3|                    0.0|      4775.02|       964.9|         Mar-2019|          Apr-2019|2024-05-27 08:09:...|\n",
       "|141360802|                 2313.98|                2512.88|                    0.0|      4826.86|      952.02|         Mar-2019|          Apr-2019|2024-05-27 08:09:...|\n",
       "|141163960|                 4689.63|                1994.93|                    0.0|      6684.56|     1342.57|         Mar-2019|          Apr-2019|2024-05-27 08:09:...|\n",
       "|141533932|                  585.29|                 640.53|                   15.0|      1240.82|      235.13|         Mar-2019|          Apr-2019|2024-05-27 08:09:...|\n",
       "|141441276|                 2030.82|                 762.81|                    0.0|      2793.63|      477.62|         Mar-2019|          Apr-2019|2024-05-27 08:09:...|\n",
       "|141569080|                 1803.55|                1110.59|                    0.0|      2914.14|      585.91|         Mar-2019|          Apr-2019|2024-05-27 08:09:...|\n",
       "|140961277|                 1144.71|                 559.56|                    0.0|      1704.27|      344.07|         Mar-2019|          Apr-2019|2024-05-27 08:09:...|\n",
       "|141466656|                  1297.9|                 838.42|                    0.0|      2136.32|      429.59|         Mar-2019|          Apr-2019|2024-05-27 08:09:...|\n",
       "|141575085|                  613.26|                 510.47|                    0.0|      1123.73|      226.16|         Mar-2019|          Apr-2019|2024-05-27 08:09:...|\n",
       "|141429235|                 4008.76|                1058.83|                    0.0|      5067.59|     1000.41|         Mar-2019|          Apr-2019|2024-05-27 08:09:...|\n",
       "|141545082|                  1297.9|                 838.42|                    0.0|      2136.32|      429.59|         Mar-2019|          Apr-2019|2024-05-27 08:09:...|\n",
       "|141584203|                  747.08|                 243.73|                    0.0|       990.81|      193.84|         Mar-2019|          Apr-2019|2024-05-27 08:09:...|\n",
       "|141201047|                 2266.29|                1184.57|                  34.68|      3485.54|      693.51|         Mar-2019|          Apr-2019|2024-05-27 08:09:...|\n",
       "|140580869|                  1450.9|                 491.42|                    0.0|      1942.32|      389.86|         Mar-2019|          Apr-2019|2024-05-27 08:09:...|\n",
       "|141539871|                 2290.47|                 468.26|                    0.0|      2758.73|      553.08|         Mar-2019|          Apr-2019|2024-05-27 08:09:...|\n",
       "|141386443|                 1173.43|                1161.79|                    0.0|      2335.22|      470.26|         Mar-2019|          Apr-2019|2024-05-27 08:09:...|\n",
       "+---------+------------------------+-----------------------+-----------------------+-------------+------------+-----------------+------------------+--------------------+\n",
       "only showing top 20 rows"
      ]
     },
     "execution_count": 79,
     "metadata": {},
     "output_type": "execute_result"
    }
   ],
   "source": [
    "loans_repay_ingest"
   ]
  },
  {
   "cell_type": "code",
   "execution_count": 80,
   "id": "3ae57f61",
   "metadata": {},
   "outputs": [
    {
     "data": {
      "text/plain": [
       "2260701"
      ]
     },
     "execution_count": 80,
     "metadata": {},
     "output_type": "execute_result"
    }
   ],
   "source": [
    "loans_repay_ingest.count()"
   ]
  },
  {
   "cell_type": "markdown",
   "id": "858ebd9f",
   "metadata": {},
   "source": [
    "# Dropping Nulls "
   ]
  },
  {
   "cell_type": "code",
   "execution_count": 81,
   "id": "00bb9088",
   "metadata": {},
   "outputs": [],
   "source": [
    "check_columns = [\"total_principal_received\",\"total_interest_received\",\"total_late_fee_received\",\"total_payment\",\"last_payment\"]"
   ]
  },
  {
   "cell_type": "code",
   "execution_count": 82,
   "id": "30a60c16",
   "metadata": {},
   "outputs": [
    {
     "data": {
      "text/plain": [
       "69"
      ]
     },
     "execution_count": 82,
     "metadata": {},
     "output_type": "execute_result"
    }
   ],
   "source": [
    "loans_repay_ingest.filter(\"total_principal_received is null\").count()"
   ]
  },
  {
   "cell_type": "code",
   "execution_count": 83,
   "id": "fa2c818b",
   "metadata": {},
   "outputs": [],
   "source": [
    "loans_check = loans_repay_ingest.na.drop(subset = check_columns)"
   ]
  },
  {
   "cell_type": "code",
   "execution_count": 84,
   "id": "bf9d5878",
   "metadata": {},
   "outputs": [
    {
     "data": {
      "text/plain": [
       "0"
      ]
     },
     "execution_count": 84,
     "metadata": {},
     "output_type": "execute_result"
    }
   ],
   "source": [
    "loans_check.filter(\"total_principal_received is null\").count()"
   ]
  },
  {
   "cell_type": "markdown",
   "id": "22777380",
   "metadata": {},
   "source": [
    "# Ensure that total payment is always equal to sum of interest, latefee and principal fee payment"
   ]
  },
  {
   "cell_type": "code",
   "execution_count": 85,
   "id": "4817e67a",
   "metadata": {},
   "outputs": [],
   "source": [
    "loans_new_df = loans_check.withColumn(\"total_payment\",col(\"total_principal_received\")+col(\"total_interest_received\")+col(\"total_late_fee_received\"))"
   ]
  },
  {
   "cell_type": "code",
   "execution_count": 86,
   "id": "a58d05fd",
   "metadata": {},
   "outputs": [
    {
     "data": {
      "text/html": [
       "<table border='1'>\n",
       "<tr><th>loan_id</th><th>total_principal_received</th><th>total_interest_received</th><th>total_late_fee_received</th><th>total_payment</th><th>last_payment</th><th>last_payment_date</th><th>next_payment_dates</th><th>ingest_time</th></tr>\n",
       "<tr><td>141581221</td><td>1055.81</td><td>2591.7</td><td>0.0</td><td>3647.51</td><td>709.23</td><td>Mar-2019</td><td>Apr-2019</td><td>2024-05-27 08:09:...</td></tr>\n",
       "<tr><td>141506948</td><td>1252.75</td><td>306.04</td><td>0.0</td><td>1558.79</td><td>312.63</td><td>Mar-2019</td><td>Apr-2019</td><td>2024-05-27 08:09:...</td></tr>\n",
       "<tr><td>141357400</td><td>626.37</td><td>354.96</td><td>0.0</td><td>981.32996</td><td>197.27</td><td>Mar-2019</td><td>Apr-2019</td><td>2024-05-27 08:09:...</td></tr>\n",
       "<tr><td>139445427</td><td>1118.16</td><td>297.36</td><td>0.0</td><td>1415.52</td><td>283.95</td><td>Mar-2019</td><td>Apr-2019</td><td>2024-05-27 08:09:...</td></tr>\n",
       "<tr><td>141407409</td><td>1169.72</td><td>3605.3</td><td>0.0</td><td>4775.02</td><td>964.9</td><td>Mar-2019</td><td>Apr-2019</td><td>2024-05-27 08:09:...</td></tr>\n",
       "<tr><td>141360802</td><td>2313.98</td><td>2512.88</td><td>0.0</td><td>4826.86</td><td>952.02</td><td>Mar-2019</td><td>Apr-2019</td><td>2024-05-27 08:09:...</td></tr>\n",
       "<tr><td>141163960</td><td>4689.63</td><td>1994.93</td><td>0.0</td><td>6684.56</td><td>1342.57</td><td>Mar-2019</td><td>Apr-2019</td><td>2024-05-27 08:09:...</td></tr>\n",
       "<tr><td>141533932</td><td>585.29</td><td>640.53</td><td>15.0</td><td>1240.8201</td><td>235.13</td><td>Mar-2019</td><td>Apr-2019</td><td>2024-05-27 08:09:...</td></tr>\n",
       "<tr><td>141441276</td><td>2030.82</td><td>762.81</td><td>0.0</td><td>2793.63</td><td>477.62</td><td>Mar-2019</td><td>Apr-2019</td><td>2024-05-27 08:09:...</td></tr>\n",
       "<tr><td>141569080</td><td>1803.55</td><td>1110.59</td><td>0.0</td><td>2914.1401</td><td>585.91</td><td>Mar-2019</td><td>Apr-2019</td><td>2024-05-27 08:09:...</td></tr>\n",
       "<tr><td>140961277</td><td>1144.71</td><td>559.56</td><td>0.0</td><td>1704.27</td><td>344.07</td><td>Mar-2019</td><td>Apr-2019</td><td>2024-05-27 08:09:...</td></tr>\n",
       "<tr><td>141466656</td><td>1297.9</td><td>838.42</td><td>0.0</td><td>2136.32</td><td>429.59</td><td>Mar-2019</td><td>Apr-2019</td><td>2024-05-27 08:09:...</td></tr>\n",
       "<tr><td>141575085</td><td>613.26</td><td>510.47</td><td>0.0</td><td>1123.73</td><td>226.16</td><td>Mar-2019</td><td>Apr-2019</td><td>2024-05-27 08:09:...</td></tr>\n",
       "<tr><td>141429235</td><td>4008.76</td><td>1058.83</td><td>0.0</td><td>5067.59</td><td>1000.41</td><td>Mar-2019</td><td>Apr-2019</td><td>2024-05-27 08:09:...</td></tr>\n",
       "<tr><td>141545082</td><td>1297.9</td><td>838.42</td><td>0.0</td><td>2136.32</td><td>429.59</td><td>Mar-2019</td><td>Apr-2019</td><td>2024-05-27 08:09:...</td></tr>\n",
       "<tr><td>141584203</td><td>747.08</td><td>243.73</td><td>0.0</td><td>990.81</td><td>193.84</td><td>Mar-2019</td><td>Apr-2019</td><td>2024-05-27 08:09:...</td></tr>\n",
       "<tr><td>141201047</td><td>2266.29</td><td>1184.57</td><td>34.68</td><td>3485.5398</td><td>693.51</td><td>Mar-2019</td><td>Apr-2019</td><td>2024-05-27 08:09:...</td></tr>\n",
       "<tr><td>140580869</td><td>1450.9</td><td>491.42</td><td>0.0</td><td>1942.3201</td><td>389.86</td><td>Mar-2019</td><td>Apr-2019</td><td>2024-05-27 08:09:...</td></tr>\n",
       "<tr><td>141539871</td><td>2290.47</td><td>468.26</td><td>0.0</td><td>2758.73</td><td>553.08</td><td>Mar-2019</td><td>Apr-2019</td><td>2024-05-27 08:09:...</td></tr>\n",
       "<tr><td>141386443</td><td>1173.43</td><td>1161.79</td><td>0.0</td><td>2335.2202</td><td>470.26</td><td>Mar-2019</td><td>Apr-2019</td><td>2024-05-27 08:09:...</td></tr>\n",
       "</table>\n",
       "only showing top 20 rows\n"
      ],
      "text/plain": [
       "+---------+------------------------+-----------------------+-----------------------+-------------+------------+-----------------+------------------+--------------------+\n",
       "|  loan_id|total_principal_received|total_interest_received|total_late_fee_received|total_payment|last_payment|last_payment_date|next_payment_dates|         ingest_time|\n",
       "+---------+------------------------+-----------------------+-----------------------+-------------+------------+-----------------+------------------+--------------------+\n",
       "|141581221|                 1055.81|                 2591.7|                    0.0|      3647.51|      709.23|         Mar-2019|          Apr-2019|2024-05-27 08:09:...|\n",
       "|141506948|                 1252.75|                 306.04|                    0.0|      1558.79|      312.63|         Mar-2019|          Apr-2019|2024-05-27 08:09:...|\n",
       "|141357400|                  626.37|                 354.96|                    0.0|    981.32996|      197.27|         Mar-2019|          Apr-2019|2024-05-27 08:09:...|\n",
       "|139445427|                 1118.16|                 297.36|                    0.0|      1415.52|      283.95|         Mar-2019|          Apr-2019|2024-05-27 08:09:...|\n",
       "|141407409|                 1169.72|                 3605.3|                    0.0|      4775.02|       964.9|         Mar-2019|          Apr-2019|2024-05-27 08:09:...|\n",
       "|141360802|                 2313.98|                2512.88|                    0.0|      4826.86|      952.02|         Mar-2019|          Apr-2019|2024-05-27 08:09:...|\n",
       "|141163960|                 4689.63|                1994.93|                    0.0|      6684.56|     1342.57|         Mar-2019|          Apr-2019|2024-05-27 08:09:...|\n",
       "|141533932|                  585.29|                 640.53|                   15.0|    1240.8201|      235.13|         Mar-2019|          Apr-2019|2024-05-27 08:09:...|\n",
       "|141441276|                 2030.82|                 762.81|                    0.0|      2793.63|      477.62|         Mar-2019|          Apr-2019|2024-05-27 08:09:...|\n",
       "|141569080|                 1803.55|                1110.59|                    0.0|    2914.1401|      585.91|         Mar-2019|          Apr-2019|2024-05-27 08:09:...|\n",
       "|140961277|                 1144.71|                 559.56|                    0.0|      1704.27|      344.07|         Mar-2019|          Apr-2019|2024-05-27 08:09:...|\n",
       "|141466656|                  1297.9|                 838.42|                    0.0|      2136.32|      429.59|         Mar-2019|          Apr-2019|2024-05-27 08:09:...|\n",
       "|141575085|                  613.26|                 510.47|                    0.0|      1123.73|      226.16|         Mar-2019|          Apr-2019|2024-05-27 08:09:...|\n",
       "|141429235|                 4008.76|                1058.83|                    0.0|      5067.59|     1000.41|         Mar-2019|          Apr-2019|2024-05-27 08:09:...|\n",
       "|141545082|                  1297.9|                 838.42|                    0.0|      2136.32|      429.59|         Mar-2019|          Apr-2019|2024-05-27 08:09:...|\n",
       "|141584203|                  747.08|                 243.73|                    0.0|       990.81|      193.84|         Mar-2019|          Apr-2019|2024-05-27 08:09:...|\n",
       "|141201047|                 2266.29|                1184.57|                  34.68|    3485.5398|      693.51|         Mar-2019|          Apr-2019|2024-05-27 08:09:...|\n",
       "|140580869|                  1450.9|                 491.42|                    0.0|    1942.3201|      389.86|         Mar-2019|          Apr-2019|2024-05-27 08:09:...|\n",
       "|141539871|                 2290.47|                 468.26|                    0.0|      2758.73|      553.08|         Mar-2019|          Apr-2019|2024-05-27 08:09:...|\n",
       "|141386443|                 1173.43|                1161.79|                    0.0|    2335.2202|      470.26|         Mar-2019|          Apr-2019|2024-05-27 08:09:...|\n",
       "+---------+------------------------+-----------------------+-----------------------+-------------+------------+-----------------+------------------+--------------------+\n",
       "only showing top 20 rows"
      ]
     },
     "execution_count": 86,
     "metadata": {},
     "output_type": "execute_result"
    }
   ],
   "source": [
    "loans_new_df"
   ]
  },
  {
   "cell_type": "markdown",
   "id": "a84b48f0",
   "metadata": {},
   "source": [
    "# Ignore columns with total payment reveived is 0.0"
   ]
  },
  {
   "cell_type": "code",
   "execution_count": 87,
   "id": "e08e635d",
   "metadata": {},
   "outputs": [],
   "source": [
    "loan_total_payment_no_impact = loans_new_df.filter(\"total_payment!=0.0\")"
   ]
  },
  {
   "cell_type": "code",
   "execution_count": 88,
   "id": "28dccde8",
   "metadata": {},
   "outputs": [
    {
     "data": {
      "text/html": [
       "<table border='1'>\n",
       "<tr><th>loan_id</th><th>total_principal_received</th><th>total_interest_received</th><th>total_late_fee_received</th><th>total_payment</th><th>last_payment</th><th>last_payment_date</th><th>next_payment_dates</th><th>ingest_time</th></tr>\n",
       "<tr><td>141581221</td><td>1055.81</td><td>2591.7</td><td>0.0</td><td>3647.51</td><td>709.23</td><td>Mar-2019</td><td>Apr-2019</td><td>2024-05-27 08:09:...</td></tr>\n",
       "<tr><td>141506948</td><td>1252.75</td><td>306.04</td><td>0.0</td><td>1558.79</td><td>312.63</td><td>Mar-2019</td><td>Apr-2019</td><td>2024-05-27 08:09:...</td></tr>\n",
       "<tr><td>141357400</td><td>626.37</td><td>354.96</td><td>0.0</td><td>981.32996</td><td>197.27</td><td>Mar-2019</td><td>Apr-2019</td><td>2024-05-27 08:09:...</td></tr>\n",
       "<tr><td>139445427</td><td>1118.16</td><td>297.36</td><td>0.0</td><td>1415.52</td><td>283.95</td><td>Mar-2019</td><td>Apr-2019</td><td>2024-05-27 08:09:...</td></tr>\n",
       "<tr><td>141407409</td><td>1169.72</td><td>3605.3</td><td>0.0</td><td>4775.02</td><td>964.9</td><td>Mar-2019</td><td>Apr-2019</td><td>2024-05-27 08:09:...</td></tr>\n",
       "<tr><td>141360802</td><td>2313.98</td><td>2512.88</td><td>0.0</td><td>4826.86</td><td>952.02</td><td>Mar-2019</td><td>Apr-2019</td><td>2024-05-27 08:09:...</td></tr>\n",
       "<tr><td>141163960</td><td>4689.63</td><td>1994.93</td><td>0.0</td><td>6684.56</td><td>1342.57</td><td>Mar-2019</td><td>Apr-2019</td><td>2024-05-27 08:09:...</td></tr>\n",
       "<tr><td>141533932</td><td>585.29</td><td>640.53</td><td>15.0</td><td>1240.8201</td><td>235.13</td><td>Mar-2019</td><td>Apr-2019</td><td>2024-05-27 08:09:...</td></tr>\n",
       "<tr><td>141441276</td><td>2030.82</td><td>762.81</td><td>0.0</td><td>2793.63</td><td>477.62</td><td>Mar-2019</td><td>Apr-2019</td><td>2024-05-27 08:09:...</td></tr>\n",
       "<tr><td>141569080</td><td>1803.55</td><td>1110.59</td><td>0.0</td><td>2914.1401</td><td>585.91</td><td>Mar-2019</td><td>Apr-2019</td><td>2024-05-27 08:09:...</td></tr>\n",
       "<tr><td>140961277</td><td>1144.71</td><td>559.56</td><td>0.0</td><td>1704.27</td><td>344.07</td><td>Mar-2019</td><td>Apr-2019</td><td>2024-05-27 08:09:...</td></tr>\n",
       "<tr><td>141466656</td><td>1297.9</td><td>838.42</td><td>0.0</td><td>2136.32</td><td>429.59</td><td>Mar-2019</td><td>Apr-2019</td><td>2024-05-27 08:09:...</td></tr>\n",
       "<tr><td>141575085</td><td>613.26</td><td>510.47</td><td>0.0</td><td>1123.73</td><td>226.16</td><td>Mar-2019</td><td>Apr-2019</td><td>2024-05-27 08:09:...</td></tr>\n",
       "<tr><td>141429235</td><td>4008.76</td><td>1058.83</td><td>0.0</td><td>5067.59</td><td>1000.41</td><td>Mar-2019</td><td>Apr-2019</td><td>2024-05-27 08:09:...</td></tr>\n",
       "<tr><td>141545082</td><td>1297.9</td><td>838.42</td><td>0.0</td><td>2136.32</td><td>429.59</td><td>Mar-2019</td><td>Apr-2019</td><td>2024-05-27 08:09:...</td></tr>\n",
       "<tr><td>141584203</td><td>747.08</td><td>243.73</td><td>0.0</td><td>990.81</td><td>193.84</td><td>Mar-2019</td><td>Apr-2019</td><td>2024-05-27 08:09:...</td></tr>\n",
       "<tr><td>141201047</td><td>2266.29</td><td>1184.57</td><td>34.68</td><td>3485.5398</td><td>693.51</td><td>Mar-2019</td><td>Apr-2019</td><td>2024-05-27 08:09:...</td></tr>\n",
       "<tr><td>140580869</td><td>1450.9</td><td>491.42</td><td>0.0</td><td>1942.3201</td><td>389.86</td><td>Mar-2019</td><td>Apr-2019</td><td>2024-05-27 08:09:...</td></tr>\n",
       "<tr><td>141539871</td><td>2290.47</td><td>468.26</td><td>0.0</td><td>2758.73</td><td>553.08</td><td>Mar-2019</td><td>Apr-2019</td><td>2024-05-27 08:09:...</td></tr>\n",
       "<tr><td>141386443</td><td>1173.43</td><td>1161.79</td><td>0.0</td><td>2335.2202</td><td>470.26</td><td>Mar-2019</td><td>Apr-2019</td><td>2024-05-27 08:09:...</td></tr>\n",
       "</table>\n",
       "only showing top 20 rows\n"
      ],
      "text/plain": [
       "+---------+------------------------+-----------------------+-----------------------+-------------+------------+-----------------+------------------+--------------------+\n",
       "|  loan_id|total_principal_received|total_interest_received|total_late_fee_received|total_payment|last_payment|last_payment_date|next_payment_dates|         ingest_time|\n",
       "+---------+------------------------+-----------------------+-----------------------+-------------+------------+-----------------+------------------+--------------------+\n",
       "|141581221|                 1055.81|                 2591.7|                    0.0|      3647.51|      709.23|         Mar-2019|          Apr-2019|2024-05-27 08:09:...|\n",
       "|141506948|                 1252.75|                 306.04|                    0.0|      1558.79|      312.63|         Mar-2019|          Apr-2019|2024-05-27 08:09:...|\n",
       "|141357400|                  626.37|                 354.96|                    0.0|    981.32996|      197.27|         Mar-2019|          Apr-2019|2024-05-27 08:09:...|\n",
       "|139445427|                 1118.16|                 297.36|                    0.0|      1415.52|      283.95|         Mar-2019|          Apr-2019|2024-05-27 08:09:...|\n",
       "|141407409|                 1169.72|                 3605.3|                    0.0|      4775.02|       964.9|         Mar-2019|          Apr-2019|2024-05-27 08:09:...|\n",
       "|141360802|                 2313.98|                2512.88|                    0.0|      4826.86|      952.02|         Mar-2019|          Apr-2019|2024-05-27 08:09:...|\n",
       "|141163960|                 4689.63|                1994.93|                    0.0|      6684.56|     1342.57|         Mar-2019|          Apr-2019|2024-05-27 08:09:...|\n",
       "|141533932|                  585.29|                 640.53|                   15.0|    1240.8201|      235.13|         Mar-2019|          Apr-2019|2024-05-27 08:09:...|\n",
       "|141441276|                 2030.82|                 762.81|                    0.0|      2793.63|      477.62|         Mar-2019|          Apr-2019|2024-05-27 08:09:...|\n",
       "|141569080|                 1803.55|                1110.59|                    0.0|    2914.1401|      585.91|         Mar-2019|          Apr-2019|2024-05-27 08:09:...|\n",
       "|140961277|                 1144.71|                 559.56|                    0.0|      1704.27|      344.07|         Mar-2019|          Apr-2019|2024-05-27 08:09:...|\n",
       "|141466656|                  1297.9|                 838.42|                    0.0|      2136.32|      429.59|         Mar-2019|          Apr-2019|2024-05-27 08:09:...|\n",
       "|141575085|                  613.26|                 510.47|                    0.0|      1123.73|      226.16|         Mar-2019|          Apr-2019|2024-05-27 08:09:...|\n",
       "|141429235|                 4008.76|                1058.83|                    0.0|      5067.59|     1000.41|         Mar-2019|          Apr-2019|2024-05-27 08:09:...|\n",
       "|141545082|                  1297.9|                 838.42|                    0.0|      2136.32|      429.59|         Mar-2019|          Apr-2019|2024-05-27 08:09:...|\n",
       "|141584203|                  747.08|                 243.73|                    0.0|       990.81|      193.84|         Mar-2019|          Apr-2019|2024-05-27 08:09:...|\n",
       "|141201047|                 2266.29|                1184.57|                  34.68|    3485.5398|      693.51|         Mar-2019|          Apr-2019|2024-05-27 08:09:...|\n",
       "|140580869|                  1450.9|                 491.42|                    0.0|    1942.3201|      389.86|         Mar-2019|          Apr-2019|2024-05-27 08:09:...|\n",
       "|141539871|                 2290.47|                 468.26|                    0.0|      2758.73|      553.08|         Mar-2019|          Apr-2019|2024-05-27 08:09:...|\n",
       "|141386443|                 1173.43|                1161.79|                    0.0|    2335.2202|      470.26|         Mar-2019|          Apr-2019|2024-05-27 08:09:...|\n",
       "+---------+------------------------+-----------------------+-----------------------+-------------+------------+-----------------+------------------+--------------------+\n",
       "only showing top 20 rows"
      ]
     },
     "execution_count": 88,
     "metadata": {},
     "output_type": "execute_result"
    }
   ],
   "source": [
    "loan_total_payment_no_impact"
   ]
  },
  {
   "cell_type": "markdown",
   "id": "3d61cb91",
   "metadata": {},
   "source": [
    "# There are a few last payment and next payment dates as 0.0, change them to null"
   ]
  },
  {
   "cell_type": "code",
   "execution_count": 90,
   "id": "33b74534",
   "metadata": {},
   "outputs": [
    {
     "data": {
      "text/html": [
       "<table border='1'>\n",
       "<tr><th>loan_id</th><th>total_principal_received</th><th>total_interest_received</th><th>total_late_fee_received</th><th>total_payment</th><th>last_payment</th><th>last_payment_date</th><th>next_payment_dates</th><th>ingest_time</th></tr>\n",
       "<tr><td>1064185</td><td>11600.98</td><td>11600.98</td><td>10000.0</td><td>33201.96</td><td>0.0</td><td>0.0</td><td>Dec-2014</td><td>2024-05-27 08:09:...</td></tr>\n",
       "<tr><td>516382</td><td>21890.229</td><td>21856.03</td><td>16000.0</td><td>59746.258</td><td>0.0</td><td>0.0</td><td>Mar-2014</td><td>2024-05-27 08:09:...</td></tr>\n",
       "<tr><td>529353</td><td>1.0</td><td>7288.0</td><td>47.0</td><td>7336.0</td><td>0.0</td><td>0.0</td><td>21221.5644086071</td><td>2024-05-27 08:09:...</td></tr>\n",
       "<tr><td>528899</td><td>3045.0364</td><td>3019.64</td><td>2500.0</td><td>8564.676</td><td>0.0</td><td>0.0</td><td>Jan-2013</td><td>2024-05-27 08:09:...</td></tr>\n",
       "<tr><td>527598</td><td>2398.9092</td><td>2220.51</td><td>2200.0</td><td>6819.419</td><td>0.0</td><td>0.0</td><td>Jul-2011</td><td>2024-05-27 08:09:...</td></tr>\n",
       "<tr><td>525697</td><td>21797.86</td><td>19894.9</td><td>15750.0</td><td>57442.758</td><td>0.0</td><td>0.0</td><td>Jun-2015</td><td>2024-05-27 08:09:...</td></tr>\n",
       "<tr><td>522641</td><td>3146.8193</td><td>3146.82</td><td>3000.0</td><td>9293.64</td><td>0.0</td><td>0.0</td><td>Sep-2011</td><td>2024-05-27 08:09:...</td></tr>\n",
       "<tr><td>515655</td><td>29938.576</td><td>29905.75</td><td>22800.0</td><td>82644.33</td><td>0.0</td><td>0.0</td><td>May-2013</td><td>2024-05-27 08:09:...</td></tr>\n",
       "<tr><td>500643</td><td>17215.0</td><td>91.6</td><td>14.0</td><td>17320.6</td><td>14166.7705</td><td>0.0</td><td>14135.97</td><td>2024-05-27 08:09:...</td></tr>\n",
       "<tr><td>501234</td><td>15219.313</td><td>15155.9</td><td>12000.0</td><td>42375.215</td><td>0.0</td><td>0.0</td><td>May-2013</td><td>2024-05-27 08:09:...</td></tr>\n",
       "<tr><td>498194</td><td>11642.714</td><td>11031.47</td><td>10000.0</td><td>32674.184</td><td>0.0</td><td>0.0</td><td>Jan-2013</td><td>2024-05-27 08:09:...</td></tr>\n",
       "<tr><td>496442</td><td>5982.0</td><td>74.8</td><td>23.0</td><td>6079.8</td><td>6813.278</td><td>0.0</td><td>6635.54</td><td>2024-05-27 08:09:...</td></tr>\n",
       "<tr><td>495171</td><td>11138.843</td><td>10024.96</td><td>10000.0</td><td>31163.803</td><td>0.0</td><td>0.0</td><td>Apr-2013</td><td>2024-05-27 08:09:...</td></tr>\n",
       "<tr><td>493508</td><td>28732.803</td><td>28495.83</td><td>24250.0</td><td>81478.63</td><td>0.0</td><td>0.0</td><td>Apr-2013</td><td>2024-05-27 08:09:...</td></tr>\n",
       "<tr><td>485818</td><td>14640.096</td><td>13388.84</td><td>13000.0</td><td>41028.938</td><td>0.0</td><td>0.0</td><td>Mar-2013</td><td>2024-05-27 08:09:...</td></tr>\n",
       "<tr><td>485471</td><td>29620.818</td><td>29134.64</td><td>25000.0</td><td>83755.46</td><td>0.0</td><td>0.0</td><td>Mar-2013</td><td>2024-05-27 08:09:...</td></tr>\n",
       "<tr><td>482256</td><td>8735.611</td><td>7479.87</td><td>8000.0</td><td>24215.48</td><td>0.0</td><td>0.0</td><td>Feb-2011</td><td>2024-05-27 08:09:...</td></tr>\n",
       "<tr><td>480240</td><td>17457.0</td><td>71.3</td><td>33.0</td><td>17561.3</td><td>14153.22</td><td>0.0</td><td>14153.22</td><td>2024-05-27 08:09:...</td></tr>\n",
       "<tr><td>472516</td><td>25951.482</td><td>24731.76</td><td>25000.0</td><td>75683.24</td><td>0.0</td><td>0.0</td><td>May-2010</td><td>2024-05-27 08:09:...</td></tr>\n",
       "<tr><td>472197</td><td>12048.13</td><td>12018.01</td><td>10000.0</td><td>34066.14</td><td>0.0</td><td>0.0</td><td>Jan-2013</td><td>2024-05-27 08:09:...</td></tr>\n",
       "</table>\n",
       "only showing top 20 rows\n"
      ],
      "text/plain": [
       "+-------+------------------------+-----------------------+-----------------------+-------------+------------+-----------------+------------------+--------------------+\n",
       "|loan_id|total_principal_received|total_interest_received|total_late_fee_received|total_payment|last_payment|last_payment_date|next_payment_dates|         ingest_time|\n",
       "+-------+------------------------+-----------------------+-----------------------+-------------+------------+-----------------+------------------+--------------------+\n",
       "|1064185|                11600.98|               11600.98|                10000.0|     33201.96|         0.0|              0.0|          Dec-2014|2024-05-27 08:09:...|\n",
       "| 516382|               21890.229|               21856.03|                16000.0|    59746.258|         0.0|              0.0|          Mar-2014|2024-05-27 08:09:...|\n",
       "| 529353|                     1.0|                 7288.0|                   47.0|       7336.0|         0.0|              0.0|  21221.5644086071|2024-05-27 08:09:...|\n",
       "| 528899|               3045.0364|                3019.64|                 2500.0|     8564.676|         0.0|              0.0|          Jan-2013|2024-05-27 08:09:...|\n",
       "| 527598|               2398.9092|                2220.51|                 2200.0|     6819.419|         0.0|              0.0|          Jul-2011|2024-05-27 08:09:...|\n",
       "| 525697|                21797.86|                19894.9|                15750.0|    57442.758|         0.0|              0.0|          Jun-2015|2024-05-27 08:09:...|\n",
       "| 522641|               3146.8193|                3146.82|                 3000.0|      9293.64|         0.0|              0.0|          Sep-2011|2024-05-27 08:09:...|\n",
       "| 515655|               29938.576|               29905.75|                22800.0|     82644.33|         0.0|              0.0|          May-2013|2024-05-27 08:09:...|\n",
       "| 500643|                 17215.0|                   91.6|                   14.0|      17320.6|  14166.7705|              0.0|          14135.97|2024-05-27 08:09:...|\n",
       "| 501234|               15219.313|                15155.9|                12000.0|    42375.215|         0.0|              0.0|          May-2013|2024-05-27 08:09:...|\n",
       "| 498194|               11642.714|               11031.47|                10000.0|    32674.184|         0.0|              0.0|          Jan-2013|2024-05-27 08:09:...|\n",
       "| 496442|                  5982.0|                   74.8|                   23.0|       6079.8|    6813.278|              0.0|           6635.54|2024-05-27 08:09:...|\n",
       "| 495171|               11138.843|               10024.96|                10000.0|    31163.803|         0.0|              0.0|          Apr-2013|2024-05-27 08:09:...|\n",
       "| 493508|               28732.803|               28495.83|                24250.0|     81478.63|         0.0|              0.0|          Apr-2013|2024-05-27 08:09:...|\n",
       "| 485818|               14640.096|               13388.84|                13000.0|    41028.938|         0.0|              0.0|          Mar-2013|2024-05-27 08:09:...|\n",
       "| 485471|               29620.818|               29134.64|                25000.0|     83755.46|         0.0|              0.0|          Mar-2013|2024-05-27 08:09:...|\n",
       "| 482256|                8735.611|                7479.87|                 8000.0|     24215.48|         0.0|              0.0|          Feb-2011|2024-05-27 08:09:...|\n",
       "| 480240|                 17457.0|                   71.3|                   33.0|      17561.3|    14153.22|              0.0|          14153.22|2024-05-27 08:09:...|\n",
       "| 472516|               25951.482|               24731.76|                25000.0|     75683.24|         0.0|              0.0|          May-2010|2024-05-27 08:09:...|\n",
       "| 472197|                12048.13|               12018.01|                10000.0|     34066.14|         0.0|              0.0|          Jan-2013|2024-05-27 08:09:...|\n",
       "+-------+------------------------+-----------------------+-----------------------+-------------+------------+-----------------+------------------+--------------------+\n",
       "only showing top 20 rows"
      ]
     },
     "execution_count": 90,
     "metadata": {},
     "output_type": "execute_result"
    }
   ],
   "source": [
    "loan_total_payment_no_impact.filter(\"last_payment_date = 0.0\")"
   ]
  },
  {
   "cell_type": "code",
   "execution_count": 91,
   "id": "6baf03e8",
   "metadata": {},
   "outputs": [
    {
     "name": "stdout",
     "output_type": "stream",
     "text": [
      "root\n",
      " |-- loan_id: string (nullable = true)\n",
      " |-- total_principal_received: float (nullable = true)\n",
      " |-- total_interest_received: float (nullable = true)\n",
      " |-- total_late_fee_received: float (nullable = true)\n",
      " |-- total_payment: float (nullable = true)\n",
      " |-- last_payment: float (nullable = true)\n",
      " |-- last_payment_date: string (nullable = true)\n",
      " |-- next_payment_dates: string (nullable = true)\n",
      " |-- ingest_time: timestamp (nullable = false)\n",
      "\n"
     ]
    }
   ],
   "source": [
    "loan_total_payment_no_impact.printSchema()"
   ]
  },
  {
   "cell_type": "code",
   "execution_count": 92,
   "id": "69646e97",
   "metadata": {},
   "outputs": [],
   "source": [
    "loan_replacing_dates = loan_total_payment_no_impact.withColumn(\"last_payment_date\",when(col(\"last_payment_date\")=='0.0',None).otherwise(col(\"last_payment_date\"))).withColumn(\"next_payment_dates\",when(col(\"next_payment_dates\")=='0.0',None).otherwise(col(\"next_payment_dates\"))).drop(\"next_payment_date\")"
   ]
  },
  {
   "cell_type": "code",
   "execution_count": 93,
   "id": "e4d4b3f6",
   "metadata": {},
   "outputs": [
    {
     "data": {
      "text/plain": [
       "0"
      ]
     },
     "execution_count": 93,
     "metadata": {},
     "output_type": "execute_result"
    }
   ],
   "source": [
    "loan_replacing_dates.filter(\"next_payment_dates =0.0\").count()"
   ]
  },
  {
   "cell_type": "markdown",
   "id": "96d15e4d",
   "metadata": {},
   "source": [
    "# write it to disk"
   ]
  },
  {
   "cell_type": "code",
   "execution_count": null,
   "id": "912ec39f",
   "metadata": {},
   "outputs": [],
   "source": [
    "loan_replacing_dates.repartition(1).write.mode(\"overwrite\").option(\"header\",True).option(\"path\",\"/user/itv012667/lendingclub/cleaneddata/loan_repayment\").save()"
   ]
  },
  {
   "cell_type": "code",
   "execution_count": 69,
   "id": "d998d836",
   "metadata": {},
   "outputs": [
    {
     "ename": "Py4JJavaError",
     "evalue": "An error occurred while calling o466.save.\n: java.util.NoSuchElementException: None.get\n\tat scala.None$.get(Option.scala:529)\n\tat scala.None$.get(Option.scala:527)\n\tat org.apache.spark.sql.execution.datasources.BasicWriteJobStatsTracker$.metrics(BasicWriteStatsTracker.scala:175)\n\tat org.apache.spark.sql.execution.command.DataWritingCommand.metrics(DataWritingCommand.scala:51)\n\tat org.apache.spark.sql.execution.command.DataWritingCommand.metrics$(DataWritingCommand.scala:51)\n\tat org.apache.spark.sql.execution.datasources.InsertIntoHadoopFsRelationCommand.metrics$lzycompute(InsertIntoHadoopFsRelationCommand.scala:49)\n\tat org.apache.spark.sql.execution.datasources.InsertIntoHadoopFsRelationCommand.metrics(InsertIntoHadoopFsRelationCommand.scala:49)\n\tat org.apache.spark.sql.execution.command.DataWritingCommandExec.metrics$lzycompute(commands.scala:104)\n\tat org.apache.spark.sql.execution.command.DataWritingCommandExec.metrics(commands.scala:104)\n\tat org.apache.spark.sql.execution.SparkPlanInfo$.fromSparkPlan(SparkPlanInfo.scala:63)\n\tat org.apache.spark.sql.execution.SQLExecution$.$anonfun$withNewExecutionId$5(SQLExecution.scala:101)\n\tat org.apache.spark.sql.execution.SQLExecution$.withSQLConfPropagated(SQLExecution.scala:163)\n\tat org.apache.spark.sql.execution.SQLExecution$.$anonfun$withNewExecutionId$1(SQLExecution.scala:90)\n\tat org.apache.spark.sql.SparkSession.withActive(SparkSession.scala:775)\n\tat org.apache.spark.sql.execution.SQLExecution$.withNewExecutionId(SQLExecution.scala:64)\n\tat org.apache.spark.sql.DataFrameWriter.runCommand(DataFrameWriter.scala:989)\n\tat org.apache.spark.sql.DataFrameWriter.saveToV1Source(DataFrameWriter.scala:438)\n\tat org.apache.spark.sql.DataFrameWriter.saveInternal(DataFrameWriter.scala:415)\n\tat org.apache.spark.sql.DataFrameWriter.save(DataFrameWriter.scala:301)\n\tat sun.reflect.NativeMethodAccessorImpl.invoke0(Native Method)\n\tat sun.reflect.NativeMethodAccessorImpl.invoke(NativeMethodAccessorImpl.java:62)\n\tat sun.reflect.DelegatingMethodAccessorImpl.invoke(DelegatingMethodAccessorImpl.java:43)\n\tat java.lang.reflect.Method.invoke(Method.java:498)\n\tat py4j.reflection.MethodInvoker.invoke(MethodInvoker.java:244)\n\tat py4j.reflection.ReflectionEngine.invoke(ReflectionEngine.java:357)\n\tat py4j.Gateway.invoke(Gateway.java:282)\n\tat py4j.commands.AbstractCommand.invokeMethod(AbstractCommand.java:132)\n\tat py4j.commands.CallCommand.execute(CallCommand.java:79)\n\tat py4j.GatewayConnection.run(GatewayConnection.java:238)\n\tat java.lang.Thread.run(Thread.java:750)\n",
     "output_type": "error",
     "traceback": [
      "\u001b[0;31m---------------------------------------------------------------------------\u001b[0m",
      "\u001b[0;31mPy4JJavaError\u001b[0m                             Traceback (most recent call last)",
      "\u001b[0;32m<ipython-input-69-16853eb085b9>\u001b[0m in \u001b[0;36m<module>\u001b[0;34m\u001b[0m\n\u001b[0;32m----> 1\u001b[0;31m \u001b[0mloan_replacing_dates\u001b[0m\u001b[0;34m.\u001b[0m\u001b[0mrepartition\u001b[0m\u001b[0;34m(\u001b[0m\u001b[0;36m1\u001b[0m\u001b[0;34m)\u001b[0m\u001b[0;34m.\u001b[0m\u001b[0mwrite\u001b[0m\u001b[0;34m.\u001b[0m\u001b[0mformat\u001b[0m\u001b[0;34m(\u001b[0m\u001b[0;34m\"parquet\"\u001b[0m\u001b[0;34m)\u001b[0m\u001b[0;34m.\u001b[0m\u001b[0mmode\u001b[0m\u001b[0;34m(\u001b[0m\u001b[0;34m\"overwrite\"\u001b[0m\u001b[0;34m)\u001b[0m\u001b[0;34m.\u001b[0m\u001b[0moption\u001b[0m\u001b[0;34m(\u001b[0m\u001b[0;34m\"header\"\u001b[0m\u001b[0;34m,\u001b[0m\u001b[0;32mTrue\u001b[0m\u001b[0;34m)\u001b[0m\u001b[0;34m.\u001b[0m\u001b[0moption\u001b[0m\u001b[0;34m(\u001b[0m\u001b[0;34m\"path\"\u001b[0m\u001b[0;34m,\u001b[0m\u001b[0;34m\"/user/itv012667/lendingclub/cleaneddata/loan_repayment\"\u001b[0m\u001b[0;34m)\u001b[0m\u001b[0;34m.\u001b[0m\u001b[0msave\u001b[0m\u001b[0;34m(\u001b[0m\u001b[0;34m)\u001b[0m\u001b[0;34m\u001b[0m\u001b[0;34m\u001b[0m\u001b[0m\n\u001b[0m",
      "\u001b[0;32m/opt/spark-3.1.2-bin-hadoop3.2/python/pyspark/sql/readwriter.py\u001b[0m in \u001b[0;36msave\u001b[0;34m(self, path, format, mode, partitionBy, **options)\u001b[0m\n\u001b[1;32m   1105\u001b[0m             \u001b[0mself\u001b[0m\u001b[0;34m.\u001b[0m\u001b[0mformat\u001b[0m\u001b[0;34m(\u001b[0m\u001b[0mformat\u001b[0m\u001b[0;34m)\u001b[0m\u001b[0;34m\u001b[0m\u001b[0;34m\u001b[0m\u001b[0m\n\u001b[1;32m   1106\u001b[0m         \u001b[0;32mif\u001b[0m \u001b[0mpath\u001b[0m \u001b[0;32mis\u001b[0m \u001b[0;32mNone\u001b[0m\u001b[0;34m:\u001b[0m\u001b[0;34m\u001b[0m\u001b[0;34m\u001b[0m\u001b[0m\n\u001b[0;32m-> 1107\u001b[0;31m             \u001b[0mself\u001b[0m\u001b[0;34m.\u001b[0m\u001b[0m_jwrite\u001b[0m\u001b[0;34m.\u001b[0m\u001b[0msave\u001b[0m\u001b[0;34m(\u001b[0m\u001b[0;34m)\u001b[0m\u001b[0;34m\u001b[0m\u001b[0;34m\u001b[0m\u001b[0m\n\u001b[0m\u001b[1;32m   1108\u001b[0m         \u001b[0;32melse\u001b[0m\u001b[0;34m:\u001b[0m\u001b[0;34m\u001b[0m\u001b[0;34m\u001b[0m\u001b[0m\n\u001b[1;32m   1109\u001b[0m             \u001b[0mself\u001b[0m\u001b[0;34m.\u001b[0m\u001b[0m_jwrite\u001b[0m\u001b[0;34m.\u001b[0m\u001b[0msave\u001b[0m\u001b[0;34m(\u001b[0m\u001b[0mpath\u001b[0m\u001b[0;34m)\u001b[0m\u001b[0;34m\u001b[0m\u001b[0;34m\u001b[0m\u001b[0m\n",
      "\u001b[0;32m/opt/spark-3.1.2-bin-hadoop3.2/python/lib/py4j-0.10.9-src.zip/py4j/java_gateway.py\u001b[0m in \u001b[0;36m__call__\u001b[0;34m(self, *args)\u001b[0m\n\u001b[1;32m   1303\u001b[0m         \u001b[0manswer\u001b[0m \u001b[0;34m=\u001b[0m \u001b[0mself\u001b[0m\u001b[0;34m.\u001b[0m\u001b[0mgateway_client\u001b[0m\u001b[0;34m.\u001b[0m\u001b[0msend_command\u001b[0m\u001b[0;34m(\u001b[0m\u001b[0mcommand\u001b[0m\u001b[0;34m)\u001b[0m\u001b[0;34m\u001b[0m\u001b[0;34m\u001b[0m\u001b[0m\n\u001b[1;32m   1304\u001b[0m         return_value = get_return_value(\n\u001b[0;32m-> 1305\u001b[0;31m             answer, self.gateway_client, self.target_id, self.name)\n\u001b[0m\u001b[1;32m   1306\u001b[0m \u001b[0;34m\u001b[0m\u001b[0m\n\u001b[1;32m   1307\u001b[0m         \u001b[0;32mfor\u001b[0m \u001b[0mtemp_arg\u001b[0m \u001b[0;32min\u001b[0m \u001b[0mtemp_args\u001b[0m\u001b[0;34m:\u001b[0m\u001b[0;34m\u001b[0m\u001b[0;34m\u001b[0m\u001b[0m\n",
      "\u001b[0;32m/opt/spark-3.1.2-bin-hadoop3.2/python/pyspark/sql/utils.py\u001b[0m in \u001b[0;36mdeco\u001b[0;34m(*a, **kw)\u001b[0m\n\u001b[1;32m    109\u001b[0m     \u001b[0;32mdef\u001b[0m \u001b[0mdeco\u001b[0m\u001b[0;34m(\u001b[0m\u001b[0;34m*\u001b[0m\u001b[0ma\u001b[0m\u001b[0;34m,\u001b[0m \u001b[0;34m**\u001b[0m\u001b[0mkw\u001b[0m\u001b[0;34m)\u001b[0m\u001b[0;34m:\u001b[0m\u001b[0;34m\u001b[0m\u001b[0;34m\u001b[0m\u001b[0m\n\u001b[1;32m    110\u001b[0m         \u001b[0;32mtry\u001b[0m\u001b[0;34m:\u001b[0m\u001b[0;34m\u001b[0m\u001b[0;34m\u001b[0m\u001b[0m\n\u001b[0;32m--> 111\u001b[0;31m             \u001b[0;32mreturn\u001b[0m \u001b[0mf\u001b[0m\u001b[0;34m(\u001b[0m\u001b[0;34m*\u001b[0m\u001b[0ma\u001b[0m\u001b[0;34m,\u001b[0m \u001b[0;34m**\u001b[0m\u001b[0mkw\u001b[0m\u001b[0;34m)\u001b[0m\u001b[0;34m\u001b[0m\u001b[0;34m\u001b[0m\u001b[0m\n\u001b[0m\u001b[1;32m    112\u001b[0m         \u001b[0;32mexcept\u001b[0m \u001b[0mpy4j\u001b[0m\u001b[0;34m.\u001b[0m\u001b[0mprotocol\u001b[0m\u001b[0;34m.\u001b[0m\u001b[0mPy4JJavaError\u001b[0m \u001b[0;32mas\u001b[0m \u001b[0me\u001b[0m\u001b[0;34m:\u001b[0m\u001b[0;34m\u001b[0m\u001b[0;34m\u001b[0m\u001b[0m\n\u001b[1;32m    113\u001b[0m             \u001b[0mconverted\u001b[0m \u001b[0;34m=\u001b[0m \u001b[0mconvert_exception\u001b[0m\u001b[0;34m(\u001b[0m\u001b[0me\u001b[0m\u001b[0;34m.\u001b[0m\u001b[0mjava_exception\u001b[0m\u001b[0;34m)\u001b[0m\u001b[0;34m\u001b[0m\u001b[0;34m\u001b[0m\u001b[0m\n",
      "\u001b[0;32m/opt/spark-3.1.2-bin-hadoop3.2/python/lib/py4j-0.10.9-src.zip/py4j/protocol.py\u001b[0m in \u001b[0;36mget_return_value\u001b[0;34m(answer, gateway_client, target_id, name)\u001b[0m\n\u001b[1;32m    326\u001b[0m                 raise Py4JJavaError(\n\u001b[1;32m    327\u001b[0m                     \u001b[0;34m\"An error occurred while calling {0}{1}{2}.\\n\"\u001b[0m\u001b[0;34m.\u001b[0m\u001b[0;34m\u001b[0m\u001b[0;34m\u001b[0m\u001b[0m\n\u001b[0;32m--> 328\u001b[0;31m                     format(target_id, \".\", name), value)\n\u001b[0m\u001b[1;32m    329\u001b[0m             \u001b[0;32melse\u001b[0m\u001b[0;34m:\u001b[0m\u001b[0;34m\u001b[0m\u001b[0;34m\u001b[0m\u001b[0m\n\u001b[1;32m    330\u001b[0m                 raise Py4JError(\n",
      "\u001b[0;31mPy4JJavaError\u001b[0m: An error occurred while calling o466.save.\n: java.util.NoSuchElementException: None.get\n\tat scala.None$.get(Option.scala:529)\n\tat scala.None$.get(Option.scala:527)\n\tat org.apache.spark.sql.execution.datasources.BasicWriteJobStatsTracker$.metrics(BasicWriteStatsTracker.scala:175)\n\tat org.apache.spark.sql.execution.command.DataWritingCommand.metrics(DataWritingCommand.scala:51)\n\tat org.apache.spark.sql.execution.command.DataWritingCommand.metrics$(DataWritingCommand.scala:51)\n\tat org.apache.spark.sql.execution.datasources.InsertIntoHadoopFsRelationCommand.metrics$lzycompute(InsertIntoHadoopFsRelationCommand.scala:49)\n\tat org.apache.spark.sql.execution.datasources.InsertIntoHadoopFsRelationCommand.metrics(InsertIntoHadoopFsRelationCommand.scala:49)\n\tat org.apache.spark.sql.execution.command.DataWritingCommandExec.metrics$lzycompute(commands.scala:104)\n\tat org.apache.spark.sql.execution.command.DataWritingCommandExec.metrics(commands.scala:104)\n\tat org.apache.spark.sql.execution.SparkPlanInfo$.fromSparkPlan(SparkPlanInfo.scala:63)\n\tat org.apache.spark.sql.execution.SQLExecution$.$anonfun$withNewExecutionId$5(SQLExecution.scala:101)\n\tat org.apache.spark.sql.execution.SQLExecution$.withSQLConfPropagated(SQLExecution.scala:163)\n\tat org.apache.spark.sql.execution.SQLExecution$.$anonfun$withNewExecutionId$1(SQLExecution.scala:90)\n\tat org.apache.spark.sql.SparkSession.withActive(SparkSession.scala:775)\n\tat org.apache.spark.sql.execution.SQLExecution$.withNewExecutionId(SQLExecution.scala:64)\n\tat org.apache.spark.sql.DataFrameWriter.runCommand(DataFrameWriter.scala:989)\n\tat org.apache.spark.sql.DataFrameWriter.saveToV1Source(DataFrameWriter.scala:438)\n\tat org.apache.spark.sql.DataFrameWriter.saveInternal(DataFrameWriter.scala:415)\n\tat org.apache.spark.sql.DataFrameWriter.save(DataFrameWriter.scala:301)\n\tat sun.reflect.NativeMethodAccessorImpl.invoke0(Native Method)\n\tat sun.reflect.NativeMethodAccessorImpl.invoke(NativeMethodAccessorImpl.java:62)\n\tat sun.reflect.DelegatingMethodAccessorImpl.invoke(DelegatingMethodAccessorImpl.java:43)\n\tat java.lang.reflect.Method.invoke(Method.java:498)\n\tat py4j.reflection.MethodInvoker.invoke(MethodInvoker.java:244)\n\tat py4j.reflection.ReflectionEngine.invoke(ReflectionEngine.java:357)\n\tat py4j.Gateway.invoke(Gateway.java:282)\n\tat py4j.commands.AbstractCommand.invokeMethod(AbstractCommand.java:132)\n\tat py4j.commands.CallCommand.execute(CallCommand.java:79)\n\tat py4j.GatewayConnection.run(GatewayConnection.java:238)\n\tat java.lang.Thread.run(Thread.java:750)\n"
     ]
    }
   ],
   "source": [
    "loan_replacing_dates.repartition(1).write.format(\"parquet\").mode(\"overwrite\").option(\"header\",True).option(\"path\",\"/user/itv012667/lendingclub/cleaneddata/loan_repayment\").save()"
   ]
  }
 ],
 "metadata": {
  "kernelspec": {
   "display_name": "Pyspark 3",
   "language": "python",
   "name": "pyspark3"
  },
  "language_info": {
   "codemirror_mode": {
    "name": "ipython",
    "version": 3
   },
   "file_extension": ".py",
   "mimetype": "text/x-python",
   "name": "python",
   "nbconvert_exporter": "python",
   "pygments_lexer": "ipython3",
   "version": "3.6.12"
  }
 },
 "nbformat": 4,
 "nbformat_minor": 5
}
