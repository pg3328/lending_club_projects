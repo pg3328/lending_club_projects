{
 "cells": [
  {
   "cell_type": "code",
   "execution_count": 1,
   "id": "84b736f2",
   "metadata": {},
   "outputs": [],
   "source": [
    "from pyspark.sql import *\n",
    "import getpass\n",
    "username = getpass.getuser()\n",
    "spark = SparkSession.builder \\\n",
    "    .appName('loans_defaulter') \\\n",
    "    .config('spark.ui.port', '0') \\\n",
    "    .config('spark.shuffle.useOldFetchProtocol','true') \\\n",
    "    .config(\"spark.sql.warehouse.dir\", f\"/user/{username}/warehouse\") \\\n",
    "    .enableHiveSupport() \\\n",
    "    .master('yarn') \\\n",
    "    .getOrCreate()"
   ]
  },
  {
   "cell_type": "code",
   "execution_count": null,
   "id": "73e9d1b1",
   "metadata": {},
   "outputs": [],
   "source": []
  },
  {
   "cell_type": "code",
   "execution_count": 86,
   "id": "07691a08",
   "metadata": {},
   "outputs": [
    {
     "name": "stderr",
     "output_type": "stream",
     "text": [
      "ERROR:py4j.java_gateway:An error occurred while trying to connect to the Java server (127.0.0.1:37461)\n",
      "Traceback (most recent call last):\n",
      "  File \"/opt/spark-3.1.2-bin-hadoop3.2/python/lib/py4j-0.10.9-src.zip/py4j/java_gateway.py\", line 977, in _get_connection\n",
      "    connection = self.deque.pop()\n",
      "IndexError: pop from an empty deque\n",
      "\n",
      "During handling of the above exception, another exception occurred:\n",
      "\n",
      "Traceback (most recent call last):\n",
      "  File \"/opt/spark-3.1.2-bin-hadoop3.2/python/lib/py4j-0.10.9-src.zip/py4j/java_gateway.py\", line 1115, in start\n",
      "    self.socket.connect((self.address, self.port))\n",
      "ConnectionRefusedError: [Errno 111] Connection refused\n",
      "/opt/spark-3.1.2-bin-hadoop3.2/python/pyspark/context.py:464: RuntimeWarning: Unable to cleanly shutdown Spark JVM process. It is possible that the process has crashed, been killed or may also be in a zombie state.\n",
      "  RuntimeWarning\n",
      "ERROR:py4j.java_gateway:An error occurred while trying to connect to the Java server (127.0.0.1:37461)\n",
      "Traceback (most recent call last):\n",
      "  File \"/opt/spark-3.1.2-bin-hadoop3.2/python/lib/py4j-0.10.9-src.zip/py4j/java_gateway.py\", line 977, in _get_connection\n",
      "    connection = self.deque.pop()\n",
      "IndexError: pop from an empty deque\n",
      "\n",
      "During handling of the above exception, another exception occurred:\n",
      "\n",
      "Traceback (most recent call last):\n",
      "  File \"/opt/spark-3.1.2-bin-hadoop3.2/python/lib/py4j-0.10.9-src.zip/py4j/java_gateway.py\", line 1115, in start\n",
      "    self.socket.connect((self.address, self.port))\n",
      "ConnectionRefusedError: [Errno 111] Connection refused\n"
     ]
    },
    {
     "ename": "Py4JNetworkError",
     "evalue": "An error occurred while trying to connect to the Java server (127.0.0.1:37461)",
     "output_type": "error",
     "traceback": [
      "\u001b[0;31m---------------------------------------------------------------------------\u001b[0m",
      "\u001b[0;31mIndexError\u001b[0m                                Traceback (most recent call last)",
      "\u001b[0;32m/opt/spark-3.1.2-bin-hadoop3.2/python/lib/py4j-0.10.9-src.zip/py4j/java_gateway.py\u001b[0m in \u001b[0;36m_get_connection\u001b[0;34m(self)\u001b[0m\n\u001b[1;32m    976\u001b[0m         \u001b[0;32mtry\u001b[0m\u001b[0;34m:\u001b[0m\u001b[0;34m\u001b[0m\u001b[0;34m\u001b[0m\u001b[0m\n\u001b[0;32m--> 977\u001b[0;31m             \u001b[0mconnection\u001b[0m \u001b[0;34m=\u001b[0m \u001b[0mself\u001b[0m\u001b[0;34m.\u001b[0m\u001b[0mdeque\u001b[0m\u001b[0;34m.\u001b[0m\u001b[0mpop\u001b[0m\u001b[0;34m(\u001b[0m\u001b[0;34m)\u001b[0m\u001b[0;34m\u001b[0m\u001b[0;34m\u001b[0m\u001b[0m\n\u001b[0m\u001b[1;32m    978\u001b[0m         \u001b[0;32mexcept\u001b[0m \u001b[0mIndexError\u001b[0m\u001b[0;34m:\u001b[0m\u001b[0;34m\u001b[0m\u001b[0;34m\u001b[0m\u001b[0m\n",
      "\u001b[0;31mIndexError\u001b[0m: pop from an empty deque",
      "\nDuring handling of the above exception, another exception occurred:\n",
      "\u001b[0;31mConnectionRefusedError\u001b[0m                    Traceback (most recent call last)",
      "\u001b[0;32m/opt/spark-3.1.2-bin-hadoop3.2/python/lib/py4j-0.10.9-src.zip/py4j/java_gateway.py\u001b[0m in \u001b[0;36mstart\u001b[0;34m(self)\u001b[0m\n\u001b[1;32m   1114\u001b[0m         \u001b[0;32mtry\u001b[0m\u001b[0;34m:\u001b[0m\u001b[0;34m\u001b[0m\u001b[0;34m\u001b[0m\u001b[0m\n\u001b[0;32m-> 1115\u001b[0;31m             \u001b[0mself\u001b[0m\u001b[0;34m.\u001b[0m\u001b[0msocket\u001b[0m\u001b[0;34m.\u001b[0m\u001b[0mconnect\u001b[0m\u001b[0;34m(\u001b[0m\u001b[0;34m(\u001b[0m\u001b[0mself\u001b[0m\u001b[0;34m.\u001b[0m\u001b[0maddress\u001b[0m\u001b[0;34m,\u001b[0m \u001b[0mself\u001b[0m\u001b[0;34m.\u001b[0m\u001b[0mport\u001b[0m\u001b[0;34m)\u001b[0m\u001b[0;34m)\u001b[0m\u001b[0;34m\u001b[0m\u001b[0;34m\u001b[0m\u001b[0m\n\u001b[0m\u001b[1;32m   1116\u001b[0m             \u001b[0mself\u001b[0m\u001b[0;34m.\u001b[0m\u001b[0mstream\u001b[0m \u001b[0;34m=\u001b[0m \u001b[0mself\u001b[0m\u001b[0;34m.\u001b[0m\u001b[0msocket\u001b[0m\u001b[0;34m.\u001b[0m\u001b[0mmakefile\u001b[0m\u001b[0;34m(\u001b[0m\u001b[0;34m\"rb\"\u001b[0m\u001b[0;34m)\u001b[0m\u001b[0;34m\u001b[0m\u001b[0;34m\u001b[0m\u001b[0m\n",
      "\u001b[0;31mConnectionRefusedError\u001b[0m: [Errno 111] Connection refused",
      "\nDuring handling of the above exception, another exception occurred:\n",
      "\u001b[0;31mPy4JNetworkError\u001b[0m                          Traceback (most recent call last)",
      "\u001b[0;32m<ipython-input-86-5c6b4d5d9db0>\u001b[0m in \u001b[0;36m<module>\u001b[0;34m\u001b[0m\n\u001b[0;32m----> 1\u001b[0;31m \u001b[0mspark\u001b[0m\u001b[0;34m.\u001b[0m\u001b[0mstop\u001b[0m\u001b[0;34m(\u001b[0m\u001b[0;34m)\u001b[0m\u001b[0;34m\u001b[0m\u001b[0;34m\u001b[0m\u001b[0m\n\u001b[0m",
      "\u001b[0;32m/opt/spark-3.1.2-bin-hadoop3.2/python/pyspark/sql/session.py\u001b[0m in \u001b[0;36mstop\u001b[0;34m(self)\u001b[0m\n\u001b[1;32m    798\u001b[0m         \u001b[0mself\u001b[0m\u001b[0;34m.\u001b[0m\u001b[0m_sc\u001b[0m\u001b[0;34m.\u001b[0m\u001b[0mstop\u001b[0m\u001b[0;34m(\u001b[0m\u001b[0;34m)\u001b[0m\u001b[0;34m\u001b[0m\u001b[0;34m\u001b[0m\u001b[0m\n\u001b[1;32m    799\u001b[0m         \u001b[0;31m# We should clean the default session up. See SPARK-23228.\u001b[0m\u001b[0;34m\u001b[0m\u001b[0;34m\u001b[0m\u001b[0;34m\u001b[0m\u001b[0m\n\u001b[0;32m--> 800\u001b[0;31m         \u001b[0mself\u001b[0m\u001b[0;34m.\u001b[0m\u001b[0m_jvm\u001b[0m\u001b[0;34m.\u001b[0m\u001b[0mSparkSession\u001b[0m\u001b[0;34m.\u001b[0m\u001b[0mclearDefaultSession\u001b[0m\u001b[0;34m(\u001b[0m\u001b[0;34m)\u001b[0m\u001b[0;34m\u001b[0m\u001b[0;34m\u001b[0m\u001b[0m\n\u001b[0m\u001b[1;32m    801\u001b[0m         \u001b[0mself\u001b[0m\u001b[0;34m.\u001b[0m\u001b[0m_jvm\u001b[0m\u001b[0;34m.\u001b[0m\u001b[0mSparkSession\u001b[0m\u001b[0;34m.\u001b[0m\u001b[0mclearActiveSession\u001b[0m\u001b[0;34m(\u001b[0m\u001b[0;34m)\u001b[0m\u001b[0;34m\u001b[0m\u001b[0;34m\u001b[0m\u001b[0m\n\u001b[1;32m    802\u001b[0m         \u001b[0mSparkSession\u001b[0m\u001b[0;34m.\u001b[0m\u001b[0m_instantiatedSession\u001b[0m \u001b[0;34m=\u001b[0m \u001b[0;32mNone\u001b[0m\u001b[0;34m\u001b[0m\u001b[0;34m\u001b[0m\u001b[0m\n",
      "\u001b[0;32m/opt/spark-3.1.2-bin-hadoop3.2/python/lib/py4j-0.10.9-src.zip/py4j/java_gateway.py\u001b[0m in \u001b[0;36m__getattr__\u001b[0;34m(self, name)\u001b[0m\n\u001b[1;32m   1693\u001b[0m             \u001b[0mproto\u001b[0m\u001b[0;34m.\u001b[0m\u001b[0mREFLECTION_COMMAND_NAME\u001b[0m \u001b[0;34m+\u001b[0m\u001b[0;34m\u001b[0m\u001b[0;34m\u001b[0m\u001b[0m\n\u001b[1;32m   1694\u001b[0m             \u001b[0mproto\u001b[0m\u001b[0;34m.\u001b[0m\u001b[0mREFL_GET_UNKNOWN_SUB_COMMAND_NAME\u001b[0m \u001b[0;34m+\u001b[0m \u001b[0mname\u001b[0m \u001b[0;34m+\u001b[0m \u001b[0;34m\"\\n\"\u001b[0m \u001b[0;34m+\u001b[0m \u001b[0mself\u001b[0m\u001b[0;34m.\u001b[0m\u001b[0m_id\u001b[0m \u001b[0;34m+\u001b[0m\u001b[0;34m\u001b[0m\u001b[0;34m\u001b[0m\u001b[0m\n\u001b[0;32m-> 1695\u001b[0;31m             \"\\n\" + proto.END_COMMAND_PART)\n\u001b[0m\u001b[1;32m   1696\u001b[0m         \u001b[0;32mif\u001b[0m \u001b[0manswer\u001b[0m \u001b[0;34m==\u001b[0m \u001b[0mproto\u001b[0m\u001b[0;34m.\u001b[0m\u001b[0mSUCCESS_PACKAGE\u001b[0m\u001b[0;34m:\u001b[0m\u001b[0;34m\u001b[0m\u001b[0;34m\u001b[0m\u001b[0m\n\u001b[1;32m   1697\u001b[0m             \u001b[0;32mreturn\u001b[0m \u001b[0mJavaPackage\u001b[0m\u001b[0;34m(\u001b[0m\u001b[0mname\u001b[0m\u001b[0;34m,\u001b[0m \u001b[0mself\u001b[0m\u001b[0;34m.\u001b[0m\u001b[0m_gateway_client\u001b[0m\u001b[0;34m,\u001b[0m \u001b[0mjvm_id\u001b[0m\u001b[0;34m=\u001b[0m\u001b[0mself\u001b[0m\u001b[0;34m.\u001b[0m\u001b[0m_id\u001b[0m\u001b[0;34m)\u001b[0m\u001b[0;34m\u001b[0m\u001b[0;34m\u001b[0m\u001b[0m\n",
      "\u001b[0;32m/opt/spark-3.1.2-bin-hadoop3.2/python/lib/py4j-0.10.9-src.zip/py4j/java_gateway.py\u001b[0m in \u001b[0;36msend_command\u001b[0;34m(self, command, retry, binary)\u001b[0m\n\u001b[1;32m   1029\u001b[0m          \u001b[0;32mif\u001b[0m\u001b[0;31m \u001b[0m\u001b[0;31m`\u001b[0m\u001b[0mbinary\u001b[0m\u001b[0;31m`\u001b[0m \u001b[0;32mis\u001b[0m\u001b[0;31m \u001b[0m\u001b[0;31m`\u001b[0m\u001b[0;32mTrue\u001b[0m\u001b[0;31m`\u001b[0m\u001b[0;34m.\u001b[0m\u001b[0;34m\u001b[0m\u001b[0;34m\u001b[0m\u001b[0m\n\u001b[1;32m   1030\u001b[0m         \"\"\"\n\u001b[0;32m-> 1031\u001b[0;31m         \u001b[0mconnection\u001b[0m \u001b[0;34m=\u001b[0m \u001b[0mself\u001b[0m\u001b[0;34m.\u001b[0m\u001b[0m_get_connection\u001b[0m\u001b[0;34m(\u001b[0m\u001b[0;34m)\u001b[0m\u001b[0;34m\u001b[0m\u001b[0;34m\u001b[0m\u001b[0m\n\u001b[0m\u001b[1;32m   1032\u001b[0m         \u001b[0;32mtry\u001b[0m\u001b[0;34m:\u001b[0m\u001b[0;34m\u001b[0m\u001b[0;34m\u001b[0m\u001b[0m\n\u001b[1;32m   1033\u001b[0m             \u001b[0mresponse\u001b[0m \u001b[0;34m=\u001b[0m \u001b[0mconnection\u001b[0m\u001b[0;34m.\u001b[0m\u001b[0msend_command\u001b[0m\u001b[0;34m(\u001b[0m\u001b[0mcommand\u001b[0m\u001b[0;34m)\u001b[0m\u001b[0;34m\u001b[0m\u001b[0;34m\u001b[0m\u001b[0m\n",
      "\u001b[0;32m/opt/spark-3.1.2-bin-hadoop3.2/python/lib/py4j-0.10.9-src.zip/py4j/java_gateway.py\u001b[0m in \u001b[0;36m_get_connection\u001b[0;34m(self)\u001b[0m\n\u001b[1;32m    977\u001b[0m             \u001b[0mconnection\u001b[0m \u001b[0;34m=\u001b[0m \u001b[0mself\u001b[0m\u001b[0;34m.\u001b[0m\u001b[0mdeque\u001b[0m\u001b[0;34m.\u001b[0m\u001b[0mpop\u001b[0m\u001b[0;34m(\u001b[0m\u001b[0;34m)\u001b[0m\u001b[0;34m\u001b[0m\u001b[0;34m\u001b[0m\u001b[0m\n\u001b[1;32m    978\u001b[0m         \u001b[0;32mexcept\u001b[0m \u001b[0mIndexError\u001b[0m\u001b[0;34m:\u001b[0m\u001b[0;34m\u001b[0m\u001b[0;34m\u001b[0m\u001b[0m\n\u001b[0;32m--> 979\u001b[0;31m             \u001b[0mconnection\u001b[0m \u001b[0;34m=\u001b[0m \u001b[0mself\u001b[0m\u001b[0;34m.\u001b[0m\u001b[0m_create_connection\u001b[0m\u001b[0;34m(\u001b[0m\u001b[0;34m)\u001b[0m\u001b[0;34m\u001b[0m\u001b[0;34m\u001b[0m\u001b[0m\n\u001b[0m\u001b[1;32m    980\u001b[0m         \u001b[0;32mreturn\u001b[0m \u001b[0mconnection\u001b[0m\u001b[0;34m\u001b[0m\u001b[0;34m\u001b[0m\u001b[0m\n\u001b[1;32m    981\u001b[0m \u001b[0;34m\u001b[0m\u001b[0m\n",
      "\u001b[0;32m/opt/spark-3.1.2-bin-hadoop3.2/python/lib/py4j-0.10.9-src.zip/py4j/java_gateway.py\u001b[0m in \u001b[0;36m_create_connection\u001b[0;34m(self)\u001b[0m\n\u001b[1;32m    983\u001b[0m         connection = GatewayConnection(\n\u001b[1;32m    984\u001b[0m             self.gateway_parameters, self.gateway_property)\n\u001b[0;32m--> 985\u001b[0;31m         \u001b[0mconnection\u001b[0m\u001b[0;34m.\u001b[0m\u001b[0mstart\u001b[0m\u001b[0;34m(\u001b[0m\u001b[0;34m)\u001b[0m\u001b[0;34m\u001b[0m\u001b[0;34m\u001b[0m\u001b[0m\n\u001b[0m\u001b[1;32m    986\u001b[0m         \u001b[0;32mreturn\u001b[0m \u001b[0mconnection\u001b[0m\u001b[0;34m\u001b[0m\u001b[0;34m\u001b[0m\u001b[0m\n\u001b[1;32m    987\u001b[0m \u001b[0;34m\u001b[0m\u001b[0m\n",
      "\u001b[0;32m/opt/spark-3.1.2-bin-hadoop3.2/python/lib/py4j-0.10.9-src.zip/py4j/java_gateway.py\u001b[0m in \u001b[0;36mstart\u001b[0;34m(self)\u001b[0m\n\u001b[1;32m   1125\u001b[0m                 \u001b[0;34m\"server ({0}:{1})\"\u001b[0m\u001b[0;34m.\u001b[0m\u001b[0mformat\u001b[0m\u001b[0;34m(\u001b[0m\u001b[0mself\u001b[0m\u001b[0;34m.\u001b[0m\u001b[0maddress\u001b[0m\u001b[0;34m,\u001b[0m \u001b[0mself\u001b[0m\u001b[0;34m.\u001b[0m\u001b[0mport\u001b[0m\u001b[0;34m)\u001b[0m\u001b[0;34m\u001b[0m\u001b[0;34m\u001b[0m\u001b[0m\n\u001b[1;32m   1126\u001b[0m             \u001b[0mlogger\u001b[0m\u001b[0;34m.\u001b[0m\u001b[0mexception\u001b[0m\u001b[0;34m(\u001b[0m\u001b[0mmsg\u001b[0m\u001b[0;34m)\u001b[0m\u001b[0;34m\u001b[0m\u001b[0;34m\u001b[0m\u001b[0m\n\u001b[0;32m-> 1127\u001b[0;31m             \u001b[0;32mraise\u001b[0m \u001b[0mPy4JNetworkError\u001b[0m\u001b[0;34m(\u001b[0m\u001b[0mmsg\u001b[0m\u001b[0;34m,\u001b[0m \u001b[0me\u001b[0m\u001b[0;34m)\u001b[0m\u001b[0;34m\u001b[0m\u001b[0;34m\u001b[0m\u001b[0m\n\u001b[0m\u001b[1;32m   1128\u001b[0m \u001b[0;34m\u001b[0m\u001b[0m\n\u001b[1;32m   1129\u001b[0m     \u001b[0;32mdef\u001b[0m \u001b[0m_authenticate_connection\u001b[0m\u001b[0;34m(\u001b[0m\u001b[0mself\u001b[0m\u001b[0;34m)\u001b[0m\u001b[0;34m:\u001b[0m\u001b[0;34m\u001b[0m\u001b[0;34m\u001b[0m\u001b[0m\n",
      "\u001b[0;31mPy4JNetworkError\u001b[0m: An error occurred while trying to connect to the Java server (127.0.0.1:37461)"
     ]
    }
   ],
   "source": [
    "spark.stop()"
   ]
  },
  {
   "cell_type": "code",
   "execution_count": 2,
   "id": "1b2aad37",
   "metadata": {},
   "outputs": [],
   "source": [
    "df = spark.read.load(\"/user/itv012667/lendingclub/cleaneddata/customers_data\")"
   ]
  },
  {
   "cell_type": "code",
   "execution_count": 58,
   "id": "7fefb646",
   "metadata": {},
   "outputs": [
    {
     "name": "stdout",
     "output_type": "stream",
     "text": [
      "root\n",
      " |-- member_id: string (nullable = true)\n",
      " |-- emp_title: string (nullable = true)\n",
      " |-- emp_length: integer (nullable = true)\n",
      " |-- home_ownership: string (nullable = true)\n",
      " |-- annual_income: float (nullable = true)\n",
      " |-- address_state: string (nullable = true)\n",
      " |-- address_zipcode: string (nullable = true)\n",
      " |-- address_country: string (nullable = true)\n",
      " |-- grade: string (nullable = true)\n",
      " |-- sub_grade: string (nullable = true)\n",
      " |-- verification_status: string (nullable = true)\n",
      " |-- total_high_credit_limit: float (nullable = true)\n",
      " |-- application_type: string (nullable = true)\n",
      " |-- joint_annual_income: float (nullable = true)\n",
      " |-- verification_status_joint: string (nullable = true)\n",
      " |-- ingest_timestamp: timestamp (nullable = true)\n",
      "\n"
     ]
    }
   ],
   "source": [
    "df.printSchema()"
   ]
  },
  {
   "cell_type": "code",
   "execution_count": 59,
   "id": "231e736c",
   "metadata": {},
   "outputs": [
    {
     "ename": "Py4JError",
     "evalue": "An error occurred while calling o825.toString. Trace:\njava.lang.IllegalArgumentException: object is not an instance of declaring class\n\tat sun.reflect.NativeMethodAccessorImpl.invoke0(Native Method)\n\tat sun.reflect.NativeMethodAccessorImpl.invoke(NativeMethodAccessorImpl.java:62)\n\tat sun.reflect.DelegatingMethodAccessorImpl.invoke(DelegatingMethodAccessorImpl.java:43)\n\tat java.lang.reflect.Method.invoke(Method.java:498)\n\tat py4j.reflection.MethodInvoker.invoke(MethodInvoker.java:244)\n\tat py4j.reflection.ReflectionEngine.invoke(ReflectionEngine.java:357)\n\tat py4j.Gateway.invoke(Gateway.java:282)\n\tat py4j.commands.AbstractCommand.invokeMethod(AbstractCommand.java:132)\n\tat py4j.commands.CallCommand.execute(CallCommand.java:79)\n\tat py4j.GatewayConnection.run(GatewayConnection.java:238)\n\tat java.lang.Thread.run(Thread.java:750)\n\n",
     "output_type": "error",
     "traceback": [
      "\u001b[0;31m---------------------------------------------------------------------------\u001b[0m",
      "\u001b[0;31mPy4JJavaError\u001b[0m                             Traceback (most recent call last)",
      "\u001b[0;32m/opt/spark-3.1.2-bin-hadoop3.2/python/pyspark/sql/utils.py\u001b[0m in \u001b[0;36mdeco\u001b[0;34m(*a, **kw)\u001b[0m\n\u001b[1;32m    110\u001b[0m         \u001b[0;32mtry\u001b[0m\u001b[0;34m:\u001b[0m\u001b[0;34m\u001b[0m\u001b[0;34m\u001b[0m\u001b[0m\n\u001b[0;32m--> 111\u001b[0;31m             \u001b[0;32mreturn\u001b[0m \u001b[0mf\u001b[0m\u001b[0;34m(\u001b[0m\u001b[0;34m*\u001b[0m\u001b[0ma\u001b[0m\u001b[0;34m,\u001b[0m \u001b[0;34m**\u001b[0m\u001b[0mkw\u001b[0m\u001b[0;34m)\u001b[0m\u001b[0;34m\u001b[0m\u001b[0;34m\u001b[0m\u001b[0m\n\u001b[0m\u001b[1;32m    112\u001b[0m         \u001b[0;32mexcept\u001b[0m \u001b[0mpy4j\u001b[0m\u001b[0;34m.\u001b[0m\u001b[0mprotocol\u001b[0m\u001b[0;34m.\u001b[0m\u001b[0mPy4JJavaError\u001b[0m \u001b[0;32mas\u001b[0m \u001b[0me\u001b[0m\u001b[0;34m:\u001b[0m\u001b[0;34m\u001b[0m\u001b[0;34m\u001b[0m\u001b[0m\n",
      "\u001b[0;32m/opt/spark-3.1.2-bin-hadoop3.2/python/lib/py4j-0.10.9-src.zip/py4j/protocol.py\u001b[0m in \u001b[0;36mget_return_value\u001b[0;34m(answer, gateway_client, target_id, name)\u001b[0m\n\u001b[1;32m    327\u001b[0m                     \u001b[0;34m\"An error occurred while calling {0}{1}{2}.\\n\"\u001b[0m\u001b[0;34m.\u001b[0m\u001b[0;34m\u001b[0m\u001b[0;34m\u001b[0m\u001b[0m\n\u001b[0;32m--> 328\u001b[0;31m                     format(target_id, \".\", name), value)\n\u001b[0m\u001b[1;32m    329\u001b[0m             \u001b[0;32melse\u001b[0m\u001b[0;34m:\u001b[0m\u001b[0;34m\u001b[0m\u001b[0;34m\u001b[0m\u001b[0m\n",
      "\u001b[0;31mPy4JJavaError\u001b[0m: An error occurred while calling o809.sql.\n: org.apache.spark.sql.AnalysisException: org.apache.hadoop.hive.metastore.api.AlreadyExistsException: Database itv_012667_lending_club already exists\n\tat org.apache.spark.sql.hive.HiveExternalCatalog.withClient(HiveExternalCatalog.scala:112)\n\tat org.apache.spark.sql.hive.HiveExternalCatalog.createDatabase(HiveExternalCatalog.scala:193)\n\tat org.apache.spark.sql.catalyst.catalog.ExternalCatalogWithListener.createDatabase(ExternalCatalogWithListener.scala:47)\n\tat org.apache.spark.sql.catalyst.catalog.SessionCatalog.createDatabase(SessionCatalog.scala:226)\n\tat org.apache.spark.sql.execution.command.CreateDatabaseCommand.run(ddl.scala:82)\n\tat org.apache.spark.sql.execution.command.ExecutedCommandExec.sideEffectResult$lzycompute(commands.scala:70)\n\tat org.apache.spark.sql.execution.command.ExecutedCommandExec.sideEffectResult(commands.scala:68)\n\tat org.apache.spark.sql.execution.command.ExecutedCommandExec.executeCollect(commands.scala:79)\n\tat org.apache.spark.sql.Dataset.$anonfun$logicalPlan$1(Dataset.scala:228)\n\tat org.apache.spark.sql.Dataset.$anonfun$withAction$1(Dataset.scala:3687)\n\tat org.apache.spark.sql.execution.SQLExecution$.$anonfun$withNewExecutionId$5(SQLExecution.scala:103)\n\tat org.apache.spark.sql.execution.SQLExecution$.withSQLConfPropagated(SQLExecution.scala:163)\n\tat org.apache.spark.sql.execution.SQLExecution$.$anonfun$withNewExecutionId$1(SQLExecution.scala:90)\n\tat org.apache.spark.sql.SparkSession.withActive(SparkSession.scala:775)\n\tat org.apache.spark.sql.execution.SQLExecution$.withNewExecutionId(SQLExecution.scala:64)\n\tat org.apache.spark.sql.Dataset.withAction(Dataset.scala:3685)\n\tat org.apache.spark.sql.Dataset.<init>(Dataset.scala:228)\n\tat org.apache.spark.sql.Dataset$.$anonfun$ofRows$2(Dataset.scala:99)\n\tat org.apache.spark.sql.SparkSession.withActive(SparkSession.scala:775)\n\tat org.apache.spark.sql.Dataset$.ofRows(Dataset.scala:96)\n\tat org.apache.spark.sql.SparkSession.$anonfun$sql$1(SparkSession.scala:618)\n\tat org.apache.spark.sql.SparkSession.withActive(SparkSession.scala:775)\n\tat org.apache.spark.sql.SparkSession.sql(SparkSession.scala:613)\n\tat sun.reflect.GeneratedMethodAccessor62.invoke(Unknown Source)\n\tat sun.reflect.DelegatingMethodAccessorImpl.invoke(DelegatingMethodAccessorImpl.java:43)\n\tat java.lang.reflect.Method.invoke(Method.java:498)\n\tat py4j.reflection.MethodInvoker.invoke(MethodInvoker.java:244)\n\tat py4j.reflection.ReflectionEngine.invoke(ReflectionEngine.java:357)\n\tat py4j.Gateway.invoke(Gateway.java:282)\n\tat py4j.commands.AbstractCommand.invokeMethod(AbstractCommand.java:132)\n\tat py4j.commands.CallCommand.execute(CallCommand.java:79)\n\tat py4j.GatewayConnection.run(GatewayConnection.java:238)\n\tat java.lang.Thread.run(Thread.java:750)\nCaused by: AlreadyExistsException(message:Database itv_012667_lending_club already exists)\n\tat org.apache.hadoop.hive.metastore.api.ThriftHiveMetastore$create_database_result$create_database_resultStandardScheme.read(ThriftHiveMetastore.java:26642)\n\tat org.apache.hadoop.hive.metastore.api.ThriftHiveMetastore$create_database_result$create_database_resultStandardScheme.read(ThriftHiveMetastore.java:26628)\n\tat org.apache.hadoop.hive.metastore.api.ThriftHiveMetastore$create_database_result.read(ThriftHiveMetastore.java:26562)\n\tat org.apache.thrift.TServiceClient.receiveBase(TServiceClient.java:88)\n\tat org.apache.hadoop.hive.metastore.api.ThriftHiveMetastore$Client.recv_create_database(ThriftHiveMetastore.java:753)\n\tat org.apache.hadoop.hive.metastore.api.ThriftHiveMetastore$Client.create_database(ThriftHiveMetastore.java:740)\n\tat org.apache.hadoop.hive.metastore.HiveMetaStoreClient.createDatabase(HiveMetaStoreClient.java:727)\n\tat sun.reflect.NativeMethodAccessorImpl.invoke0(Native Method)\n\tat sun.reflect.NativeMethodAccessorImpl.invoke(NativeMethodAccessorImpl.java:62)\n\tat sun.reflect.DelegatingMethodAccessorImpl.invoke(DelegatingMethodAccessorImpl.java:43)\n\tat java.lang.reflect.Method.invoke(Method.java:498)\n\tat org.apache.hadoop.hive.metastore.RetryingMetaStoreClient.invoke(RetryingMetaStoreClient.java:173)\n\tat com.sun.proxy.$Proxy55.createDatabase(Unknown Source)\n\tat sun.reflect.NativeMethodAccessorImpl.invoke0(Native Method)\n\tat sun.reflect.NativeMethodAccessorImpl.invoke(NativeMethodAccessorImpl.java:62)\n\tat sun.reflect.DelegatingMethodAccessorImpl.invoke(DelegatingMethodAccessorImpl.java:43)\n\tat java.lang.reflect.Method.invoke(Method.java:498)\n\tat org.apache.hadoop.hive.metastore.HiveMetaStoreClient$SynchronizedHandler.invoke(HiveMetaStoreClient.java:2336)\n\tat com.sun.proxy.$Proxy55.createDatabase(Unknown Source)\n\tat org.apache.hadoop.hive.ql.metadata.Hive.createDatabase(Hive.java:427)\n\tat org.apache.spark.sql.hive.client.HiveClientImpl.$anonfun$createDatabase$1(HiveClientImpl.scala:334)\n\tat scala.runtime.java8.JFunction0$mcV$sp.apply(JFunction0$mcV$sp.java:23)\n\tat org.apache.spark.sql.hive.client.HiveClientImpl.$anonfun$withHiveState$1(HiveClientImpl.scala:291)\n\tat org.apache.spark.sql.hive.client.HiveClientImpl.liftedTree1$1(HiveClientImpl.scala:224)\n\tat org.apache.spark.sql.hive.client.HiveClientImpl.retryLocked(HiveClientImpl.scala:223)\n\tat org.apache.spark.sql.hive.client.HiveClientImpl.withHiveState(HiveClientImpl.scala:273)\n\tat org.apache.spark.sql.hive.client.HiveClientImpl.createDatabase(HiveClientImpl.scala:332)\n\tat org.apache.spark.sql.hive.HiveExternalCatalog.$anonfun$createDatabase$1(HiveExternalCatalog.scala:193)\n\tat scala.runtime.java8.JFunction0$mcV$sp.apply(JFunction0$mcV$sp.java:23)\n\tat org.apache.spark.sql.hive.HiveExternalCatalog.withClient(HiveExternalCatalog.scala:102)\n\t... 32 more\n",
      "\nDuring handling of the above exception, another exception occurred:\n",
      "\u001b[0;31mPy4JError\u001b[0m                                 Traceback (most recent call last)",
      "\u001b[0;32m<ipython-input-59-6e3cd50182f5>\u001b[0m in \u001b[0;36m<module>\u001b[0;34m\u001b[0m\n\u001b[0;32m----> 1\u001b[0;31m \u001b[0mspark\u001b[0m\u001b[0;34m.\u001b[0m\u001b[0msql\u001b[0m\u001b[0;34m(\u001b[0m\u001b[0;34m\"create database itv_012667_lending_club\"\u001b[0m\u001b[0;34m)\u001b[0m\u001b[0;34m\u001b[0m\u001b[0;34m\u001b[0m\u001b[0m\n\u001b[0m",
      "\u001b[0;32m/opt/spark-3.1.2-bin-hadoop3.2/python/pyspark/sql/session.py\u001b[0m in \u001b[0;36msql\u001b[0;34m(self, sqlQuery)\u001b[0m\n\u001b[1;32m    721\u001b[0m         \u001b[0;34m[\u001b[0m\u001b[0mRow\u001b[0m\u001b[0;34m(\u001b[0m\u001b[0mf1\u001b[0m\u001b[0;34m=\u001b[0m\u001b[0;36m1\u001b[0m\u001b[0;34m,\u001b[0m \u001b[0mf2\u001b[0m\u001b[0;34m=\u001b[0m\u001b[0;34m'row1'\u001b[0m\u001b[0;34m)\u001b[0m\u001b[0;34m,\u001b[0m \u001b[0mRow\u001b[0m\u001b[0;34m(\u001b[0m\u001b[0mf1\u001b[0m\u001b[0;34m=\u001b[0m\u001b[0;36m2\u001b[0m\u001b[0;34m,\u001b[0m \u001b[0mf2\u001b[0m\u001b[0;34m=\u001b[0m\u001b[0;34m'row2'\u001b[0m\u001b[0;34m)\u001b[0m\u001b[0;34m,\u001b[0m \u001b[0mRow\u001b[0m\u001b[0;34m(\u001b[0m\u001b[0mf1\u001b[0m\u001b[0;34m=\u001b[0m\u001b[0;36m3\u001b[0m\u001b[0;34m,\u001b[0m \u001b[0mf2\u001b[0m\u001b[0;34m=\u001b[0m\u001b[0;34m'row3'\u001b[0m\u001b[0;34m)\u001b[0m\u001b[0;34m]\u001b[0m\u001b[0;34m\u001b[0m\u001b[0;34m\u001b[0m\u001b[0m\n\u001b[1;32m    722\u001b[0m         \"\"\"\n\u001b[0;32m--> 723\u001b[0;31m         \u001b[0;32mreturn\u001b[0m \u001b[0mDataFrame\u001b[0m\u001b[0;34m(\u001b[0m\u001b[0mself\u001b[0m\u001b[0;34m.\u001b[0m\u001b[0m_jsparkSession\u001b[0m\u001b[0;34m.\u001b[0m\u001b[0msql\u001b[0m\u001b[0;34m(\u001b[0m\u001b[0msqlQuery\u001b[0m\u001b[0;34m)\u001b[0m\u001b[0;34m,\u001b[0m \u001b[0mself\u001b[0m\u001b[0;34m.\u001b[0m\u001b[0m_wrapped\u001b[0m\u001b[0;34m)\u001b[0m\u001b[0;34m\u001b[0m\u001b[0;34m\u001b[0m\u001b[0m\n\u001b[0m\u001b[1;32m    724\u001b[0m \u001b[0;34m\u001b[0m\u001b[0m\n\u001b[1;32m    725\u001b[0m     \u001b[0;32mdef\u001b[0m \u001b[0mtable\u001b[0m\u001b[0;34m(\u001b[0m\u001b[0mself\u001b[0m\u001b[0;34m,\u001b[0m \u001b[0mtableName\u001b[0m\u001b[0;34m)\u001b[0m\u001b[0;34m:\u001b[0m\u001b[0;34m\u001b[0m\u001b[0;34m\u001b[0m\u001b[0m\n",
      "\u001b[0;32m/opt/spark-3.1.2-bin-hadoop3.2/python/lib/py4j-0.10.9-src.zip/py4j/java_gateway.py\u001b[0m in \u001b[0;36m__call__\u001b[0;34m(self, *args)\u001b[0m\n\u001b[1;32m   1303\u001b[0m         \u001b[0manswer\u001b[0m \u001b[0;34m=\u001b[0m \u001b[0mself\u001b[0m\u001b[0;34m.\u001b[0m\u001b[0mgateway_client\u001b[0m\u001b[0;34m.\u001b[0m\u001b[0msend_command\u001b[0m\u001b[0;34m(\u001b[0m\u001b[0mcommand\u001b[0m\u001b[0;34m)\u001b[0m\u001b[0;34m\u001b[0m\u001b[0;34m\u001b[0m\u001b[0m\n\u001b[1;32m   1304\u001b[0m         return_value = get_return_value(\n\u001b[0;32m-> 1305\u001b[0;31m             answer, self.gateway_client, self.target_id, self.name)\n\u001b[0m\u001b[1;32m   1306\u001b[0m \u001b[0;34m\u001b[0m\u001b[0m\n\u001b[1;32m   1307\u001b[0m         \u001b[0;32mfor\u001b[0m \u001b[0mtemp_arg\u001b[0m \u001b[0;32min\u001b[0m \u001b[0mtemp_args\u001b[0m\u001b[0;34m:\u001b[0m\u001b[0;34m\u001b[0m\u001b[0;34m\u001b[0m\u001b[0m\n",
      "\u001b[0;32m/opt/spark-3.1.2-bin-hadoop3.2/python/pyspark/sql/utils.py\u001b[0m in \u001b[0;36mdeco\u001b[0;34m(*a, **kw)\u001b[0m\n\u001b[1;32m    111\u001b[0m             \u001b[0;32mreturn\u001b[0m \u001b[0mf\u001b[0m\u001b[0;34m(\u001b[0m\u001b[0;34m*\u001b[0m\u001b[0ma\u001b[0m\u001b[0;34m,\u001b[0m \u001b[0;34m**\u001b[0m\u001b[0mkw\u001b[0m\u001b[0;34m)\u001b[0m\u001b[0;34m\u001b[0m\u001b[0;34m\u001b[0m\u001b[0m\n\u001b[1;32m    112\u001b[0m         \u001b[0;32mexcept\u001b[0m \u001b[0mpy4j\u001b[0m\u001b[0;34m.\u001b[0m\u001b[0mprotocol\u001b[0m\u001b[0;34m.\u001b[0m\u001b[0mPy4JJavaError\u001b[0m \u001b[0;32mas\u001b[0m \u001b[0me\u001b[0m\u001b[0;34m:\u001b[0m\u001b[0;34m\u001b[0m\u001b[0;34m\u001b[0m\u001b[0m\n\u001b[0;32m--> 113\u001b[0;31m             \u001b[0mconverted\u001b[0m \u001b[0;34m=\u001b[0m \u001b[0mconvert_exception\u001b[0m\u001b[0;34m(\u001b[0m\u001b[0me\u001b[0m\u001b[0;34m.\u001b[0m\u001b[0mjava_exception\u001b[0m\u001b[0;34m)\u001b[0m\u001b[0;34m\u001b[0m\u001b[0;34m\u001b[0m\u001b[0m\n\u001b[0m\u001b[1;32m    114\u001b[0m             \u001b[0;32mif\u001b[0m \u001b[0;32mnot\u001b[0m \u001b[0misinstance\u001b[0m\u001b[0;34m(\u001b[0m\u001b[0mconverted\u001b[0m\u001b[0;34m,\u001b[0m \u001b[0mUnknownException\u001b[0m\u001b[0;34m)\u001b[0m\u001b[0;34m:\u001b[0m\u001b[0;34m\u001b[0m\u001b[0;34m\u001b[0m\u001b[0m\n\u001b[1;32m    115\u001b[0m                 \u001b[0;31m# Hide where the exception came from that shows a non-Pythonic\u001b[0m\u001b[0;34m\u001b[0m\u001b[0;34m\u001b[0m\u001b[0;34m\u001b[0m\u001b[0m\n",
      "\u001b[0;32m/opt/spark-3.1.2-bin-hadoop3.2/python/pyspark/sql/utils.py\u001b[0m in \u001b[0;36mconvert_exception\u001b[0;34m(e)\u001b[0m\n\u001b[1;32m     84\u001b[0m \u001b[0;34m\u001b[0m\u001b[0m\n\u001b[1;32m     85\u001b[0m     \u001b[0;32mif\u001b[0m \u001b[0ms\u001b[0m\u001b[0;34m.\u001b[0m\u001b[0mstartswith\u001b[0m\u001b[0;34m(\u001b[0m\u001b[0;34m'org.apache.spark.sql.AnalysisException: '\u001b[0m\u001b[0;34m)\u001b[0m\u001b[0;34m:\u001b[0m\u001b[0;34m\u001b[0m\u001b[0;34m\u001b[0m\u001b[0m\n\u001b[0;32m---> 86\u001b[0;31m         \u001b[0;32mreturn\u001b[0m \u001b[0mAnalysisException\u001b[0m\u001b[0;34m(\u001b[0m\u001b[0ms\u001b[0m\u001b[0;34m.\u001b[0m\u001b[0msplit\u001b[0m\u001b[0;34m(\u001b[0m\u001b[0;34m': '\u001b[0m\u001b[0;34m,\u001b[0m \u001b[0;36m1\u001b[0m\u001b[0;34m)\u001b[0m\u001b[0;34m[\u001b[0m\u001b[0;36m1\u001b[0m\u001b[0;34m]\u001b[0m\u001b[0;34m,\u001b[0m \u001b[0mstacktrace\u001b[0m\u001b[0;34m,\u001b[0m \u001b[0mc\u001b[0m\u001b[0;34m)\u001b[0m\u001b[0;34m\u001b[0m\u001b[0;34m\u001b[0m\u001b[0m\n\u001b[0m\u001b[1;32m     87\u001b[0m     \u001b[0;32mif\u001b[0m \u001b[0ms\u001b[0m\u001b[0;34m.\u001b[0m\u001b[0mstartswith\u001b[0m\u001b[0;34m(\u001b[0m\u001b[0;34m'org.apache.spark.sql.catalyst.analysis'\u001b[0m\u001b[0;34m)\u001b[0m\u001b[0;34m:\u001b[0m\u001b[0;34m\u001b[0m\u001b[0;34m\u001b[0m\u001b[0m\n\u001b[1;32m     88\u001b[0m         \u001b[0;32mreturn\u001b[0m \u001b[0mAnalysisException\u001b[0m\u001b[0;34m(\u001b[0m\u001b[0ms\u001b[0m\u001b[0;34m.\u001b[0m\u001b[0msplit\u001b[0m\u001b[0;34m(\u001b[0m\u001b[0;34m': '\u001b[0m\u001b[0;34m,\u001b[0m \u001b[0;36m1\u001b[0m\u001b[0;34m)\u001b[0m\u001b[0;34m[\u001b[0m\u001b[0;36m1\u001b[0m\u001b[0;34m]\u001b[0m\u001b[0;34m,\u001b[0m \u001b[0mstacktrace\u001b[0m\u001b[0;34m,\u001b[0m \u001b[0mc\u001b[0m\u001b[0;34m)\u001b[0m\u001b[0;34m\u001b[0m\u001b[0;34m\u001b[0m\u001b[0m\n",
      "\u001b[0;32m/opt/spark-3.1.2-bin-hadoop3.2/python/pyspark/sql/utils.py\u001b[0m in \u001b[0;36m__init__\u001b[0;34m(self, desc, stackTrace, cause)\u001b[0m\n\u001b[1;32m     25\u001b[0m         \u001b[0mself\u001b[0m\u001b[0;34m.\u001b[0m\u001b[0mdesc\u001b[0m \u001b[0;34m=\u001b[0m \u001b[0mdesc\u001b[0m\u001b[0;34m\u001b[0m\u001b[0;34m\u001b[0m\u001b[0m\n\u001b[1;32m     26\u001b[0m         \u001b[0mself\u001b[0m\u001b[0;34m.\u001b[0m\u001b[0mstackTrace\u001b[0m \u001b[0;34m=\u001b[0m \u001b[0mstackTrace\u001b[0m\u001b[0;34m\u001b[0m\u001b[0;34m\u001b[0m\u001b[0m\n\u001b[0;32m---> 27\u001b[0;31m         \u001b[0mself\u001b[0m\u001b[0;34m.\u001b[0m\u001b[0mcause\u001b[0m \u001b[0;34m=\u001b[0m \u001b[0mconvert_exception\u001b[0m\u001b[0;34m(\u001b[0m\u001b[0mcause\u001b[0m\u001b[0;34m)\u001b[0m \u001b[0;32mif\u001b[0m \u001b[0mcause\u001b[0m \u001b[0;32mis\u001b[0m \u001b[0;32mnot\u001b[0m \u001b[0;32mNone\u001b[0m \u001b[0;32melse\u001b[0m \u001b[0;32mNone\u001b[0m\u001b[0;34m\u001b[0m\u001b[0;34m\u001b[0m\u001b[0m\n\u001b[0m\u001b[1;32m     28\u001b[0m \u001b[0;34m\u001b[0m\u001b[0m\n\u001b[1;32m     29\u001b[0m     \u001b[0;32mdef\u001b[0m \u001b[0m__str__\u001b[0m\u001b[0;34m(\u001b[0m\u001b[0mself\u001b[0m\u001b[0;34m)\u001b[0m\u001b[0;34m:\u001b[0m\u001b[0;34m\u001b[0m\u001b[0;34m\u001b[0m\u001b[0m\n",
      "\u001b[0;32m/opt/spark-3.1.2-bin-hadoop3.2/python/pyspark/sql/utils.py\u001b[0m in \u001b[0;36mconvert_exception\u001b[0;34m(e)\u001b[0m\n\u001b[1;32m     79\u001b[0m \u001b[0;34m\u001b[0m\u001b[0m\n\u001b[1;32m     80\u001b[0m \u001b[0;32mdef\u001b[0m \u001b[0mconvert_exception\u001b[0m\u001b[0;34m(\u001b[0m\u001b[0me\u001b[0m\u001b[0;34m)\u001b[0m\u001b[0;34m:\u001b[0m\u001b[0;34m\u001b[0m\u001b[0;34m\u001b[0m\u001b[0m\n\u001b[0;32m---> 81\u001b[0;31m     \u001b[0ms\u001b[0m \u001b[0;34m=\u001b[0m \u001b[0me\u001b[0m\u001b[0;34m.\u001b[0m\u001b[0mtoString\u001b[0m\u001b[0;34m(\u001b[0m\u001b[0;34m)\u001b[0m\u001b[0;34m\u001b[0m\u001b[0;34m\u001b[0m\u001b[0m\n\u001b[0m\u001b[1;32m     82\u001b[0m     \u001b[0mc\u001b[0m \u001b[0;34m=\u001b[0m \u001b[0me\u001b[0m\u001b[0;34m.\u001b[0m\u001b[0mgetCause\u001b[0m\u001b[0;34m(\u001b[0m\u001b[0;34m)\u001b[0m\u001b[0;34m\u001b[0m\u001b[0;34m\u001b[0m\u001b[0m\n\u001b[1;32m     83\u001b[0m     \u001b[0mstacktrace\u001b[0m \u001b[0;34m=\u001b[0m \u001b[0mSparkContext\u001b[0m\u001b[0;34m.\u001b[0m\u001b[0m_jvm\u001b[0m\u001b[0;34m.\u001b[0m\u001b[0morg\u001b[0m\u001b[0;34m.\u001b[0m\u001b[0mapache\u001b[0m\u001b[0;34m.\u001b[0m\u001b[0mspark\u001b[0m\u001b[0;34m.\u001b[0m\u001b[0mutil\u001b[0m\u001b[0;34m.\u001b[0m\u001b[0mUtils\u001b[0m\u001b[0;34m.\u001b[0m\u001b[0mexceptionString\u001b[0m\u001b[0;34m(\u001b[0m\u001b[0me\u001b[0m\u001b[0;34m)\u001b[0m\u001b[0;34m\u001b[0m\u001b[0;34m\u001b[0m\u001b[0m\n",
      "\u001b[0;32m/opt/spark-3.1.2-bin-hadoop3.2/python/lib/py4j-0.10.9-src.zip/py4j/java_gateway.py\u001b[0m in \u001b[0;36m__call__\u001b[0;34m(self, *args)\u001b[0m\n\u001b[1;32m   1303\u001b[0m         \u001b[0manswer\u001b[0m \u001b[0;34m=\u001b[0m \u001b[0mself\u001b[0m\u001b[0;34m.\u001b[0m\u001b[0mgateway_client\u001b[0m\u001b[0;34m.\u001b[0m\u001b[0msend_command\u001b[0m\u001b[0;34m(\u001b[0m\u001b[0mcommand\u001b[0m\u001b[0;34m)\u001b[0m\u001b[0;34m\u001b[0m\u001b[0;34m\u001b[0m\u001b[0m\n\u001b[1;32m   1304\u001b[0m         return_value = get_return_value(\n\u001b[0;32m-> 1305\u001b[0;31m             answer, self.gateway_client, self.target_id, self.name)\n\u001b[0m\u001b[1;32m   1306\u001b[0m \u001b[0;34m\u001b[0m\u001b[0m\n\u001b[1;32m   1307\u001b[0m         \u001b[0;32mfor\u001b[0m \u001b[0mtemp_arg\u001b[0m \u001b[0;32min\u001b[0m \u001b[0mtemp_args\u001b[0m\u001b[0;34m:\u001b[0m\u001b[0;34m\u001b[0m\u001b[0;34m\u001b[0m\u001b[0m\n",
      "\u001b[0;32m/opt/spark-3.1.2-bin-hadoop3.2/python/pyspark/sql/utils.py\u001b[0m in \u001b[0;36mdeco\u001b[0;34m(*a, **kw)\u001b[0m\n\u001b[1;32m    109\u001b[0m     \u001b[0;32mdef\u001b[0m \u001b[0mdeco\u001b[0m\u001b[0;34m(\u001b[0m\u001b[0;34m*\u001b[0m\u001b[0ma\u001b[0m\u001b[0;34m,\u001b[0m \u001b[0;34m**\u001b[0m\u001b[0mkw\u001b[0m\u001b[0;34m)\u001b[0m\u001b[0;34m:\u001b[0m\u001b[0;34m\u001b[0m\u001b[0;34m\u001b[0m\u001b[0m\n\u001b[1;32m    110\u001b[0m         \u001b[0;32mtry\u001b[0m\u001b[0;34m:\u001b[0m\u001b[0;34m\u001b[0m\u001b[0;34m\u001b[0m\u001b[0m\n\u001b[0;32m--> 111\u001b[0;31m             \u001b[0;32mreturn\u001b[0m \u001b[0mf\u001b[0m\u001b[0;34m(\u001b[0m\u001b[0;34m*\u001b[0m\u001b[0ma\u001b[0m\u001b[0;34m,\u001b[0m \u001b[0;34m**\u001b[0m\u001b[0mkw\u001b[0m\u001b[0;34m)\u001b[0m\u001b[0;34m\u001b[0m\u001b[0;34m\u001b[0m\u001b[0m\n\u001b[0m\u001b[1;32m    112\u001b[0m         \u001b[0;32mexcept\u001b[0m \u001b[0mpy4j\u001b[0m\u001b[0;34m.\u001b[0m\u001b[0mprotocol\u001b[0m\u001b[0;34m.\u001b[0m\u001b[0mPy4JJavaError\u001b[0m \u001b[0;32mas\u001b[0m \u001b[0me\u001b[0m\u001b[0;34m:\u001b[0m\u001b[0;34m\u001b[0m\u001b[0;34m\u001b[0m\u001b[0m\n\u001b[1;32m    113\u001b[0m             \u001b[0mconverted\u001b[0m \u001b[0;34m=\u001b[0m \u001b[0mconvert_exception\u001b[0m\u001b[0;34m(\u001b[0m\u001b[0me\u001b[0m\u001b[0;34m.\u001b[0m\u001b[0mjava_exception\u001b[0m\u001b[0;34m)\u001b[0m\u001b[0;34m\u001b[0m\u001b[0;34m\u001b[0m\u001b[0m\n",
      "\u001b[0;32m/opt/spark-3.1.2-bin-hadoop3.2/python/lib/py4j-0.10.9-src.zip/py4j/protocol.py\u001b[0m in \u001b[0;36mget_return_value\u001b[0;34m(answer, gateway_client, target_id, name)\u001b[0m\n\u001b[1;32m    330\u001b[0m                 raise Py4JError(\n\u001b[1;32m    331\u001b[0m                     \u001b[0;34m\"An error occurred while calling {0}{1}{2}. Trace:\\n{3}\\n\"\u001b[0m\u001b[0;34m.\u001b[0m\u001b[0;34m\u001b[0m\u001b[0;34m\u001b[0m\u001b[0m\n\u001b[0;32m--> 332\u001b[0;31m                     format(target_id, \".\", name, value))\n\u001b[0m\u001b[1;32m    333\u001b[0m         \u001b[0;32melse\u001b[0m\u001b[0;34m:\u001b[0m\u001b[0;34m\u001b[0m\u001b[0;34m\u001b[0m\u001b[0m\n\u001b[1;32m    334\u001b[0m             raise Py4JError(\n",
      "\u001b[0;31mPy4JError\u001b[0m: An error occurred while calling o825.toString. Trace:\njava.lang.IllegalArgumentException: object is not an instance of declaring class\n\tat sun.reflect.NativeMethodAccessorImpl.invoke0(Native Method)\n\tat sun.reflect.NativeMethodAccessorImpl.invoke(NativeMethodAccessorImpl.java:62)\n\tat sun.reflect.DelegatingMethodAccessorImpl.invoke(DelegatingMethodAccessorImpl.java:43)\n\tat java.lang.reflect.Method.invoke(Method.java:498)\n\tat py4j.reflection.MethodInvoker.invoke(MethodInvoker.java:244)\n\tat py4j.reflection.ReflectionEngine.invoke(ReflectionEngine.java:357)\n\tat py4j.Gateway.invoke(Gateway.java:282)\n\tat py4j.commands.AbstractCommand.invokeMethod(AbstractCommand.java:132)\n\tat py4j.commands.CallCommand.execute(CallCommand.java:79)\n\tat py4j.GatewayConnection.run(GatewayConnection.java:238)\n\tat java.lang.Thread.run(Thread.java:750)\n\n"
     ]
    }
   ],
   "source": [
    "spark.sql(\"create database itv_012667_lending_club\")"
   ]
  },
  {
   "cell_type": "code",
   "execution_count": 47,
   "id": "d7e2a9b5",
   "metadata": {},
   "outputs": [
    {
     "data": {
      "text/html": [
       "<table border='1'>\n",
       "<tr><th></th></tr>\n",
       "</table>\n"
      ],
      "text/plain": [
       "++\n",
       "||\n",
       "++\n",
       "++"
      ]
     },
     "execution_count": 47,
     "metadata": {},
     "output_type": "execute_result"
    }
   ],
   "source": [
    "spark.sql(\"use itv_012667_lending_club\")"
   ]
  },
  {
   "cell_type": "code",
   "execution_count": 48,
   "id": "1b5d5746",
   "metadata": {},
   "outputs": [
    {
     "data": {
      "text/html": [
       "<table border='1'>\n",
       "<tr><th>database</th><th>tableName</th><th>isTemporary</th></tr>\n",
       "</table>\n"
      ],
      "text/plain": [
       "+--------+---------+-----------+\n",
       "|database|tableName|isTemporary|\n",
       "+--------+---------+-----------+\n",
       "+--------+---------+-----------+"
      ]
     },
     "execution_count": 48,
     "metadata": {},
     "output_type": "execute_result"
    }
   ],
   "source": [
    "spark.sql(\"show tables\")"
   ]
  },
  {
   "cell_type": "code",
   "execution_count": 51,
   "id": "c97cc418",
   "metadata": {},
   "outputs": [
    {
     "data": {
      "text/html": [
       "<table border='1'>\n",
       "<tr><th></th></tr>\n",
       "</table>\n"
      ],
      "text/plain": [
       "++\n",
       "||\n",
       "++\n",
       "++"
      ]
     },
     "execution_count": 51,
     "metadata": {},
     "output_type": "execute_result"
    }
   ],
   "source": [
    "spark.sql(\"\"\"create external table itv_012667_lending_club.customer_data(\n",
    "          member_id string,emp_title string,emp_length int,home_ownership string,annual_income float,address_state string,address_zipcode string,address_country string,grade string,sub_grade string,verification_status string,total_high_credit_limit float, application_type string,joint_annual_income float,verification_status_joint string,ingest_date timestamp)stored as parquet\n",
    "         location '/user/itv012667/lendingclub/cleaneddata/customers_data'\n",
    "         \"\"\")"
   ]
  },
  {
   "cell_type": "code",
   "execution_count": 52,
   "id": "4a5d2061",
   "metadata": {},
   "outputs": [
    {
     "data": {
      "text/html": [
       "<table border='1'>\n",
       "<tr><th></th></tr>\n",
       "</table>\n"
      ],
      "text/plain": [
       "++\n",
       "||\n",
       "++\n",
       "++"
      ]
     },
     "execution_count": 52,
     "metadata": {},
     "output_type": "execute_result"
    }
   ],
   "source": [
    "spark.sql(\"use itv_012667_lending_club \")"
   ]
  },
  {
   "cell_type": "code",
   "execution_count": 53,
   "id": "42e01211",
   "metadata": {},
   "outputs": [
    {
     "data": {
      "text/html": [
       "<table border='1'>\n",
       "<tr><th>member_id</th><th>emp_title</th><th>emp_length</th><th>home_ownership</th><th>annual_income</th><th>address_state</th><th>address_zipcode</th><th>address_country</th><th>grade</th><th>sub_grade</th><th>verification_status</th><th>total_high_credit_limit</th><th>application_type</th><th>joint_annual_income</th><th>verification_status_joint</th><th>ingest_date</th></tr>\n",
       "<tr><td>fcdc404604423e734...</td><td>EMT Advanced</td><td>7</td><td>MORTGAGE</td><td>29000.0</td><td>TN</td><td>385xx</td><td>USA</td><td>E</td><td>E2</td><td>Verified</td><td>91990.0</td><td>Individual</td><td>null</td><td>null</td><td>null</td></tr>\n",
       "<tr><td>0e88d51358e679291...</td><td>Quality &amp; Safety ...</td><td>2</td><td>MORTGAGE</td><td>40000.0</td><td>KY</td><td>402xx</td><td>USA</td><td>D</td><td>D4</td><td>Source Verified</td><td>181904.0</td><td>Individual</td><td>null</td><td>null</td><td>null</td></tr>\n",
       "<tr><td>adb27d4c73bcaf732...</td><td>FINANCIAL SALES C...</td><td>2</td><td>MORTGAGE</td><td>30000.0</td><td>PA</td><td>191xx</td><td>USA</td><td>B</td><td>B1</td><td>Not Verified</td><td>44006.0</td><td>Individual</td><td>null</td><td>null</td><td>null</td></tr>\n",
       "<tr><td>a4567bba097c4485d...</td><td>master</td><td>9</td><td>OWN</td><td>144000.0</td><td>NJ</td><td>080xx</td><td>USA</td><td>B</td><td>B3</td><td>Source Verified</td><td>255085.0</td><td>Individual</td><td>null</td><td>null</td><td>null</td></tr>\n",
       "<tr><td>df67c7c441b8d70e3...</td><td>Administrative Asst.</td><td>1</td><td>MORTGAGE</td><td>30000.0</td><td>AL</td><td>361xx</td><td>USA</td><td>D</td><td>D2</td><td>Not Verified</td><td>117135.0</td><td>Individual</td><td>null</td><td>null</td><td>null</td></tr>\n",
       "<tr><td>178d7b53561f545a4...</td><td>Attorney/Owner</td><td>10</td><td>MORTGAGE</td><td>89000.0</td><td>CA</td><td>956xx</td><td>USA</td><td>A</td><td>A3</td><td>Not Verified</td><td>42127.0</td><td>Individual</td><td>null</td><td>null</td><td>null</td></tr>\n",
       "<tr><td>949c5eadd6a4da2b1...</td><td>Office Administrtor</td><td>1</td><td>RENT</td><td>34800.0</td><td>TX</td><td>769xx</td><td>USA</td><td>C</td><td>C2</td><td>Source Verified</td><td>7500.0</td><td>Individual</td><td>null</td><td>null</td><td>null</td></tr>\n",
       "<tr><td>0344cf97bfbff94a0...</td><td>AP LTL Analyst</td><td>1</td><td>RENT</td><td>43000.0</td><td>IL</td><td>606xx</td><td>USA</td><td>C</td><td>C1</td><td>Not Verified</td><td>53998.0</td><td>Individual</td><td>null</td><td>null</td><td>null</td></tr>\n",
       "<tr><td>180b6d49f60388c61...</td><td>General Operation...</td><td>1</td><td>RENT</td><td>125000.0</td><td>NC</td><td>275xx</td><td>USA</td><td>D</td><td>D1</td><td>Not Verified</td><td>99420.0</td><td>Individual</td><td>null</td><td>null</td><td>null</td></tr>\n",
       "<tr><td>b2cce432698a22e8a...</td><td>Deputy Clerk</td><td>10</td><td>MORTGAGE</td><td>49330.0</td><td>OH</td><td>440xx</td><td>USA</td><td>C</td><td>C5</td><td>Verified</td><td>137311.0</td><td>Individual</td><td>null</td><td>null</td><td>null</td></tr>\n",
       "<tr><td>993895771dff1d159...</td><td>null</td><td>6</td><td>RENT</td><td>30000.0</td><td>WA</td><td>985xx</td><td>USA</td><td>D</td><td>D2</td><td>Verified</td><td>45720.0</td><td>Individual</td><td>null</td><td>null</td><td>null</td></tr>\n",
       "<tr><td>729001b59eef47e89...</td><td>foreman</td><td>10</td><td>MORTGAGE</td><td>75000.0</td><td>VA</td><td>230xx</td><td>USA</td><td>B</td><td>B3</td><td>Source Verified</td><td>41573.0</td><td>Individual</td><td>null</td><td>null</td><td>null</td></tr>\n",
       "<tr><td>bb3759a8ceb5b5090...</td><td>Manager</td><td>5</td><td>MORTGAGE</td><td>65000.0</td><td>NY</td><td>120xx</td><td>USA</td><td>A</td><td>A1</td><td>Not Verified</td><td>89926.0</td><td>Individual</td><td>null</td><td>null</td><td>null</td></tr>\n",
       "<tr><td>a956f2b469514cbfe...</td><td>Branch Underwriti...</td><td>10</td><td>MORTGAGE</td><td>140000.0</td><td>NM</td><td>871xx</td><td>USA</td><td>B</td><td>B1</td><td>Source Verified</td><td>237706.0</td><td>Individual</td><td>null</td><td>null</td><td>null</td></tr>\n",
       "<tr><td>c3911fc5c77a67bd3...</td><td>Senior Pastor</td><td>3</td><td>MORTGAGE</td><td>55000.0</td><td>PA</td><td>176xx</td><td>USA</td><td>A</td><td>A4</td><td>Verified</td><td>232000.0</td><td>Individual</td><td>null</td><td>null</td><td>null</td></tr>\n",
       "<tr><td>c51575a45ee844f89...</td><td>Medical Assistant</td><td>3</td><td>MORTGAGE</td><td>29000.0</td><td>MI</td><td>494xx</td><td>USA</td><td>C</td><td>C5</td><td>Source Verified</td><td>140404.0</td><td>Individual</td><td>null</td><td>null</td><td>null</td></tr>\n",
       "<tr><td>ca55068edef2736e0...</td><td>Teacher</td><td>6</td><td>MORTGAGE</td><td>50492.0</td><td>AL</td><td>359xx</td><td>USA</td><td>C</td><td>C3</td><td>Verified</td><td>109784.0</td><td>Individual</td><td>null</td><td>null</td><td>null</td></tr>\n",
       "<tr><td>9756cbb2472af3023...</td><td>Supervisor</td><td>10</td><td>MORTGAGE</td><td>75000.0</td><td>TX</td><td>760xx</td><td>USA</td><td>C</td><td>C1</td><td>Not Verified</td><td>250875.0</td><td>Individual</td><td>null</td><td>null</td><td>null</td></tr>\n",
       "<tr><td>c76b3e08d3a66225b...</td><td>Assistant Principal</td><td>8</td><td>MORTGAGE</td><td>150000.0</td><td>NJ</td><td>070xx</td><td>USA</td><td>C</td><td>C2</td><td>Not Verified</td><td>554478.0</td><td>Individual</td><td>null</td><td>null</td><td>null</td></tr>\n",
       "<tr><td>9f299eb7f049e6e16...</td><td>Manager of Photog...</td><td>2</td><td>RENT</td><td>86000.0</td><td>NY</td><td>112xx</td><td>USA</td><td>F</td><td>F1</td><td>Source Verified</td><td>117100.0</td><td>Individual</td><td>null</td><td>null</td><td>null</td></tr>\n",
       "</table>\n",
       "only showing top 20 rows\n"
      ],
      "text/plain": [
       "+--------------------+--------------------+----------+--------------+-------------+-------------+---------------+---------------+-----+---------+-------------------+-----------------------+----------------+-------------------+-------------------------+-----------+\n",
       "|           member_id|           emp_title|emp_length|home_ownership|annual_income|address_state|address_zipcode|address_country|grade|sub_grade|verification_status|total_high_credit_limit|application_type|joint_annual_income|verification_status_joint|ingest_date|\n",
       "+--------------------+--------------------+----------+--------------+-------------+-------------+---------------+---------------+-----+---------+-------------------+-----------------------+----------------+-------------------+-------------------------+-----------+\n",
       "|fcdc404604423e734...|        EMT Advanced|         7|      MORTGAGE|      29000.0|           TN|          385xx|            USA|    E|       E2|           Verified|                91990.0|      Individual|               null|                     null|       null|\n",
       "|0e88d51358e679291...|Quality & Safety ...|         2|      MORTGAGE|      40000.0|           KY|          402xx|            USA|    D|       D4|    Source Verified|               181904.0|      Individual|               null|                     null|       null|\n",
       "|adb27d4c73bcaf732...|FINANCIAL SALES C...|         2|      MORTGAGE|      30000.0|           PA|          191xx|            USA|    B|       B1|       Not Verified|                44006.0|      Individual|               null|                     null|       null|\n",
       "|a4567bba097c4485d...|              master|         9|           OWN|     144000.0|           NJ|          080xx|            USA|    B|       B3|    Source Verified|               255085.0|      Individual|               null|                     null|       null|\n",
       "|df67c7c441b8d70e3...|Administrative Asst.|         1|      MORTGAGE|      30000.0|           AL|          361xx|            USA|    D|       D2|       Not Verified|               117135.0|      Individual|               null|                     null|       null|\n",
       "|178d7b53561f545a4...|      Attorney/Owner|        10|      MORTGAGE|      89000.0|           CA|          956xx|            USA|    A|       A3|       Not Verified|                42127.0|      Individual|               null|                     null|       null|\n",
       "|949c5eadd6a4da2b1...| Office Administrtor|         1|          RENT|      34800.0|           TX|          769xx|            USA|    C|       C2|    Source Verified|                 7500.0|      Individual|               null|                     null|       null|\n",
       "|0344cf97bfbff94a0...|      AP LTL Analyst|         1|          RENT|      43000.0|           IL|          606xx|            USA|    C|       C1|       Not Verified|                53998.0|      Individual|               null|                     null|       null|\n",
       "|180b6d49f60388c61...|General Operation...|         1|          RENT|     125000.0|           NC|          275xx|            USA|    D|       D1|       Not Verified|                99420.0|      Individual|               null|                     null|       null|\n",
       "|b2cce432698a22e8a...|        Deputy Clerk|        10|      MORTGAGE|      49330.0|           OH|          440xx|            USA|    C|       C5|           Verified|               137311.0|      Individual|               null|                     null|       null|\n",
       "|993895771dff1d159...|                null|         6|          RENT|      30000.0|           WA|          985xx|            USA|    D|       D2|           Verified|                45720.0|      Individual|               null|                     null|       null|\n",
       "|729001b59eef47e89...|             foreman|        10|      MORTGAGE|      75000.0|           VA|          230xx|            USA|    B|       B3|    Source Verified|                41573.0|      Individual|               null|                     null|       null|\n",
       "|bb3759a8ceb5b5090...|             Manager|         5|      MORTGAGE|      65000.0|           NY|          120xx|            USA|    A|       A1|       Not Verified|                89926.0|      Individual|               null|                     null|       null|\n",
       "|a956f2b469514cbfe...|Branch Underwriti...|        10|      MORTGAGE|     140000.0|           NM|          871xx|            USA|    B|       B1|    Source Verified|               237706.0|      Individual|               null|                     null|       null|\n",
       "|c3911fc5c77a67bd3...|       Senior Pastor|         3|      MORTGAGE|      55000.0|           PA|          176xx|            USA|    A|       A4|           Verified|               232000.0|      Individual|               null|                     null|       null|\n",
       "|c51575a45ee844f89...|   Medical Assistant|         3|      MORTGAGE|      29000.0|           MI|          494xx|            USA|    C|       C5|    Source Verified|               140404.0|      Individual|               null|                     null|       null|\n",
       "|ca55068edef2736e0...|             Teacher|         6|      MORTGAGE|      50492.0|           AL|          359xx|            USA|    C|       C3|           Verified|               109784.0|      Individual|               null|                     null|       null|\n",
       "|9756cbb2472af3023...|          Supervisor|        10|      MORTGAGE|      75000.0|           TX|          760xx|            USA|    C|       C1|       Not Verified|               250875.0|      Individual|               null|                     null|       null|\n",
       "|c76b3e08d3a66225b...| Assistant Principal|         8|      MORTGAGE|     150000.0|           NJ|          070xx|            USA|    C|       C2|       Not Verified|               554478.0|      Individual|               null|                     null|       null|\n",
       "|9f299eb7f049e6e16...|Manager of Photog...|         2|          RENT|      86000.0|           NY|          112xx|            USA|    F|       F1|    Source Verified|               117100.0|      Individual|               null|                     null|       null|\n",
       "+--------------------+--------------------+----------+--------------+-------------+-------------+---------------+---------------+-----+---------+-------------------+-----------------------+----------------+-------------------+-------------------------+-----------+\n",
       "only showing top 20 rows"
      ]
     },
     "execution_count": 53,
     "metadata": {},
     "output_type": "execute_result"
    }
   ],
   "source": [
    "spark.sql(\"select * from itv_012667_lending_club.customer_data\")"
   ]
  },
  {
   "cell_type": "markdown",
   "id": "42c7f028",
   "metadata": {},
   "source": [
    "# Create Loans Table"
   ]
  },
  {
   "cell_type": "code",
   "execution_count": 60,
   "id": "d57769a9",
   "metadata": {},
   "outputs": [],
   "source": [
    "df = spark.read.load(\"/user/itv012667/lendingclub/cleaneddata/loans_data\")"
   ]
  },
  {
   "cell_type": "code",
   "execution_count": 61,
   "id": "060a7d5d",
   "metadata": {},
   "outputs": [
    {
     "name": "stdout",
     "output_type": "stream",
     "text": [
      "root\n",
      " |-- loand_id: string (nullable = true)\n",
      " |-- member_id: string (nullable = true)\n",
      " |-- loan_amount: float (nullable = true)\n",
      " |-- funded_amount: float (nullable = true)\n",
      " |-- term: integer (nullable = true)\n",
      " |-- int_rate: float (nullable = true)\n",
      " |-- installment: float (nullable = true)\n",
      " |-- issue_d: string (nullable = true)\n",
      " |-- loan_status: string (nullable = true)\n",
      " |-- purpose: string (nullable = true)\n",
      " |-- title: string (nullable = true)\n",
      " |-- ingestTimestamp: timestamp (nullable = true)\n",
      "\n"
     ]
    }
   ],
   "source": [
    "df.printSchema()"
   ]
  },
  {
   "cell_type": "code",
   "execution_count": 62,
   "id": "c418fa0b",
   "metadata": {},
   "outputs": [
    {
     "data": {
      "text/html": [
       "<table border='1'>\n",
       "<tr><th></th></tr>\n",
       "</table>\n"
      ],
      "text/plain": [
       "++\n",
       "||\n",
       "++\n",
       "++"
      ]
     },
     "execution_count": 62,
     "metadata": {},
     "output_type": "execute_result"
    }
   ],
   "source": [
    "spark.sql(\"use itv_012667_lending_club \")"
   ]
  },
  {
   "cell_type": "code",
   "execution_count": 68,
   "id": "e8462742",
   "metadata": {},
   "outputs": [
    {
     "data": {
      "text/html": [
       "<table border='1'>\n",
       "<tr><th>database</th><th>tableName</th><th>isTemporary</th></tr>\n",
       "<tr><td>itv_012667_lendin...</td><td>customer_data</td><td>false</td></tr>\n",
       "</table>\n"
      ],
      "text/plain": [
       "+--------------------+-------------+-----------+\n",
       "|            database|    tableName|isTemporary|\n",
       "+--------------------+-------------+-----------+\n",
       "|itv_012667_lendin...|customer_data|      false|\n",
       "+--------------------+-------------+-----------+"
      ]
     },
     "execution_count": 68,
     "metadata": {},
     "output_type": "execute_result"
    }
   ],
   "source": [
    "spark.sql(\"show tables\")"
   ]
  },
  {
   "cell_type": "code",
   "execution_count": 69,
   "id": "92fa2c14",
   "metadata": {},
   "outputs": [
    {
     "data": {
      "text/html": [
       "<table border='1'>\n",
       "<tr><th></th></tr>\n",
       "</table>\n"
      ],
      "text/plain": [
       "++\n",
       "||\n",
       "++\n",
       "++"
      ]
     },
     "execution_count": 69,
     "metadata": {},
     "output_type": "execute_result"
    }
   ],
   "source": [
    "spark.sql(\"\"\"\n",
    "create external table itv_012667_lending_club.loans(\n",
    "loand_id string,member_id string,loan_amount float,funded_amount float,term integer, int_rate float,installment float, issue_d string, loan_status string,purpose string,title string,ingestTimestamp timestamp\n",
    ")\n",
    "stored as parquet\n",
    "location '/user/itv012667/lendingclub/cleaneddata/loans_data'\n",
    "\"\"\")"
   ]
  },
  {
   "cell_type": "code",
   "execution_count": 70,
   "id": "cd919980",
   "metadata": {},
   "outputs": [
    {
     "data": {
      "text/html": [
       "<table border='1'>\n",
       "<tr><th>loand_id</th><th>member_id</th><th>loan_amount</th><th>funded_amount</th><th>term</th><th>int_rate</th><th>installment</th><th>issue_d</th><th>loan_status</th><th>purpose</th><th>title</th><th>ingestTimestamp</th></tr>\n",
       "<tr><td>56633077</td><td>b59d80da191f5b573...</td><td>3000.0</td><td>3000.0</td><td>3</td><td>7.89</td><td>93.86</td><td>Aug-2015</td><td>Fully Paid</td><td>credit_card</td><td>Credit card refin...</td><td>2024-05-26 20:16:...</td></tr>\n",
       "<tr><td>55927518</td><td>202d9f56ecb7c3bc9...</td><td>15600.0</td><td>15600.0</td><td>3</td><td>7.89</td><td>488.06</td><td>Aug-2015</td><td>Fully Paid</td><td>credit_card</td><td>Credit card refin...</td><td>2024-05-26 20:16:...</td></tr>\n",
       "<tr><td>56473345</td><td>e5a140c0922b554b9...</td><td>20000.0</td><td>20000.0</td><td>3</td><td>9.17</td><td>637.58</td><td>Aug-2015</td><td>Fully Paid</td><td>debt_consolidation</td><td>Debt consolidation</td><td>2024-05-26 20:16:...</td></tr>\n",
       "<tr><td>56463188</td><td>e12aefc548f750777...</td><td>11200.0</td><td>11200.0</td><td>5</td><td>21.99</td><td>309.27</td><td>Aug-2015</td><td>Fully Paid</td><td>home_improvement</td><td>Home improvement</td><td>2024-05-26 20:16:...</td></tr>\n",
       "<tr><td>56473316</td><td>1b3a50d854fbbf97e...</td><td>16000.0</td><td>16000.0</td><td>5</td><td>20.99</td><td>432.77</td><td>Aug-2015</td><td>Charged Off</td><td>debt_consolidation</td><td>Debt consolidation</td><td>2024-05-26 20:16:...</td></tr>\n",
       "<tr><td>56663266</td><td>1c4329e5f17697127...</td><td>20000.0</td><td>20000.0</td><td>5</td><td>13.33</td><td>458.45</td><td>Aug-2015</td><td>Charged Off</td><td>debt_consolidation</td><td>Debt consolidation</td><td>2024-05-26 20:16:...</td></tr>\n",
       "<tr><td>56483027</td><td>5026c86ad983175eb...</td><td>10000.0</td><td>10000.0</td><td>3</td><td>12.69</td><td>335.45</td><td>Aug-2015</td><td>Fully Paid</td><td>other</td><td>Other</td><td>2024-05-26 20:16:...</td></tr>\n",
       "<tr><td>56613385</td><td>9847d8c1e9d0b2084...</td><td>23400.0</td><td>23400.0</td><td>5</td><td>19.19</td><td>609.46</td><td>Aug-2015</td><td>Current</td><td>small_business</td><td>Business</td><td>2024-05-26 20:16:...</td></tr>\n",
       "<tr><td>56643620</td><td>8340dbe1adea41fb4...</td><td>16000.0</td><td>16000.0</td><td>3</td><td>5.32</td><td>481.84</td><td>Jul-2015</td><td>Fully Paid</td><td>debt_consolidation</td><td>Debt consolidation</td><td>2024-05-26 20:16:...</td></tr>\n",
       "<tr><td>56533114</td><td>d4de0de3ab7d79ad4...</td><td>25450.0</td><td>25450.0</td><td>3</td><td>27.31</td><td>1043.24</td><td>Aug-2015</td><td>Charged Off</td><td>debt_consolidation</td><td>Debt consolidation</td><td>2024-05-26 20:16:...</td></tr>\n",
       "<tr><td>56984127</td><td>3df3cdeddb74a8712...</td><td>24000.0</td><td>24000.0</td><td>3</td><td>7.89</td><td>750.86</td><td>Aug-2015</td><td>Fully Paid</td><td>debt_consolidation</td><td>Debt consolidation</td><td>2024-05-26 20:16:...</td></tr>\n",
       "<tr><td>56131038</td><td>9dd72636b1b4045b4...</td><td>12000.0</td><td>12000.0</td><td>5</td><td>15.61</td><td>289.34</td><td>Aug-2015</td><td>Current</td><td>credit_card</td><td>Credit card refin...</td><td>2024-05-26 20:16:...</td></tr>\n",
       "<tr><td>56452581</td><td>1d4e1ef4353b73c00...</td><td>25000.0</td><td>25000.0</td><td>3</td><td>13.33</td><td>846.33</td><td>Jul-2015</td><td>Fully Paid</td><td>home_improvement</td><td>Home improvement</td><td>2024-05-26 20:16:...</td></tr>\n",
       "<tr><td>56685321</td><td>6f196952e71277fd4...</td><td>35000.0</td><td>35000.0</td><td>5</td><td>18.55</td><td>899.28</td><td>Aug-2015</td><td>Charged Off</td><td>small_business</td><td>Business</td><td>2024-05-26 20:16:...</td></tr>\n",
       "<tr><td>56563360</td><td>9c617cbc6e3e3d6a1...</td><td>25000.0</td><td>25000.0</td><td>5</td><td>21.99</td><td>690.34</td><td>Aug-2015</td><td>Current</td><td>credit_card</td><td>Credit card refin...</td><td>2024-05-26 20:16:...</td></tr>\n",
       "<tr><td>56533113</td><td>45eb04dd75400a942...</td><td>20000.0</td><td>20000.0</td><td>3</td><td>13.99</td><td>683.46</td><td>Aug-2015</td><td>Fully Paid</td><td>debt_consolidation</td><td>Debt consolidation</td><td>2024-05-26 20:16:...</td></tr>\n",
       "<tr><td>56904118</td><td>08d233c81f9e50726...</td><td>9525.0</td><td>9525.0</td><td>3</td><td>12.29</td><td>317.69</td><td>Aug-2015</td><td>Charged Off</td><td>debt_consolidation</td><td>Debt consolidation</td><td>2024-05-26 20:16:...</td></tr>\n",
       "<tr><td>56473361</td><td>8ff4d0ed17a1cab92...</td><td>4200.0</td><td>4200.0</td><td>3</td><td>15.61</td><td>146.86</td><td>Aug-2015</td><td>Fully Paid</td><td>credit_card</td><td>Credit card refin...</td><td>2024-05-26 20:16:...</td></tr>\n",
       "<tr><td>56021410</td><td>aec13cfd611b2cfea...</td><td>8625.0</td><td>8625.0</td><td>3</td><td>16.55</td><td>305.58</td><td>Aug-2015</td><td>Fully Paid</td><td>debt_consolidation</td><td>Debt consolidation</td><td>2024-05-26 20:16:...</td></tr>\n",
       "<tr><td>56473332</td><td>9ba8c96ccba6cd1f0...</td><td>19000.0</td><td>19000.0</td><td>5</td><td>17.57</td><td>478.05</td><td>Jul-2015</td><td>Current</td><td>credit_card</td><td>Credit card refin...</td><td>2024-05-26 20:16:...</td></tr>\n",
       "</table>\n",
       "only showing top 20 rows\n"
      ],
      "text/plain": [
       "+--------+--------------------+-----------+-------------+----+--------+-----------+--------+-----------+------------------+--------------------+--------------------+\n",
       "|loand_id|           member_id|loan_amount|funded_amount|term|int_rate|installment| issue_d|loan_status|           purpose|               title|     ingestTimestamp|\n",
       "+--------+--------------------+-----------+-------------+----+--------+-----------+--------+-----------+------------------+--------------------+--------------------+\n",
       "|56633077|b59d80da191f5b573...|     3000.0|       3000.0|   3|    7.89|      93.86|Aug-2015| Fully Paid|       credit_card|Credit card refin...|2024-05-26 20:16:...|\n",
       "|55927518|202d9f56ecb7c3bc9...|    15600.0|      15600.0|   3|    7.89|     488.06|Aug-2015| Fully Paid|       credit_card|Credit card refin...|2024-05-26 20:16:...|\n",
       "|56473345|e5a140c0922b554b9...|    20000.0|      20000.0|   3|    9.17|     637.58|Aug-2015| Fully Paid|debt_consolidation|  Debt consolidation|2024-05-26 20:16:...|\n",
       "|56463188|e12aefc548f750777...|    11200.0|      11200.0|   5|   21.99|     309.27|Aug-2015| Fully Paid|  home_improvement|    Home improvement|2024-05-26 20:16:...|\n",
       "|56473316|1b3a50d854fbbf97e...|    16000.0|      16000.0|   5|   20.99|     432.77|Aug-2015|Charged Off|debt_consolidation|  Debt consolidation|2024-05-26 20:16:...|\n",
       "|56663266|1c4329e5f17697127...|    20000.0|      20000.0|   5|   13.33|     458.45|Aug-2015|Charged Off|debt_consolidation|  Debt consolidation|2024-05-26 20:16:...|\n",
       "|56483027|5026c86ad983175eb...|    10000.0|      10000.0|   3|   12.69|     335.45|Aug-2015| Fully Paid|             other|               Other|2024-05-26 20:16:...|\n",
       "|56613385|9847d8c1e9d0b2084...|    23400.0|      23400.0|   5|   19.19|     609.46|Aug-2015|    Current|    small_business|            Business|2024-05-26 20:16:...|\n",
       "|56643620|8340dbe1adea41fb4...|    16000.0|      16000.0|   3|    5.32|     481.84|Jul-2015| Fully Paid|debt_consolidation|  Debt consolidation|2024-05-26 20:16:...|\n",
       "|56533114|d4de0de3ab7d79ad4...|    25450.0|      25450.0|   3|   27.31|    1043.24|Aug-2015|Charged Off|debt_consolidation|  Debt consolidation|2024-05-26 20:16:...|\n",
       "|56984127|3df3cdeddb74a8712...|    24000.0|      24000.0|   3|    7.89|     750.86|Aug-2015| Fully Paid|debt_consolidation|  Debt consolidation|2024-05-26 20:16:...|\n",
       "|56131038|9dd72636b1b4045b4...|    12000.0|      12000.0|   5|   15.61|     289.34|Aug-2015|    Current|       credit_card|Credit card refin...|2024-05-26 20:16:...|\n",
       "|56452581|1d4e1ef4353b73c00...|    25000.0|      25000.0|   3|   13.33|     846.33|Jul-2015| Fully Paid|  home_improvement|    Home improvement|2024-05-26 20:16:...|\n",
       "|56685321|6f196952e71277fd4...|    35000.0|      35000.0|   5|   18.55|     899.28|Aug-2015|Charged Off|    small_business|            Business|2024-05-26 20:16:...|\n",
       "|56563360|9c617cbc6e3e3d6a1...|    25000.0|      25000.0|   5|   21.99|     690.34|Aug-2015|    Current|       credit_card|Credit card refin...|2024-05-26 20:16:...|\n",
       "|56533113|45eb04dd75400a942...|    20000.0|      20000.0|   3|   13.99|     683.46|Aug-2015| Fully Paid|debt_consolidation|  Debt consolidation|2024-05-26 20:16:...|\n",
       "|56904118|08d233c81f9e50726...|     9525.0|       9525.0|   3|   12.29|     317.69|Aug-2015|Charged Off|debt_consolidation|  Debt consolidation|2024-05-26 20:16:...|\n",
       "|56473361|8ff4d0ed17a1cab92...|     4200.0|       4200.0|   3|   15.61|     146.86|Aug-2015| Fully Paid|       credit_card|Credit card refin...|2024-05-26 20:16:...|\n",
       "|56021410|aec13cfd611b2cfea...|     8625.0|       8625.0|   3|   16.55|     305.58|Aug-2015| Fully Paid|debt_consolidation|  Debt consolidation|2024-05-26 20:16:...|\n",
       "|56473332|9ba8c96ccba6cd1f0...|    19000.0|      19000.0|   5|   17.57|     478.05|Jul-2015|    Current|       credit_card|Credit card refin...|2024-05-26 20:16:...|\n",
       "+--------+--------------------+-----------+-------------+----+--------+-----------+--------+-----------+------------------+--------------------+--------------------+\n",
       "only showing top 20 rows"
      ]
     },
     "execution_count": 70,
     "metadata": {},
     "output_type": "execute_result"
    }
   ],
   "source": [
    "spark.sql(\"select * from loans\")"
   ]
  },
  {
   "cell_type": "markdown",
   "id": "38db33cf",
   "metadata": {},
   "source": [
    "# Loan Repayments"
   ]
  },
  {
   "cell_type": "code",
   "execution_count": 71,
   "id": "aee59f45",
   "metadata": {},
   "outputs": [],
   "source": [
    "df = spark.read.load(\"/user/itv012667/lendingclub/cleaneddata/loan_repayment\")"
   ]
  },
  {
   "cell_type": "code",
   "execution_count": 72,
   "id": "fe83d31e",
   "metadata": {},
   "outputs": [
    {
     "name": "stdout",
     "output_type": "stream",
     "text": [
      "+--------+------------------------+-----------------------+-----------------------+-------------+------------+-----------------+------------------+--------------------+\n",
      "| loan_id|total_principal_received|total_interest_received|total_late_fee_received|total_payment|last_payment|last_payment_date|next_payment_dates|         ingest_time|\n",
      "+--------+------------------------+-----------------------+-----------------------+-------------+------------+-----------------+------------------+--------------------+\n",
      "|28674390|                 7884.28|                5178.41|                    0.0|    13062.689|      482.23|         Nov-2016|              null|2024-05-27 08:10:...|\n",
      "|28563513|                  9000.0|                 955.61|                    0.0|      9955.61|     6420.29|         Nov-2015|              null|2024-05-27 08:10:...|\n",
      "|28694706|                 22125.0|                 751.39|                    0.0|     22876.39|    22073.85|         Dec-2014|              null|2024-05-27 08:10:...|\n",
      "|28722876|                 3196.23|                1259.77|                    0.0|       4456.0|      178.24|         Nov-2016|              null|2024-05-27 08:10:...|\n",
      "|28644402|                 26400.0|                 2150.7|                    0.0|      28550.7|    19292.99|         Oct-2015|              null|2024-05-27 08:10:...|\n",
      "|28553318|                 7178.95|                 2504.6|                    0.0|     9683.551|      645.57|         Jan-2016|              null|2024-05-27 08:10:...|\n",
      "|28623647|                 17000.0|                1754.39|                    0.0|     18754.39|      520.79|         Oct-2017|              null|2024-05-27 08:10:...|\n",
      "|28784250|                 15000.0|                3773.24|                    0.0|     18773.24|      953.76|         Nov-2016|              null|2024-05-27 08:10:...|\n",
      "|28704129|                 25000.0|                8858.87|                    0.0|     33858.87|    18122.31|         Nov-2016|              null|2024-05-27 08:10:...|\n",
      "|28764447|                  6850.0|                1459.59|                    0.0|      8309.59|      230.36|         Oct-2017|              null|2024-05-27 08:10:...|\n",
      "|27712114|                 28000.0|                3836.38|                    0.0|    31836.379|    26200.46|         Jul-2015|              null|2024-05-27 08:10:...|\n",
      "|28482758|                  3500.0|                 359.46|                    0.0|      3859.46|      427.14|         Jul-2017|              null|2024-05-27 08:10:...|\n",
      "|28594479|                  9600.0|                1437.29|                    0.0|     11037.29|     5862.57|         Mar-2016|              null|2024-05-27 08:10:...|\n",
      "|28724355|                 28000.0|                8154.67|                    0.0|     36154.67|    19709.15|         Nov-2016|              null|2024-05-27 08:10:...|\n",
      "|28774335|                  8500.0|                 241.65|                    0.0|      8741.65|     8191.89|         Jan-2015|              null|2024-05-27 08:10:...|\n",
      "|28654395|                18134.86|               10868.86|                    0.0|    29003.719|      547.24|         Mar-2019|          Apr-2019|2024-05-27 08:10:...|\n",
      "|28664261|                 1269.44|                 929.62|                    0.0|      2199.06|      733.02|         Jan-2015|              null|2024-05-27 08:10:...|\n",
      "|28624211|                 10000.0|                 1648.6|                    0.0|      11648.6|      386.67|         Jun-2017|              null|2024-05-27 08:10:...|\n",
      "|28683824|                 10000.0|                2146.97|                    0.0|     12146.97|      336.53|         Oct-2017|              null|2024-05-27 08:10:...|\n",
      "|28604318|                 15000.0|                2850.69|                    0.0|     17850.69|      495.59|         Oct-2017|              null|2024-05-27 08:10:...|\n",
      "+--------+------------------------+-----------------------+-----------------------+-------------+------------+-----------------+------------------+--------------------+\n",
      "only showing top 20 rows\n",
      "\n"
     ]
    }
   ],
   "source": [
    "df.show()"
   ]
  },
  {
   "cell_type": "code",
   "execution_count": 73,
   "id": "9e501595",
   "metadata": {},
   "outputs": [
    {
     "name": "stdout",
     "output_type": "stream",
     "text": [
      "root\n",
      " |-- loan_id: string (nullable = true)\n",
      " |-- total_principal_received: float (nullable = true)\n",
      " |-- total_interest_received: float (nullable = true)\n",
      " |-- total_late_fee_received: float (nullable = true)\n",
      " |-- total_payment: float (nullable = true)\n",
      " |-- last_payment: float (nullable = true)\n",
      " |-- last_payment_date: string (nullable = true)\n",
      " |-- next_payment_dates: string (nullable = true)\n",
      " |-- ingest_time: timestamp (nullable = true)\n",
      "\n"
     ]
    }
   ],
   "source": [
    "df.printSchema()"
   ]
  },
  {
   "cell_type": "code",
   "execution_count": 74,
   "id": "c7f7a04a",
   "metadata": {},
   "outputs": [
    {
     "data": {
      "text/html": [
       "<table border='1'>\n",
       "<tr><th></th></tr>\n",
       "</table>\n"
      ],
      "text/plain": [
       "++\n",
       "||\n",
       "++\n",
       "++"
      ]
     },
     "execution_count": 74,
     "metadata": {},
     "output_type": "execute_result"
    }
   ],
   "source": [
    "spark.sql(\"use itv_012667_lending_club\")"
   ]
  },
  {
   "cell_type": "code",
   "execution_count": 75,
   "id": "7da35108",
   "metadata": {},
   "outputs": [
    {
     "data": {
      "text/html": [
       "<table border='1'>\n",
       "<tr><th></th></tr>\n",
       "</table>\n"
      ],
      "text/plain": [
       "++\n",
       "||\n",
       "++\n",
       "++"
      ]
     },
     "execution_count": 75,
     "metadata": {},
     "output_type": "execute_result"
    }
   ],
   "source": [
    "spark.sql(\"\"\"create external table loan_repayments (\n",
    "loan_id string,total_principal_received float,total_late_fee_received float, total_payment float,last_payment float,last_payment_date string,next_payment_dates string,ingest_time timestamp\n",
    ")\n",
    "stored as parquet\n",
    "location '/user/itv012667/lendingclub/cleaneddata/loan_repayment'\n",
    "\"\"\")"
   ]
  },
  {
   "cell_type": "code",
   "execution_count": 76,
   "id": "70dbebce",
   "metadata": {},
   "outputs": [
    {
     "data": {
      "text/html": [
       "<table border='1'>\n",
       "<tr><th>loan_id</th><th>total_principal_received</th><th>total_late_fee_received</th><th>total_payment</th><th>last_payment</th><th>last_payment_date</th><th>next_payment_dates</th><th>ingest_time</th></tr>\n",
       "<tr><td>28674390</td><td>7884.28</td><td>0.0</td><td>13062.689</td><td>482.23</td><td>Nov-2016</td><td>null</td><td>2024-05-27 08:10:...</td></tr>\n",
       "<tr><td>28563513</td><td>9000.0</td><td>0.0</td><td>9955.61</td><td>6420.29</td><td>Nov-2015</td><td>null</td><td>2024-05-27 08:10:...</td></tr>\n",
       "<tr><td>28694706</td><td>22125.0</td><td>0.0</td><td>22876.39</td><td>22073.85</td><td>Dec-2014</td><td>null</td><td>2024-05-27 08:10:...</td></tr>\n",
       "<tr><td>28722876</td><td>3196.23</td><td>0.0</td><td>4456.0</td><td>178.24</td><td>Nov-2016</td><td>null</td><td>2024-05-27 08:10:...</td></tr>\n",
       "<tr><td>28644402</td><td>26400.0</td><td>0.0</td><td>28550.7</td><td>19292.99</td><td>Oct-2015</td><td>null</td><td>2024-05-27 08:10:...</td></tr>\n",
       "<tr><td>28553318</td><td>7178.95</td><td>0.0</td><td>9683.551</td><td>645.57</td><td>Jan-2016</td><td>null</td><td>2024-05-27 08:10:...</td></tr>\n",
       "<tr><td>28623647</td><td>17000.0</td><td>0.0</td><td>18754.39</td><td>520.79</td><td>Oct-2017</td><td>null</td><td>2024-05-27 08:10:...</td></tr>\n",
       "<tr><td>28784250</td><td>15000.0</td><td>0.0</td><td>18773.24</td><td>953.76</td><td>Nov-2016</td><td>null</td><td>2024-05-27 08:10:...</td></tr>\n",
       "<tr><td>28704129</td><td>25000.0</td><td>0.0</td><td>33858.87</td><td>18122.31</td><td>Nov-2016</td><td>null</td><td>2024-05-27 08:10:...</td></tr>\n",
       "<tr><td>28764447</td><td>6850.0</td><td>0.0</td><td>8309.59</td><td>230.36</td><td>Oct-2017</td><td>null</td><td>2024-05-27 08:10:...</td></tr>\n",
       "<tr><td>27712114</td><td>28000.0</td><td>0.0</td><td>31836.379</td><td>26200.46</td><td>Jul-2015</td><td>null</td><td>2024-05-27 08:10:...</td></tr>\n",
       "<tr><td>28482758</td><td>3500.0</td><td>0.0</td><td>3859.46</td><td>427.14</td><td>Jul-2017</td><td>null</td><td>2024-05-27 08:10:...</td></tr>\n",
       "<tr><td>28594479</td><td>9600.0</td><td>0.0</td><td>11037.29</td><td>5862.57</td><td>Mar-2016</td><td>null</td><td>2024-05-27 08:10:...</td></tr>\n",
       "<tr><td>28724355</td><td>28000.0</td><td>0.0</td><td>36154.67</td><td>19709.15</td><td>Nov-2016</td><td>null</td><td>2024-05-27 08:10:...</td></tr>\n",
       "<tr><td>28774335</td><td>8500.0</td><td>0.0</td><td>8741.65</td><td>8191.89</td><td>Jan-2015</td><td>null</td><td>2024-05-27 08:10:...</td></tr>\n",
       "<tr><td>28654395</td><td>18134.86</td><td>0.0</td><td>29003.719</td><td>547.24</td><td>Mar-2019</td><td>Apr-2019</td><td>2024-05-27 08:10:...</td></tr>\n",
       "<tr><td>28664261</td><td>1269.44</td><td>0.0</td><td>2199.06</td><td>733.02</td><td>Jan-2015</td><td>null</td><td>2024-05-27 08:10:...</td></tr>\n",
       "<tr><td>28624211</td><td>10000.0</td><td>0.0</td><td>11648.6</td><td>386.67</td><td>Jun-2017</td><td>null</td><td>2024-05-27 08:10:...</td></tr>\n",
       "<tr><td>28683824</td><td>10000.0</td><td>0.0</td><td>12146.97</td><td>336.53</td><td>Oct-2017</td><td>null</td><td>2024-05-27 08:10:...</td></tr>\n",
       "<tr><td>28604318</td><td>15000.0</td><td>0.0</td><td>17850.69</td><td>495.59</td><td>Oct-2017</td><td>null</td><td>2024-05-27 08:10:...</td></tr>\n",
       "</table>\n",
       "only showing top 20 rows\n"
      ],
      "text/plain": [
       "+--------+------------------------+-----------------------+-------------+------------+-----------------+------------------+--------------------+\n",
       "| loan_id|total_principal_received|total_late_fee_received|total_payment|last_payment|last_payment_date|next_payment_dates|         ingest_time|\n",
       "+--------+------------------------+-----------------------+-------------+------------+-----------------+------------------+--------------------+\n",
       "|28674390|                 7884.28|                    0.0|    13062.689|      482.23|         Nov-2016|              null|2024-05-27 08:10:...|\n",
       "|28563513|                  9000.0|                    0.0|      9955.61|     6420.29|         Nov-2015|              null|2024-05-27 08:10:...|\n",
       "|28694706|                 22125.0|                    0.0|     22876.39|    22073.85|         Dec-2014|              null|2024-05-27 08:10:...|\n",
       "|28722876|                 3196.23|                    0.0|       4456.0|      178.24|         Nov-2016|              null|2024-05-27 08:10:...|\n",
       "|28644402|                 26400.0|                    0.0|      28550.7|    19292.99|         Oct-2015|              null|2024-05-27 08:10:...|\n",
       "|28553318|                 7178.95|                    0.0|     9683.551|      645.57|         Jan-2016|              null|2024-05-27 08:10:...|\n",
       "|28623647|                 17000.0|                    0.0|     18754.39|      520.79|         Oct-2017|              null|2024-05-27 08:10:...|\n",
       "|28784250|                 15000.0|                    0.0|     18773.24|      953.76|         Nov-2016|              null|2024-05-27 08:10:...|\n",
       "|28704129|                 25000.0|                    0.0|     33858.87|    18122.31|         Nov-2016|              null|2024-05-27 08:10:...|\n",
       "|28764447|                  6850.0|                    0.0|      8309.59|      230.36|         Oct-2017|              null|2024-05-27 08:10:...|\n",
       "|27712114|                 28000.0|                    0.0|    31836.379|    26200.46|         Jul-2015|              null|2024-05-27 08:10:...|\n",
       "|28482758|                  3500.0|                    0.0|      3859.46|      427.14|         Jul-2017|              null|2024-05-27 08:10:...|\n",
       "|28594479|                  9600.0|                    0.0|     11037.29|     5862.57|         Mar-2016|              null|2024-05-27 08:10:...|\n",
       "|28724355|                 28000.0|                    0.0|     36154.67|    19709.15|         Nov-2016|              null|2024-05-27 08:10:...|\n",
       "|28774335|                  8500.0|                    0.0|      8741.65|     8191.89|         Jan-2015|              null|2024-05-27 08:10:...|\n",
       "|28654395|                18134.86|                    0.0|    29003.719|      547.24|         Mar-2019|          Apr-2019|2024-05-27 08:10:...|\n",
       "|28664261|                 1269.44|                    0.0|      2199.06|      733.02|         Jan-2015|              null|2024-05-27 08:10:...|\n",
       "|28624211|                 10000.0|                    0.0|      11648.6|      386.67|         Jun-2017|              null|2024-05-27 08:10:...|\n",
       "|28683824|                 10000.0|                    0.0|     12146.97|      336.53|         Oct-2017|              null|2024-05-27 08:10:...|\n",
       "|28604318|                 15000.0|                    0.0|     17850.69|      495.59|         Oct-2017|              null|2024-05-27 08:10:...|\n",
       "+--------+------------------------+-----------------------+-------------+------------+-----------------+------------------+--------------------+\n",
       "only showing top 20 rows"
      ]
     },
     "execution_count": 76,
     "metadata": {},
     "output_type": "execute_result"
    }
   ],
   "source": [
    "spark.sql(\"select * from loan_repayments\")"
   ]
  },
  {
   "cell_type": "markdown",
   "id": "663c2a16",
   "metadata": {},
   "source": [
    "# Delinq table"
   ]
  },
  {
   "cell_type": "code",
   "execution_count": 3,
   "id": "bab0c9f2",
   "metadata": {},
   "outputs": [],
   "source": [
    "df = spark.read.load(\"/user/itv012667/lendingclub/cleaneddata/loans_defaulter_delinq_parquet/loans_defaulters_delinq_parquet\")"
   ]
  },
  {
   "cell_type": "code",
   "execution_count": 4,
   "id": "d77b636d",
   "metadata": {},
   "outputs": [
    {
     "name": "stdout",
     "output_type": "stream",
     "text": [
      "+--------------------+-----------+-----------+----------------------+\n",
      "|           member_id|delinq_2yrs|delinq_amnt|mths_since_last_delinq|\n",
      "+--------------------+-----------+-----------+----------------------+\n",
      "|9cb79aa7323e81be1...|          2|        0.0|                     0|\n",
      "|aac68850fdac09fd0...|          1|        0.0|                     0|\n",
      "|c89986155a070db2e...|          1|        0.0|                    15|\n",
      "|4e1c30a5dfe9f1e20...|          0|        0.0|                    34|\n",
      "|1eef79a0e79b72c7a...|          1|        0.0|                     0|\n",
      "|ec1953dba2cfb89ad...|          2|        0.0|                     0|\n",
      "|3712c9da85e54b7b1...|          1|        0.0|                     0|\n",
      "|030e5c9c411c936c5...|          2|        0.0|                     0|\n",
      "|252736f8401b6b046...|          2|        0.0|                     0|\n",
      "|2d73c65a7b7d1a351...|          1|        0.0|                     0|\n",
      "|4c5cc017a06ad9cee...|          1|        0.0|                     0|\n",
      "|b2ae51f7010bda712...|          2|        0.0|                     0|\n",
      "|e3fda103b038638f2...|          1|        0.0|                     0|\n",
      "|c1553a3186575c87d...|          2|        0.0|                     0|\n",
      "|e889fe8e41d1fc74a...|          1|        0.0|                     0|\n",
      "|66f29d01599e4497e...|          1|        0.0|                     0|\n",
      "|8d52067d7d93c7ba1...|          2|        0.0|                     0|\n",
      "|aff24625c7c7a2108...|          3|        0.0|                     0|\n",
      "|60cf7ca69b4fc0b04...|          2|        0.0|                     0|\n",
      "|5b7cc2ef3ee4be20e...|          1|        0.0|                     0|\n",
      "+--------------------+-----------+-----------+----------------------+\n",
      "only showing top 20 rows\n",
      "\n"
     ]
    }
   ],
   "source": [
    "df.show()"
   ]
  },
  {
   "cell_type": "code",
   "execution_count": 5,
   "id": "a0a029ca",
   "metadata": {},
   "outputs": [
    {
     "name": "stdout",
     "output_type": "stream",
     "text": [
      "root\n",
      " |-- member_id: string (nullable = true)\n",
      " |-- delinq_2yrs: integer (nullable = true)\n",
      " |-- delinq_amnt: float (nullable = true)\n",
      " |-- mths_since_last_delinq: integer (nullable = true)\n",
      "\n"
     ]
    }
   ],
   "source": [
    "df.printSchema()"
   ]
  },
  {
   "cell_type": "code",
   "execution_count": 6,
   "id": "fc219b8a",
   "metadata": {},
   "outputs": [
    {
     "data": {
      "text/html": [
       "<table border='1'>\n",
       "<tr><th></th></tr>\n",
       "</table>\n"
      ],
      "text/plain": [
       "++\n",
       "||\n",
       "++\n",
       "++"
      ]
     },
     "execution_count": 6,
     "metadata": {},
     "output_type": "execute_result"
    }
   ],
   "source": [
    "spark.sql(\"use itv_012667_lending_club\")"
   ]
  },
  {
   "cell_type": "code",
   "execution_count": 7,
   "id": "d11134d2",
   "metadata": {},
   "outputs": [
    {
     "data": {
      "text/html": [
       "<table border='1'>\n",
       "<tr><th></th></tr>\n",
       "</table>\n"
      ],
      "text/plain": [
       "++\n",
       "||\n",
       "++\n",
       "++"
      ]
     },
     "execution_count": 7,
     "metadata": {},
     "output_type": "execute_result"
    }
   ],
   "source": [
    "spark.sql(\"\"\"create external table itv_012667_lending_club.loans_defaulters_delinq(\n",
    "member_id string,delinq_2yrs integer, delinq_amnt float, mths_since_last_delinq integer\n",
    ")\n",
    "stored as parquet \n",
    "location '/user/itv012667/lendingclub/cleaneddata/loans_defaulter_delinq_parquet/loans_defaulters_delinq_parquet'\n",
    "\"\"\")"
   ]
  },
  {
   "cell_type": "code",
   "execution_count": 8,
   "id": "b7142c13",
   "metadata": {},
   "outputs": [
    {
     "data": {
      "text/html": [
       "<table border='1'>\n",
       "<tr><th>member_id</th><th>delinq_2yrs</th><th>delinq_amnt</th><th>mths_since_last_delinq</th></tr>\n",
       "<tr><td>9cb79aa7323e81be1...</td><td>2</td><td>0.0</td><td>0</td></tr>\n",
       "<tr><td>aac68850fdac09fd0...</td><td>1</td><td>0.0</td><td>0</td></tr>\n",
       "<tr><td>c89986155a070db2e...</td><td>1</td><td>0.0</td><td>15</td></tr>\n",
       "<tr><td>4e1c30a5dfe9f1e20...</td><td>0</td><td>0.0</td><td>34</td></tr>\n",
       "<tr><td>1eef79a0e79b72c7a...</td><td>1</td><td>0.0</td><td>0</td></tr>\n",
       "<tr><td>ec1953dba2cfb89ad...</td><td>2</td><td>0.0</td><td>0</td></tr>\n",
       "<tr><td>3712c9da85e54b7b1...</td><td>1</td><td>0.0</td><td>0</td></tr>\n",
       "<tr><td>030e5c9c411c936c5...</td><td>2</td><td>0.0</td><td>0</td></tr>\n",
       "<tr><td>252736f8401b6b046...</td><td>2</td><td>0.0</td><td>0</td></tr>\n",
       "<tr><td>2d73c65a7b7d1a351...</td><td>1</td><td>0.0</td><td>0</td></tr>\n",
       "<tr><td>4c5cc017a06ad9cee...</td><td>1</td><td>0.0</td><td>0</td></tr>\n",
       "<tr><td>b2ae51f7010bda712...</td><td>2</td><td>0.0</td><td>0</td></tr>\n",
       "<tr><td>e3fda103b038638f2...</td><td>1</td><td>0.0</td><td>0</td></tr>\n",
       "<tr><td>c1553a3186575c87d...</td><td>2</td><td>0.0</td><td>0</td></tr>\n",
       "<tr><td>e889fe8e41d1fc74a...</td><td>1</td><td>0.0</td><td>0</td></tr>\n",
       "<tr><td>66f29d01599e4497e...</td><td>1</td><td>0.0</td><td>0</td></tr>\n",
       "<tr><td>8d52067d7d93c7ba1...</td><td>2</td><td>0.0</td><td>0</td></tr>\n",
       "<tr><td>aff24625c7c7a2108...</td><td>3</td><td>0.0</td><td>0</td></tr>\n",
       "<tr><td>60cf7ca69b4fc0b04...</td><td>2</td><td>0.0</td><td>0</td></tr>\n",
       "<tr><td>5b7cc2ef3ee4be20e...</td><td>1</td><td>0.0</td><td>0</td></tr>\n",
       "</table>\n",
       "only showing top 20 rows\n"
      ],
      "text/plain": [
       "+--------------------+-----------+-----------+----------------------+\n",
       "|           member_id|delinq_2yrs|delinq_amnt|mths_since_last_delinq|\n",
       "+--------------------+-----------+-----------+----------------------+\n",
       "|9cb79aa7323e81be1...|          2|        0.0|                     0|\n",
       "|aac68850fdac09fd0...|          1|        0.0|                     0|\n",
       "|c89986155a070db2e...|          1|        0.0|                    15|\n",
       "|4e1c30a5dfe9f1e20...|          0|        0.0|                    34|\n",
       "|1eef79a0e79b72c7a...|          1|        0.0|                     0|\n",
       "|ec1953dba2cfb89ad...|          2|        0.0|                     0|\n",
       "|3712c9da85e54b7b1...|          1|        0.0|                     0|\n",
       "|030e5c9c411c936c5...|          2|        0.0|                     0|\n",
       "|252736f8401b6b046...|          2|        0.0|                     0|\n",
       "|2d73c65a7b7d1a351...|          1|        0.0|                     0|\n",
       "|4c5cc017a06ad9cee...|          1|        0.0|                     0|\n",
       "|b2ae51f7010bda712...|          2|        0.0|                     0|\n",
       "|e3fda103b038638f2...|          1|        0.0|                     0|\n",
       "|c1553a3186575c87d...|          2|        0.0|                     0|\n",
       "|e889fe8e41d1fc74a...|          1|        0.0|                     0|\n",
       "|66f29d01599e4497e...|          1|        0.0|                     0|\n",
       "|8d52067d7d93c7ba1...|          2|        0.0|                     0|\n",
       "|aff24625c7c7a2108...|          3|        0.0|                     0|\n",
       "|60cf7ca69b4fc0b04...|          2|        0.0|                     0|\n",
       "|5b7cc2ef3ee4be20e...|          1|        0.0|                     0|\n",
       "+--------------------+-----------+-----------+----------------------+\n",
       "only showing top 20 rows"
      ]
     },
     "execution_count": 8,
     "metadata": {},
     "output_type": "execute_result"
    }
   ],
   "source": [
    "spark.sql(\"select * from itv_012667_lending_club.loans_defaulters_delinq\")"
   ]
  },
  {
   "cell_type": "markdown",
   "id": "d72e58fb",
   "metadata": {},
   "source": [
    "# public records data"
   ]
  },
  {
   "cell_type": "code",
   "execution_count": 9,
   "id": "75f7385e",
   "metadata": {},
   "outputs": [],
   "source": [
    "df = spark.read.load(\"/user/itv012667/lendingclub/cleaneddata/loans_defaulters_detail_records_enq_parquet\")"
   ]
  },
  {
   "cell_type": "code",
   "execution_count": 10,
   "id": "a3ccc9f4",
   "metadata": {},
   "outputs": [
    {
     "name": "stdout",
     "output_type": "stream",
     "text": [
      "+--------------------+-------+--------------------+--------------+\n",
      "|           member_id|pub_rec|pub_rec_bankruptcies|inq_last_6mths|\n",
      "+--------------------+-------+--------------------+--------------+\n",
      "|0dd2bbc517e3c8f9e...|      1|                   1|             3|\n",
      "|458458599d3df3bfc...|      1|                   1|             1|\n",
      "|f1efcf7dfbfef21be...|      0|                   0|             1|\n",
      "|c89986155a070db2e...|      0|                   0|             1|\n",
      "|e88945f86a96f8d71...|      0|                   0|             1|\n",
      "|4e1c30a5dfe9f1e20...|      0|                   0|             1|\n",
      "|76cbefe31f7834f47...|      0|                   0|             1|\n",
      "|47d002f59a274c6f2...|      0|                   0|             1|\n",
      "|09a1c6855801dad88...|      1|                   1|             0|\n",
      "|56d4375718ad6940d...|      1|                   1|             0|\n",
      "|6ebc82410b3dc9dcb...|      0|                   0|             3|\n",
      "|41a307b3c2c66aad8...|      1|                   1|             0|\n",
      "|d168c599b8aea3c0b...|      0|                   0|             1|\n",
      "|657a760b1d52967fb...|      0|                   0|             1|\n",
      "|b7d9da217c8256cfd...|      0|                   0|             1|\n",
      "|a67f439593858be7c...|      0|                   0|             1|\n",
      "|3a4aac093cddcdb0c...|      1|                   1|             0|\n",
      "|23bb4e7a5ed15c1fc...|      0|                   0|             1|\n",
      "|0b55b1efb75760dc3...|      0|                   0|             1|\n",
      "|04eedd3c6357df852...|      0|                   0|             1|\n",
      "+--------------------+-------+--------------------+--------------+\n",
      "only showing top 20 rows\n",
      "\n"
     ]
    }
   ],
   "source": [
    "df.show()"
   ]
  },
  {
   "cell_type": "code",
   "execution_count": 11,
   "id": "653d763a",
   "metadata": {},
   "outputs": [
    {
     "name": "stdout",
     "output_type": "stream",
     "text": [
      "root\n",
      " |-- member_id: string (nullable = true)\n",
      " |-- pub_rec: integer (nullable = true)\n",
      " |-- pub_rec_bankruptcies: integer (nullable = true)\n",
      " |-- inq_last_6mths: integer (nullable = true)\n",
      "\n"
     ]
    }
   ],
   "source": [
    "df.printSchema()"
   ]
  },
  {
   "cell_type": "code",
   "execution_count": 12,
   "id": "cc86ab27",
   "metadata": {},
   "outputs": [
    {
     "data": {
      "text/html": [
       "<table border='1'>\n",
       "<tr><th></th></tr>\n",
       "</table>\n"
      ],
      "text/plain": [
       "++\n",
       "||\n",
       "++\n",
       "++"
      ]
     },
     "execution_count": 12,
     "metadata": {},
     "output_type": "execute_result"
    }
   ],
   "source": [
    "spark.sql(\"\"\"create external table loans_defaulters_detail_rec_enq(\n",
    "member_id string,\n",
    "pub_rec integer,\n",
    "pub_rec_bankruptcies integer,\n",
    "inq_last_6mths integer)\n",
    "stored as parquet\n",
    "location '/user/itv012667/lendingclub/cleaneddata/loans_defaulters_detail_records_enq_parquet'\"\"\")"
   ]
  },
  {
   "cell_type": "code",
   "execution_count": 14,
   "id": "e7d9c56a",
   "metadata": {},
   "outputs": [
    {
     "data": {
      "text/html": [
       "<table border='1'>\n",
       "<tr><th>member_id</th><th>pub_rec</th><th>pub_rec_bankruptcies</th><th>inq_last_6mths</th></tr>\n",
       "<tr><td>0dd2bbc517e3c8f9e...</td><td>1</td><td>1</td><td>3</td></tr>\n",
       "<tr><td>458458599d3df3bfc...</td><td>1</td><td>1</td><td>1</td></tr>\n",
       "<tr><td>f1efcf7dfbfef21be...</td><td>0</td><td>0</td><td>1</td></tr>\n",
       "<tr><td>c89986155a070db2e...</td><td>0</td><td>0</td><td>1</td></tr>\n",
       "<tr><td>e88945f86a96f8d71...</td><td>0</td><td>0</td><td>1</td></tr>\n",
       "<tr><td>4e1c30a5dfe9f1e20...</td><td>0</td><td>0</td><td>1</td></tr>\n",
       "<tr><td>76cbefe31f7834f47...</td><td>0</td><td>0</td><td>1</td></tr>\n",
       "<tr><td>47d002f59a274c6f2...</td><td>0</td><td>0</td><td>1</td></tr>\n",
       "<tr><td>09a1c6855801dad88...</td><td>1</td><td>1</td><td>0</td></tr>\n",
       "<tr><td>56d4375718ad6940d...</td><td>1</td><td>1</td><td>0</td></tr>\n",
       "<tr><td>6ebc82410b3dc9dcb...</td><td>0</td><td>0</td><td>3</td></tr>\n",
       "<tr><td>41a307b3c2c66aad8...</td><td>1</td><td>1</td><td>0</td></tr>\n",
       "<tr><td>d168c599b8aea3c0b...</td><td>0</td><td>0</td><td>1</td></tr>\n",
       "<tr><td>657a760b1d52967fb...</td><td>0</td><td>0</td><td>1</td></tr>\n",
       "<tr><td>b7d9da217c8256cfd...</td><td>0</td><td>0</td><td>1</td></tr>\n",
       "<tr><td>a67f439593858be7c...</td><td>0</td><td>0</td><td>1</td></tr>\n",
       "<tr><td>3a4aac093cddcdb0c...</td><td>1</td><td>1</td><td>0</td></tr>\n",
       "<tr><td>23bb4e7a5ed15c1fc...</td><td>0</td><td>0</td><td>1</td></tr>\n",
       "<tr><td>0b55b1efb75760dc3...</td><td>0</td><td>0</td><td>1</td></tr>\n",
       "<tr><td>04eedd3c6357df852...</td><td>0</td><td>0</td><td>1</td></tr>\n",
       "</table>\n",
       "only showing top 20 rows\n"
      ],
      "text/plain": [
       "+--------------------+-------+--------------------+--------------+\n",
       "|           member_id|pub_rec|pub_rec_bankruptcies|inq_last_6mths|\n",
       "+--------------------+-------+--------------------+--------------+\n",
       "|0dd2bbc517e3c8f9e...|      1|                   1|             3|\n",
       "|458458599d3df3bfc...|      1|                   1|             1|\n",
       "|f1efcf7dfbfef21be...|      0|                   0|             1|\n",
       "|c89986155a070db2e...|      0|                   0|             1|\n",
       "|e88945f86a96f8d71...|      0|                   0|             1|\n",
       "|4e1c30a5dfe9f1e20...|      0|                   0|             1|\n",
       "|76cbefe31f7834f47...|      0|                   0|             1|\n",
       "|47d002f59a274c6f2...|      0|                   0|             1|\n",
       "|09a1c6855801dad88...|      1|                   1|             0|\n",
       "|56d4375718ad6940d...|      1|                   1|             0|\n",
       "|6ebc82410b3dc9dcb...|      0|                   0|             3|\n",
       "|41a307b3c2c66aad8...|      1|                   1|             0|\n",
       "|d168c599b8aea3c0b...|      0|                   0|             1|\n",
       "|657a760b1d52967fb...|      0|                   0|             1|\n",
       "|b7d9da217c8256cfd...|      0|                   0|             1|\n",
       "|a67f439593858be7c...|      0|                   0|             1|\n",
       "|3a4aac093cddcdb0c...|      1|                   1|             0|\n",
       "|23bb4e7a5ed15c1fc...|      0|                   0|             1|\n",
       "|0b55b1efb75760dc3...|      0|                   0|             1|\n",
       "|04eedd3c6357df852...|      0|                   0|             1|\n",
       "+--------------------+-------+--------------------+--------------+\n",
       "only showing top 20 rows"
      ]
     },
     "execution_count": 14,
     "metadata": {},
     "output_type": "execute_result"
    }
   ],
   "source": [
    "spark.sql(\"select * from loans_defaulters_detail_rec_enq\")"
   ]
  }
 ],
 "metadata": {
  "kernelspec": {
   "display_name": "Pyspark 3",
   "language": "python",
   "name": "pyspark3"
  },
  "language_info": {
   "codemirror_mode": {
    "name": "ipython",
    "version": 3
   },
   "file_extension": ".py",
   "mimetype": "text/x-python",
   "name": "python",
   "nbconvert_exporter": "python",
   "pygments_lexer": "ipython3",
   "version": "3.6.12"
  }
 },
 "nbformat": 4,
 "nbformat_minor": 5
}
