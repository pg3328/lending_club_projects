{
 "cells": [
  {
   "cell_type": "code",
   "execution_count": 1,
   "id": "cdc01137",
   "metadata": {},
   "outputs": [],
   "source": [
    "from pyspark.sql import *\n",
    "import getpass\n",
    "username = getpass.getuser()\n",
    "spark = SparkSession.builder \\\n",
    "    .appName('loans_defaulter') \\\n",
    "    .config('spark.ui.port', '0') \\\n",
    "    .config('spark.shuffle.useOldFetchProtocol','true') \\\n",
    "    .config(\"spark.sql.warehouse.dir\", f\"/user/{username}/warehouse\") \\\n",
    "    .enableHiveSupport() \\\n",
    "    .master('yarn') \\\n",
    "    .getOrCreate()"
   ]
  },
  {
   "cell_type": "code",
   "execution_count": 2,
   "id": "5c9108c1",
   "metadata": {},
   "outputs": [
    {
     "data": {
      "text/html": [
       "<table border='1'>\n",
       "<tr><th></th></tr>\n",
       "</table>\n"
      ],
      "text/plain": [
       "++\n",
       "||\n",
       "++\n",
       "++"
      ]
     },
     "execution_count": 2,
     "metadata": {},
     "output_type": "execute_result"
    }
   ],
   "source": [
    "spark.sql(\"use itv_012667_lending_club\")"
   ]
  },
  {
   "cell_type": "code",
   "execution_count": 3,
   "id": "d69c538d",
   "metadata": {},
   "outputs": [
    {
     "data": {
      "text/html": [
       "<table border='1'>\n",
       "<tr><th>database</th><th>tableName</th><th>isTemporary</th></tr>\n",
       "<tr><td>itv_012667_lendin...</td><td>customer_data</td><td>false</td></tr>\n",
       "<tr><td>itv_012667_lendin...</td><td>loan_repayments</td><td>false</td></tr>\n",
       "<tr><td>itv_012667_lendin...</td><td>loans</td><td>false</td></tr>\n",
       "<tr><td>itv_012667_lendin...</td><td>loans_defaulters_...</td><td>false</td></tr>\n",
       "<tr><td>itv_012667_lendin...</td><td>loans_defaulters_...</td><td>false</td></tr>\n",
       "</table>\n"
      ],
      "text/plain": [
       "+--------------------+--------------------+-----------+\n",
       "|            database|           tableName|isTemporary|\n",
       "+--------------------+--------------------+-----------+\n",
       "|itv_012667_lendin...|       customer_data|      false|\n",
       "|itv_012667_lendin...|     loan_repayments|      false|\n",
       "|itv_012667_lendin...|               loans|      false|\n",
       "|itv_012667_lendin...|loans_defaulters_...|      false|\n",
       "|itv_012667_lendin...|loans_defaulters_...|      false|\n",
       "+--------------------+--------------------+-----------+"
      ]
     },
     "execution_count": 3,
     "metadata": {},
     "output_type": "execute_result"
    }
   ],
   "source": [
    "spark.sql(\"show tables\")"
   ]
  },
  {
   "cell_type": "code",
   "execution_count": 4,
   "id": "db7316c8",
   "metadata": {},
   "outputs": [
    {
     "data": {
      "text/html": [
       "<table border='1'>\n",
       "<tr><th>loand_id</th><th>member_id</th><th>loan_amount</th><th>funded_amount</th><th>term</th><th>int_rate</th><th>installment</th><th>issue_d</th><th>loan_status</th><th>purpose</th><th>title</th><th>ingestTimestamp</th></tr>\n",
       "<tr><td>56633077</td><td>b59d80da191f5b573...</td><td>3000.0</td><td>3000.0</td><td>3</td><td>7.89</td><td>93.86</td><td>Aug-2015</td><td>Fully Paid</td><td>credit_card</td><td>Credit card refin...</td><td>2024-05-26 20:16:...</td></tr>\n",
       "<tr><td>55927518</td><td>202d9f56ecb7c3bc9...</td><td>15600.0</td><td>15600.0</td><td>3</td><td>7.89</td><td>488.06</td><td>Aug-2015</td><td>Fully Paid</td><td>credit_card</td><td>Credit card refin...</td><td>2024-05-26 20:16:...</td></tr>\n",
       "<tr><td>56473345</td><td>e5a140c0922b554b9...</td><td>20000.0</td><td>20000.0</td><td>3</td><td>9.17</td><td>637.58</td><td>Aug-2015</td><td>Fully Paid</td><td>debt_consolidation</td><td>Debt consolidation</td><td>2024-05-26 20:16:...</td></tr>\n",
       "<tr><td>56463188</td><td>e12aefc548f750777...</td><td>11200.0</td><td>11200.0</td><td>5</td><td>21.99</td><td>309.27</td><td>Aug-2015</td><td>Fully Paid</td><td>home_improvement</td><td>Home improvement</td><td>2024-05-26 20:16:...</td></tr>\n",
       "<tr><td>56473316</td><td>1b3a50d854fbbf97e...</td><td>16000.0</td><td>16000.0</td><td>5</td><td>20.99</td><td>432.77</td><td>Aug-2015</td><td>Charged Off</td><td>debt_consolidation</td><td>Debt consolidation</td><td>2024-05-26 20:16:...</td></tr>\n",
       "<tr><td>56663266</td><td>1c4329e5f17697127...</td><td>20000.0</td><td>20000.0</td><td>5</td><td>13.33</td><td>458.45</td><td>Aug-2015</td><td>Charged Off</td><td>debt_consolidation</td><td>Debt consolidation</td><td>2024-05-26 20:16:...</td></tr>\n",
       "<tr><td>56483027</td><td>5026c86ad983175eb...</td><td>10000.0</td><td>10000.0</td><td>3</td><td>12.69</td><td>335.45</td><td>Aug-2015</td><td>Fully Paid</td><td>other</td><td>Other</td><td>2024-05-26 20:16:...</td></tr>\n",
       "<tr><td>56613385</td><td>9847d8c1e9d0b2084...</td><td>23400.0</td><td>23400.0</td><td>5</td><td>19.19</td><td>609.46</td><td>Aug-2015</td><td>Current</td><td>small_business</td><td>Business</td><td>2024-05-26 20:16:...</td></tr>\n",
       "<tr><td>56643620</td><td>8340dbe1adea41fb4...</td><td>16000.0</td><td>16000.0</td><td>3</td><td>5.32</td><td>481.84</td><td>Jul-2015</td><td>Fully Paid</td><td>debt_consolidation</td><td>Debt consolidation</td><td>2024-05-26 20:16:...</td></tr>\n",
       "<tr><td>56533114</td><td>d4de0de3ab7d79ad4...</td><td>25450.0</td><td>25450.0</td><td>3</td><td>27.31</td><td>1043.24</td><td>Aug-2015</td><td>Charged Off</td><td>debt_consolidation</td><td>Debt consolidation</td><td>2024-05-26 20:16:...</td></tr>\n",
       "<tr><td>56984127</td><td>3df3cdeddb74a8712...</td><td>24000.0</td><td>24000.0</td><td>3</td><td>7.89</td><td>750.86</td><td>Aug-2015</td><td>Fully Paid</td><td>debt_consolidation</td><td>Debt consolidation</td><td>2024-05-26 20:16:...</td></tr>\n",
       "<tr><td>56131038</td><td>9dd72636b1b4045b4...</td><td>12000.0</td><td>12000.0</td><td>5</td><td>15.61</td><td>289.34</td><td>Aug-2015</td><td>Current</td><td>credit_card</td><td>Credit card refin...</td><td>2024-05-26 20:16:...</td></tr>\n",
       "<tr><td>56452581</td><td>1d4e1ef4353b73c00...</td><td>25000.0</td><td>25000.0</td><td>3</td><td>13.33</td><td>846.33</td><td>Jul-2015</td><td>Fully Paid</td><td>home_improvement</td><td>Home improvement</td><td>2024-05-26 20:16:...</td></tr>\n",
       "<tr><td>56685321</td><td>6f196952e71277fd4...</td><td>35000.0</td><td>35000.0</td><td>5</td><td>18.55</td><td>899.28</td><td>Aug-2015</td><td>Charged Off</td><td>small_business</td><td>Business</td><td>2024-05-26 20:16:...</td></tr>\n",
       "<tr><td>56563360</td><td>9c617cbc6e3e3d6a1...</td><td>25000.0</td><td>25000.0</td><td>5</td><td>21.99</td><td>690.34</td><td>Aug-2015</td><td>Current</td><td>credit_card</td><td>Credit card refin...</td><td>2024-05-26 20:16:...</td></tr>\n",
       "<tr><td>56533113</td><td>45eb04dd75400a942...</td><td>20000.0</td><td>20000.0</td><td>3</td><td>13.99</td><td>683.46</td><td>Aug-2015</td><td>Fully Paid</td><td>debt_consolidation</td><td>Debt consolidation</td><td>2024-05-26 20:16:...</td></tr>\n",
       "<tr><td>56904118</td><td>08d233c81f9e50726...</td><td>9525.0</td><td>9525.0</td><td>3</td><td>12.29</td><td>317.69</td><td>Aug-2015</td><td>Charged Off</td><td>debt_consolidation</td><td>Debt consolidation</td><td>2024-05-26 20:16:...</td></tr>\n",
       "<tr><td>56473361</td><td>8ff4d0ed17a1cab92...</td><td>4200.0</td><td>4200.0</td><td>3</td><td>15.61</td><td>146.86</td><td>Aug-2015</td><td>Fully Paid</td><td>credit_card</td><td>Credit card refin...</td><td>2024-05-26 20:16:...</td></tr>\n",
       "<tr><td>56021410</td><td>aec13cfd611b2cfea...</td><td>8625.0</td><td>8625.0</td><td>3</td><td>16.55</td><td>305.58</td><td>Aug-2015</td><td>Fully Paid</td><td>debt_consolidation</td><td>Debt consolidation</td><td>2024-05-26 20:16:...</td></tr>\n",
       "<tr><td>56473332</td><td>9ba8c96ccba6cd1f0...</td><td>19000.0</td><td>19000.0</td><td>5</td><td>17.57</td><td>478.05</td><td>Jul-2015</td><td>Current</td><td>credit_card</td><td>Credit card refin...</td><td>2024-05-26 20:16:...</td></tr>\n",
       "</table>\n",
       "only showing top 20 rows\n"
      ],
      "text/plain": [
       "+--------+--------------------+-----------+-------------+----+--------+-----------+--------+-----------+------------------+--------------------+--------------------+\n",
       "|loand_id|           member_id|loan_amount|funded_amount|term|int_rate|installment| issue_d|loan_status|           purpose|               title|     ingestTimestamp|\n",
       "+--------+--------------------+-----------+-------------+----+--------+-----------+--------+-----------+------------------+--------------------+--------------------+\n",
       "|56633077|b59d80da191f5b573...|     3000.0|       3000.0|   3|    7.89|      93.86|Aug-2015| Fully Paid|       credit_card|Credit card refin...|2024-05-26 20:16:...|\n",
       "|55927518|202d9f56ecb7c3bc9...|    15600.0|      15600.0|   3|    7.89|     488.06|Aug-2015| Fully Paid|       credit_card|Credit card refin...|2024-05-26 20:16:...|\n",
       "|56473345|e5a140c0922b554b9...|    20000.0|      20000.0|   3|    9.17|     637.58|Aug-2015| Fully Paid|debt_consolidation|  Debt consolidation|2024-05-26 20:16:...|\n",
       "|56463188|e12aefc548f750777...|    11200.0|      11200.0|   5|   21.99|     309.27|Aug-2015| Fully Paid|  home_improvement|    Home improvement|2024-05-26 20:16:...|\n",
       "|56473316|1b3a50d854fbbf97e...|    16000.0|      16000.0|   5|   20.99|     432.77|Aug-2015|Charged Off|debt_consolidation|  Debt consolidation|2024-05-26 20:16:...|\n",
       "|56663266|1c4329e5f17697127...|    20000.0|      20000.0|   5|   13.33|     458.45|Aug-2015|Charged Off|debt_consolidation|  Debt consolidation|2024-05-26 20:16:...|\n",
       "|56483027|5026c86ad983175eb...|    10000.0|      10000.0|   3|   12.69|     335.45|Aug-2015| Fully Paid|             other|               Other|2024-05-26 20:16:...|\n",
       "|56613385|9847d8c1e9d0b2084...|    23400.0|      23400.0|   5|   19.19|     609.46|Aug-2015|    Current|    small_business|            Business|2024-05-26 20:16:...|\n",
       "|56643620|8340dbe1adea41fb4...|    16000.0|      16000.0|   3|    5.32|     481.84|Jul-2015| Fully Paid|debt_consolidation|  Debt consolidation|2024-05-26 20:16:...|\n",
       "|56533114|d4de0de3ab7d79ad4...|    25450.0|      25450.0|   3|   27.31|    1043.24|Aug-2015|Charged Off|debt_consolidation|  Debt consolidation|2024-05-26 20:16:...|\n",
       "|56984127|3df3cdeddb74a8712...|    24000.0|      24000.0|   3|    7.89|     750.86|Aug-2015| Fully Paid|debt_consolidation|  Debt consolidation|2024-05-26 20:16:...|\n",
       "|56131038|9dd72636b1b4045b4...|    12000.0|      12000.0|   5|   15.61|     289.34|Aug-2015|    Current|       credit_card|Credit card refin...|2024-05-26 20:16:...|\n",
       "|56452581|1d4e1ef4353b73c00...|    25000.0|      25000.0|   3|   13.33|     846.33|Jul-2015| Fully Paid|  home_improvement|    Home improvement|2024-05-26 20:16:...|\n",
       "|56685321|6f196952e71277fd4...|    35000.0|      35000.0|   5|   18.55|     899.28|Aug-2015|Charged Off|    small_business|            Business|2024-05-26 20:16:...|\n",
       "|56563360|9c617cbc6e3e3d6a1...|    25000.0|      25000.0|   5|   21.99|     690.34|Aug-2015|    Current|       credit_card|Credit card refin...|2024-05-26 20:16:...|\n",
       "|56533113|45eb04dd75400a942...|    20000.0|      20000.0|   3|   13.99|     683.46|Aug-2015| Fully Paid|debt_consolidation|  Debt consolidation|2024-05-26 20:16:...|\n",
       "|56904118|08d233c81f9e50726...|     9525.0|       9525.0|   3|   12.29|     317.69|Aug-2015|Charged Off|debt_consolidation|  Debt consolidation|2024-05-26 20:16:...|\n",
       "|56473361|8ff4d0ed17a1cab92...|     4200.0|       4200.0|   3|   15.61|     146.86|Aug-2015| Fully Paid|       credit_card|Credit card refin...|2024-05-26 20:16:...|\n",
       "|56021410|aec13cfd611b2cfea...|     8625.0|       8625.0|   3|   16.55|     305.58|Aug-2015| Fully Paid|debt_consolidation|  Debt consolidation|2024-05-26 20:16:...|\n",
       "|56473332|9ba8c96ccba6cd1f0...|    19000.0|      19000.0|   5|   17.57|     478.05|Jul-2015|    Current|       credit_card|Credit card refin...|2024-05-26 20:16:...|\n",
       "+--------+--------------------+-----------+-------------+----+--------+-----------+--------+-----------+------------------+--------------------+--------------------+\n",
       "only showing top 20 rows"
      ]
     },
     "execution_count": 4,
     "metadata": {},
     "output_type": "execute_result"
    }
   ],
   "source": [
    "spark.sql(\"select * from loans\")"
   ]
  },
  {
   "cell_type": "code",
   "execution_count": 10,
   "id": "31b7e3dd",
   "metadata": {},
   "outputs": [
    {
     "data": {
      "text/html": [
       "<table border='1'>\n",
       "<tr><th></th></tr>\n",
       "</table>\n"
      ],
      "text/plain": [
       "++\n",
       "||\n",
       "++\n",
       "++"
      ]
     },
     "execution_count": 10,
     "metadata": {},
     "output_type": "execute_result"
    }
   ],
   "source": [
    "spark.sql(\"\"\"\n",
    "create or replace view itv005857_lending_club.customers_loan_v as \n",
    "select c.member_id,c.address_state,lr.total_payment,d.delinq_2yrs from itv_012667_lending_club.customer_data c\n",
    "left join loans l on l.member_id = c.member_id\n",
    "left join loan_repayments lr on lr.loan_id = l.loand_id\n",
    "left join loans_defaulters_delinq d on c.member_id = d.member_id\n",
    "left join loans_defaulters_detail_rec_enq e on c.member_id = e.member_id\n",
    "\"\"\")"
   ]
  },
  {
   "cell_type": "code",
   "execution_count": 11,
   "id": "8bf16e2d",
   "metadata": {},
   "outputs": [
    {
     "data": {
      "text/html": [
       "<table border='1'>\n",
       "<tr><th>member_id</th><th>total_payment</th></tr>\n",
       "<tr><td>000c8875b71a6b47c...</td><td>3114.47</td></tr>\n",
       "<tr><td>000fc98fc1ca5faa3...</td><td>4328.2803</td></tr>\n",
       "<tr><td>0012728d9f616bdf2...</td><td>847.62</td></tr>\n",
       "<tr><td>00151ece27c7ca280...</td><td>14992.68</td></tr>\n",
       "<tr><td>002800d49886390d2...</td><td>17558.6</td></tr>\n",
       "<tr><td>003715c2aec34dd43...</td><td>12208.02</td></tr>\n",
       "<tr><td>003769d7f54c7859e...</td><td>267.78998</td></tr>\n",
       "<tr><td>0037bb910c0a758f5...</td><td>343.46</td></tr>\n",
       "<tr><td>003d7bee408492f11...</td><td>9077.4</td></tr>\n",
       "<tr><td>003e1e6cbd2920bbb...</td><td>5950.82</td></tr>\n",
       "<tr><td>004017b21bd4d6271...</td><td>3700.71</td></tr>\n",
       "<tr><td>004dbe6698f1482be...</td><td>45246.492</td></tr>\n",
       "<tr><td>004f73beb41d739e1...</td><td>20038.32</td></tr>\n",
       "<tr><td>0059ce602b84a1bdd...</td><td>40143.53</td></tr>\n",
       "<tr><td>005b4c3db3fce07dc...</td><td>6520.73</td></tr>\n",
       "<tr><td>005d5e3c98a159671...</td><td>9440.68</td></tr>\n",
       "<tr><td>005daa54678e6fdfe...</td><td>2695.2</td></tr>\n",
       "<tr><td>0061cd647ed984d65...</td><td>10672.08</td></tr>\n",
       "<tr><td>0068aeffe996677c2...</td><td>25157.27</td></tr>\n",
       "<tr><td>00710707c563c2119...</td><td>17595.47</td></tr>\n",
       "</table>\n",
       "only showing top 20 rows\n"
      ],
      "text/plain": [
       "+--------------------+-------------+\n",
       "|           member_id|total_payment|\n",
       "+--------------------+-------------+\n",
       "|000c8875b71a6b47c...|      3114.47|\n",
       "|000fc98fc1ca5faa3...|    4328.2803|\n",
       "|0012728d9f616bdf2...|       847.62|\n",
       "|00151ece27c7ca280...|     14992.68|\n",
       "|002800d49886390d2...|      17558.6|\n",
       "|003715c2aec34dd43...|     12208.02|\n",
       "|003769d7f54c7859e...|    267.78998|\n",
       "|0037bb910c0a758f5...|       343.46|\n",
       "|003d7bee408492f11...|       9077.4|\n",
       "|003e1e6cbd2920bbb...|      5950.82|\n",
       "|004017b21bd4d6271...|      3700.71|\n",
       "|004dbe6698f1482be...|    45246.492|\n",
       "|004f73beb41d739e1...|     20038.32|\n",
       "|0059ce602b84a1bdd...|     40143.53|\n",
       "|005b4c3db3fce07dc...|      6520.73|\n",
       "|005d5e3c98a159671...|      9440.68|\n",
       "|005daa54678e6fdfe...|       2695.2|\n",
       "|0061cd647ed984d65...|     10672.08|\n",
       "|0068aeffe996677c2...|     25157.27|\n",
       "|00710707c563c2119...|     17595.47|\n",
       "+--------------------+-------------+\n",
       "only showing top 20 rows"
      ]
     },
     "execution_count": 11,
     "metadata": {},
     "output_type": "execute_result"
    }
   ],
   "source": [
    "spark.sql(\"select member_id,total_payment from itv005857_lending_club.customers_loan_v\")"
   ]
  }
 ],
 "metadata": {
  "kernelspec": {
   "display_name": "Pyspark 3",
   "language": "python",
   "name": "pyspark3"
  },
  "language_info": {
   "codemirror_mode": {
    "name": "ipython",
    "version": 3
   },
   "file_extension": ".py",
   "mimetype": "text/x-python",
   "name": "python",
   "nbconvert_exporter": "python",
   "pygments_lexer": "ipython3",
   "version": "3.6.12"
  }
 },
 "nbformat": 4,
 "nbformat_minor": 5
}
