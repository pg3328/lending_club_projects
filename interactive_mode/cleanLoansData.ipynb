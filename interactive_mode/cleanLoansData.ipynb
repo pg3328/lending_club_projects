{
 "cells": [
  {
   "cell_type": "code",
   "execution_count": 62,
   "id": "3c841816",
   "metadata": {},
   "outputs": [],
   "source": [
    "from pyspark.sql import *\n",
    "import getpass\n",
    "username = getpass.getuser()\n",
    "spark = SparkSession.builder \\\n",
    "    .appName('cleanLoans') \\\n",
    "    .config('spark.ui.port', '0') \\\n",
    "    .config(\"spark.sql.warehouse.dir\", f\"/user/{username}/warehouse\") \\\n",
    "    .enableHiveSupport() \\\n",
    "    .master('yarn') \\\n",
    "    .getOrCreate()"
   ]
  },
  {
   "cell_type": "code",
   "execution_count": 61,
   "id": "a5ee661f",
   "metadata": {},
   "outputs": [],
   "source": [
    "spark.stop()"
   ]
  },
  {
   "cell_type": "code",
   "execution_count": 63,
   "id": "0c7f871d",
   "metadata": {},
   "outputs": [],
   "source": [
    "loans_schema = \"loand_id string,member_id string, loan_amount float,funded_amount float,term string, int_rate float, installment float,issue_d string, loan_status string, purpose string,title string\""
   ]
  },
  {
   "cell_type": "code",
   "execution_count": 64,
   "id": "62a43cac",
   "metadata": {},
   "outputs": [],
   "source": [
    "loan_df = spark.read.option(\"mode\",\"failfast\").csv(\"/user/itv012667/lendingclub/raw/loans_data_csv\",schema=loans_schema,header=True)"
   ]
  },
  {
   "cell_type": "code",
   "execution_count": 65,
   "id": "90917274",
   "metadata": {},
   "outputs": [
    {
     "data": {
      "text/html": [
       "<table border='1'>\n",
       "<tr><th>loand_id</th><th>member_id</th><th>loan_amount</th><th>funded_amount</th><th>term</th><th>int_rate</th><th>installment</th><th>issue_d</th><th>loan_status</th><th>purpose</th><th>title</th></tr>\n",
       "<tr><td>56633077</td><td>b59d80da191f5b573...</td><td>3000.0</td><td>3000.0</td><td>36 months</td><td>7.89</td><td>93.86</td><td>Aug-2015</td><td>Fully Paid</td><td>credit_card</td><td>Credit card refin...</td></tr>\n",
       "<tr><td>55927518</td><td>202d9f56ecb7c3bc9...</td><td>15600.0</td><td>15600.0</td><td>36 months</td><td>7.89</td><td>488.06</td><td>Aug-2015</td><td>Fully Paid</td><td>credit_card</td><td>Credit card refin...</td></tr>\n",
       "<tr><td>56473345</td><td>e5a140c0922b554b9...</td><td>20000.0</td><td>20000.0</td><td>36 months</td><td>9.17</td><td>637.58</td><td>Aug-2015</td><td>Fully Paid</td><td>debt_consolidation</td><td>Debt consolidation</td></tr>\n",
       "<tr><td>56463188</td><td>e12aefc548f750777...</td><td>11200.0</td><td>11200.0</td><td>60 months</td><td>21.99</td><td>309.27</td><td>Aug-2015</td><td>Fully Paid</td><td>home_improvement</td><td>Home improvement</td></tr>\n",
       "<tr><td>56473316</td><td>1b3a50d854fbbf97e...</td><td>16000.0</td><td>16000.0</td><td>60 months</td><td>20.99</td><td>432.77</td><td>Aug-2015</td><td>Charged Off</td><td>debt_consolidation</td><td>Debt consolidation</td></tr>\n",
       "<tr><td>56663266</td><td>1c4329e5f17697127...</td><td>20000.0</td><td>20000.0</td><td>60 months</td><td>13.33</td><td>458.45</td><td>Aug-2015</td><td>Charged Off</td><td>debt_consolidation</td><td>Debt consolidation</td></tr>\n",
       "<tr><td>56483027</td><td>5026c86ad983175eb...</td><td>10000.0</td><td>10000.0</td><td>36 months</td><td>12.69</td><td>335.45</td><td>Aug-2015</td><td>Fully Paid</td><td>other</td><td>Other</td></tr>\n",
       "<tr><td>56613385</td><td>9847d8c1e9d0b2084...</td><td>23400.0</td><td>23400.0</td><td>60 months</td><td>19.19</td><td>609.46</td><td>Aug-2015</td><td>Current</td><td>small_business</td><td>Business</td></tr>\n",
       "<tr><td>56643620</td><td>8340dbe1adea41fb4...</td><td>16000.0</td><td>16000.0</td><td>36 months</td><td>5.32</td><td>481.84</td><td>Jul-2015</td><td>Fully Paid</td><td>debt_consolidation</td><td>Debt consolidation</td></tr>\n",
       "<tr><td>56533114</td><td>d4de0de3ab7d79ad4...</td><td>25450.0</td><td>25450.0</td><td>36 months</td><td>27.31</td><td>1043.24</td><td>Aug-2015</td><td>Charged Off</td><td>debt_consolidation</td><td>Debt consolidation</td></tr>\n",
       "<tr><td>56984127</td><td>3df3cdeddb74a8712...</td><td>24000.0</td><td>24000.0</td><td>36 months</td><td>7.89</td><td>750.86</td><td>Aug-2015</td><td>Fully Paid</td><td>debt_consolidation</td><td>Debt consolidation</td></tr>\n",
       "<tr><td>56131038</td><td>9dd72636b1b4045b4...</td><td>12000.0</td><td>12000.0</td><td>60 months</td><td>15.61</td><td>289.34</td><td>Aug-2015</td><td>Current</td><td>credit_card</td><td>Credit card refin...</td></tr>\n",
       "<tr><td>56452581</td><td>1d4e1ef4353b73c00...</td><td>25000.0</td><td>25000.0</td><td>36 months</td><td>13.33</td><td>846.33</td><td>Jul-2015</td><td>Fully Paid</td><td>home_improvement</td><td>Home improvement</td></tr>\n",
       "<tr><td>56685321</td><td>6f196952e71277fd4...</td><td>35000.0</td><td>35000.0</td><td>60 months</td><td>18.55</td><td>899.28</td><td>Aug-2015</td><td>Charged Off</td><td>small_business</td><td>Business</td></tr>\n",
       "<tr><td>56563360</td><td>9c617cbc6e3e3d6a1...</td><td>25000.0</td><td>25000.0</td><td>60 months</td><td>21.99</td><td>690.34</td><td>Aug-2015</td><td>Current</td><td>credit_card</td><td>Credit card refin...</td></tr>\n",
       "<tr><td>56533113</td><td>45eb04dd75400a942...</td><td>20000.0</td><td>20000.0</td><td>36 months</td><td>13.99</td><td>683.46</td><td>Aug-2015</td><td>Fully Paid</td><td>debt_consolidation</td><td>Debt consolidation</td></tr>\n",
       "<tr><td>56904118</td><td>08d233c81f9e50726...</td><td>9525.0</td><td>9525.0</td><td>36 months</td><td>12.29</td><td>317.69</td><td>Aug-2015</td><td>Charged Off</td><td>debt_consolidation</td><td>Debt consolidation</td></tr>\n",
       "<tr><td>56473361</td><td>8ff4d0ed17a1cab92...</td><td>4200.0</td><td>4200.0</td><td>36 months</td><td>15.61</td><td>146.86</td><td>Aug-2015</td><td>Fully Paid</td><td>credit_card</td><td>Credit card refin...</td></tr>\n",
       "<tr><td>56021410</td><td>aec13cfd611b2cfea...</td><td>8625.0</td><td>8625.0</td><td>36 months</td><td>16.55</td><td>305.58</td><td>Aug-2015</td><td>Fully Paid</td><td>debt_consolidation</td><td>Debt consolidation</td></tr>\n",
       "<tr><td>56473332</td><td>9ba8c96ccba6cd1f0...</td><td>19000.0</td><td>19000.0</td><td>60 months</td><td>17.57</td><td>478.05</td><td>Jul-2015</td><td>Current</td><td>credit_card</td><td>Credit card refin...</td></tr>\n",
       "</table>\n",
       "only showing top 20 rows\n"
      ],
      "text/plain": [
       "+--------+--------------------+-----------+-------------+---------+--------+-----------+--------+-----------+------------------+--------------------+\n",
       "|loand_id|           member_id|loan_amount|funded_amount|     term|int_rate|installment| issue_d|loan_status|           purpose|               title|\n",
       "+--------+--------------------+-----------+-------------+---------+--------+-----------+--------+-----------+------------------+--------------------+\n",
       "|56633077|b59d80da191f5b573...|     3000.0|       3000.0|36 months|    7.89|      93.86|Aug-2015| Fully Paid|       credit_card|Credit card refin...|\n",
       "|55927518|202d9f56ecb7c3bc9...|    15600.0|      15600.0|36 months|    7.89|     488.06|Aug-2015| Fully Paid|       credit_card|Credit card refin...|\n",
       "|56473345|e5a140c0922b554b9...|    20000.0|      20000.0|36 months|    9.17|     637.58|Aug-2015| Fully Paid|debt_consolidation|  Debt consolidation|\n",
       "|56463188|e12aefc548f750777...|    11200.0|      11200.0|60 months|   21.99|     309.27|Aug-2015| Fully Paid|  home_improvement|    Home improvement|\n",
       "|56473316|1b3a50d854fbbf97e...|    16000.0|      16000.0|60 months|   20.99|     432.77|Aug-2015|Charged Off|debt_consolidation|  Debt consolidation|\n",
       "|56663266|1c4329e5f17697127...|    20000.0|      20000.0|60 months|   13.33|     458.45|Aug-2015|Charged Off|debt_consolidation|  Debt consolidation|\n",
       "|56483027|5026c86ad983175eb...|    10000.0|      10000.0|36 months|   12.69|     335.45|Aug-2015| Fully Paid|             other|               Other|\n",
       "|56613385|9847d8c1e9d0b2084...|    23400.0|      23400.0|60 months|   19.19|     609.46|Aug-2015|    Current|    small_business|            Business|\n",
       "|56643620|8340dbe1adea41fb4...|    16000.0|      16000.0|36 months|    5.32|     481.84|Jul-2015| Fully Paid|debt_consolidation|  Debt consolidation|\n",
       "|56533114|d4de0de3ab7d79ad4...|    25450.0|      25450.0|36 months|   27.31|    1043.24|Aug-2015|Charged Off|debt_consolidation|  Debt consolidation|\n",
       "|56984127|3df3cdeddb74a8712...|    24000.0|      24000.0|36 months|    7.89|     750.86|Aug-2015| Fully Paid|debt_consolidation|  Debt consolidation|\n",
       "|56131038|9dd72636b1b4045b4...|    12000.0|      12000.0|60 months|   15.61|     289.34|Aug-2015|    Current|       credit_card|Credit card refin...|\n",
       "|56452581|1d4e1ef4353b73c00...|    25000.0|      25000.0|36 months|   13.33|     846.33|Jul-2015| Fully Paid|  home_improvement|    Home improvement|\n",
       "|56685321|6f196952e71277fd4...|    35000.0|      35000.0|60 months|   18.55|     899.28|Aug-2015|Charged Off|    small_business|            Business|\n",
       "|56563360|9c617cbc6e3e3d6a1...|    25000.0|      25000.0|60 months|   21.99|     690.34|Aug-2015|    Current|       credit_card|Credit card refin...|\n",
       "|56533113|45eb04dd75400a942...|    20000.0|      20000.0|36 months|   13.99|     683.46|Aug-2015| Fully Paid|debt_consolidation|  Debt consolidation|\n",
       "|56904118|08d233c81f9e50726...|     9525.0|       9525.0|36 months|   12.29|     317.69|Aug-2015|Charged Off|debt_consolidation|  Debt consolidation|\n",
       "|56473361|8ff4d0ed17a1cab92...|     4200.0|       4200.0|36 months|   15.61|     146.86|Aug-2015| Fully Paid|       credit_card|Credit card refin...|\n",
       "|56021410|aec13cfd611b2cfea...|     8625.0|       8625.0|36 months|   16.55|     305.58|Aug-2015| Fully Paid|debt_consolidation|  Debt consolidation|\n",
       "|56473332|9ba8c96ccba6cd1f0...|    19000.0|      19000.0|60 months|   17.57|     478.05|Jul-2015|    Current|       credit_card|Credit card refin...|\n",
       "+--------+--------------------+-----------+-------------+---------+--------+-----------+--------+-----------+------------------+--------------------+\n",
       "only showing top 20 rows"
      ]
     },
     "execution_count": 65,
     "metadata": {},
     "output_type": "execute_result"
    }
   ],
   "source": [
    "loan_df"
   ]
  },
  {
   "cell_type": "code",
   "execution_count": 66,
   "id": "807631de",
   "metadata": {},
   "outputs": [
    {
     "name": "stdout",
     "output_type": "stream",
     "text": [
      "root\n",
      " |-- loand_id: string (nullable = true)\n",
      " |-- member_id: string (nullable = true)\n",
      " |-- loan_amount: float (nullable = true)\n",
      " |-- funded_amount: float (nullable = true)\n",
      " |-- term: string (nullable = true)\n",
      " |-- int_rate: float (nullable = true)\n",
      " |-- installment: float (nullable = true)\n",
      " |-- issue_d: string (nullable = true)\n",
      " |-- loan_status: string (nullable = true)\n",
      " |-- purpose: string (nullable = true)\n",
      " |-- title: string (nullable = true)\n",
      "\n"
     ]
    }
   ],
   "source": [
    "loan_df.printSchema()"
   ]
  },
  {
   "cell_type": "markdown",
   "id": "8cf8a1b6",
   "metadata": {},
   "source": [
    "# Add Ingest Time Stamp"
   ]
  },
  {
   "cell_type": "code",
   "execution_count": 67,
   "id": "d2a77936",
   "metadata": {},
   "outputs": [],
   "source": [
    "from pyspark.sql.functions import *"
   ]
  },
  {
   "cell_type": "code",
   "execution_count": 68,
   "id": "31864bc7",
   "metadata": {},
   "outputs": [],
   "source": [
    "df_ingest = loan_df.withColumn(\"ingestTimestamp\",current_timestamp())"
   ]
  },
  {
   "cell_type": "markdown",
   "id": "27dc20c7",
   "metadata": {},
   "source": [
    "# Drop Nulls"
   ]
  },
  {
   "cell_type": "code",
   "execution_count": 69,
   "id": "83c1cd1e",
   "metadata": {},
   "outputs": [],
   "source": [
    "columns_to_check = [\"loan_amount\",\"funded_amount\",\"term\",\"int_rate\",\"installment\",\"issue_d\",\"loan_status\",\"purpose\"]"
   ]
  },
  {
   "cell_type": "code",
   "execution_count": 70,
   "id": "6e1e7330",
   "metadata": {},
   "outputs": [],
   "source": [
    "df = df_ingest.na.drop(subset=columns_to_check)"
   ]
  },
  {
   "cell_type": "code",
   "execution_count": 71,
   "id": "9235dea6",
   "metadata": {},
   "outputs": [
    {
     "data": {
      "text/html": [
       "<table border='1'>\n",
       "<tr><th>loand_id</th><th>member_id</th><th>loan_amount</th><th>funded_amount</th><th>term</th><th>int_rate</th><th>installment</th><th>issue_d</th><th>loan_status</th><th>purpose</th><th>title</th><th>ingestTimestamp</th></tr>\n",
       "<tr><td>56633077</td><td>b59d80da191f5b573...</td><td>3000.0</td><td>3000.0</td><td>36 months</td><td>7.89</td><td>93.86</td><td>Aug-2015</td><td>Fully Paid</td><td>credit_card</td><td>Credit card refin...</td><td>2024-05-26 19:46:...</td></tr>\n",
       "<tr><td>55927518</td><td>202d9f56ecb7c3bc9...</td><td>15600.0</td><td>15600.0</td><td>36 months</td><td>7.89</td><td>488.06</td><td>Aug-2015</td><td>Fully Paid</td><td>credit_card</td><td>Credit card refin...</td><td>2024-05-26 19:46:...</td></tr>\n",
       "<tr><td>56473345</td><td>e5a140c0922b554b9...</td><td>20000.0</td><td>20000.0</td><td>36 months</td><td>9.17</td><td>637.58</td><td>Aug-2015</td><td>Fully Paid</td><td>debt_consolidation</td><td>Debt consolidation</td><td>2024-05-26 19:46:...</td></tr>\n",
       "<tr><td>56463188</td><td>e12aefc548f750777...</td><td>11200.0</td><td>11200.0</td><td>60 months</td><td>21.99</td><td>309.27</td><td>Aug-2015</td><td>Fully Paid</td><td>home_improvement</td><td>Home improvement</td><td>2024-05-26 19:46:...</td></tr>\n",
       "<tr><td>56473316</td><td>1b3a50d854fbbf97e...</td><td>16000.0</td><td>16000.0</td><td>60 months</td><td>20.99</td><td>432.77</td><td>Aug-2015</td><td>Charged Off</td><td>debt_consolidation</td><td>Debt consolidation</td><td>2024-05-26 19:46:...</td></tr>\n",
       "<tr><td>56663266</td><td>1c4329e5f17697127...</td><td>20000.0</td><td>20000.0</td><td>60 months</td><td>13.33</td><td>458.45</td><td>Aug-2015</td><td>Charged Off</td><td>debt_consolidation</td><td>Debt consolidation</td><td>2024-05-26 19:46:...</td></tr>\n",
       "<tr><td>56483027</td><td>5026c86ad983175eb...</td><td>10000.0</td><td>10000.0</td><td>36 months</td><td>12.69</td><td>335.45</td><td>Aug-2015</td><td>Fully Paid</td><td>other</td><td>Other</td><td>2024-05-26 19:46:...</td></tr>\n",
       "<tr><td>56613385</td><td>9847d8c1e9d0b2084...</td><td>23400.0</td><td>23400.0</td><td>60 months</td><td>19.19</td><td>609.46</td><td>Aug-2015</td><td>Current</td><td>small_business</td><td>Business</td><td>2024-05-26 19:46:...</td></tr>\n",
       "<tr><td>56643620</td><td>8340dbe1adea41fb4...</td><td>16000.0</td><td>16000.0</td><td>36 months</td><td>5.32</td><td>481.84</td><td>Jul-2015</td><td>Fully Paid</td><td>debt_consolidation</td><td>Debt consolidation</td><td>2024-05-26 19:46:...</td></tr>\n",
       "<tr><td>56533114</td><td>d4de0de3ab7d79ad4...</td><td>25450.0</td><td>25450.0</td><td>36 months</td><td>27.31</td><td>1043.24</td><td>Aug-2015</td><td>Charged Off</td><td>debt_consolidation</td><td>Debt consolidation</td><td>2024-05-26 19:46:...</td></tr>\n",
       "<tr><td>56984127</td><td>3df3cdeddb74a8712...</td><td>24000.0</td><td>24000.0</td><td>36 months</td><td>7.89</td><td>750.86</td><td>Aug-2015</td><td>Fully Paid</td><td>debt_consolidation</td><td>Debt consolidation</td><td>2024-05-26 19:46:...</td></tr>\n",
       "<tr><td>56131038</td><td>9dd72636b1b4045b4...</td><td>12000.0</td><td>12000.0</td><td>60 months</td><td>15.61</td><td>289.34</td><td>Aug-2015</td><td>Current</td><td>credit_card</td><td>Credit card refin...</td><td>2024-05-26 19:46:...</td></tr>\n",
       "<tr><td>56452581</td><td>1d4e1ef4353b73c00...</td><td>25000.0</td><td>25000.0</td><td>36 months</td><td>13.33</td><td>846.33</td><td>Jul-2015</td><td>Fully Paid</td><td>home_improvement</td><td>Home improvement</td><td>2024-05-26 19:46:...</td></tr>\n",
       "<tr><td>56685321</td><td>6f196952e71277fd4...</td><td>35000.0</td><td>35000.0</td><td>60 months</td><td>18.55</td><td>899.28</td><td>Aug-2015</td><td>Charged Off</td><td>small_business</td><td>Business</td><td>2024-05-26 19:46:...</td></tr>\n",
       "<tr><td>56563360</td><td>9c617cbc6e3e3d6a1...</td><td>25000.0</td><td>25000.0</td><td>60 months</td><td>21.99</td><td>690.34</td><td>Aug-2015</td><td>Current</td><td>credit_card</td><td>Credit card refin...</td><td>2024-05-26 19:46:...</td></tr>\n",
       "<tr><td>56533113</td><td>45eb04dd75400a942...</td><td>20000.0</td><td>20000.0</td><td>36 months</td><td>13.99</td><td>683.46</td><td>Aug-2015</td><td>Fully Paid</td><td>debt_consolidation</td><td>Debt consolidation</td><td>2024-05-26 19:46:...</td></tr>\n",
       "<tr><td>56904118</td><td>08d233c81f9e50726...</td><td>9525.0</td><td>9525.0</td><td>36 months</td><td>12.29</td><td>317.69</td><td>Aug-2015</td><td>Charged Off</td><td>debt_consolidation</td><td>Debt consolidation</td><td>2024-05-26 19:46:...</td></tr>\n",
       "<tr><td>56473361</td><td>8ff4d0ed17a1cab92...</td><td>4200.0</td><td>4200.0</td><td>36 months</td><td>15.61</td><td>146.86</td><td>Aug-2015</td><td>Fully Paid</td><td>credit_card</td><td>Credit card refin...</td><td>2024-05-26 19:46:...</td></tr>\n",
       "<tr><td>56021410</td><td>aec13cfd611b2cfea...</td><td>8625.0</td><td>8625.0</td><td>36 months</td><td>16.55</td><td>305.58</td><td>Aug-2015</td><td>Fully Paid</td><td>debt_consolidation</td><td>Debt consolidation</td><td>2024-05-26 19:46:...</td></tr>\n",
       "<tr><td>56473332</td><td>9ba8c96ccba6cd1f0...</td><td>19000.0</td><td>19000.0</td><td>60 months</td><td>17.57</td><td>478.05</td><td>Jul-2015</td><td>Current</td><td>credit_card</td><td>Credit card refin...</td><td>2024-05-26 19:46:...</td></tr>\n",
       "</table>\n",
       "only showing top 20 rows\n"
      ],
      "text/plain": [
       "+--------+--------------------+-----------+-------------+---------+--------+-----------+--------+-----------+------------------+--------------------+--------------------+\n",
       "|loand_id|           member_id|loan_amount|funded_amount|     term|int_rate|installment| issue_d|loan_status|           purpose|               title|     ingestTimestamp|\n",
       "+--------+--------------------+-----------+-------------+---------+--------+-----------+--------+-----------+------------------+--------------------+--------------------+\n",
       "|56633077|b59d80da191f5b573...|     3000.0|       3000.0|36 months|    7.89|      93.86|Aug-2015| Fully Paid|       credit_card|Credit card refin...|2024-05-26 19:46:...|\n",
       "|55927518|202d9f56ecb7c3bc9...|    15600.0|      15600.0|36 months|    7.89|     488.06|Aug-2015| Fully Paid|       credit_card|Credit card refin...|2024-05-26 19:46:...|\n",
       "|56473345|e5a140c0922b554b9...|    20000.0|      20000.0|36 months|    9.17|     637.58|Aug-2015| Fully Paid|debt_consolidation|  Debt consolidation|2024-05-26 19:46:...|\n",
       "|56463188|e12aefc548f750777...|    11200.0|      11200.0|60 months|   21.99|     309.27|Aug-2015| Fully Paid|  home_improvement|    Home improvement|2024-05-26 19:46:...|\n",
       "|56473316|1b3a50d854fbbf97e...|    16000.0|      16000.0|60 months|   20.99|     432.77|Aug-2015|Charged Off|debt_consolidation|  Debt consolidation|2024-05-26 19:46:...|\n",
       "|56663266|1c4329e5f17697127...|    20000.0|      20000.0|60 months|   13.33|     458.45|Aug-2015|Charged Off|debt_consolidation|  Debt consolidation|2024-05-26 19:46:...|\n",
       "|56483027|5026c86ad983175eb...|    10000.0|      10000.0|36 months|   12.69|     335.45|Aug-2015| Fully Paid|             other|               Other|2024-05-26 19:46:...|\n",
       "|56613385|9847d8c1e9d0b2084...|    23400.0|      23400.0|60 months|   19.19|     609.46|Aug-2015|    Current|    small_business|            Business|2024-05-26 19:46:...|\n",
       "|56643620|8340dbe1adea41fb4...|    16000.0|      16000.0|36 months|    5.32|     481.84|Jul-2015| Fully Paid|debt_consolidation|  Debt consolidation|2024-05-26 19:46:...|\n",
       "|56533114|d4de0de3ab7d79ad4...|    25450.0|      25450.0|36 months|   27.31|    1043.24|Aug-2015|Charged Off|debt_consolidation|  Debt consolidation|2024-05-26 19:46:...|\n",
       "|56984127|3df3cdeddb74a8712...|    24000.0|      24000.0|36 months|    7.89|     750.86|Aug-2015| Fully Paid|debt_consolidation|  Debt consolidation|2024-05-26 19:46:...|\n",
       "|56131038|9dd72636b1b4045b4...|    12000.0|      12000.0|60 months|   15.61|     289.34|Aug-2015|    Current|       credit_card|Credit card refin...|2024-05-26 19:46:...|\n",
       "|56452581|1d4e1ef4353b73c00...|    25000.0|      25000.0|36 months|   13.33|     846.33|Jul-2015| Fully Paid|  home_improvement|    Home improvement|2024-05-26 19:46:...|\n",
       "|56685321|6f196952e71277fd4...|    35000.0|      35000.0|60 months|   18.55|     899.28|Aug-2015|Charged Off|    small_business|            Business|2024-05-26 19:46:...|\n",
       "|56563360|9c617cbc6e3e3d6a1...|    25000.0|      25000.0|60 months|   21.99|     690.34|Aug-2015|    Current|       credit_card|Credit card refin...|2024-05-26 19:46:...|\n",
       "|56533113|45eb04dd75400a942...|    20000.0|      20000.0|36 months|   13.99|     683.46|Aug-2015| Fully Paid|debt_consolidation|  Debt consolidation|2024-05-26 19:46:...|\n",
       "|56904118|08d233c81f9e50726...|     9525.0|       9525.0|36 months|   12.29|     317.69|Aug-2015|Charged Off|debt_consolidation|  Debt consolidation|2024-05-26 19:46:...|\n",
       "|56473361|8ff4d0ed17a1cab92...|     4200.0|       4200.0|36 months|   15.61|     146.86|Aug-2015| Fully Paid|       credit_card|Credit card refin...|2024-05-26 19:46:...|\n",
       "|56021410|aec13cfd611b2cfea...|     8625.0|       8625.0|36 months|   16.55|     305.58|Aug-2015| Fully Paid|debt_consolidation|  Debt consolidation|2024-05-26 19:46:...|\n",
       "|56473332|9ba8c96ccba6cd1f0...|    19000.0|      19000.0|60 months|   17.57|     478.05|Jul-2015|    Current|       credit_card|Credit card refin...|2024-05-26 19:46:...|\n",
       "+--------+--------------------+-----------+-------------+---------+--------+-----------+--------+-----------+------------------+--------------------+--------------------+\n",
       "only showing top 20 rows"
      ]
     },
     "execution_count": 71,
     "metadata": {},
     "output_type": "execute_result"
    }
   ],
   "source": [
    "df"
   ]
  },
  {
   "cell_type": "code",
   "execution_count": 72,
   "id": "2358f130",
   "metadata": {},
   "outputs": [
    {
     "data": {
      "text/plain": [
       "2260701"
      ]
     },
     "execution_count": 72,
     "metadata": {},
     "output_type": "execute_result"
    }
   ],
   "source": [
    "df_ingest.count()"
   ]
  },
  {
   "cell_type": "code",
   "execution_count": 73,
   "id": "c5f99107",
   "metadata": {},
   "outputs": [
    {
     "data": {
      "text/plain": [
       "2260667"
      ]
     },
     "execution_count": 73,
     "metadata": {},
     "output_type": "execute_result"
    }
   ],
   "source": [
    "df.count()"
   ]
  },
  {
   "cell_type": "markdown",
   "id": "63df6be3",
   "metadata": {},
   "source": [
    "# convert the term into years instead of months"
   ]
  },
  {
   "cell_type": "code",
   "execution_count": 74,
   "id": "cb43f3b4",
   "metadata": {},
   "outputs": [],
   "source": [
    "df_with_term = df.withColumn(\"term\",regexp_replace(col(\"term\"),\"(\\D)\",\"\"))"
   ]
  },
  {
   "cell_type": "code",
   "execution_count": 75,
   "id": "d5327fd6",
   "metadata": {},
   "outputs": [
    {
     "data": {
      "text/html": [
       "<table border='1'>\n",
       "<tr><th>loand_id</th><th>member_id</th><th>loan_amount</th><th>funded_amount</th><th>term</th><th>int_rate</th><th>installment</th><th>issue_d</th><th>loan_status</th><th>purpose</th><th>title</th><th>ingestTimestamp</th></tr>\n",
       "<tr><td>56633077</td><td>b59d80da191f5b573...</td><td>3000.0</td><td>3000.0</td><td>36</td><td>7.89</td><td>93.86</td><td>Aug-2015</td><td>Fully Paid</td><td>credit_card</td><td>Credit card refin...</td><td>2024-05-26 19:46:...</td></tr>\n",
       "<tr><td>55927518</td><td>202d9f56ecb7c3bc9...</td><td>15600.0</td><td>15600.0</td><td>36</td><td>7.89</td><td>488.06</td><td>Aug-2015</td><td>Fully Paid</td><td>credit_card</td><td>Credit card refin...</td><td>2024-05-26 19:46:...</td></tr>\n",
       "<tr><td>56473345</td><td>e5a140c0922b554b9...</td><td>20000.0</td><td>20000.0</td><td>36</td><td>9.17</td><td>637.58</td><td>Aug-2015</td><td>Fully Paid</td><td>debt_consolidation</td><td>Debt consolidation</td><td>2024-05-26 19:46:...</td></tr>\n",
       "<tr><td>56463188</td><td>e12aefc548f750777...</td><td>11200.0</td><td>11200.0</td><td>60</td><td>21.99</td><td>309.27</td><td>Aug-2015</td><td>Fully Paid</td><td>home_improvement</td><td>Home improvement</td><td>2024-05-26 19:46:...</td></tr>\n",
       "<tr><td>56473316</td><td>1b3a50d854fbbf97e...</td><td>16000.0</td><td>16000.0</td><td>60</td><td>20.99</td><td>432.77</td><td>Aug-2015</td><td>Charged Off</td><td>debt_consolidation</td><td>Debt consolidation</td><td>2024-05-26 19:46:...</td></tr>\n",
       "<tr><td>56663266</td><td>1c4329e5f17697127...</td><td>20000.0</td><td>20000.0</td><td>60</td><td>13.33</td><td>458.45</td><td>Aug-2015</td><td>Charged Off</td><td>debt_consolidation</td><td>Debt consolidation</td><td>2024-05-26 19:46:...</td></tr>\n",
       "<tr><td>56483027</td><td>5026c86ad983175eb...</td><td>10000.0</td><td>10000.0</td><td>36</td><td>12.69</td><td>335.45</td><td>Aug-2015</td><td>Fully Paid</td><td>other</td><td>Other</td><td>2024-05-26 19:46:...</td></tr>\n",
       "<tr><td>56613385</td><td>9847d8c1e9d0b2084...</td><td>23400.0</td><td>23400.0</td><td>60</td><td>19.19</td><td>609.46</td><td>Aug-2015</td><td>Current</td><td>small_business</td><td>Business</td><td>2024-05-26 19:46:...</td></tr>\n",
       "<tr><td>56643620</td><td>8340dbe1adea41fb4...</td><td>16000.0</td><td>16000.0</td><td>36</td><td>5.32</td><td>481.84</td><td>Jul-2015</td><td>Fully Paid</td><td>debt_consolidation</td><td>Debt consolidation</td><td>2024-05-26 19:46:...</td></tr>\n",
       "<tr><td>56533114</td><td>d4de0de3ab7d79ad4...</td><td>25450.0</td><td>25450.0</td><td>36</td><td>27.31</td><td>1043.24</td><td>Aug-2015</td><td>Charged Off</td><td>debt_consolidation</td><td>Debt consolidation</td><td>2024-05-26 19:46:...</td></tr>\n",
       "<tr><td>56984127</td><td>3df3cdeddb74a8712...</td><td>24000.0</td><td>24000.0</td><td>36</td><td>7.89</td><td>750.86</td><td>Aug-2015</td><td>Fully Paid</td><td>debt_consolidation</td><td>Debt consolidation</td><td>2024-05-26 19:46:...</td></tr>\n",
       "<tr><td>56131038</td><td>9dd72636b1b4045b4...</td><td>12000.0</td><td>12000.0</td><td>60</td><td>15.61</td><td>289.34</td><td>Aug-2015</td><td>Current</td><td>credit_card</td><td>Credit card refin...</td><td>2024-05-26 19:46:...</td></tr>\n",
       "<tr><td>56452581</td><td>1d4e1ef4353b73c00...</td><td>25000.0</td><td>25000.0</td><td>36</td><td>13.33</td><td>846.33</td><td>Jul-2015</td><td>Fully Paid</td><td>home_improvement</td><td>Home improvement</td><td>2024-05-26 19:46:...</td></tr>\n",
       "<tr><td>56685321</td><td>6f196952e71277fd4...</td><td>35000.0</td><td>35000.0</td><td>60</td><td>18.55</td><td>899.28</td><td>Aug-2015</td><td>Charged Off</td><td>small_business</td><td>Business</td><td>2024-05-26 19:46:...</td></tr>\n",
       "<tr><td>56563360</td><td>9c617cbc6e3e3d6a1...</td><td>25000.0</td><td>25000.0</td><td>60</td><td>21.99</td><td>690.34</td><td>Aug-2015</td><td>Current</td><td>credit_card</td><td>Credit card refin...</td><td>2024-05-26 19:46:...</td></tr>\n",
       "<tr><td>56533113</td><td>45eb04dd75400a942...</td><td>20000.0</td><td>20000.0</td><td>36</td><td>13.99</td><td>683.46</td><td>Aug-2015</td><td>Fully Paid</td><td>debt_consolidation</td><td>Debt consolidation</td><td>2024-05-26 19:46:...</td></tr>\n",
       "<tr><td>56904118</td><td>08d233c81f9e50726...</td><td>9525.0</td><td>9525.0</td><td>36</td><td>12.29</td><td>317.69</td><td>Aug-2015</td><td>Charged Off</td><td>debt_consolidation</td><td>Debt consolidation</td><td>2024-05-26 19:46:...</td></tr>\n",
       "<tr><td>56473361</td><td>8ff4d0ed17a1cab92...</td><td>4200.0</td><td>4200.0</td><td>36</td><td>15.61</td><td>146.86</td><td>Aug-2015</td><td>Fully Paid</td><td>credit_card</td><td>Credit card refin...</td><td>2024-05-26 19:46:...</td></tr>\n",
       "<tr><td>56021410</td><td>aec13cfd611b2cfea...</td><td>8625.0</td><td>8625.0</td><td>36</td><td>16.55</td><td>305.58</td><td>Aug-2015</td><td>Fully Paid</td><td>debt_consolidation</td><td>Debt consolidation</td><td>2024-05-26 19:46:...</td></tr>\n",
       "<tr><td>56473332</td><td>9ba8c96ccba6cd1f0...</td><td>19000.0</td><td>19000.0</td><td>60</td><td>17.57</td><td>478.05</td><td>Jul-2015</td><td>Current</td><td>credit_card</td><td>Credit card refin...</td><td>2024-05-26 19:46:...</td></tr>\n",
       "</table>\n",
       "only showing top 20 rows\n"
      ],
      "text/plain": [
       "+--------+--------------------+-----------+-------------+----+--------+-----------+--------+-----------+------------------+--------------------+--------------------+\n",
       "|loand_id|           member_id|loan_amount|funded_amount|term|int_rate|installment| issue_d|loan_status|           purpose|               title|     ingestTimestamp|\n",
       "+--------+--------------------+-----------+-------------+----+--------+-----------+--------+-----------+------------------+--------------------+--------------------+\n",
       "|56633077|b59d80da191f5b573...|     3000.0|       3000.0|  36|    7.89|      93.86|Aug-2015| Fully Paid|       credit_card|Credit card refin...|2024-05-26 19:46:...|\n",
       "|55927518|202d9f56ecb7c3bc9...|    15600.0|      15600.0|  36|    7.89|     488.06|Aug-2015| Fully Paid|       credit_card|Credit card refin...|2024-05-26 19:46:...|\n",
       "|56473345|e5a140c0922b554b9...|    20000.0|      20000.0|  36|    9.17|     637.58|Aug-2015| Fully Paid|debt_consolidation|  Debt consolidation|2024-05-26 19:46:...|\n",
       "|56463188|e12aefc548f750777...|    11200.0|      11200.0|  60|   21.99|     309.27|Aug-2015| Fully Paid|  home_improvement|    Home improvement|2024-05-26 19:46:...|\n",
       "|56473316|1b3a50d854fbbf97e...|    16000.0|      16000.0|  60|   20.99|     432.77|Aug-2015|Charged Off|debt_consolidation|  Debt consolidation|2024-05-26 19:46:...|\n",
       "|56663266|1c4329e5f17697127...|    20000.0|      20000.0|  60|   13.33|     458.45|Aug-2015|Charged Off|debt_consolidation|  Debt consolidation|2024-05-26 19:46:...|\n",
       "|56483027|5026c86ad983175eb...|    10000.0|      10000.0|  36|   12.69|     335.45|Aug-2015| Fully Paid|             other|               Other|2024-05-26 19:46:...|\n",
       "|56613385|9847d8c1e9d0b2084...|    23400.0|      23400.0|  60|   19.19|     609.46|Aug-2015|    Current|    small_business|            Business|2024-05-26 19:46:...|\n",
       "|56643620|8340dbe1adea41fb4...|    16000.0|      16000.0|  36|    5.32|     481.84|Jul-2015| Fully Paid|debt_consolidation|  Debt consolidation|2024-05-26 19:46:...|\n",
       "|56533114|d4de0de3ab7d79ad4...|    25450.0|      25450.0|  36|   27.31|    1043.24|Aug-2015|Charged Off|debt_consolidation|  Debt consolidation|2024-05-26 19:46:...|\n",
       "|56984127|3df3cdeddb74a8712...|    24000.0|      24000.0|  36|    7.89|     750.86|Aug-2015| Fully Paid|debt_consolidation|  Debt consolidation|2024-05-26 19:46:...|\n",
       "|56131038|9dd72636b1b4045b4...|    12000.0|      12000.0|  60|   15.61|     289.34|Aug-2015|    Current|       credit_card|Credit card refin...|2024-05-26 19:46:...|\n",
       "|56452581|1d4e1ef4353b73c00...|    25000.0|      25000.0|  36|   13.33|     846.33|Jul-2015| Fully Paid|  home_improvement|    Home improvement|2024-05-26 19:46:...|\n",
       "|56685321|6f196952e71277fd4...|    35000.0|      35000.0|  60|   18.55|     899.28|Aug-2015|Charged Off|    small_business|            Business|2024-05-26 19:46:...|\n",
       "|56563360|9c617cbc6e3e3d6a1...|    25000.0|      25000.0|  60|   21.99|     690.34|Aug-2015|    Current|       credit_card|Credit card refin...|2024-05-26 19:46:...|\n",
       "|56533113|45eb04dd75400a942...|    20000.0|      20000.0|  36|   13.99|     683.46|Aug-2015| Fully Paid|debt_consolidation|  Debt consolidation|2024-05-26 19:46:...|\n",
       "|56904118|08d233c81f9e50726...|     9525.0|       9525.0|  36|   12.29|     317.69|Aug-2015|Charged Off|debt_consolidation|  Debt consolidation|2024-05-26 19:46:...|\n",
       "|56473361|8ff4d0ed17a1cab92...|     4200.0|       4200.0|  36|   15.61|     146.86|Aug-2015| Fully Paid|       credit_card|Credit card refin...|2024-05-26 19:46:...|\n",
       "|56021410|aec13cfd611b2cfea...|     8625.0|       8625.0|  36|   16.55|     305.58|Aug-2015| Fully Paid|debt_consolidation|  Debt consolidation|2024-05-26 19:46:...|\n",
       "|56473332|9ba8c96ccba6cd1f0...|    19000.0|      19000.0|  60|   17.57|     478.05|Jul-2015|    Current|       credit_card|Credit card refin...|2024-05-26 19:46:...|\n",
       "+--------+--------------------+-----------+-------------+----+--------+-----------+--------+-----------+------------------+--------------------+--------------------+\n",
       "only showing top 20 rows"
      ]
     },
     "execution_count": 75,
     "metadata": {},
     "output_type": "execute_result"
    }
   ],
   "source": [
    "df_with_term"
   ]
  },
  {
   "cell_type": "code",
   "execution_count": 76,
   "id": "f95eeaeb",
   "metadata": {},
   "outputs": [],
   "source": [
    "df_with_term_int = df_with_term.withColumn(\"term\",col(\"term\").cast(\"int\"))"
   ]
  },
  {
   "cell_type": "code",
   "execution_count": 83,
   "id": "416c5097",
   "metadata": {},
   "outputs": [],
   "source": [
    "df_with_term_int = df_with_term.withColumn(\"term\",(col(\"term\")/12).cast(\"int\"))"
   ]
  },
  {
   "cell_type": "code",
   "execution_count": 91,
   "id": "0dbbd57a",
   "metadata": {},
   "outputs": [
    {
     "data": {
      "text/html": [
       "<table border='1'>\n",
       "<tr><th>loand_id</th><th>member_id</th><th>loan_amount</th><th>funded_amount</th><th>term</th><th>int_rate</th><th>installment</th><th>issue_d</th><th>loan_status</th><th>purpose</th><th>title</th><th>ingestTimestamp</th></tr>\n",
       "<tr><td>56633077</td><td>b59d80da191f5b573...</td><td>3000.0</td><td>3000.0</td><td>3</td><td>7.89</td><td>93.86</td><td>Aug-2015</td><td>Fully Paid</td><td>credit_card</td><td>Credit card refin...</td><td>2024-05-26 20:01:...</td></tr>\n",
       "<tr><td>55927518</td><td>202d9f56ecb7c3bc9...</td><td>15600.0</td><td>15600.0</td><td>3</td><td>7.89</td><td>488.06</td><td>Aug-2015</td><td>Fully Paid</td><td>credit_card</td><td>Credit card refin...</td><td>2024-05-26 20:01:...</td></tr>\n",
       "<tr><td>56473345</td><td>e5a140c0922b554b9...</td><td>20000.0</td><td>20000.0</td><td>3</td><td>9.17</td><td>637.58</td><td>Aug-2015</td><td>Fully Paid</td><td>debt_consolidation</td><td>Debt consolidation</td><td>2024-05-26 20:01:...</td></tr>\n",
       "<tr><td>56463188</td><td>e12aefc548f750777...</td><td>11200.0</td><td>11200.0</td><td>5</td><td>21.99</td><td>309.27</td><td>Aug-2015</td><td>Fully Paid</td><td>home_improvement</td><td>Home improvement</td><td>2024-05-26 20:01:...</td></tr>\n",
       "<tr><td>56473316</td><td>1b3a50d854fbbf97e...</td><td>16000.0</td><td>16000.0</td><td>5</td><td>20.99</td><td>432.77</td><td>Aug-2015</td><td>Charged Off</td><td>debt_consolidation</td><td>Debt consolidation</td><td>2024-05-26 20:01:...</td></tr>\n",
       "<tr><td>56663266</td><td>1c4329e5f17697127...</td><td>20000.0</td><td>20000.0</td><td>5</td><td>13.33</td><td>458.45</td><td>Aug-2015</td><td>Charged Off</td><td>debt_consolidation</td><td>Debt consolidation</td><td>2024-05-26 20:01:...</td></tr>\n",
       "<tr><td>56483027</td><td>5026c86ad983175eb...</td><td>10000.0</td><td>10000.0</td><td>3</td><td>12.69</td><td>335.45</td><td>Aug-2015</td><td>Fully Paid</td><td>other</td><td>Other</td><td>2024-05-26 20:01:...</td></tr>\n",
       "<tr><td>56613385</td><td>9847d8c1e9d0b2084...</td><td>23400.0</td><td>23400.0</td><td>5</td><td>19.19</td><td>609.46</td><td>Aug-2015</td><td>Current</td><td>small_business</td><td>Business</td><td>2024-05-26 20:01:...</td></tr>\n",
       "<tr><td>56643620</td><td>8340dbe1adea41fb4...</td><td>16000.0</td><td>16000.0</td><td>3</td><td>5.32</td><td>481.84</td><td>Jul-2015</td><td>Fully Paid</td><td>debt_consolidation</td><td>Debt consolidation</td><td>2024-05-26 20:01:...</td></tr>\n",
       "<tr><td>56533114</td><td>d4de0de3ab7d79ad4...</td><td>25450.0</td><td>25450.0</td><td>3</td><td>27.31</td><td>1043.24</td><td>Aug-2015</td><td>Charged Off</td><td>debt_consolidation</td><td>Debt consolidation</td><td>2024-05-26 20:01:...</td></tr>\n",
       "<tr><td>56984127</td><td>3df3cdeddb74a8712...</td><td>24000.0</td><td>24000.0</td><td>3</td><td>7.89</td><td>750.86</td><td>Aug-2015</td><td>Fully Paid</td><td>debt_consolidation</td><td>Debt consolidation</td><td>2024-05-26 20:01:...</td></tr>\n",
       "<tr><td>56131038</td><td>9dd72636b1b4045b4...</td><td>12000.0</td><td>12000.0</td><td>5</td><td>15.61</td><td>289.34</td><td>Aug-2015</td><td>Current</td><td>credit_card</td><td>Credit card refin...</td><td>2024-05-26 20:01:...</td></tr>\n",
       "<tr><td>56452581</td><td>1d4e1ef4353b73c00...</td><td>25000.0</td><td>25000.0</td><td>3</td><td>13.33</td><td>846.33</td><td>Jul-2015</td><td>Fully Paid</td><td>home_improvement</td><td>Home improvement</td><td>2024-05-26 20:01:...</td></tr>\n",
       "<tr><td>56685321</td><td>6f196952e71277fd4...</td><td>35000.0</td><td>35000.0</td><td>5</td><td>18.55</td><td>899.28</td><td>Aug-2015</td><td>Charged Off</td><td>small_business</td><td>Business</td><td>2024-05-26 20:01:...</td></tr>\n",
       "<tr><td>56563360</td><td>9c617cbc6e3e3d6a1...</td><td>25000.0</td><td>25000.0</td><td>5</td><td>21.99</td><td>690.34</td><td>Aug-2015</td><td>Current</td><td>credit_card</td><td>Credit card refin...</td><td>2024-05-26 20:01:...</td></tr>\n",
       "<tr><td>56533113</td><td>45eb04dd75400a942...</td><td>20000.0</td><td>20000.0</td><td>3</td><td>13.99</td><td>683.46</td><td>Aug-2015</td><td>Fully Paid</td><td>debt_consolidation</td><td>Debt consolidation</td><td>2024-05-26 20:01:...</td></tr>\n",
       "<tr><td>56904118</td><td>08d233c81f9e50726...</td><td>9525.0</td><td>9525.0</td><td>3</td><td>12.29</td><td>317.69</td><td>Aug-2015</td><td>Charged Off</td><td>debt_consolidation</td><td>Debt consolidation</td><td>2024-05-26 20:01:...</td></tr>\n",
       "<tr><td>56473361</td><td>8ff4d0ed17a1cab92...</td><td>4200.0</td><td>4200.0</td><td>3</td><td>15.61</td><td>146.86</td><td>Aug-2015</td><td>Fully Paid</td><td>credit_card</td><td>Credit card refin...</td><td>2024-05-26 20:01:...</td></tr>\n",
       "<tr><td>56021410</td><td>aec13cfd611b2cfea...</td><td>8625.0</td><td>8625.0</td><td>3</td><td>16.55</td><td>305.58</td><td>Aug-2015</td><td>Fully Paid</td><td>debt_consolidation</td><td>Debt consolidation</td><td>2024-05-26 20:01:...</td></tr>\n",
       "<tr><td>56473332</td><td>9ba8c96ccba6cd1f0...</td><td>19000.0</td><td>19000.0</td><td>5</td><td>17.57</td><td>478.05</td><td>Jul-2015</td><td>Current</td><td>credit_card</td><td>Credit card refin...</td><td>2024-05-26 20:01:...</td></tr>\n",
       "</table>\n",
       "only showing top 20 rows\n"
      ],
      "text/plain": [
       "DataFrame[loand_id: string, member_id: string, loan_amount: float, funded_amount: float, term: int, int_rate: float, installment: float, issue_d: string, loan_status: string, purpose: string, title: string, ingestTimestamp: timestamp]"
      ]
     },
     "execution_count": 91,
     "metadata": {},
     "output_type": "execute_result"
    }
   ],
   "source": [
    "df_with_term_int"
   ]
  },
  {
   "cell_type": "markdown",
   "id": "83b19b2e",
   "metadata": {},
   "source": [
    "# Replacing the columns with values other than in the specified bucket of values to “other”"
   ]
  },
  {
   "cell_type": "code",
   "execution_count": 97,
   "id": "1c38da16",
   "metadata": {},
   "outputs": [],
   "source": [
    "loan_purpose_lookup = [\"debt_consolidation\",\"credit_card\",\"home_improvement\",\"other\",\"major_purchase\",\"medical\",\"small_business\",\"car\",\"vacation\",\"moving\",\"house\",\"wedding\",\"renewable_energy\",\"educational\"]"
   ]
  },
  {
   "cell_type": "code",
   "execution_count": 101,
   "id": "f0ba9a84",
   "metadata": {},
   "outputs": [],
   "source": [
    "loan_purpose_modifier = df_with_term_int.withColumn(\"purpose\",when(col(\"purpose\").isin(loan_purpose_lookup),col(\"purpose\")).otherwise(\"other\"))"
   ]
  },
  {
   "cell_type": "code",
   "execution_count": 105,
   "id": "451e510e",
   "metadata": {},
   "outputs": [
    {
     "data": {
      "text/html": [
       "<table border='1'>\n",
       "<tr><th>purpose</th><th>total</th></tr>\n",
       "<tr><td>debt_consolidation</td><td>1277790</td></tr>\n",
       "<tr><td>credit_card</td><td>516926</td></tr>\n",
       "<tr><td>home_improvement</td><td>150440</td></tr>\n",
       "<tr><td>other</td><td>139413</td></tr>\n",
       "<tr><td>major_purchase</td><td>50429</td></tr>\n",
       "<tr><td>medical</td><td>27481</td></tr>\n",
       "<tr><td>small_business</td><td>24659</td></tr>\n",
       "<tr><td>car</td><td>24009</td></tr>\n",
       "<tr><td>vacation</td><td>15525</td></tr>\n",
       "<tr><td>moving</td><td>15402</td></tr>\n",
       "<tr><td>house</td><td>14131</td></tr>\n",
       "<tr><td>wedding</td><td>2351</td></tr>\n",
       "<tr><td>renewable_energy</td><td>1445</td></tr>\n",
       "<tr><td>educational</td><td>412</td></tr>\n",
       "<tr><td>I have eliminated...</td><td>1</td></tr>\n",
       "<tr><td>putting together ...</td><td>1</td></tr>\n",
       "<tr><td>Bank of America c...</td><td>1</td></tr>\n",
       "<tr><td>stocks</td><td>1</td></tr>\n",
       "<tr><td>I became his prim...</td><td>1</td></tr>\n",
       "<tr><td>brakes</td><td>1</td></tr>\n",
       "</table>\n",
       "only showing top 20 rows\n"
      ],
      "text/plain": [
       "+--------------------+-------+\n",
       "|             purpose|  total|\n",
       "+--------------------+-------+\n",
       "|  debt_consolidation|1277790|\n",
       "|         credit_card| 516926|\n",
       "|    home_improvement| 150440|\n",
       "|               other| 139413|\n",
       "|      major_purchase|  50429|\n",
       "|             medical|  27481|\n",
       "|      small_business|  24659|\n",
       "|                 car|  24009|\n",
       "|            vacation|  15525|\n",
       "|              moving|  15402|\n",
       "|               house|  14131|\n",
       "|             wedding|   2351|\n",
       "|    renewable_energy|   1445|\n",
       "|         educational|    412|\n",
       "|never had any tro...|      1|\n",
       "|              stocks|      1|\n",
       "|progressive multi...|      1|\n",
       "|please feel free ...|      1|\n",
       "|but not much info...|      1|\n",
       "|I have eliminated...|      1|\n",
       "+--------------------+-------+\n",
       "only showing top 20 rows"
      ]
     },
     "execution_count": 105,
     "metadata": {},
     "output_type": "execute_result"
    }
   ],
   "source": [
    "df_with_term_int.groupBy(\"purpose\").agg(count(\"purpose\").alias(\"total\")).orderBy(\"total\",ascending = False)"
   ]
  },
  {
   "cell_type": "code",
   "execution_count": 106,
   "id": "097bdb24",
   "metadata": {},
   "outputs": [
    {
     "data": {
      "text/html": [
       "<table border='1'>\n",
       "<tr><th>purpose</th><th>total</th></tr>\n",
       "<tr><td>debt_consolidation</td><td>1277790</td></tr>\n",
       "<tr><td>credit_card</td><td>516926</td></tr>\n",
       "<tr><td>home_improvement</td><td>150440</td></tr>\n",
       "<tr><td>other</td><td>139667</td></tr>\n",
       "<tr><td>major_purchase</td><td>50429</td></tr>\n",
       "<tr><td>medical</td><td>27481</td></tr>\n",
       "<tr><td>small_business</td><td>24659</td></tr>\n",
       "<tr><td>car</td><td>24009</td></tr>\n",
       "<tr><td>vacation</td><td>15525</td></tr>\n",
       "<tr><td>moving</td><td>15402</td></tr>\n",
       "<tr><td>house</td><td>14131</td></tr>\n",
       "<tr><td>wedding</td><td>2351</td></tr>\n",
       "<tr><td>renewable_energy</td><td>1445</td></tr>\n",
       "<tr><td>educational</td><td>412</td></tr>\n",
       "</table>\n"
      ],
      "text/plain": [
       "+------------------+-------+\n",
       "|           purpose|  total|\n",
       "+------------------+-------+\n",
       "|debt_consolidation|1277790|\n",
       "|       credit_card| 516926|\n",
       "|  home_improvement| 150440|\n",
       "|             other| 139667|\n",
       "|    major_purchase|  50429|\n",
       "|           medical|  27481|\n",
       "|    small_business|  24659|\n",
       "|               car|  24009|\n",
       "|          vacation|  15525|\n",
       "|            moving|  15402|\n",
       "|             house|  14131|\n",
       "|           wedding|   2351|\n",
       "|  renewable_energy|   1445|\n",
       "|       educational|    412|\n",
       "+------------------+-------+"
      ]
     },
     "execution_count": 106,
     "metadata": {},
     "output_type": "execute_result"
    }
   ],
   "source": [
    "loan_purpose_modifier.groupBy(\"purpose\").agg(count(\"purpose\").alias(\"total\")).orderBy(\"total\",ascending = False)"
   ]
  },
  {
   "cell_type": "markdown",
   "id": "38115f84",
   "metadata": {},
   "source": [
    "# Write it back to the folder"
   ]
  },
  {
   "cell_type": "code",
   "execution_count": 107,
   "id": "ce87233d",
   "metadata": {},
   "outputs": [],
   "source": [
    "loan_purpose_modifier.repartition(1).write.format(\"parquet\").mode(\"overwrite\").option(\"header\",True).option(\"path\",\"/user/itv012667/lendingclub/cleaneddata/loans_data\").save()"
   ]
  }
 ],
 "metadata": {
  "kernelspec": {
   "display_name": "Pyspark 3",
   "language": "python",
   "name": "pyspark3"
  },
  "language_info": {
   "codemirror_mode": {
    "name": "ipython",
    "version": 3
   },
   "file_extension": ".py",
   "mimetype": "text/x-python",
   "name": "python",
   "nbconvert_exporter": "python",
   "pygments_lexer": "ipython3",
   "version": "3.6.12"
  }
 },
 "nbformat": 4,
 "nbformat_minor": 5
}
