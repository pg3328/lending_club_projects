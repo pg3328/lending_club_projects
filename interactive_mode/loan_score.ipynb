{
 "cells": [
  {
   "cell_type": "code",
   "execution_count": 35,
   "id": "4ba1bfb4",
   "metadata": {},
   "outputs": [],
   "source": [
    "from pyspark.sql import *\n",
    "import getpass\n",
    "username = getpass.getuser()\n",
    "spark = SparkSession.builder \\\n",
    "    .appName('loans_score') \\\n",
    "    .config('spark.ui.port', '0') \\\n",
    "    .config('spark.shuffle.useOldFetchProtocol','true') \\\n",
    "    .config(\"spark.sql.warehouse.dir\", f\"/user/{username}/warehouse\") \\\n",
    "    .enableHiveSupport() \\\n",
    "    .master('yarn') \\\n",
    "    .getOrCreate()"
   ]
  },
  {
   "cell_type": "code",
   "execution_count": 66,
   "id": "9c9e8956",
   "metadata": {},
   "outputs": [],
   "source": [
    "spark.stop()"
   ]
  },
  {
   "cell_type": "markdown",
   "id": "b4c0710f",
   "metadata": {},
   "source": [
    "# Setting up global variables to ease calculations"
   ]
  },
  {
   "cell_type": "code",
   "execution_count": 38,
   "id": "da2af1a1",
   "metadata": {},
   "outputs": [],
   "source": [
    "spark.conf.set('spark.sql.unacceptable_rated_pts',0)\n",
    "spark.conf.set('spark.sql.very_bad_rated_pts',100)\n",
    "spark.conf.set('spark.sql.bad_rated_pts',250)\n",
    "spark.conf.set('spark.sql.good_rated_pts',500)\n",
    "spark.conf.set('spark.sql.very_good_rated_pts',650)\n",
    "spark.conf.set('spark.sql.excellent_rated_pts',800)\n",
    "spark.conf.set('spark.sql.unacceptable_grade_pts',750)\n",
    "spark.conf.set('spark.sql.very_bad_grade_pts',1000)\n",
    "spark.conf.set('spark.sql.bad_grade_pts',1500)\n",
    "spark.conf.set('spark.sql.good_grade_pts',2000)\n",
    "spark.conf.set('spark.sql.very_good_grade_pts',2500)"
   ]
  },
  {
   "cell_type": "markdown",
   "id": "8fc532ea",
   "metadata": {},
   "source": [
    "# Loan score = 0.2 * payment_history + 0.45 *default_history + 0.35 * financial health"
   ]
  },
  {
   "cell_type": "markdown",
   "id": "6c03def3",
   "metadata": {},
   "source": [
    "# Payment History => last payment and what is the total money received "
   ]
  },
  {
   "cell_type": "code",
   "execution_count": 37,
   "id": "2b5e874a",
   "metadata": {},
   "outputs": [],
   "source": [
    "bad_customer_data_final_df = spark.read.csv('/user/itv012667/lendingclub/bad/bad/bad_customer_data_final',inferSchema=True,header=True)"
   ]
  },
  {
   "cell_type": "code",
   "execution_count": 39,
   "id": "b859d0fc",
   "metadata": {},
   "outputs": [],
   "source": [
    "bad_customer_data_final_df.createOrReplaceTempView(\"bad_data_customer\")"
   ]
  },
  {
   "cell_type": "code",
   "execution_count": 40,
   "id": "861c7acf",
   "metadata": {},
   "outputs": [],
   "source": [
    "ph_df = spark.sql(\"select c.member_id, \\\n",
    "   case \\\n",
    "   when p.last_payment < (c.installment * 0.5) then ${spark.sql.very_bad_rated_pts} \\\n",
    "   when p.last_payment >= (c.installment * 0.5) and p.last_payment < c.installment then ${spark.sql.very_bad_rated_pts} \\\n",
    "   when (p.last_payment = (c.installment)) then ${spark.sql.good_rated_pts} \\\n",
    "   when p.last_payment > (c.installment) and p.last_payment <= (c.installment * 1.50) then ${spark.sql.very_good_rated_pts} \\\n",
    "   when p.last_payment > (c.installment * 1.50) then ${spark.sql.excellent_rated_pts} \\\n",
    "   else ${spark.sql.unacceptable_rated_pts} \\\n",
    "   end as last_payment_pts, \\\n",
    "   case \\\n",
    "   when p.total_payment >= (c.funded_amount * 0.50) then ${spark.sql.very_good_rated_pts} \\\n",
    "   when p.total_payment < (c.funded_amount * 0.50) and p.total_payment > 0 then ${spark.sql.good_rated_pts} \\\n",
    "   when p.total_payment = 0 or (p.total_payment) is null then ${spark.sql.unacceptable_rated_pts} \\\n",
    "   end as total_payment_pts \\\n",
    "from itv_012667_lending_club.loan_repayments p \\\n",
    "inner join itv_012667_lending_club.loans c on c.loand_id = p.loan_id where member_id NOT IN (select member_id from bad_data_customer)\")"
   ]
  },
  {
   "cell_type": "code",
   "execution_count": 41,
   "id": "ebe97423",
   "metadata": {},
   "outputs": [
    {
     "data": {
      "text/html": [
       "<table border='1'>\n",
       "<tr><th>loand_id</th><th>member_id</th><th>loan_amount</th><th>funded_amount</th><th>term</th><th>int_rate</th><th>installment</th><th>issue_d</th><th>loan_status</th><th>purpose</th><th>title</th><th>ingestTimestamp</th></tr>\n",
       "<tr><td>56633077</td><td>b59d80da191f5b573...</td><td>3000.0</td><td>3000.0</td><td>3</td><td>7.89</td><td>93.86</td><td>Aug-2015</td><td>Fully Paid</td><td>credit_card</td><td>Credit card refin...</td><td>2024-05-26 20:16:...</td></tr>\n",
       "<tr><td>55927518</td><td>202d9f56ecb7c3bc9...</td><td>15600.0</td><td>15600.0</td><td>3</td><td>7.89</td><td>488.06</td><td>Aug-2015</td><td>Fully Paid</td><td>credit_card</td><td>Credit card refin...</td><td>2024-05-26 20:16:...</td></tr>\n",
       "<tr><td>56473345</td><td>e5a140c0922b554b9...</td><td>20000.0</td><td>20000.0</td><td>3</td><td>9.17</td><td>637.58</td><td>Aug-2015</td><td>Fully Paid</td><td>debt_consolidation</td><td>Debt consolidation</td><td>2024-05-26 20:16:...</td></tr>\n",
       "<tr><td>56463188</td><td>e12aefc548f750777...</td><td>11200.0</td><td>11200.0</td><td>5</td><td>21.99</td><td>309.27</td><td>Aug-2015</td><td>Fully Paid</td><td>home_improvement</td><td>Home improvement</td><td>2024-05-26 20:16:...</td></tr>\n",
       "<tr><td>56473316</td><td>1b3a50d854fbbf97e...</td><td>16000.0</td><td>16000.0</td><td>5</td><td>20.99</td><td>432.77</td><td>Aug-2015</td><td>Charged Off</td><td>debt_consolidation</td><td>Debt consolidation</td><td>2024-05-26 20:16:...</td></tr>\n",
       "<tr><td>56663266</td><td>1c4329e5f17697127...</td><td>20000.0</td><td>20000.0</td><td>5</td><td>13.33</td><td>458.45</td><td>Aug-2015</td><td>Charged Off</td><td>debt_consolidation</td><td>Debt consolidation</td><td>2024-05-26 20:16:...</td></tr>\n",
       "<tr><td>56483027</td><td>5026c86ad983175eb...</td><td>10000.0</td><td>10000.0</td><td>3</td><td>12.69</td><td>335.45</td><td>Aug-2015</td><td>Fully Paid</td><td>other</td><td>Other</td><td>2024-05-26 20:16:...</td></tr>\n",
       "<tr><td>56613385</td><td>9847d8c1e9d0b2084...</td><td>23400.0</td><td>23400.0</td><td>5</td><td>19.19</td><td>609.46</td><td>Aug-2015</td><td>Current</td><td>small_business</td><td>Business</td><td>2024-05-26 20:16:...</td></tr>\n",
       "<tr><td>56643620</td><td>8340dbe1adea41fb4...</td><td>16000.0</td><td>16000.0</td><td>3</td><td>5.32</td><td>481.84</td><td>Jul-2015</td><td>Fully Paid</td><td>debt_consolidation</td><td>Debt consolidation</td><td>2024-05-26 20:16:...</td></tr>\n",
       "<tr><td>56533114</td><td>d4de0de3ab7d79ad4...</td><td>25450.0</td><td>25450.0</td><td>3</td><td>27.31</td><td>1043.24</td><td>Aug-2015</td><td>Charged Off</td><td>debt_consolidation</td><td>Debt consolidation</td><td>2024-05-26 20:16:...</td></tr>\n",
       "<tr><td>56984127</td><td>3df3cdeddb74a8712...</td><td>24000.0</td><td>24000.0</td><td>3</td><td>7.89</td><td>750.86</td><td>Aug-2015</td><td>Fully Paid</td><td>debt_consolidation</td><td>Debt consolidation</td><td>2024-05-26 20:16:...</td></tr>\n",
       "<tr><td>56131038</td><td>9dd72636b1b4045b4...</td><td>12000.0</td><td>12000.0</td><td>5</td><td>15.61</td><td>289.34</td><td>Aug-2015</td><td>Current</td><td>credit_card</td><td>Credit card refin...</td><td>2024-05-26 20:16:...</td></tr>\n",
       "<tr><td>56452581</td><td>1d4e1ef4353b73c00...</td><td>25000.0</td><td>25000.0</td><td>3</td><td>13.33</td><td>846.33</td><td>Jul-2015</td><td>Fully Paid</td><td>home_improvement</td><td>Home improvement</td><td>2024-05-26 20:16:...</td></tr>\n",
       "<tr><td>56685321</td><td>6f196952e71277fd4...</td><td>35000.0</td><td>35000.0</td><td>5</td><td>18.55</td><td>899.28</td><td>Aug-2015</td><td>Charged Off</td><td>small_business</td><td>Business</td><td>2024-05-26 20:16:...</td></tr>\n",
       "<tr><td>56563360</td><td>9c617cbc6e3e3d6a1...</td><td>25000.0</td><td>25000.0</td><td>5</td><td>21.99</td><td>690.34</td><td>Aug-2015</td><td>Current</td><td>credit_card</td><td>Credit card refin...</td><td>2024-05-26 20:16:...</td></tr>\n",
       "<tr><td>56533113</td><td>45eb04dd75400a942...</td><td>20000.0</td><td>20000.0</td><td>3</td><td>13.99</td><td>683.46</td><td>Aug-2015</td><td>Fully Paid</td><td>debt_consolidation</td><td>Debt consolidation</td><td>2024-05-26 20:16:...</td></tr>\n",
       "<tr><td>56904118</td><td>08d233c81f9e50726...</td><td>9525.0</td><td>9525.0</td><td>3</td><td>12.29</td><td>317.69</td><td>Aug-2015</td><td>Charged Off</td><td>debt_consolidation</td><td>Debt consolidation</td><td>2024-05-26 20:16:...</td></tr>\n",
       "<tr><td>56473361</td><td>8ff4d0ed17a1cab92...</td><td>4200.0</td><td>4200.0</td><td>3</td><td>15.61</td><td>146.86</td><td>Aug-2015</td><td>Fully Paid</td><td>credit_card</td><td>Credit card refin...</td><td>2024-05-26 20:16:...</td></tr>\n",
       "<tr><td>56021410</td><td>aec13cfd611b2cfea...</td><td>8625.0</td><td>8625.0</td><td>3</td><td>16.55</td><td>305.58</td><td>Aug-2015</td><td>Fully Paid</td><td>debt_consolidation</td><td>Debt consolidation</td><td>2024-05-26 20:16:...</td></tr>\n",
       "<tr><td>56473332</td><td>9ba8c96ccba6cd1f0...</td><td>19000.0</td><td>19000.0</td><td>5</td><td>17.57</td><td>478.05</td><td>Jul-2015</td><td>Current</td><td>credit_card</td><td>Credit card refin...</td><td>2024-05-26 20:16:...</td></tr>\n",
       "</table>\n",
       "only showing top 20 rows\n"
      ],
      "text/plain": [
       "+--------+--------------------+-----------+-------------+----+--------+-----------+--------+-----------+------------------+--------------------+--------------------+\n",
       "|loand_id|           member_id|loan_amount|funded_amount|term|int_rate|installment| issue_d|loan_status|           purpose|               title|     ingestTimestamp|\n",
       "+--------+--------------------+-----------+-------------+----+--------+-----------+--------+-----------+------------------+--------------------+--------------------+\n",
       "|56633077|b59d80da191f5b573...|     3000.0|       3000.0|   3|    7.89|      93.86|Aug-2015| Fully Paid|       credit_card|Credit card refin...|2024-05-26 20:16:...|\n",
       "|55927518|202d9f56ecb7c3bc9...|    15600.0|      15600.0|   3|    7.89|     488.06|Aug-2015| Fully Paid|       credit_card|Credit card refin...|2024-05-26 20:16:...|\n",
       "|56473345|e5a140c0922b554b9...|    20000.0|      20000.0|   3|    9.17|     637.58|Aug-2015| Fully Paid|debt_consolidation|  Debt consolidation|2024-05-26 20:16:...|\n",
       "|56463188|e12aefc548f750777...|    11200.0|      11200.0|   5|   21.99|     309.27|Aug-2015| Fully Paid|  home_improvement|    Home improvement|2024-05-26 20:16:...|\n",
       "|56473316|1b3a50d854fbbf97e...|    16000.0|      16000.0|   5|   20.99|     432.77|Aug-2015|Charged Off|debt_consolidation|  Debt consolidation|2024-05-26 20:16:...|\n",
       "|56663266|1c4329e5f17697127...|    20000.0|      20000.0|   5|   13.33|     458.45|Aug-2015|Charged Off|debt_consolidation|  Debt consolidation|2024-05-26 20:16:...|\n",
       "|56483027|5026c86ad983175eb...|    10000.0|      10000.0|   3|   12.69|     335.45|Aug-2015| Fully Paid|             other|               Other|2024-05-26 20:16:...|\n",
       "|56613385|9847d8c1e9d0b2084...|    23400.0|      23400.0|   5|   19.19|     609.46|Aug-2015|    Current|    small_business|            Business|2024-05-26 20:16:...|\n",
       "|56643620|8340dbe1adea41fb4...|    16000.0|      16000.0|   3|    5.32|     481.84|Jul-2015| Fully Paid|debt_consolidation|  Debt consolidation|2024-05-26 20:16:...|\n",
       "|56533114|d4de0de3ab7d79ad4...|    25450.0|      25450.0|   3|   27.31|    1043.24|Aug-2015|Charged Off|debt_consolidation|  Debt consolidation|2024-05-26 20:16:...|\n",
       "|56984127|3df3cdeddb74a8712...|    24000.0|      24000.0|   3|    7.89|     750.86|Aug-2015| Fully Paid|debt_consolidation|  Debt consolidation|2024-05-26 20:16:...|\n",
       "|56131038|9dd72636b1b4045b4...|    12000.0|      12000.0|   5|   15.61|     289.34|Aug-2015|    Current|       credit_card|Credit card refin...|2024-05-26 20:16:...|\n",
       "|56452581|1d4e1ef4353b73c00...|    25000.0|      25000.0|   3|   13.33|     846.33|Jul-2015| Fully Paid|  home_improvement|    Home improvement|2024-05-26 20:16:...|\n",
       "|56685321|6f196952e71277fd4...|    35000.0|      35000.0|   5|   18.55|     899.28|Aug-2015|Charged Off|    small_business|            Business|2024-05-26 20:16:...|\n",
       "|56563360|9c617cbc6e3e3d6a1...|    25000.0|      25000.0|   5|   21.99|     690.34|Aug-2015|    Current|       credit_card|Credit card refin...|2024-05-26 20:16:...|\n",
       "|56533113|45eb04dd75400a942...|    20000.0|      20000.0|   3|   13.99|     683.46|Aug-2015| Fully Paid|debt_consolidation|  Debt consolidation|2024-05-26 20:16:...|\n",
       "|56904118|08d233c81f9e50726...|     9525.0|       9525.0|   3|   12.29|     317.69|Aug-2015|Charged Off|debt_consolidation|  Debt consolidation|2024-05-26 20:16:...|\n",
       "|56473361|8ff4d0ed17a1cab92...|     4200.0|       4200.0|   3|   15.61|     146.86|Aug-2015| Fully Paid|       credit_card|Credit card refin...|2024-05-26 20:16:...|\n",
       "|56021410|aec13cfd611b2cfea...|     8625.0|       8625.0|   3|   16.55|     305.58|Aug-2015| Fully Paid|debt_consolidation|  Debt consolidation|2024-05-26 20:16:...|\n",
       "|56473332|9ba8c96ccba6cd1f0...|    19000.0|      19000.0|   5|   17.57|     478.05|Jul-2015|    Current|       credit_card|Credit card refin...|2024-05-26 20:16:...|\n",
       "+--------+--------------------+-----------+-------------+----+--------+-----------+--------+-----------+------------------+--------------------+--------------------+\n",
       "only showing top 20 rows"
      ]
     },
     "execution_count": 41,
     "metadata": {},
     "output_type": "execute_result"
    }
   ],
   "source": [
    "spark.sql(\"select * from itv_012667_lending_club.loans\")"
   ]
  },
  {
   "cell_type": "code",
   "execution_count": 42,
   "id": "5986aaa5",
   "metadata": {},
   "outputs": [],
   "source": [
    "ph_df.createOrReplaceTempView(\"ph_pts\")"
   ]
  },
  {
   "cell_type": "code",
   "execution_count": 43,
   "id": "29f145bf",
   "metadata": {},
   "outputs": [
    {
     "name": "stdout",
     "output_type": "stream",
     "text": [
      "+--------------------+----------------+-----------------+\n",
      "|           member_id|last_payment_pts|total_payment_pts|\n",
      "+--------------------+----------------+-----------------+\n",
      "|dcec9334e70f1cc95...|             800|              650|\n",
      "|fc58ca61f51f9dcac...|             500|              650|\n",
      "|2fb62a6ca51063b11...|             500|              650|\n",
      "|488268a5531951622...|             800|              650|\n",
      "|ade6026208e48f5f9...|             500|              650|\n",
      "|7c8b0ca6acddfaeb1...|             800|              650|\n",
      "|a707b7fe7c38bad65...|             800|              650|\n",
      "|1df639cddea30c288...|             800|              650|\n",
      "|22d67005e12d8726d...|             500|              650|\n",
      "|009cf312bd46551b4...|             500|              650|\n",
      "|2d995d383622fa80e...|             500|              650|\n",
      "|88b97663d2562f239...|             500|              650|\n",
      "|097d871ba6f21ee37...|             500|              650|\n",
      "|82e698108e1b8b88a...|             500|              650|\n",
      "|9e89f004a01479234...|             500|              650|\n",
      "|28ea534e78570f8d1...|             800|              650|\n",
      "|27a6888d24e06f6e2...|             500|              650|\n",
      "|c0d144ae7ab17c793...|             500|              500|\n",
      "|56d1102515f7d6a32...|             800|              650|\n",
      "|ba484052baf1e604c...|             800|              650|\n",
      "+--------------------+----------------+-----------------+\n",
      "only showing top 20 rows\n",
      "\n"
     ]
    }
   ],
   "source": [
    "ph_df.show()"
   ]
  },
  {
   "cell_type": "code",
   "execution_count": 44,
   "id": "2bc6d718",
   "metadata": {},
   "outputs": [
    {
     "data": {
      "text/html": [
       "<table border='1'>\n",
       "<tr><th></th></tr>\n",
       "</table>\n"
      ],
      "text/plain": [
       "++\n",
       "||\n",
       "++\n",
       "++"
      ]
     },
     "execution_count": 44,
     "metadata": {},
     "output_type": "execute_result"
    }
   ],
   "source": [
    "spark.sql(\"use itv_012667_lending_club\")"
   ]
  },
  {
   "cell_type": "code",
   "execution_count": 45,
   "id": "b4e38ff1",
   "metadata": {},
   "outputs": [
    {
     "name": "stdout",
     "output_type": "stream",
     "text": [
      "+-----------------------+-----------------------------------+-----------+\n",
      "|database               |tableName                          |isTemporary|\n",
      "+-----------------------+-----------------------------------+-----------+\n",
      "|itv_012667_lending_club|customer_data                      |false      |\n",
      "|itv_012667_lending_club|customers_new                      |false      |\n",
      "|itv_012667_lending_club|loan_repayments                    |false      |\n",
      "|itv_012667_lending_club|loans                              |false      |\n",
      "|itv_012667_lending_club|loans_defaulters_delinq            |false      |\n",
      "|itv_012667_lending_club|loans_defaulters_delinq_new        |false      |\n",
      "|itv_012667_lending_club|loans_defaulters_detail_rec_enq    |false      |\n",
      "|itv_012667_lending_club|loans_defaulters_detail_rec_enq_new|false      |\n",
      "|                       |bad_data_customer                  |true       |\n",
      "|                       |ph_pts                             |true       |\n",
      "+-----------------------+-----------------------------------+-----------+\n",
      "\n"
     ]
    }
   ],
   "source": [
    "spark.sql(\"show tables\").show(truncate=False)"
   ]
  },
  {
   "cell_type": "markdown",
   "id": "47183b38",
   "metadata": {},
   "source": [
    "# Loan Defaulter History\n",
    "### loan defaulter history => Delinquent in the last 2 years + Public Records + Public Record Bankruptcy filing +Inquiry in the last six months\n"
   ]
  },
  {
   "cell_type": "code",
   "execution_count": 49,
   "id": "a3a8a14b",
   "metadata": {},
   "outputs": [],
   "source": [
    "ldh_ph_df = spark.sql(\n",
    "    \"select p.*, \\\n",
    "    CASE \\\n",
    "    WHEN d.delinq_2yrs = 0 THEN ${spark.sql.excellent_rated_pts} \\\n",
    "    WHEN d.delinq_2yrs BETWEEN 1 AND 2 THEN ${spark.sql.bad_rated_pts} \\\n",
    "    WHEN d.delinq_2yrs BETWEEN 3 AND 5 THEN ${spark.sql.very_bad_rated_pts} \\\n",
    "    WHEN d.delinq_2yrs > 5 OR d.delinq_2yrs IS NULL THEN ${spark.sql.unacceptable_grade_pts} \\\n",
    "    END AS delinq_pts, \\\n",
    "    CASE \\\n",
    "    WHEN l.pub_rec = 0 THEN ${spark.sql.excellent_rated_pts} \\\n",
    "    WHEN l.pub_rec BETWEEN 1 AND 2 THEN ${spark.sql.bad_rated_pts} \\\n",
    "    WHEN l.pub_rec BETWEEN 3 AND 5 THEN ${spark.sql.very_bad_rated_pts} \\\n",
    "    WHEN l.pub_rec > 5 OR l.pub_rec IS NULL THEN ${spark.sql.very_bad_rated_pts} \\\n",
    "    END AS public_records_pts, \\\n",
    "    CASE \\\n",
    "    WHEN l.pub_rec_bankruptcies = 0 THEN ${spark.sql.excellent_rated_pts} \\\n",
    "    WHEN l.pub_rec_bankruptcies BETWEEN 1 AND 2 THEN ${spark.sql.bad_rated_pts} \\\n",
    "    WHEN l.pub_rec_bankruptcies BETWEEN 3 AND 5 THEN ${spark.sql.very_bad_rated_pts} \\\n",
    "    WHEN l.pub_rec_bankruptcies > 5 OR l.pub_rec_bankruptcies IS NULL THEN ${spark.sql.very_bad_rated_pts} \\\n",
    "    END as public_bankruptcies_pts, \\\n",
    "    CASE \\\n",
    "    WHEN l.inq_last_6mths = 0 THEN ${spark.sql.excellent_rated_pts} \\\n",
    "    WHEN l.inq_last_6mths BETWEEN 1 AND 2 THEN ${spark.sql.bad_rated_pts} \\\n",
    "    WHEN l.inq_last_6mths BETWEEN 3 AND 5 THEN ${spark.sql.very_bad_rated_pts} \\\n",
    "    WHEN l.inq_last_6mths > 5 OR l.inq_last_6mths IS NULL THEN ${spark.sql.unacceptable_rated_pts} \\\n",
    "    END AS enq_pts \\\n",
    "    FROM itv_012667_lending_club.loans_defaulters_detail_rec_enq_new l \\\n",
    "    INNER JOIN itv_012667_lending_club.loans_defaulters_delinq_new d ON d.member_id = l.member_id  \\\n",
    "    INNER JOIN ph_pts p ON p.member_id = l.member_id where l.member_id NOT IN (select member_id from bad_data_customer)\")"
   ]
  },
  {
   "cell_type": "code",
   "execution_count": 50,
   "id": "f5cd114b",
   "metadata": {},
   "outputs": [],
   "source": [
    "ldh_ph_df.createOrReplaceTempView(\"ldh_ph_pts\")"
   ]
  },
  {
   "cell_type": "markdown",
   "id": "38c81082",
   "metadata": {},
   "source": [
    "# Financial History\n",
    "### Financial History => Homeownership + Any other loans + Funded Amount (credit limit vs loan acquired) + Grade pts\n"
   ]
  },
  {
   "cell_type": "code",
   "execution_count": 51,
   "id": "5559c993",
   "metadata": {},
   "outputs": [],
   "source": [
    "fh_ldh_ph_df = spark.sql(\"select ldef.*, \\\n",
    "   CASE \\\n",
    "   WHEN LOWER(l.loan_status) LIKE '%fully paid%' THEN ${spark.sql.excellent_rated_pts} \\\n",
    "   WHEN LOWER(l.loan_status) LIKE '%current%' THEN ${spark.sql.good_rated_pts} \\\n",
    "   WHEN LOWER(l.loan_status) LIKE '%in grace period%' THEN ${spark.sql.bad_rated_pts} \\\n",
    "   WHEN LOWER(l.loan_status) LIKE '%late (16-30 days)%' OR LOWER(l.loan_status) LIKE '%late (31-120 days)%' THEN ${spark.sql.very_bad_rated_pts} \\\n",
    "   WHEN LOWER(l.loan_status) LIKE '%charged off%' THEN ${spark.sql.unacceptable_rated_pts} \\\n",
    "   else ${spark.sql.unacceptable_rated_pts} \\\n",
    "   END AS loan_status_pts, \\\n",
    "   CASE \\\n",
    "   WHEN LOWER(a.home_ownership) LIKE '%own' THEN ${spark.sql.excellent_rated_pts} \\\n",
    "   WHEN LOWER(a.home_ownership) LIKE '%rent' THEN ${spark.sql.good_rated_pts} \\\n",
    "   WHEN LOWER(a.home_ownership) LIKE '%mortgage' THEN ${spark.sql.bad_rated_pts} \\\n",
    "   WHEN LOWER(a.home_ownership) LIKE '%any' OR LOWER(a.home_ownership) IS NULL THEN ${spark.sql.very_bad_rated_pts} \\\n",
    "   END AS home_pts, \\\n",
    "   CASE \\\n",
    "   WHEN l.funded_amount <= (a.total_high_credit_limit * 0.10) THEN ${spark.sql.excellent_rated_pts} \\\n",
    "   WHEN l.funded_amount > (a.total_high_credit_limit * 0.10) AND l.funded_amount <= (a.total_high_credit_limit * 0.20) THEN ${spark.sql.very_good_rated_pts} \\\n",
    "   WHEN l.funded_amount > (a.total_high_credit_limit * 0.20) AND l.funded_amount <= (a.total_high_credit_limit * 0.30) THEN ${spark.sql.good_rated_pts} \\\n",
    "   WHEN l.funded_amount > (a.total_high_credit_limit * 0.30) AND l.funded_amount <= (a.total_high_credit_limit * 0.50) THEN ${spark.sql.bad_rated_pts} \\\n",
    "   WHEN l.funded_amount > (a.total_high_credit_limit * 0.50) AND l.funded_amount <= (a.total_high_credit_limit * 0.70) THEN ${spark.sql.very_bad_rated_pts} \\\n",
    "   WHEN l.funded_amount > (a.total_high_credit_limit * 0.70) THEN ${spark.sql.unacceptable_rated_pts} \\\n",
    "   else ${spark.sql.unacceptable_rated_pts} \\\n",
    "   END AS credit_limit_pts, \\\n",
    "   CASE \\\n",
    "   WHEN (a.grade) = 'A' and (a.sub_grade)='A1' THEN ${spark.sql.excellent_rated_pts} \\\n",
    "   WHEN (a.grade) = 'A' and (a.sub_grade)='A2' THEN (${spark.sql.excellent_rated_pts} * 0.95) \\\n",
    "   WHEN (a.grade) = 'A' and (a.sub_grade)='A3' THEN (${spark.sql.excellent_rated_pts} * 0.90) \\\n",
    "   WHEN (a.grade) = 'A' and (a.sub_grade)='A4' THEN (${spark.sql.excellent_rated_pts} * 0.85) \\\n",
    "   WHEN (a.grade) = 'A' and (a.sub_grade)='A5' THEN (${spark.sql.excellent_rated_pts} * 0.80) \\\n",
    "   WHEN (a.grade) = 'B' and (a.sub_grade)='B1' THEN (${spark.sql.very_good_rated_pts}) \\\n",
    "   WHEN (a.grade) = 'B' and (a.sub_grade)='B2' THEN (${spark.sql.very_good_rated_pts} * 0.95) \\\n",
    "   WHEN (a.grade) = 'B' and (a.sub_grade)='B3' THEN (${spark.sql.very_good_rated_pts} * 0.90) \\\n",
    "   WHEN (a.grade) = 'B' and (a.sub_grade)='B4' THEN (${spark.sql.very_good_rated_pts} * 0.85) \\\n",
    "   WHEN (a.grade) = 'B' and (a.sub_grade)='B5' THEN (${spark.sql.very_good_rated_pts} * 0.80) \\\n",
    "   WHEN (a.grade) = 'C' and (a.sub_grade)='C1' THEN (${spark.sql.good_rated_pts}) \\\n",
    "   WHEN (a.grade) = 'C' and (a.sub_grade)='C2' THEN (${spark.sql.good_rated_pts} * 0.95) \\\n",
    "   WHEN (a.grade) = 'C' and (a.sub_grade)='C3' THEN (${spark.sql.good_rated_pts} * 0.90) \\\n",
    "   WHEN (a.grade) = 'C' and (a.sub_grade)='C4' THEN (${spark.sql.good_rated_pts} * 0.85) \\\n",
    "   WHEN (a.grade) = 'C' and (a.sub_grade)='C5' THEN (${spark.sql.good_rated_pts} * 0.80) \\\n",
    "   WHEN (a.grade) = 'D' and (a.sub_grade)='D1' THEN (${spark.sql.bad_rated_pts}) \\\n",
    "   WHEN (a.grade) = 'D' and (a.sub_grade)='D2' THEN (${spark.sql.bad_rated_pts} * 0.95) \\\n",
    "   WHEN (a.grade) = 'D' and (a.sub_grade)='D3' THEN (${spark.sql.bad_rated_pts} * 0.90) \\\n",
    "   WHEN (a.grade) = 'D' and (a.sub_grade)='D4' THEN (${spark.sql.bad_rated_pts} * 0.85) \\\n",
    "   WHEN (a.grade) = 'D' and (a.sub_grade)='D5' THEN (${spark.sql.bad_rated_pts} * 0.80) \\\n",
    "   WHEN (a.grade) = 'E' and (a.sub_grade)='E1' THEN (${spark.sql.very_bad_rated_pts}) \\\n",
    "   WHEN (a.grade) = 'E' and (a.sub_grade)='E2' THEN (${spark.sql.very_bad_rated_pts} * 0.95) \\\n",
    "   WHEN (a.grade) = 'E' and (a.sub_grade)='E3' THEN (${spark.sql.very_bad_rated_pts} * 0.90) \\\n",
    "   WHEN (a.grade) = 'E' and (a.sub_grade)='E4' THEN (${spark.sql.very_bad_rated_pts} * 0.85) \\\n",
    "   WHEN (a.grade) = 'E' and (a.sub_grade)='E5' THEN (${spark.sql.very_bad_rated_pts} * 0.80) \\\n",
    "   WHEN (a.grade) in ('F', 'G') THEN (${spark.sql.unacceptable_rated_pts}) \\\n",
    "   END AS grade_pts \\\n",
    "   FROM ldh_ph_pts ldef \\\n",
    "   INNER JOIN itv_012667_lending_club.loans l ON ldef.member_id = l.member_id \\\n",
    "   INNER JOIN itv_012667_lending_club.customers_new a ON a.member_id = ldef.member_id where ldef.member_id NOT IN (select member_id from bad_data_customer)\") "
   ]
  },
  {
   "cell_type": "code",
   "execution_count": 52,
   "id": "8c2e36af",
   "metadata": {},
   "outputs": [],
   "source": [
    "fh_ldh_ph_df.createOrReplaceTempView(\"fh_ldh_ph_pts\")"
   ]
  },
  {
   "cell_type": "markdown",
   "id": "7e0b64a8",
   "metadata": {},
   "source": [
    "# Loan Score"
   ]
  },
  {
   "cell_type": "code",
   "execution_count": 53,
   "id": "86df77aa",
   "metadata": {},
   "outputs": [],
   "source": [
    "spark.sql(\"select * ,last_payment_pts+total_payment_pts as paymentHistory, delinq_pts+public_records_pts+public_bankruptcies_pts+enq_pts as default_history, loan_status_pts+home_pts+credit_limit_pts+grade_pts as financialHealth from fh_ldh_ph_pts\").createOrReplaceTempView(\"final_Consolidated\")"
   ]
  },
  {
   "cell_type": "code",
   "execution_count": 56,
   "id": "6ddcbc09",
   "metadata": {},
   "outputs": [],
   "source": [
    "loan_score = spark.sql(\"select member_id, paymentHistory,default_history as defaultHistory, financialHealth, 0.2*paymentHistory+0.45*default_history+0.35*financialHealth as loanScore from final_Consolidated\")"
   ]
  },
  {
   "cell_type": "code",
   "execution_count": 60,
   "id": "f049aa9c",
   "metadata": {},
   "outputs": [],
   "source": [
    "loan_score.createOrReplaceTempView(\"loan_score\")"
   ]
  },
  {
   "cell_type": "markdown",
   "id": "be4a7e28",
   "metadata": {},
   "source": [
    "# Calcuate the grade"
   ]
  },
  {
   "cell_type": "code",
   "execution_count": 63,
   "id": "13f40fc5",
   "metadata": {},
   "outputs": [],
   "source": [
    "loan_score_final = spark.sql(\"select ls.*, \\\n",
    "case \\\n",
    "WHEN loanScore > ${spark.sql.very_good_grade_pts} THEN 'A' \\\n",
    "WHEN loanScore <= ${spark.sql.very_good_grade_pts} AND loanScore > ${spark.sql.good_grade_pts} THEN 'B' \\\n",
    "WHEN loanScore <= ${spark.sql.good_grade_pts} AND loanScore > ${spark.sql.bad_grade_pts} THEN 'C' \\\n",
    "WHEN loanScore <= ${spark.sql.bad_grade_pts} AND loanScore  > ${spark.sql.very_bad_grade_pts} THEN 'D' \\\n",
    "WHEN loanScore <= ${spark.sql.very_bad_grade_pts} AND loanScore > ${spark.sql.unacceptable_grade_pts} THEN 'E'  \\\n",
    "WHEN loanScore <= ${spark.sql.unacceptable_grade_pts} THEN 'F' \\\n",
    "end as loan_final_grade \\\n",
    "from loan_score ls\")"
   ]
  },
  {
   "cell_type": "code",
   "execution_count": 64,
   "id": "05169325",
   "metadata": {},
   "outputs": [
    {
     "data": {
      "text/html": [
       "<table border='1'>\n",
       "<tr><th>member_id</th><th>paymentHistory</th><th>defaultHistory</th><th>financialHealth</th><th>loanScore</th><th>loan_final_grade</th></tr>\n",
       "<tr><td>000c8875b71a6b47c...</td><td>1450</td><td>2650</td><td>2530.00</td><td>2368.0000</td><td>B</td></tr>\n",
       "<tr><td>003769d7f54c7859e...</td><td>1000</td><td>2650</td><td>1150.00</td><td>1795.0000</td><td>C</td></tr>\n",
       "<tr><td>003e1e6cbd2920bbb...</td><td>1150</td><td>1550</td><td>2190.00</td><td>1694.0000</td><td>C</td></tr>\n",
       "<tr><td>004017b21bd4d6271...</td><td>750</td><td>3150</td><td>2350.00</td><td>2390.0000</td><td>B</td></tr>\n",
       "<tr><td>005b4c3db3fce07dc...</td><td>1150</td><td>1550</td><td>1770.00</td><td>1547.0000</td><td>C</td></tr>\n",
       "<tr><td>00710707c563c2119...</td><td>1450</td><td>2650</td><td>2370.00</td><td>2312.0000</td><td>B</td></tr>\n",
       "<tr><td>007da79904f69970d...</td><td>1450</td><td>2650</td><td>2350.00</td><td>2305.0000</td><td>B</td></tr>\n",
       "<tr><td>00f435a80d0440ece...</td><td>1000</td><td>2500</td><td>2025.00</td><td>2033.7500</td><td>B</td></tr>\n",
       "<tr><td>00fc2ae3ffb1213e4...</td><td>1300</td><td>2650</td><td>2150.00</td><td>2205.0000</td><td>B</td></tr>\n",
       "<tr><td>00fc8144cb210ba8c...</td><td>1150</td><td>1550</td><td>2050.00</td><td>1645.0000</td><td>C</td></tr>\n",
       "<tr><td>01121d7f3f6f27495...</td><td>1450</td><td>2650</td><td>2467.50</td><td>2346.1250</td><td>B</td></tr>\n",
       "<tr><td>0112e15adaf0c0029...</td><td>1150</td><td>2650</td><td>1700.00</td><td>2017.5000</td><td>B</td></tr>\n",
       "<tr><td>017ce564dc0d6f975...</td><td>1000</td><td>2100</td><td>1690.00</td><td>1736.5000</td><td>C</td></tr>\n",
       "<tr><td>017d1fd3d6169ee29...</td><td>1300</td><td>1550</td><td>1985.00</td><td>1652.2500</td><td>C</td></tr>\n",
       "<tr><td>018a82c47453bf02d...</td><td>750</td><td>2650</td><td>2710.00</td><td>2291.0000</td><td>B</td></tr>\n",
       "<tr><td>018b0f369c2d63913...</td><td>750</td><td>2500</td><td>2100.00</td><td>2010.0000</td><td>B</td></tr>\n",
       "<tr><td>01b39bf7187932c4a...</td><td>1450</td><td>2100</td><td>2685.00</td><td>2174.7500</td><td>B</td></tr>\n",
       "<tr><td>01d0686210978f0a7...</td><td>1000</td><td>3150</td><td>1770.00</td><td>2237.0000</td><td>B</td></tr>\n",
       "<tr><td>01d0c48835e969a01...</td><td>1000</td><td>2650</td><td>750.00</td><td>1655.0000</td><td>C</td></tr>\n",
       "<tr><td>01ef63fce64f41ef9...</td><td>1450</td><td>2650</td><td>2502.50</td><td>2358.3750</td><td>B</td></tr>\n",
       "</table>\n",
       "only showing top 20 rows\n"
      ],
      "text/plain": [
       "+--------------------+--------------+--------------+---------------+---------+----------------+\n",
       "|           member_id|paymentHistory|defaultHistory|financialHealth|loanScore|loan_final_grade|\n",
       "+--------------------+--------------+--------------+---------------+---------+----------------+\n",
       "|000c8875b71a6b47c...|          1450|          2650|        2530.00|2368.0000|               B|\n",
       "|003769d7f54c7859e...|          1000|          2650|        1150.00|1795.0000|               C|\n",
       "|003e1e6cbd2920bbb...|          1150|          1550|        2190.00|1694.0000|               C|\n",
       "|004017b21bd4d6271...|           750|          3150|        2350.00|2390.0000|               B|\n",
       "|005b4c3db3fce07dc...|          1150|          1550|        1770.00|1547.0000|               C|\n",
       "|00710707c563c2119...|          1450|          2650|        2370.00|2312.0000|               B|\n",
       "|007da79904f69970d...|          1450|          2650|        2350.00|2305.0000|               B|\n",
       "|00f435a80d0440ece...|          1000|          2500|        2025.00|2033.7500|               B|\n",
       "|00fc2ae3ffb1213e4...|          1300|          2650|        2150.00|2205.0000|               B|\n",
       "|00fc8144cb210ba8c...|          1150|          1550|        2050.00|1645.0000|               C|\n",
       "|01121d7f3f6f27495...|          1450|          2650|        2467.50|2346.1250|               B|\n",
       "|0112e15adaf0c0029...|          1150|          2650|        1700.00|2017.5000|               B|\n",
       "|017ce564dc0d6f975...|          1000|          2100|        1690.00|1736.5000|               C|\n",
       "|017d1fd3d6169ee29...|          1300|          1550|        1985.00|1652.2500|               C|\n",
       "|018a82c47453bf02d...|           750|          2650|        2710.00|2291.0000|               B|\n",
       "|018b0f369c2d63913...|           750|          2500|        2100.00|2010.0000|               B|\n",
       "|01b39bf7187932c4a...|          1450|          2100|        2685.00|2174.7500|               B|\n",
       "|01d0686210978f0a7...|          1000|          3150|        1770.00|2237.0000|               B|\n",
       "|01d0c48835e969a01...|          1000|          2650|         750.00|1655.0000|               C|\n",
       "|01ef63fce64f41ef9...|          1450|          2650|        2502.50|2358.3750|               B|\n",
       "+--------------------+--------------+--------------+---------------+---------+----------------+\n",
       "only showing top 20 rows"
      ]
     },
     "execution_count": 64,
     "metadata": {},
     "output_type": "execute_result"
    }
   ],
   "source": [
    "loan_score_final"
   ]
  },
  {
   "cell_type": "code",
   "execution_count": 65,
   "id": "ce7a460c",
   "metadata": {},
   "outputs": [],
   "source": [
    "loan_score_final.write.mode(\"overwrite\").option(\"path\",\"/user/itv012667/lendingclub/processed/loan_score\").save()"
   ]
  }
 ],
 "metadata": {
  "kernelspec": {
   "display_name": "Pyspark 3",
   "language": "python",
   "name": "pyspark3"
  },
  "language_info": {
   "codemirror_mode": {
    "name": "ipython",
    "version": 3
   },
   "file_extension": ".py",
   "mimetype": "text/x-python",
   "name": "python",
   "nbconvert_exporter": "python",
   "pygments_lexer": "ipython3",
   "version": "3.6.12"
  }
 },
 "nbformat": 4,
 "nbformat_minor": 5
}
