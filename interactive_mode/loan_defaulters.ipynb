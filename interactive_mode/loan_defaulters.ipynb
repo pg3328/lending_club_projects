{
 "cells": [
  {
   "cell_type": "code",
   "execution_count": 6,
   "id": "68af24af",
   "metadata": {},
   "outputs": [],
   "source": [
    "from pyspark.sql import *\n",
    "import getpass\n",
    "username = getpass.getuser()\n",
    "spark = SparkSession.builder \\\n",
    "    .appName('loans_defaulter') \\\n",
    "    .config('spark.ui.port', '0') \\\n",
    "    .config(\"spark.sql.warehouse.dir\", f\"/user/{username}/warehouse\") \\\n",
    "    .enableHiveSupport() \\\n",
    "    .master('yarn') \\\n",
    "    .getOrCreate()"
   ]
  },
  {
   "cell_type": "code",
   "execution_count": 5,
   "id": "8416404a",
   "metadata": {},
   "outputs": [],
   "source": [
    "spark.stop()"
   ]
  },
  {
   "cell_type": "code",
   "execution_count": 7,
   "id": "984cd7d6",
   "metadata": {},
   "outputs": [],
   "source": [
    "schema = \"member_id string, delinq_2yrs float,delinq_amnt float,pub_rec float, pub_rec_bankruptcies float, inq_last_6mths float,total_rec_late_fee float,mths_since_last_delinq float, mths_since_last_record float\""
   ]
  },
  {
   "cell_type": "code",
   "execution_count": 8,
   "id": "0bd9b3d5",
   "metadata": {},
   "outputs": [],
   "source": [
    "defaulters_df = spark.read.csv(\"/user/itv012667/lendingclub/raw/loans_defaulters_csv\",header=True,schema=schema)"
   ]
  },
  {
   "cell_type": "code",
   "execution_count": 9,
   "id": "8dac9dc9",
   "metadata": {},
   "outputs": [
    {
     "name": "stdout",
     "output_type": "stream",
     "text": [
      "+--------------------+-----------+-----------+-------+--------------------+--------------+------------------+----------------------+----------------------+\n",
      "|           member_id|delinq_2yrs|delinq_amnt|pub_rec|pub_rec_bankruptcies|inq_last_6mths|total_rec_late_fee|mths_since_last_delinq|mths_since_last_record|\n",
      "+--------------------+-----------+-----------+-------+--------------------+--------------+------------------+----------------------+----------------------+\n",
      "|9cb79aa7323e81be1...|        2.0|        0.0|    0.0|                 0.0|           0.0|               0.0|                  11.0|                  null|\n",
      "|0dd2bbc517e3c8f9e...|        0.0|        0.0|    1.0|                 1.0|           3.0|               0.0|                  null|                 115.0|\n",
      "|458458599d3df3bfc...|        0.0|        0.0|    1.0|                 1.0|           1.0|               0.0|                  null|                  76.0|\n",
      "|05ea141ec28b5c7f7...|        0.0|        0.0|    0.0|                 0.0|           0.0|               0.0|                  null|                  null|\n",
      "|aac68850fdac09fd0...|        1.0|        0.0|    0.0|                 0.0|           0.0|               0.0|                  21.0|                  null|\n",
      "|3a423e4589e89f429...|        0.0|        0.0|    0.0|                 0.0|           0.0|               0.0|                  null|                  null|\n",
      "|f1efcf7dfbfef21be...|        0.0|        0.0|    0.0|                 0.0|           1.0|               0.0|                  null|                  null|\n",
      "|c89986155a070db2e...|        1.0|        0.0|    0.0|                 0.0|           1.0|              15.0|                   5.0|                  null|\n",
      "|118dc629b6e134419...|        0.0|        0.0|    0.0|                 0.0|           0.0|               0.0|                  null|                  null|\n",
      "|a86fa4b7493708333...|        0.0|        0.0|    0.0|                 0.0|           0.0|               0.0|                  null|                  null|\n",
      "|6e8d94bf446e97025...|        0.0|        0.0|    0.0|                 0.0|           0.0|               0.0|                  36.0|                  null|\n",
      "|3de585156dc6b73f6...|        0.0|        0.0|    0.0|                 0.0|           0.0|               0.0|                  null|                  null|\n",
      "|e88945f86a96f8d71...|        0.0|        0.0|    0.0|                 0.0|           1.0|               0.0|                  null|                  null|\n",
      "|42f73fd8a01f1c475...|        0.0|        0.0|    0.0|                 0.0|           0.0|               0.0|                  46.0|                  null|\n",
      "|c680bca32456530e6...|        0.0|        0.0|    0.0|                 0.0|           0.0|               0.0|                  null|                  null|\n",
      "|3c36e35bcc0379690...|        0.0|        0.0|    0.0|                 0.0|           0.0|               0.0|                  null|                  null|\n",
      "|4e1c30a5dfe9f1e20...|        0.0|        0.0|    0.0|                 0.0|           1.0|             34.68|                  null|                  null|\n",
      "|1eef79a0e79b72c7a...|        1.0|        0.0|    0.0|                 0.0|           0.0|               0.0|                  21.0|                  null|\n",
      "|89d42771f79636d22...|        0.0|        0.0|    0.0|                 0.0|           0.0|               0.0|                  null|                  null|\n",
      "|1dd1d1b51473d4993...|        0.0|        0.0|    0.0|                 0.0|           0.0|               0.0|                  44.0|                  null|\n",
      "+--------------------+-----------+-----------+-------+--------------------+--------------+------------------+----------------------+----------------------+\n",
      "only showing top 20 rows\n",
      "\n"
     ]
    }
   ],
   "source": [
    "defaulters_df.show()"
   ]
  },
  {
   "cell_type": "code",
   "execution_count": 10,
   "id": "6a3ba194",
   "metadata": {},
   "outputs": [
    {
     "name": "stdout",
     "output_type": "stream",
     "text": [
      "root\n",
      " |-- member_id: string (nullable = true)\n",
      " |-- delinq_2yrs: float (nullable = true)\n",
      " |-- delinq_amnt: float (nullable = true)\n",
      " |-- pub_rec: float (nullable = true)\n",
      " |-- pub_rec_bankruptcies: float (nullable = true)\n",
      " |-- inq_last_6mths: float (nullable = true)\n",
      " |-- total_rec_late_fee: float (nullable = true)\n",
      " |-- mths_since_last_delinq: float (nullable = true)\n",
      " |-- mths_since_last_record: float (nullable = true)\n",
      "\n"
     ]
    }
   ],
   "source": [
    "defaulters_df.printSchema()"
   ]
  },
  {
   "cell_type": "code",
   "execution_count": 11,
   "id": "a84880f9",
   "metadata": {},
   "outputs": [],
   "source": [
    "from pyspark.sql.functions import *"
   ]
  },
  {
   "cell_type": "markdown",
   "id": "f071752b",
   "metadata": {},
   "source": [
    "# Cast float data into integer"
   ]
  },
  {
   "cell_type": "code",
   "execution_count": 17,
   "id": "4b791b7b",
   "metadata": {},
   "outputs": [
    {
     "data": {
      "text/html": [
       "<table border='1'>\n",
       "<tr><th>member_id</th><th>delinq_2yrs</th><th>delinq_amnt</th><th>pub_rec</th><th>pub_rec_bankruptcies</th><th>inq_last_6mths</th><th>total_rec_late_fee</th><th>mths_since_last_delinq</th><th>mths_since_last_record</th></tr>\n",
       "<tr><td>9cb79aa7323e81be1...</td><td>2.0</td><td>0.0</td><td>0.0</td><td>0.0</td><td>0.0</td><td>0.0</td><td>11</td><td>null</td></tr>\n",
       "<tr><td>0dd2bbc517e3c8f9e...</td><td>0.0</td><td>0.0</td><td>1.0</td><td>1.0</td><td>3.0</td><td>0.0</td><td>0</td><td>115.0</td></tr>\n",
       "<tr><td>458458599d3df3bfc...</td><td>0.0</td><td>0.0</td><td>1.0</td><td>1.0</td><td>1.0</td><td>0.0</td><td>0</td><td>76.0</td></tr>\n",
       "<tr><td>05ea141ec28b5c7f7...</td><td>0.0</td><td>0.0</td><td>0.0</td><td>0.0</td><td>0.0</td><td>0.0</td><td>0</td><td>null</td></tr>\n",
       "<tr><td>aac68850fdac09fd0...</td><td>1.0</td><td>0.0</td><td>0.0</td><td>0.0</td><td>0.0</td><td>0.0</td><td>21</td><td>null</td></tr>\n",
       "<tr><td>3a423e4589e89f429...</td><td>0.0</td><td>0.0</td><td>0.0</td><td>0.0</td><td>0.0</td><td>0.0</td><td>0</td><td>null</td></tr>\n",
       "<tr><td>f1efcf7dfbfef21be...</td><td>0.0</td><td>0.0</td><td>0.0</td><td>0.0</td><td>1.0</td><td>0.0</td><td>0</td><td>null</td></tr>\n",
       "<tr><td>c89986155a070db2e...</td><td>1.0</td><td>0.0</td><td>0.0</td><td>0.0</td><td>1.0</td><td>15.0</td><td>5</td><td>null</td></tr>\n",
       "<tr><td>118dc629b6e134419...</td><td>0.0</td><td>0.0</td><td>0.0</td><td>0.0</td><td>0.0</td><td>0.0</td><td>0</td><td>null</td></tr>\n",
       "<tr><td>a86fa4b7493708333...</td><td>0.0</td><td>0.0</td><td>0.0</td><td>0.0</td><td>0.0</td><td>0.0</td><td>0</td><td>null</td></tr>\n",
       "<tr><td>6e8d94bf446e97025...</td><td>0.0</td><td>0.0</td><td>0.0</td><td>0.0</td><td>0.0</td><td>0.0</td><td>36</td><td>null</td></tr>\n",
       "<tr><td>3de585156dc6b73f6...</td><td>0.0</td><td>0.0</td><td>0.0</td><td>0.0</td><td>0.0</td><td>0.0</td><td>0</td><td>null</td></tr>\n",
       "<tr><td>e88945f86a96f8d71...</td><td>0.0</td><td>0.0</td><td>0.0</td><td>0.0</td><td>1.0</td><td>0.0</td><td>0</td><td>null</td></tr>\n",
       "<tr><td>42f73fd8a01f1c475...</td><td>0.0</td><td>0.0</td><td>0.0</td><td>0.0</td><td>0.0</td><td>0.0</td><td>46</td><td>null</td></tr>\n",
       "<tr><td>c680bca32456530e6...</td><td>0.0</td><td>0.0</td><td>0.0</td><td>0.0</td><td>0.0</td><td>0.0</td><td>0</td><td>null</td></tr>\n",
       "<tr><td>3c36e35bcc0379690...</td><td>0.0</td><td>0.0</td><td>0.0</td><td>0.0</td><td>0.0</td><td>0.0</td><td>0</td><td>null</td></tr>\n",
       "<tr><td>4e1c30a5dfe9f1e20...</td><td>0.0</td><td>0.0</td><td>0.0</td><td>0.0</td><td>1.0</td><td>34.68</td><td>0</td><td>null</td></tr>\n",
       "<tr><td>1eef79a0e79b72c7a...</td><td>1.0</td><td>0.0</td><td>0.0</td><td>0.0</td><td>0.0</td><td>0.0</td><td>21</td><td>null</td></tr>\n",
       "<tr><td>89d42771f79636d22...</td><td>0.0</td><td>0.0</td><td>0.0</td><td>0.0</td><td>0.0</td><td>0.0</td><td>0</td><td>null</td></tr>\n",
       "<tr><td>1dd1d1b51473d4993...</td><td>0.0</td><td>0.0</td><td>0.0</td><td>0.0</td><td>0.0</td><td>0.0</td><td>44</td><td>null</td></tr>\n",
       "</table>\n",
       "only showing top 20 rows\n"
      ],
      "text/plain": [
       "+--------------------+-----------+-----------+-------+--------------------+--------------+------------------+----------------------+----------------------+\n",
       "|           member_id|delinq_2yrs|delinq_amnt|pub_rec|pub_rec_bankruptcies|inq_last_6mths|total_rec_late_fee|mths_since_last_delinq|mths_since_last_record|\n",
       "+--------------------+-----------+-----------+-------+--------------------+--------------+------------------+----------------------+----------------------+\n",
       "|9cb79aa7323e81be1...|        2.0|        0.0|    0.0|                 0.0|           0.0|               0.0|                    11|                  null|\n",
       "|0dd2bbc517e3c8f9e...|        0.0|        0.0|    1.0|                 1.0|           3.0|               0.0|                     0|                 115.0|\n",
       "|458458599d3df3bfc...|        0.0|        0.0|    1.0|                 1.0|           1.0|               0.0|                     0|                  76.0|\n",
       "|05ea141ec28b5c7f7...|        0.0|        0.0|    0.0|                 0.0|           0.0|               0.0|                     0|                  null|\n",
       "|aac68850fdac09fd0...|        1.0|        0.0|    0.0|                 0.0|           0.0|               0.0|                    21|                  null|\n",
       "|3a423e4589e89f429...|        0.0|        0.0|    0.0|                 0.0|           0.0|               0.0|                     0|                  null|\n",
       "|f1efcf7dfbfef21be...|        0.0|        0.0|    0.0|                 0.0|           1.0|               0.0|                     0|                  null|\n",
       "|c89986155a070db2e...|        1.0|        0.0|    0.0|                 0.0|           1.0|              15.0|                     5|                  null|\n",
       "|118dc629b6e134419...|        0.0|        0.0|    0.0|                 0.0|           0.0|               0.0|                     0|                  null|\n",
       "|a86fa4b7493708333...|        0.0|        0.0|    0.0|                 0.0|           0.0|               0.0|                     0|                  null|\n",
       "|6e8d94bf446e97025...|        0.0|        0.0|    0.0|                 0.0|           0.0|               0.0|                    36|                  null|\n",
       "|3de585156dc6b73f6...|        0.0|        0.0|    0.0|                 0.0|           0.0|               0.0|                     0|                  null|\n",
       "|e88945f86a96f8d71...|        0.0|        0.0|    0.0|                 0.0|           1.0|               0.0|                     0|                  null|\n",
       "|42f73fd8a01f1c475...|        0.0|        0.0|    0.0|                 0.0|           0.0|               0.0|                    46|                  null|\n",
       "|c680bca32456530e6...|        0.0|        0.0|    0.0|                 0.0|           0.0|               0.0|                     0|                  null|\n",
       "|3c36e35bcc0379690...|        0.0|        0.0|    0.0|                 0.0|           0.0|               0.0|                     0|                  null|\n",
       "|4e1c30a5dfe9f1e20...|        0.0|        0.0|    0.0|                 0.0|           1.0|             34.68|                     0|                  null|\n",
       "|1eef79a0e79b72c7a...|        1.0|        0.0|    0.0|                 0.0|           0.0|               0.0|                    21|                  null|\n",
       "|89d42771f79636d22...|        0.0|        0.0|    0.0|                 0.0|           0.0|               0.0|                     0|                  null|\n",
       "|1dd1d1b51473d4993...|        0.0|        0.0|    0.0|                 0.0|           0.0|               0.0|                    44|                  null|\n",
       "+--------------------+-----------+-----------+-------+--------------------+--------------+------------------+----------------------+----------------------+\n",
       "only showing top 20 rows"
      ]
     },
     "execution_count": 17,
     "metadata": {},
     "output_type": "execute_result"
    }
   ],
   "source": [
    "defaulters_df.withColumn(\"mths_since_last_delinq\",col(\"mths_since_last_delinq\").cast(\"integer\")).fillna(0,subset=[\"mths_since_last_delinq\"])"
   ]
  },
  {
   "cell_type": "code",
   "execution_count": 18,
   "id": "f7ff7ecf",
   "metadata": {},
   "outputs": [],
   "source": [
    "del_nulls = defaulters_df.withColumn(\"delinq_2yrs\",col(\"delinq_2yrs\").cast(\"integer\")).fillna(0,subset=[\"delinq_2yrs\"])"
   ]
  },
  {
   "cell_type": "code",
   "execution_count": 14,
   "id": "6eb8d74d",
   "metadata": {},
   "outputs": [
    {
     "data": {
      "text/html": [
       "<table border='1'>\n",
       "<tr><th>member_id</th><th>delinq_2yrs</th><th>delinq_amnt</th><th>pub_rec</th><th>pub_rec_bankruptcies</th><th>inq_last_6mths</th><th>total_rec_late_fee</th><th>mths_since_last_delinq</th><th>mths_since_last_record</th></tr>\n",
       "<tr><td>0dd2bbc517e3c8f9e...</td><td>0</td><td>0.0</td><td>1.0</td><td>1.0</td><td>3.0</td><td>0.0</td><td>null</td><td>115.0</td></tr>\n",
       "<tr><td>458458599d3df3bfc...</td><td>0</td><td>0.0</td><td>1.0</td><td>1.0</td><td>1.0</td><td>0.0</td><td>null</td><td>76.0</td></tr>\n",
       "<tr><td>05ea141ec28b5c7f7...</td><td>0</td><td>0.0</td><td>0.0</td><td>0.0</td><td>0.0</td><td>0.0</td><td>null</td><td>null</td></tr>\n",
       "<tr><td>3a423e4589e89f429...</td><td>0</td><td>0.0</td><td>0.0</td><td>0.0</td><td>0.0</td><td>0.0</td><td>null</td><td>null</td></tr>\n",
       "<tr><td>f1efcf7dfbfef21be...</td><td>0</td><td>0.0</td><td>0.0</td><td>0.0</td><td>1.0</td><td>0.0</td><td>null</td><td>null</td></tr>\n",
       "<tr><td>118dc629b6e134419...</td><td>0</td><td>0.0</td><td>0.0</td><td>0.0</td><td>0.0</td><td>0.0</td><td>null</td><td>null</td></tr>\n",
       "<tr><td>a86fa4b7493708333...</td><td>0</td><td>0.0</td><td>0.0</td><td>0.0</td><td>0.0</td><td>0.0</td><td>null</td><td>null</td></tr>\n",
       "<tr><td>6e8d94bf446e97025...</td><td>0</td><td>0.0</td><td>0.0</td><td>0.0</td><td>0.0</td><td>0.0</td><td>36.0</td><td>null</td></tr>\n",
       "<tr><td>3de585156dc6b73f6...</td><td>0</td><td>0.0</td><td>0.0</td><td>0.0</td><td>0.0</td><td>0.0</td><td>null</td><td>null</td></tr>\n",
       "<tr><td>e88945f86a96f8d71...</td><td>0</td><td>0.0</td><td>0.0</td><td>0.0</td><td>1.0</td><td>0.0</td><td>null</td><td>null</td></tr>\n",
       "<tr><td>42f73fd8a01f1c475...</td><td>0</td><td>0.0</td><td>0.0</td><td>0.0</td><td>0.0</td><td>0.0</td><td>46.0</td><td>null</td></tr>\n",
       "<tr><td>c680bca32456530e6...</td><td>0</td><td>0.0</td><td>0.0</td><td>0.0</td><td>0.0</td><td>0.0</td><td>null</td><td>null</td></tr>\n",
       "<tr><td>3c36e35bcc0379690...</td><td>0</td><td>0.0</td><td>0.0</td><td>0.0</td><td>0.0</td><td>0.0</td><td>null</td><td>null</td></tr>\n",
       "<tr><td>4e1c30a5dfe9f1e20...</td><td>0</td><td>0.0</td><td>0.0</td><td>0.0</td><td>1.0</td><td>34.68</td><td>null</td><td>null</td></tr>\n",
       "<tr><td>89d42771f79636d22...</td><td>0</td><td>0.0</td><td>0.0</td><td>0.0</td><td>0.0</td><td>0.0</td><td>null</td><td>null</td></tr>\n",
       "<tr><td>1dd1d1b51473d4993...</td><td>0</td><td>0.0</td><td>0.0</td><td>0.0</td><td>0.0</td><td>0.0</td><td>44.0</td><td>null</td></tr>\n",
       "<tr><td>a34e7ded2e7ce53e7...</td><td>0</td><td>0.0</td><td>0.0</td><td>0.0</td><td>0.0</td><td>0.0</td><td>null</td><td>null</td></tr>\n",
       "<tr><td>76cbefe31f7834f47...</td><td>0</td><td>0.0</td><td>0.0</td><td>0.0</td><td>1.0</td><td>0.0</td><td>null</td><td>null</td></tr>\n",
       "<tr><td>cbf0ef4df1d36d3af...</td><td>0</td><td>0.0</td><td>0.0</td><td>0.0</td><td>0.0</td><td>0.0</td><td>null</td><td>null</td></tr>\n",
       "<tr><td>8241a6bb3a9350fb8...</td><td>0</td><td>0.0</td><td>0.0</td><td>0.0</td><td>0.0</td><td>0.0</td><td>57.0</td><td>null</td></tr>\n",
       "</table>\n",
       "only showing top 20 rows\n"
      ],
      "text/plain": [
       "+--------------------+-----------+-----------+-------+--------------------+--------------+------------------+----------------------+----------------------+\n",
       "|           member_id|delinq_2yrs|delinq_amnt|pub_rec|pub_rec_bankruptcies|inq_last_6mths|total_rec_late_fee|mths_since_last_delinq|mths_since_last_record|\n",
       "+--------------------+-----------+-----------+-------+--------------------+--------------+------------------+----------------------+----------------------+\n",
       "|0dd2bbc517e3c8f9e...|          0|        0.0|    1.0|                 1.0|           3.0|               0.0|                  null|                 115.0|\n",
       "|458458599d3df3bfc...|          0|        0.0|    1.0|                 1.0|           1.0|               0.0|                  null|                  76.0|\n",
       "|05ea141ec28b5c7f7...|          0|        0.0|    0.0|                 0.0|           0.0|               0.0|                  null|                  null|\n",
       "|3a423e4589e89f429...|          0|        0.0|    0.0|                 0.0|           0.0|               0.0|                  null|                  null|\n",
       "|f1efcf7dfbfef21be...|          0|        0.0|    0.0|                 0.0|           1.0|               0.0|                  null|                  null|\n",
       "|118dc629b6e134419...|          0|        0.0|    0.0|                 0.0|           0.0|               0.0|                  null|                  null|\n",
       "|a86fa4b7493708333...|          0|        0.0|    0.0|                 0.0|           0.0|               0.0|                  null|                  null|\n",
       "|6e8d94bf446e97025...|          0|        0.0|    0.0|                 0.0|           0.0|               0.0|                  36.0|                  null|\n",
       "|3de585156dc6b73f6...|          0|        0.0|    0.0|                 0.0|           0.0|               0.0|                  null|                  null|\n",
       "|e88945f86a96f8d71...|          0|        0.0|    0.0|                 0.0|           1.0|               0.0|                  null|                  null|\n",
       "|42f73fd8a01f1c475...|          0|        0.0|    0.0|                 0.0|           0.0|               0.0|                  46.0|                  null|\n",
       "|c680bca32456530e6...|          0|        0.0|    0.0|                 0.0|           0.0|               0.0|                  null|                  null|\n",
       "|3c36e35bcc0379690...|          0|        0.0|    0.0|                 0.0|           0.0|               0.0|                  null|                  null|\n",
       "|4e1c30a5dfe9f1e20...|          0|        0.0|    0.0|                 0.0|           1.0|             34.68|                  null|                  null|\n",
       "|89d42771f79636d22...|          0|        0.0|    0.0|                 0.0|           0.0|               0.0|                  null|                  null|\n",
       "|1dd1d1b51473d4993...|          0|        0.0|    0.0|                 0.0|           0.0|               0.0|                  44.0|                  null|\n",
       "|a34e7ded2e7ce53e7...|          0|        0.0|    0.0|                 0.0|           0.0|               0.0|                  null|                  null|\n",
       "|76cbefe31f7834f47...|          0|        0.0|    0.0|                 0.0|           1.0|               0.0|                  null|                  null|\n",
       "|cbf0ef4df1d36d3af...|          0|        0.0|    0.0|                 0.0|           0.0|               0.0|                  null|                  null|\n",
       "|8241a6bb3a9350fb8...|          0|        0.0|    0.0|                 0.0|           0.0|               0.0|                  57.0|                  null|\n",
       "+--------------------+-----------+-----------+-------+--------------------+--------------+------------------+----------------------+----------------------+\n",
       "only showing top 20 rows"
      ]
     },
     "execution_count": 14,
     "metadata": {},
     "output_type": "execute_result"
    }
   ],
   "source": [
    "del_nulls.filter(\"delinq_2yrs=0\")"
   ]
  },
  {
   "cell_type": "markdown",
   "id": "ca76db81",
   "metadata": {},
   "source": [
    "# Columns related to delinquation "
   ]
  },
  {
   "cell_type": "code",
   "execution_count": 53,
   "id": "cc78ed65",
   "metadata": {},
   "outputs": [],
   "source": [
    "delinq_df = del_nulls.select(\"member_id\",\"delinq_2yrs\",\"delinq_amnt\",\"mths_since_last_delinq\").withColumn(\"mths_since_last_delinq\",col(\"mths_since_last_delinq\").cast(\"integer\")).filter(\"delinq_2yrs>0 or mths_since_last_delinq>0\")"
   ]
  },
  {
   "cell_type": "code",
   "execution_count": 56,
   "id": "2bc5da9d",
   "metadata": {},
   "outputs": [
    {
     "data": {
      "text/plain": [
       "1106163"
      ]
     },
     "execution_count": 56,
     "metadata": {},
     "output_type": "execute_result"
    }
   ],
   "source": [
    "delinq_df.count()"
   ]
  },
  {
   "cell_type": "markdown",
   "id": "e9caebbd",
   "metadata": {},
   "source": [
    "# Columns related to public records"
   ]
  },
  {
   "cell_type": "code",
   "execution_count": 20,
   "id": "dcba9bb3",
   "metadata": {},
   "outputs": [],
   "source": [
    "del_nulls = del_nulls.withColumn(\"pub_rec\",col(\"pub_rec\").cast(\"integer\")).fillna(0,subset=[\"pub_rec\"]) \\\n",
    "                      .withColumn(\"pub_rec_bankruptcies\",col(\"pub_rec_bankruptcies\").cast(\"integer\")).fillna(0,subset=[\"pub_rec_bankruptcies\"]) \\\n",
    "                      .withColumn(\"inq_last_6mths\",col(\"inq_last_6mths\").cast(\"integer\")).fillna(0,subset=[\"inq_last_6mths\"])"
   ]
  },
  {
   "cell_type": "code",
   "execution_count": 21,
   "id": "ade02c5d",
   "metadata": {},
   "outputs": [],
   "source": [
    "public_records_df_detail = del_nulls.filter(\"pub_rec>0.0 or pub_rec_bankruptcies>0.0 or inq_last_6mths>0.0\").select(\"member_id\",\"pub_rec\",\"pub_rec_bankruptcies\",\"inq_last_6mths\")"
   ]
  },
  {
   "cell_type": "markdown",
   "id": "7bec5486",
   "metadata": {},
   "source": [
    "# write data to disk"
   ]
  },
  {
   "cell_type": "code",
   "execution_count": 22,
   "id": "73028ba4",
   "metadata": {},
   "outputs": [],
   "source": [
    "public_records_df_detail.write.mode(\"overwrite\").option(\"path\",\"/user/itv012667/lendingclub/cleaneddata/loans_defaulters_detail_records_enq_parquet\").save()"
   ]
  }
 ],
 "metadata": {
  "kernelspec": {
   "display_name": "Pyspark 3",
   "language": "python",
   "name": "pyspark3"
  },
  "language_info": {
   "codemirror_mode": {
    "name": "ipython",
    "version": 3
   },
   "file_extension": ".py",
   "mimetype": "text/x-python",
   "name": "python",
   "nbconvert_exporter": "python",
   "pygments_lexer": "ipython3",
   "version": "3.6.12"
  }
 },
 "nbformat": 4,
 "nbformat_minor": 5
}
