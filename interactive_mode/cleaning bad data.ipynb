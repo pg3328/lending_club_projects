{
 "cells": [
  {
   "cell_type": "code",
   "execution_count": 48,
   "id": "985d1c46",
   "metadata": {},
   "outputs": [],
   "source": [
    "from pyspark.sql import *\n",
    "import getpass\n",
    "username = getpass.getuser()\n",
    "spark = SparkSession.builder \\\n",
    "    .appName('loans_defaulter') \\\n",
    "    .config('spark.ui.port', '0') \\\n",
    "    .config('spark.shuffle.useOldFetchProtocol','true') \\\n",
    "    .config(\"spark.sql.warehouse.dir\", f\"/user/{username}/warehouse\") \\\n",
    "    .enableHiveSupport() \\\n",
    "    .master('yarn') \\\n",
    "    .getOrCreate()"
   ]
  },
  {
   "cell_type": "code",
   "execution_count": 47,
   "id": "88126aba",
   "metadata": {},
   "outputs": [],
   "source": [
    "spark.stop()"
   ]
  },
  {
   "cell_type": "code",
   "execution_count": 2,
   "id": "d8c916a3",
   "metadata": {},
   "outputs": [
    {
     "data": {
      "text/html": [
       "\n",
       "            <div>\n",
       "                <p><b>SparkSession - hive</b></p>\n",
       "                \n",
       "        <div>\n",
       "            <p><b>SparkContext</b></p>\n",
       "\n",
       "            <p><a href=\"http://g01.itversity.com:43499\">Spark UI</a></p>\n",
       "\n",
       "            <dl>\n",
       "              <dt>Version</dt>\n",
       "                <dd><code>v3.1.2</code></dd>\n",
       "              <dt>Master</dt>\n",
       "                <dd><code>yarn</code></dd>\n",
       "              <dt>AppName</dt>\n",
       "                <dd><code>loans_defaulter</code></dd>\n",
       "            </dl>\n",
       "        </div>\n",
       "        \n",
       "            </div>\n",
       "        "
      ],
      "text/plain": [
       "<pyspark.sql.session.SparkSession at 0x7f9691476908>"
      ]
     },
     "execution_count": 2,
     "metadata": {},
     "output_type": "execute_result"
    }
   ],
   "source": [
    "spark"
   ]
  },
  {
   "cell_type": "code",
   "execution_count": 3,
   "id": "2d3f2479",
   "metadata": {},
   "outputs": [
    {
     "data": {
      "text/html": [
       "<table border='1'>\n",
       "<tr><th></th></tr>\n",
       "</table>\n"
      ],
      "text/plain": [
       "++\n",
       "||\n",
       "++\n",
       "++"
      ]
     },
     "execution_count": 3,
     "metadata": {},
     "output_type": "execute_result"
    }
   ],
   "source": [
    "spark.sql(\"use itv_012667_lending_club\")"
   ]
  },
  {
   "cell_type": "code",
   "execution_count": 4,
   "id": "cb2735fb",
   "metadata": {},
   "outputs": [
    {
     "data": {
      "text/html": [
       "<table border='1'>\n",
       "<tr><th>database</th><th>tableName</th><th>isTemporary</th></tr>\n",
       "<tr><td>itv_012667_lendin...</td><td>customer_data</td><td>false</td></tr>\n",
       "<tr><td>itv_012667_lendin...</td><td>loan_repayments</td><td>false</td></tr>\n",
       "<tr><td>itv_012667_lendin...</td><td>loans</td><td>false</td></tr>\n",
       "<tr><td>itv_012667_lendin...</td><td>loans_defaulters_...</td><td>false</td></tr>\n",
       "<tr><td>itv_012667_lendin...</td><td>loans_defaulters_...</td><td>false</td></tr>\n",
       "</table>\n"
      ],
      "text/plain": [
       "+--------------------+--------------------+-----------+\n",
       "|            database|           tableName|isTemporary|\n",
       "+--------------------+--------------------+-----------+\n",
       "|itv_012667_lendin...|       customer_data|      false|\n",
       "|itv_012667_lendin...|     loan_repayments|      false|\n",
       "|itv_012667_lendin...|               loans|      false|\n",
       "|itv_012667_lendin...|loans_defaulters_...|      false|\n",
       "|itv_012667_lendin...|loans_defaulters_...|      false|\n",
       "+--------------------+--------------------+-----------+"
      ]
     },
     "execution_count": 4,
     "metadata": {},
     "output_type": "execute_result"
    }
   ],
   "source": [
    "spark.sql(\"show tables\")"
   ]
  },
  {
   "cell_type": "code",
   "execution_count": 9,
   "id": "d37c2b1a",
   "metadata": {},
   "outputs": [],
   "source": [
    "bad_data_customer_df = spark.sql(\"select member_id from itv_012667_lending_club.customer_data group by member_id having count(member_id) > 1\")"
   ]
  },
  {
   "cell_type": "code",
   "execution_count": 11,
   "id": "af3cab35",
   "metadata": {},
   "outputs": [],
   "source": [
    "bad_data_customer_df.repartition(1).write.format(\"csv\").option(\"header\",\"true\").mode(\"overwrite\").option(\"path\",\"/user/itv012667/bad/bad_customer_data\").save()"
   ]
  },
  {
   "cell_type": "code",
   "execution_count": 12,
   "id": "1cfe4fce",
   "metadata": {},
   "outputs": [],
   "source": [
    "bad_data_loans_defaulters_delinq_df = spark.sql(\"select member_id from loans_defaulters_delinq group by member_id having count(member_id)>1\")"
   ]
  },
  {
   "cell_type": "code",
   "execution_count": 14,
   "id": "5c3adfd2",
   "metadata": {},
   "outputs": [],
   "source": [
    "bad_data_loans_defaulters_delinq_df.repartition(1).write.format(\"csv\").option(\"header\",\"true\").mode(\"overwrite\").option(\"path\",\"/user/itv012667/bad/bad_data_loans_defaulters_delinq\").save()"
   ]
  },
  {
   "cell_type": "code",
   "execution_count": 15,
   "id": "4ff2039d",
   "metadata": {},
   "outputs": [],
   "source": [
    "bad_data_loans_defaulters_detail_rec_enq_df = spark.sql(\"select member_id from loans_defaulters_detail_rec_enq group by member_id having count(member_id)>1\")"
   ]
  },
  {
   "cell_type": "code",
   "execution_count": 17,
   "id": "62e19008",
   "metadata": {},
   "outputs": [],
   "source": [
    "bad_data_loans_defaulters_detail_rec_enq_df.repartition(1).write.format(\"csv\").option(\"header\",\"true\").mode(\"overwrite\").option(\"path\",\"/user/itv012667/bad/bad_data_loans_defaulters_detail_rec_enq\").save()"
   ]
  },
  {
   "cell_type": "code",
   "execution_count": 23,
   "id": "2e803ecf",
   "metadata": {},
   "outputs": [],
   "source": [
    "bad_data_members = bad_data_customer_df.select(\"member_id\").union(bad_data_loans_defaulters_delinq_df).select(\"member_id\").union(bad_data_loans_defaulters_detail_rec_enq_df).select(\"member_id\")"
   ]
  },
  {
   "cell_type": "code",
   "execution_count": 24,
   "id": "f48f31d4",
   "metadata": {},
   "outputs": [],
   "source": [
    "bad_data_members_final = bad_data_members.distinct()"
   ]
  },
  {
   "cell_type": "code",
   "execution_count": 25,
   "id": "5d34ed8a",
   "metadata": {},
   "outputs": [
    {
     "data": {
      "text/plain": [
       "3175"
      ]
     },
     "execution_count": 25,
     "metadata": {},
     "output_type": "execute_result"
    }
   ],
   "source": [
    "bad_data_members_final.count()"
   ]
  },
  {
   "cell_type": "code",
   "execution_count": 26,
   "id": "b15caea0",
   "metadata": {},
   "outputs": [],
   "source": [
    "bad_customer_data_final_df = spark.read.csv(\"/user/itv012667/lendingclub/bad/bad/bad_customer_data_final\",header=True,inferSchema=True)"
   ]
  },
  {
   "cell_type": "code",
   "execution_count": 27,
   "id": "750d8e1c",
   "metadata": {},
   "outputs": [],
   "source": [
    "bad_customer_data_final_df.createOrReplaceTempView(\"bad_data_customer\")"
   ]
  },
  {
   "cell_type": "code",
   "execution_count": 28,
   "id": "51408bf7",
   "metadata": {},
   "outputs": [
    {
     "data": {
      "text/html": [
       "<table border='1'>\n",
       "<tr><th>member_id</th></tr>\n",
       "<tr><td>514da6011e2f772fb...</td></tr>\n",
       "<tr><td>d3125d00da326895a...</td></tr>\n",
       "<tr><td>4e9cc2faea777e410...</td></tr>\n",
       "<tr><td>8d42ec724248a79d2...</td></tr>\n",
       "<tr><td>c14309ba2311e430d...</td></tr>\n",
       "<tr><td>d9ce4046daf599732...</td></tr>\n",
       "<tr><td>e0ecccbcb94183be6...</td></tr>\n",
       "<tr><td>fecada6499caf7a4d...</td></tr>\n",
       "<tr><td>62d93eb316a3eacf4...</td></tr>\n",
       "<tr><td>e757d51dddd8fa34e...</td></tr>\n",
       "<tr><td>59c6bd5ead0341a3e...</td></tr>\n",
       "<tr><td>2fc86ea21cf4a1972...</td></tr>\n",
       "<tr><td>3392784991363530a...</td></tr>\n",
       "<tr><td>4a2abc8996196b17e...</td></tr>\n",
       "<tr><td>b58e91501e90b5c75...</td></tr>\n",
       "<tr><td>8f33254e56f881940...</td></tr>\n",
       "<tr><td>966c04d0bef19347e...</td></tr>\n",
       "<tr><td>119dc4be9629d1f09...</td></tr>\n",
       "<tr><td>ba9a7751dcdb3df53...</td></tr>\n",
       "<tr><td>d830ce60959d2fcff...</td></tr>\n",
       "</table>\n",
       "only showing top 20 rows\n"
      ],
      "text/plain": [
       "+--------------------+\n",
       "|           member_id|\n",
       "+--------------------+\n",
       "|514da6011e2f772fb...|\n",
       "|d3125d00da326895a...|\n",
       "|4e9cc2faea777e410...|\n",
       "|8d42ec724248a79d2...|\n",
       "|c14309ba2311e430d...|\n",
       "|d9ce4046daf599732...|\n",
       "|e0ecccbcb94183be6...|\n",
       "|fecada6499caf7a4d...|\n",
       "|62d93eb316a3eacf4...|\n",
       "|e757d51dddd8fa34e...|\n",
       "|59c6bd5ead0341a3e...|\n",
       "|2fc86ea21cf4a1972...|\n",
       "|3392784991363530a...|\n",
       "|4a2abc8996196b17e...|\n",
       "|b58e91501e90b5c75...|\n",
       "|8f33254e56f881940...|\n",
       "|966c04d0bef19347e...|\n",
       "|119dc4be9629d1f09...|\n",
       "|ba9a7751dcdb3df53...|\n",
       "|d830ce60959d2fcff...|\n",
       "+--------------------+\n",
       "only showing top 20 rows"
      ]
     },
     "execution_count": 28,
     "metadata": {},
     "output_type": "execute_result"
    }
   ],
   "source": [
    "spark.sql(\"select * from bad_data_customer\")"
   ]
  },
  {
   "cell_type": "code",
   "execution_count": 32,
   "id": "cda8f408",
   "metadata": {},
   "outputs": [],
   "source": [
    "customers_df = spark.sql(\"select * from customer_data where member_id not in (select * from bad_data_customer) \")"
   ]
  },
  {
   "cell_type": "code",
   "execution_count": 35,
   "id": "2256e0a7",
   "metadata": {},
   "outputs": [],
   "source": [
    "customers_df.write.mode(\"overwrite\").option(\"path\",\"/user/itv012667/lendingclub/cleaned_new/customers_parquet\").save()"
   ]
  },
  {
   "cell_type": "code",
   "execution_count": 49,
   "id": "f3f4f5d1",
   "metadata": {},
   "outputs": [],
   "source": [
    "loan_delinq = spark.read.csv(\"/user/itv012667/lendingclub/bad/bad/bad_data_loans_defaulters_delinq\",inferSchema=True,header=True)"
   ]
  },
  {
   "cell_type": "code",
   "execution_count": 52,
   "id": "0745830e",
   "metadata": {},
   "outputs": [],
   "source": [
    "loan_delinq.createOrReplaceTempView(\"loan_delinq\")"
   ]
  },
  {
   "cell_type": "code",
   "execution_count": 54,
   "id": "a74eb4a7",
   "metadata": {},
   "outputs": [],
   "source": [
    "loan_defaulters_delinq_df = spark.sql(\"select * from itv_012667_lending_club.loans_defaulters_delinq where member_id not in (select * from loan_delinq)\")"
   ]
  },
  {
   "cell_type": "code",
   "execution_count": 55,
   "id": "4107af06",
   "metadata": {},
   "outputs": [
    {
     "data": {
      "text/html": [
       "<table border='1'>\n",
       "<tr><th>member_id</th><th>delinq_2yrs</th><th>delinq_amnt</th><th>mths_since_last_delinq</th></tr>\n",
       "<tr><td>9cb79aa7323e81be1...</td><td>2</td><td>0.0</td><td>0</td></tr>\n",
       "<tr><td>aac68850fdac09fd0...</td><td>1</td><td>0.0</td><td>0</td></tr>\n",
       "<tr><td>c89986155a070db2e...</td><td>1</td><td>0.0</td><td>15</td></tr>\n",
       "<tr><td>4e1c30a5dfe9f1e20...</td><td>0</td><td>0.0</td><td>34</td></tr>\n",
       "<tr><td>1eef79a0e79b72c7a...</td><td>1</td><td>0.0</td><td>0</td></tr>\n",
       "<tr><td>ec1953dba2cfb89ad...</td><td>2</td><td>0.0</td><td>0</td></tr>\n",
       "<tr><td>3712c9da85e54b7b1...</td><td>1</td><td>0.0</td><td>0</td></tr>\n",
       "<tr><td>030e5c9c411c936c5...</td><td>2</td><td>0.0</td><td>0</td></tr>\n",
       "<tr><td>252736f8401b6b046...</td><td>2</td><td>0.0</td><td>0</td></tr>\n",
       "<tr><td>2d73c65a7b7d1a351...</td><td>1</td><td>0.0</td><td>0</td></tr>\n",
       "<tr><td>4c5cc017a06ad9cee...</td><td>1</td><td>0.0</td><td>0</td></tr>\n",
       "<tr><td>b2ae51f7010bda712...</td><td>2</td><td>0.0</td><td>0</td></tr>\n",
       "<tr><td>e3fda103b038638f2...</td><td>1</td><td>0.0</td><td>0</td></tr>\n",
       "<tr><td>c1553a3186575c87d...</td><td>2</td><td>0.0</td><td>0</td></tr>\n",
       "<tr><td>e889fe8e41d1fc74a...</td><td>1</td><td>0.0</td><td>0</td></tr>\n",
       "<tr><td>66f29d01599e4497e...</td><td>1</td><td>0.0</td><td>0</td></tr>\n",
       "<tr><td>8d52067d7d93c7ba1...</td><td>2</td><td>0.0</td><td>0</td></tr>\n",
       "<tr><td>aff24625c7c7a2108...</td><td>3</td><td>0.0</td><td>0</td></tr>\n",
       "<tr><td>60cf7ca69b4fc0b04...</td><td>2</td><td>0.0</td><td>0</td></tr>\n",
       "<tr><td>5b7cc2ef3ee4be20e...</td><td>1</td><td>0.0</td><td>0</td></tr>\n",
       "</table>\n",
       "only showing top 20 rows\n"
      ],
      "text/plain": [
       "+--------------------+-----------+-----------+----------------------+\n",
       "|           member_id|delinq_2yrs|delinq_amnt|mths_since_last_delinq|\n",
       "+--------------------+-----------+-----------+----------------------+\n",
       "|9cb79aa7323e81be1...|          2|        0.0|                     0|\n",
       "|aac68850fdac09fd0...|          1|        0.0|                     0|\n",
       "|c89986155a070db2e...|          1|        0.0|                    15|\n",
       "|4e1c30a5dfe9f1e20...|          0|        0.0|                    34|\n",
       "|1eef79a0e79b72c7a...|          1|        0.0|                     0|\n",
       "|ec1953dba2cfb89ad...|          2|        0.0|                     0|\n",
       "|3712c9da85e54b7b1...|          1|        0.0|                     0|\n",
       "|030e5c9c411c936c5...|          2|        0.0|                     0|\n",
       "|252736f8401b6b046...|          2|        0.0|                     0|\n",
       "|2d73c65a7b7d1a351...|          1|        0.0|                     0|\n",
       "|4c5cc017a06ad9cee...|          1|        0.0|                     0|\n",
       "|b2ae51f7010bda712...|          2|        0.0|                     0|\n",
       "|e3fda103b038638f2...|          1|        0.0|                     0|\n",
       "|c1553a3186575c87d...|          2|        0.0|                     0|\n",
       "|e889fe8e41d1fc74a...|          1|        0.0|                     0|\n",
       "|66f29d01599e4497e...|          1|        0.0|                     0|\n",
       "|8d52067d7d93c7ba1...|          2|        0.0|                     0|\n",
       "|aff24625c7c7a2108...|          3|        0.0|                     0|\n",
       "|60cf7ca69b4fc0b04...|          2|        0.0|                     0|\n",
       "|5b7cc2ef3ee4be20e...|          1|        0.0|                     0|\n",
       "+--------------------+-----------+-----------+----------------------+\n",
       "only showing top 20 rows"
      ]
     },
     "execution_count": 55,
     "metadata": {},
     "output_type": "execute_result"
    }
   ],
   "source": [
    "loan_defaulters_delinq_df"
   ]
  },
  {
   "cell_type": "code",
   "execution_count": 56,
   "id": "99295cce",
   "metadata": {},
   "outputs": [],
   "source": [
    "loan_defaulters_delinq_df.write.mode(\"overwrite\").option(\"path\",\"/user/itv012667/lendingclub/cleaned_new/loan_defaulters_delinq_parquet\").save()"
   ]
  },
  {
   "cell_type": "code",
   "execution_count": 57,
   "id": "bed4e651",
   "metadata": {},
   "outputs": [
    {
     "name": "stdout",
     "output_type": "stream",
     "text": [
      "+--------------------+-----------+-----------+----------------------+\n",
      "|           member_id|delinq_2yrs|delinq_amnt|mths_since_last_delinq|\n",
      "+--------------------+-----------+-----------+----------------------+\n",
      "|9cb79aa7323e81be1...|          2|        0.0|                     0|\n",
      "|aac68850fdac09fd0...|          1|        0.0|                     0|\n",
      "|c89986155a070db2e...|          1|        0.0|                    15|\n",
      "|4e1c30a5dfe9f1e20...|          0|        0.0|                    34|\n",
      "|1eef79a0e79b72c7a...|          1|        0.0|                     0|\n",
      "|ec1953dba2cfb89ad...|          2|        0.0|                     0|\n",
      "|3712c9da85e54b7b1...|          1|        0.0|                     0|\n",
      "|030e5c9c411c936c5...|          2|        0.0|                     0|\n",
      "|252736f8401b6b046...|          2|        0.0|                     0|\n",
      "|2d73c65a7b7d1a351...|          1|        0.0|                     0|\n",
      "|4c5cc017a06ad9cee...|          1|        0.0|                     0|\n",
      "|b2ae51f7010bda712...|          2|        0.0|                     0|\n",
      "|e3fda103b038638f2...|          1|        0.0|                     0|\n",
      "|c1553a3186575c87d...|          2|        0.0|                     0|\n",
      "|e889fe8e41d1fc74a...|          1|        0.0|                     0|\n",
      "|66f29d01599e4497e...|          1|        0.0|                     0|\n",
      "|8d52067d7d93c7ba1...|          2|        0.0|                     0|\n",
      "|aff24625c7c7a2108...|          3|        0.0|                     0|\n",
      "|60cf7ca69b4fc0b04...|          2|        0.0|                     0|\n",
      "|5b7cc2ef3ee4be20e...|          1|        0.0|                     0|\n",
      "+--------------------+-----------+-----------+----------------------+\n",
      "only showing top 20 rows\n",
      "\n"
     ]
    }
   ],
   "source": [
    "loan_defaulters_delinq_df.show()"
   ]
  },
  {
   "cell_type": "code",
   "execution_count": 41,
   "id": "fcb07f3d",
   "metadata": {},
   "outputs": [
    {
     "name": "stdout",
     "output_type": "stream",
     "text": [
      "+-----------------------+-------------------------------+-----------+\n",
      "|database               |tableName                      |isTemporary|\n",
      "+-----------------------+-------------------------------+-----------+\n",
      "|itv_012667_lending_club|customer_data                  |false      |\n",
      "|itv_012667_lending_club|loan_repayments                |false      |\n",
      "|itv_012667_lending_club|loans                          |false      |\n",
      "|itv_012667_lending_club|loans_defaulters_delinq        |false      |\n",
      "|itv_012667_lending_club|loans_defaulters_detail_rec_enq|false      |\n",
      "|                       |bad_data_customer              |true       |\n",
      "|                       |loan_delinq                    |true       |\n",
      "+-----------------------+-------------------------------+-----------+\n",
      "\n"
     ]
    }
   ],
   "source": [
    "spark.sql(\"show tables\").show(truncate=False)"
   ]
  },
  {
   "cell_type": "code",
   "execution_count": 59,
   "id": "264802bd",
   "metadata": {},
   "outputs": [
    {
     "data": {
      "text/html": [
       "<table border='1'>\n",
       "<tr><th>member_id</th></tr>\n",
       "<tr><td>5a20222639d436b66...</td></tr>\n",
       "<tr><td>76b577467eda5bdbc...</td></tr>\n",
       "<tr><td>4273588c35c7b7f40...</td></tr>\n",
       "<tr><td>bbe43331566910d55...</td></tr>\n",
       "<tr><td>844149bec10005cd7...</td></tr>\n",
       "<tr><td>827a048c072fb44b0...</td></tr>\n",
       "<tr><td>a4327ad776a277161...</td></tr>\n",
       "<tr><td>9632a7cdd49aa234e...</td></tr>\n",
       "<tr><td>14a8d9dba7c66acae...</td></tr>\n",
       "<tr><td>6ebda6b65772ea4f5...</td></tr>\n",
       "<tr><td>5c94d4601c2198730...</td></tr>\n",
       "<tr><td>7260b4e5a6d9fd42f...</td></tr>\n",
       "<tr><td>d8f926db6659bd717...</td></tr>\n",
       "<tr><td>e1f91eb87353347fd...</td></tr>\n",
       "<tr><td>8ecd94e42c7db6c80...</td></tr>\n",
       "<tr><td>75c960c19f620458b...</td></tr>\n",
       "<tr><td>5bc95b47ea722ceb1...</td></tr>\n",
       "<tr><td>04c9546415360a0cd...</td></tr>\n",
       "<tr><td>c27e3b66a81c613ba...</td></tr>\n",
       "<tr><td>059d401bb603d9a80...</td></tr>\n",
       "</table>\n",
       "only showing top 20 rows\n"
      ],
      "text/plain": [
       "+--------------------+\n",
       "|           member_id|\n",
       "+--------------------+\n",
       "|5a20222639d436b66...|\n",
       "|76b577467eda5bdbc...|\n",
       "|4273588c35c7b7f40...|\n",
       "|bbe43331566910d55...|\n",
       "|844149bec10005cd7...|\n",
       "|827a048c072fb44b0...|\n",
       "|a4327ad776a277161...|\n",
       "|9632a7cdd49aa234e...|\n",
       "|14a8d9dba7c66acae...|\n",
       "|6ebda6b65772ea4f5...|\n",
       "|5c94d4601c2198730...|\n",
       "|7260b4e5a6d9fd42f...|\n",
       "|d8f926db6659bd717...|\n",
       "|e1f91eb87353347fd...|\n",
       "|8ecd94e42c7db6c80...|\n",
       "|75c960c19f620458b...|\n",
       "|5bc95b47ea722ceb1...|\n",
       "|04c9546415360a0cd...|\n",
       "|c27e3b66a81c613ba...|\n",
       "|059d401bb603d9a80...|\n",
       "+--------------------+\n",
       "only showing top 20 rows"
      ]
     },
     "execution_count": 59,
     "metadata": {},
     "output_type": "execute_result"
    }
   ],
   "source": [
    "loans_defaulters_detail_rec_enq_df"
   ]
  },
  {
   "cell_type": "code",
   "execution_count": 58,
   "id": "5757536e",
   "metadata": {},
   "outputs": [],
   "source": [
    "loans_defaulters_detail_rec_enq_df = spark.read.csv(\"/user/itv012667/lendingclub/bad/bad/bad_data_loans_defaulters_detail_rec_enq\",header=True,inferSchema=True)"
   ]
  },
  {
   "cell_type": "code",
   "execution_count": 60,
   "id": "5057f2c0",
   "metadata": {},
   "outputs": [],
   "source": [
    "loans_defaulters_detail_rec_enq_df.createOrReplaceTempView(\"loans_defaulters_detail_rec_enq_df\")"
   ]
  },
  {
   "cell_type": "code",
   "execution_count": 62,
   "id": "ddc716cd",
   "metadata": {},
   "outputs": [],
   "source": [
    "detail_rec = spark.sql(\"select * from itv_012667_lending_club.loans_defaulters_detail_rec_enq where member_id not in (select * from loans_defaulters_detail_rec_enq_df)\")"
   ]
  },
  {
   "cell_type": "code",
   "execution_count": 63,
   "id": "22ac2a1b",
   "metadata": {},
   "outputs": [],
   "source": [
    "detail_rec.write.mode(\"overwrite\").option(\"path\",\"/user/itv012667/lendingclub/cleaned_new/loans_defaulters_detail_rec_enq_parquet\").save()"
   ]
  },
  {
   "cell_type": "code",
   "execution_count": 77,
   "id": "867d0765",
   "metadata": {},
   "outputs": [
    {
     "data": {
      "text/html": [
       "<table border='1'>\n",
       "<tr><th></th></tr>\n",
       "</table>\n"
      ],
      "text/plain": [
       "++\n",
       "||\n",
       "++\n",
       "++"
      ]
     },
     "execution_count": 77,
     "metadata": {},
     "output_type": "execute_result"
    }
   ],
   "source": [
    "spark.sql(\"drop table if exists itv_012667_lending_club.customers_new\")"
   ]
  },
  {
   "cell_type": "code",
   "execution_count": 78,
   "id": "8edbb4e3",
   "metadata": {},
   "outputs": [
    {
     "data": {
      "text/html": [
       "<table border='1'>\n",
       "<tr><th></th></tr>\n",
       "</table>\n"
      ],
      "text/plain": [
       "++\n",
       "||\n",
       "++\n",
       "++"
      ]
     },
     "execution_count": 78,
     "metadata": {},
     "output_type": "execute_result"
    }
   ],
   "source": [
    "spark.sql(\"\"\"\n",
    "create EXTERNAL TABLE itv_012667_lending_club.customers_new(member_id string, emp_title string, emp_length int, home_ownership string, \n",
    "annual_income float, address_state string, address_zipcode string, address_country string, grade string, \n",
    "sub_grade string, verification_status string, total_high_credit_limit float, application_type string, \n",
    "join_annual_income float, verification_status_joint string, ingest_date timestamp)\n",
    "stored as parquet\n",
    "LOCATION '/public/trendytech/lendingclubproject/cleaned_new/customer_parquet'\n",
    "\"\"\")"
   ]
  },
  {
   "cell_type": "code",
   "execution_count": 80,
   "id": "5ea1f4d2",
   "metadata": {},
   "outputs": [
    {
     "ename": "AnalysisException",
     "evalue": "Table or view 'loans_defaulters_delinq_new' already exists in database 'itv_012667_lending_club'",
     "output_type": "error",
     "traceback": [
      "\u001b[0;31m---------------------------------------------------------------------------\u001b[0m",
      "\u001b[0;31mAnalysisException\u001b[0m                         Traceback (most recent call last)",
      "\u001b[0;32m<ipython-input-80-ed89b40b870a>\u001b[0m in \u001b[0;36m<module>\u001b[0;34m\u001b[0m\n\u001b[1;32m      3\u001b[0m \u001b[0mstored\u001b[0m \u001b[0;32mas\u001b[0m \u001b[0mparquet\u001b[0m\u001b[0;34m\u001b[0m\u001b[0;34m\u001b[0m\u001b[0m\n\u001b[1;32m      4\u001b[0m \u001b[0mLOCATION\u001b[0m \u001b[0;34m'/public/trendytech/lendingclubproject/cleaned_new/loan_defaulters_delinq_parquet'\u001b[0m\u001b[0;34m\u001b[0m\u001b[0;34m\u001b[0m\u001b[0m\n\u001b[0;32m----> 5\u001b[0;31m \"\"\")\n\u001b[0m",
      "\u001b[0;32m/opt/spark-3.1.2-bin-hadoop3.2/python/pyspark/sql/session.py\u001b[0m in \u001b[0;36msql\u001b[0;34m(self, sqlQuery)\u001b[0m\n\u001b[1;32m    721\u001b[0m         \u001b[0;34m[\u001b[0m\u001b[0mRow\u001b[0m\u001b[0;34m(\u001b[0m\u001b[0mf1\u001b[0m\u001b[0;34m=\u001b[0m\u001b[0;36m1\u001b[0m\u001b[0;34m,\u001b[0m \u001b[0mf2\u001b[0m\u001b[0;34m=\u001b[0m\u001b[0;34m'row1'\u001b[0m\u001b[0;34m)\u001b[0m\u001b[0;34m,\u001b[0m \u001b[0mRow\u001b[0m\u001b[0;34m(\u001b[0m\u001b[0mf1\u001b[0m\u001b[0;34m=\u001b[0m\u001b[0;36m2\u001b[0m\u001b[0;34m,\u001b[0m \u001b[0mf2\u001b[0m\u001b[0;34m=\u001b[0m\u001b[0;34m'row2'\u001b[0m\u001b[0;34m)\u001b[0m\u001b[0;34m,\u001b[0m \u001b[0mRow\u001b[0m\u001b[0;34m(\u001b[0m\u001b[0mf1\u001b[0m\u001b[0;34m=\u001b[0m\u001b[0;36m3\u001b[0m\u001b[0;34m,\u001b[0m \u001b[0mf2\u001b[0m\u001b[0;34m=\u001b[0m\u001b[0;34m'row3'\u001b[0m\u001b[0;34m)\u001b[0m\u001b[0;34m]\u001b[0m\u001b[0;34m\u001b[0m\u001b[0;34m\u001b[0m\u001b[0m\n\u001b[1;32m    722\u001b[0m         \"\"\"\n\u001b[0;32m--> 723\u001b[0;31m         \u001b[0;32mreturn\u001b[0m \u001b[0mDataFrame\u001b[0m\u001b[0;34m(\u001b[0m\u001b[0mself\u001b[0m\u001b[0;34m.\u001b[0m\u001b[0m_jsparkSession\u001b[0m\u001b[0;34m.\u001b[0m\u001b[0msql\u001b[0m\u001b[0;34m(\u001b[0m\u001b[0msqlQuery\u001b[0m\u001b[0;34m)\u001b[0m\u001b[0;34m,\u001b[0m \u001b[0mself\u001b[0m\u001b[0;34m.\u001b[0m\u001b[0m_wrapped\u001b[0m\u001b[0;34m)\u001b[0m\u001b[0;34m\u001b[0m\u001b[0;34m\u001b[0m\u001b[0m\n\u001b[0m\u001b[1;32m    724\u001b[0m \u001b[0;34m\u001b[0m\u001b[0m\n\u001b[1;32m    725\u001b[0m     \u001b[0;32mdef\u001b[0m \u001b[0mtable\u001b[0m\u001b[0;34m(\u001b[0m\u001b[0mself\u001b[0m\u001b[0;34m,\u001b[0m \u001b[0mtableName\u001b[0m\u001b[0;34m)\u001b[0m\u001b[0;34m:\u001b[0m\u001b[0;34m\u001b[0m\u001b[0;34m\u001b[0m\u001b[0m\n",
      "\u001b[0;32m/opt/spark-3.1.2-bin-hadoop3.2/python/lib/py4j-0.10.9-src.zip/py4j/java_gateway.py\u001b[0m in \u001b[0;36m__call__\u001b[0;34m(self, *args)\u001b[0m\n\u001b[1;32m   1303\u001b[0m         \u001b[0manswer\u001b[0m \u001b[0;34m=\u001b[0m \u001b[0mself\u001b[0m\u001b[0;34m.\u001b[0m\u001b[0mgateway_client\u001b[0m\u001b[0;34m.\u001b[0m\u001b[0msend_command\u001b[0m\u001b[0;34m(\u001b[0m\u001b[0mcommand\u001b[0m\u001b[0;34m)\u001b[0m\u001b[0;34m\u001b[0m\u001b[0;34m\u001b[0m\u001b[0m\n\u001b[1;32m   1304\u001b[0m         return_value = get_return_value(\n\u001b[0;32m-> 1305\u001b[0;31m             answer, self.gateway_client, self.target_id, self.name)\n\u001b[0m\u001b[1;32m   1306\u001b[0m \u001b[0;34m\u001b[0m\u001b[0m\n\u001b[1;32m   1307\u001b[0m         \u001b[0;32mfor\u001b[0m \u001b[0mtemp_arg\u001b[0m \u001b[0;32min\u001b[0m \u001b[0mtemp_args\u001b[0m\u001b[0;34m:\u001b[0m\u001b[0;34m\u001b[0m\u001b[0;34m\u001b[0m\u001b[0m\n",
      "\u001b[0;32m/opt/spark-3.1.2-bin-hadoop3.2/python/pyspark/sql/utils.py\u001b[0m in \u001b[0;36mdeco\u001b[0;34m(*a, **kw)\u001b[0m\n\u001b[1;32m    115\u001b[0m                 \u001b[0;31m# Hide where the exception came from that shows a non-Pythonic\u001b[0m\u001b[0;34m\u001b[0m\u001b[0;34m\u001b[0m\u001b[0;34m\u001b[0m\u001b[0m\n\u001b[1;32m    116\u001b[0m                 \u001b[0;31m# JVM exception message.\u001b[0m\u001b[0;34m\u001b[0m\u001b[0;34m\u001b[0m\u001b[0;34m\u001b[0m\u001b[0m\n\u001b[0;32m--> 117\u001b[0;31m                 \u001b[0;32mraise\u001b[0m \u001b[0mconverted\u001b[0m \u001b[0;32mfrom\u001b[0m \u001b[0;32mNone\u001b[0m\u001b[0;34m\u001b[0m\u001b[0;34m\u001b[0m\u001b[0m\n\u001b[0m\u001b[1;32m    118\u001b[0m             \u001b[0;32melse\u001b[0m\u001b[0;34m:\u001b[0m\u001b[0;34m\u001b[0m\u001b[0;34m\u001b[0m\u001b[0m\n\u001b[1;32m    119\u001b[0m                 \u001b[0;32mraise\u001b[0m\u001b[0;34m\u001b[0m\u001b[0;34m\u001b[0m\u001b[0m\n",
      "\u001b[0;31mAnalysisException\u001b[0m: Table or view 'loans_defaulters_delinq_new' already exists in database 'itv_012667_lending_club'"
     ]
    }
   ],
   "source": [
    "spark.sql(\"\"\"\n",
    "create EXTERNAL TABLE itv_012667_lending_club.loans_defaulters_delinq_new(member_id string,delinq_2yrs integer, delinq_amnt float, mths_since_last_delinq integer)\n",
    "stored as parquet\n",
    "LOCATION '/public/trendytech/lendingclubproject/cleaned_new/loan_defaulters_delinq_parquet'\n",
    "\"\"\")"
   ]
  },
  {
   "cell_type": "code",
   "execution_count": 82,
   "id": "5f1737a0",
   "metadata": {},
   "outputs": [
    {
     "data": {
      "text/html": [
       "<table border='1'>\n",
       "<tr><th></th></tr>\n",
       "</table>\n"
      ],
      "text/plain": [
       "++\n",
       "||\n",
       "++\n",
       "++"
      ]
     },
     "execution_count": 82,
     "metadata": {},
     "output_type": "execute_result"
    }
   ],
   "source": [
    "spark.sql(\"\"\"\n",
    "create EXTERNAL TABLE itv_012667_lending_club.loans_defaulters_detail_rec_enq_new(member_id string, pub_rec integer, pub_rec_bankruptcies integer, inq_last_6mths integer)\n",
    "stored as parquet\n",
    "LOCATION '/public/trendytech/lendingclubproject/cleaned_new/loan_defaulters_detail_rec_enq_parquet'\n",
    "\"\"\")"
   ]
  },
  {
   "cell_type": "code",
   "execution_count": 83,
   "id": "215fef1a",
   "metadata": {},
   "outputs": [
    {
     "data": {
      "text/html": [
       "<table border='1'>\n",
       "<tr><th></th></tr>\n",
       "</table>\n"
      ],
      "text/plain": [
       "++\n",
       "||\n",
       "++\n",
       "++"
      ]
     },
     "execution_count": 83,
     "metadata": {},
     "output_type": "execute_result"
    }
   ],
   "source": [
    "spark.sql(\"use itv_012667_lending_club\")"
   ]
  },
  {
   "cell_type": "code",
   "execution_count": 87,
   "id": "6bc4e548",
   "metadata": {},
   "outputs": [
    {
     "name": "stdout",
     "output_type": "stream",
     "text": [
      "+-----------------------+-----------------------------------+-----------+\n",
      "|database               |tableName                          |isTemporary|\n",
      "+-----------------------+-----------------------------------+-----------+\n",
      "|itv_012667_lending_club|customer_data                      |false      |\n",
      "|itv_012667_lending_club|customers_new                      |false      |\n",
      "|itv_012667_lending_club|loan_repayments                    |false      |\n",
      "|itv_012667_lending_club|loans                              |false      |\n",
      "|itv_012667_lending_club|loans_defaulters_delinq            |false      |\n",
      "|itv_012667_lending_club|loans_defaulters_delinq_new        |false      |\n",
      "|itv_012667_lending_club|loans_defaulters_detail_rec_enq    |false      |\n",
      "|itv_012667_lending_club|loans_defaulters_detail_rec_enq_new|false      |\n",
      "|                       |loan_delinq                        |true       |\n",
      "|                       |loans_defaulters_detail_rec_enq_df |true       |\n",
      "+-----------------------+-----------------------------------+-----------+\n",
      "\n"
     ]
    }
   ],
   "source": [
    "spark.sql(\"show tables\").show(truncate=False)"
   ]
  },
  {
   "cell_type": "code",
   "execution_count": 89,
   "id": "4029a674",
   "metadata": {},
   "outputs": [
    {
     "data": {
      "text/html": [
       "<table border='1'>\n",
       "<tr><th>member_id</th><th>total</th></tr>\n",
       "<tr><td>50e53d129bb455570...</td><td>1</td></tr>\n",
       "<tr><td>07cd0b16f814b67ad...</td><td>1</td></tr>\n",
       "<tr><td>89272832cfda308aa...</td><td>1</td></tr>\n",
       "<tr><td>da3dd24815ec7ad41...</td><td>1</td></tr>\n",
       "<tr><td>d5817b0a9d35a12c5...</td><td>1</td></tr>\n",
       "<tr><td>fb4f52d5debc6d2c6...</td><td>1</td></tr>\n",
       "<tr><td>2a211b6c34c6c93b6...</td><td>1</td></tr>\n",
       "<tr><td>33f2a017bbd919ac3...</td><td>1</td></tr>\n",
       "<tr><td>b99ed769e79b89d88...</td><td>1</td></tr>\n",
       "<tr><td>44a0ae91234e7bc7e...</td><td>1</td></tr>\n",
       "<tr><td>005daa54678e6fdfe...</td><td>1</td></tr>\n",
       "<tr><td>2d3574fb03786cc06...</td><td>1</td></tr>\n",
       "<tr><td>42d120f67fb507a1a...</td><td>1</td></tr>\n",
       "<tr><td>c8f5421c5f1526f74...</td><td>1</td></tr>\n",
       "<tr><td>b6e8bba39dbd5d80f...</td><td>1</td></tr>\n",
       "<tr><td>ac0ead7d6819a50f1...</td><td>1</td></tr>\n",
       "<tr><td>5245706374d53b069...</td><td>1</td></tr>\n",
       "<tr><td>92d04eeae789519d9...</td><td>1</td></tr>\n",
       "<tr><td>3afb08c4acd684ebb...</td><td>1</td></tr>\n",
       "<tr><td>49cd4a4d8d620be39...</td><td>1</td></tr>\n",
       "</table>\n",
       "only showing top 20 rows\n"
      ],
      "text/plain": [
       "+--------------------+-----+\n",
       "|           member_id|total|\n",
       "+--------------------+-----+\n",
       "|b0b8000b6e4dc620e...|    1|\n",
       "|00cecdb8c5e099c0f...|    1|\n",
       "|abca7c05e4a393e81...|    1|\n",
       "|b7432943228987e8f...|    1|\n",
       "|6f7f8dda4eb82639c...|    1|\n",
       "|dfa8a5a173457c293...|    1|\n",
       "|4ca5772c3894e79f6...|    1|\n",
       "|64949954d57535ed1...|    1|\n",
       "|2890a98b30de34b4e...|    1|\n",
       "|07a76a7ec26a83f01...|    1|\n",
       "|4654f1d2cbc1f56af...|    1|\n",
       "|d37b223b4723357d3...|    1|\n",
       "|23722cf33827d5c42...|    1|\n",
       "|b3db8ad965d31b277...|    1|\n",
       "|18d4ef24a4017a36e...|    1|\n",
       "|d4c34bac2e5f08863...|    1|\n",
       "|d05c5748e0c8de133...|    1|\n",
       "|88cdcf2d0f7fc3343...|    1|\n",
       "|2db463ca8d5b8982d...|    1|\n",
       "|ec48fc6efb5cda7df...|    1|\n",
       "+--------------------+-----+\n",
       "only showing top 20 rows"
      ]
     },
     "execution_count": 89,
     "metadata": {},
     "output_type": "execute_result"
    }
   ],
   "source": [
    "spark.sql(\"\"\"select member_id, count(*) as total \n",
    "from loans_defaulters_detail_rec_enq_new \n",
    "group by member_id order by total desc\"\"\")"
   ]
  }
 ],
 "metadata": {
  "kernelspec": {
   "display_name": "Pyspark 3",
   "language": "python",
   "name": "pyspark3"
  },
  "language_info": {
   "codemirror_mode": {
    "name": "ipython",
    "version": 3
   },
   "file_extension": ".py",
   "mimetype": "text/x-python",
   "name": "python",
   "nbconvert_exporter": "python",
   "pygments_lexer": "ipython3",
   "version": "3.6.12"
  }
 },
 "nbformat": 4,
 "nbformat_minor": 5
}
